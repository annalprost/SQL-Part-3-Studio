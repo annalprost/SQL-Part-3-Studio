{
    "metadata": {
        "kernelspec": {
            "name": "SQL",
            "display_name": "SQL",
            "language": "sql"
        },
        "language_info": {
            "name": "sql",
            "version": ""
        },
        "extensions": {
            "azuredatastudio": {
                "version": 1,
                "views": []
            }
        }
    },
    "nbformat_minor": 2,
    "nbformat": 4,
    "cells": [
        {
            "cell_type": "markdown",
            "source": [
                "# SQL Part 3 Studio\n",
                "\n",
                "### Let's practice your SQL quering skills!  For each question, work along in the notebook adding your query and answering the questions. \n",
                "\n",
                "### **DataSet**\n",
                "\n",
                "### <span style=\"font-size: 14px; font-family: -apple-system, BlinkMacSystemFont, sans-serif;\">We will be using the Goodbooks-10k dataset from the exercises in the prep work.&nbsp; Feel free reference your previous notebooks.</span>\n",
                "\n",
                "- The dataset can be found here: [goodbooks-10k](https://www.kaggle.com/zygmunt/goodbooks-10k)\n",
                "- You can access the **BooksDB** in the Launchcode server.\n",
                "\n",
                "### **Business Issue**\n",
                "\n",
                "You are an employee at a small independet bookstore and you have been tasked to increase sales.  You decide to use the BooksDB to find books and themes to highlight in fun promotions throughout each month / season.  We will be starting with March and then you will have a chance to explore another month of your choosing.  We want to come up with a list of events/ promotions to run each month.  If you are looking for ideas to include in your promotions:\n",
                "\n",
                "- [https://www.calendarr.com/united-states/calendar-2022/](https://www.calendarr.com/united-states/calendar-2022/)\n",
                "- [https://www.holidayinsights.com/moreholidays/](https://www.holidayinsights.com/moreholidays/)\n",
                "    - Click on a month and it will take you to a more detailed page"
            ],
            "metadata": {
                "azdata_cell_guid": "b9034d8a-b631-48bf-a895-1012a6ffa784"
            },
            "attachments": {}
        },
        {
            "cell_type": "markdown",
            "source": [
                "## Part 1:  March - Women's History Month, Dr Seuss Day(3/2), National Pie Day3/14, St Patrick's Day (3/17), Season - Spring"
            ],
            "metadata": {
                "azdata_cell_guid": "6e55eb1c-4a14-4076-90d2-95ed17a6309f"
            },
            "attachments": {}
        },
        {
            "cell_type": "markdown",
            "source": [
                "### **Event 1:** Women's History Month\n",
                "\n",
                "Goal: Highlight Popular Womans Authors based on ratings from the Good Reads DB.\n",
                "\n",
                "### **Write a query that returns tag\\_id, the number of times each tag\\_id is used and the tag\\_name.**  \n",
                "\n",
                "### Use the GROUP BY and HAVING clause to narrow your focus.\n",
                "\n",
                "Try multiple keywords, ie woman vs female (female ended up giving better results)"
            ],
            "metadata": {
                "azdata_cell_guid": "d220c097-e9cf-4edd-9abe-312d071217b7"
            },
            "attachments": {}
        },
        {
            "cell_type": "code",
            "source": [
                "-- Solution\n",
                "SELECT TOP(100) bt.tag_id, count, tag_name\n",
                "FROM BooksDB.dbo.book_tags AS bt FULL JOIN BooksDB.dbo.tags AS b\n",
                "ON b.tag_id = bt.tag_id\n",
                "GROUP BY count, tag_name, bt.tag_id\n",
                "HAVING tag_name LIKE '%Female%'\n",
                "ORDER BY count DESC\n",
                ""
            ],
            "metadata": {
                "azdata_cell_guid": "e31b9d26-0386-44c7-828e-85f4f06f3ee6",
                "language": "sql"
            },
            "outputs": [
                {
                    "output_type": "display_data",
                    "data": {
                        "text/html": "(100 rows affected)"
                    },
                    "metadata": {}
                },
                {
                    "output_type": "display_data",
                    "data": {
                        "text/html": "Total execution time: 00:00:00.180"
                    },
                    "metadata": {}
                },
                {
                    "output_type": "execute_result",
                    "metadata": {},
                    "execution_count": 29,
                    "data": {
                        "application/vnd.dataresource+json": {
                            "schema": {
                                "fields": [
                                    {
                                        "name": "tag_id"
                                    },
                                    {
                                        "name": "count"
                                    },
                                    {
                                        "name": "tag_name"
                                    }
                                ]
                            },
                            "data": [
                                {
                                    "tag_id": "11644",
                                    "count": "214",
                                    "tag_name": "female-authors"
                                },
                                {
                                    "tag_id": "11643",
                                    "count": "198",
                                    "tag_name": "female-author"
                                },
                                {
                                    "tag_id": "11643",
                                    "count": "194",
                                    "tag_name": "female-author"
                                },
                                {
                                    "tag_id": "11644",
                                    "count": "170",
                                    "tag_name": "female-authors"
                                },
                                {
                                    "tag_id": "11644",
                                    "count": "158",
                                    "tag_name": "female-authors"
                                },
                                {
                                    "tag_id": "11643",
                                    "count": "150",
                                    "tag_name": "female-author"
                                },
                                {
                                    "tag_id": "11644",
                                    "count": "146",
                                    "tag_name": "female-authors"
                                },
                                {
                                    "tag_id": "11643",
                                    "count": "140",
                                    "tag_name": "female-author"
                                },
                                {
                                    "tag_id": "11643",
                                    "count": "137",
                                    "tag_name": "female-author"
                                },
                                {
                                    "tag_id": "11644",
                                    "count": "128",
                                    "tag_name": "female-authors"
                                },
                                {
                                    "tag_id": "11644",
                                    "count": "120",
                                    "tag_name": "female-authors"
                                },
                                {
                                    "tag_id": "11643",
                                    "count": "108",
                                    "tag_name": "female-author"
                                },
                                {
                                    "tag_id": "11644",
                                    "count": "106",
                                    "tag_name": "female-authors"
                                },
                                {
                                    "tag_id": "11643",
                                    "count": "104",
                                    "tag_name": "female-author"
                                },
                                {
                                    "tag_id": "11643",
                                    "count": "103",
                                    "tag_name": "female-author"
                                },
                                {
                                    "tag_id": "11644",
                                    "count": "102",
                                    "tag_name": "female-authors"
                                },
                                {
                                    "tag_id": "11643",
                                    "count": "93",
                                    "tag_name": "female-author"
                                },
                                {
                                    "tag_id": "11644",
                                    "count": "93",
                                    "tag_name": "female-authors"
                                },
                                {
                                    "tag_id": "11643",
                                    "count": "91",
                                    "tag_name": "female-author"
                                },
                                {
                                    "tag_id": "11644",
                                    "count": "91",
                                    "tag_name": "female-authors"
                                },
                                {
                                    "tag_id": "11644",
                                    "count": "90",
                                    "tag_name": "female-authors"
                                },
                                {
                                    "tag_id": "11644",
                                    "count": "89",
                                    "tag_name": "female-authors"
                                },
                                {
                                    "tag_id": "11643",
                                    "count": "87",
                                    "tag_name": "female-author"
                                },
                                {
                                    "tag_id": "11644",
                                    "count": "84",
                                    "tag_name": "female-authors"
                                },
                                {
                                    "tag_id": "11643",
                                    "count": "83",
                                    "tag_name": "female-author"
                                },
                                {
                                    "tag_id": "11644",
                                    "count": "83",
                                    "tag_name": "female-authors"
                                },
                                {
                                    "tag_id": "11643",
                                    "count": "82",
                                    "tag_name": "female-author"
                                },
                                {
                                    "tag_id": "11644",
                                    "count": "82",
                                    "tag_name": "female-authors"
                                },
                                {
                                    "tag_id": "11644",
                                    "count": "81",
                                    "tag_name": "female-authors"
                                },
                                {
                                    "tag_id": "11643",
                                    "count": "79",
                                    "tag_name": "female-author"
                                },
                                {
                                    "tag_id": "11643",
                                    "count": "77",
                                    "tag_name": "female-author"
                                },
                                {
                                    "tag_id": "11643",
                                    "count": "76",
                                    "tag_name": "female-author"
                                },
                                {
                                    "tag_id": "11644",
                                    "count": "76",
                                    "tag_name": "female-authors"
                                },
                                {
                                    "tag_id": "11643",
                                    "count": "75",
                                    "tag_name": "female-author"
                                },
                                {
                                    "tag_id": "11644",
                                    "count": "75",
                                    "tag_name": "female-authors"
                                },
                                {
                                    "tag_id": "11644",
                                    "count": "72",
                                    "tag_name": "female-authors"
                                },
                                {
                                    "tag_id": "11644",
                                    "count": "71",
                                    "tag_name": "female-authors"
                                },
                                {
                                    "tag_id": "11643",
                                    "count": "70",
                                    "tag_name": "female-author"
                                },
                                {
                                    "tag_id": "11643",
                                    "count": "68",
                                    "tag_name": "female-author"
                                },
                                {
                                    "tag_id": "11643",
                                    "count": "67",
                                    "tag_name": "female-author"
                                },
                                {
                                    "tag_id": "11644",
                                    "count": "67",
                                    "tag_name": "female-authors"
                                },
                                {
                                    "tag_id": "11643",
                                    "count": "66",
                                    "tag_name": "female-author"
                                },
                                {
                                    "tag_id": "11644",
                                    "count": "66",
                                    "tag_name": "female-authors"
                                },
                                {
                                    "tag_id": "11643",
                                    "count": "65",
                                    "tag_name": "female-author"
                                },
                                {
                                    "tag_id": "11643",
                                    "count": "64",
                                    "tag_name": "female-author"
                                },
                                {
                                    "tag_id": "11644",
                                    "count": "64",
                                    "tag_name": "female-authors"
                                },
                                {
                                    "tag_id": "11643",
                                    "count": "63",
                                    "tag_name": "female-author"
                                },
                                {
                                    "tag_id": "11644",
                                    "count": "63",
                                    "tag_name": "female-authors"
                                },
                                {
                                    "tag_id": "11644",
                                    "count": "62",
                                    "tag_name": "female-authors"
                                },
                                {
                                    "tag_id": "11658",
                                    "count": "62",
                                    "tag_name": "female-protagonist"
                                },
                                {
                                    "tag_id": "11643",
                                    "count": "61",
                                    "tag_name": "female-author"
                                },
                                {
                                    "tag_id": "11643",
                                    "count": "60",
                                    "tag_name": "female-author"
                                },
                                {
                                    "tag_id": "11644",
                                    "count": "60",
                                    "tag_name": "female-authors"
                                },
                                {
                                    "tag_id": "11643",
                                    "count": "59",
                                    "tag_name": "female-author"
                                },
                                {
                                    "tag_id": "11644",
                                    "count": "59",
                                    "tag_name": "female-authors"
                                },
                                {
                                    "tag_id": "11643",
                                    "count": "58",
                                    "tag_name": "female-author"
                                },
                                {
                                    "tag_id": "11644",
                                    "count": "58",
                                    "tag_name": "female-authors"
                                },
                                {
                                    "tag_id": "11643",
                                    "count": "57",
                                    "tag_name": "female-author"
                                },
                                {
                                    "tag_id": "11644",
                                    "count": "57",
                                    "tag_name": "female-authors"
                                },
                                {
                                    "tag_id": "11644",
                                    "count": "56",
                                    "tag_name": "female-authors"
                                },
                                {
                                    "tag_id": "11643",
                                    "count": "55",
                                    "tag_name": "female-author"
                                },
                                {
                                    "tag_id": "11643",
                                    "count": "54",
                                    "tag_name": "female-author"
                                },
                                {
                                    "tag_id": "11644",
                                    "count": "54",
                                    "tag_name": "female-authors"
                                },
                                {
                                    "tag_id": "11658",
                                    "count": "54",
                                    "tag_name": "female-protagonist"
                                },
                                {
                                    "tag_id": "11643",
                                    "count": "53",
                                    "tag_name": "female-author"
                                },
                                {
                                    "tag_id": "11644",
                                    "count": "53",
                                    "tag_name": "female-authors"
                                },
                                {
                                    "tag_id": "11644",
                                    "count": "52",
                                    "tag_name": "female-authors"
                                },
                                {
                                    "tag_id": "11643",
                                    "count": "51",
                                    "tag_name": "female-author"
                                },
                                {
                                    "tag_id": "11644",
                                    "count": "51",
                                    "tag_name": "female-authors"
                                },
                                {
                                    "tag_id": "11643",
                                    "count": "50",
                                    "tag_name": "female-author"
                                },
                                {
                                    "tag_id": "11644",
                                    "count": "50",
                                    "tag_name": "female-authors"
                                },
                                {
                                    "tag_id": "11658",
                                    "count": "50",
                                    "tag_name": "female-protagonist"
                                },
                                {
                                    "tag_id": "11643",
                                    "count": "49",
                                    "tag_name": "female-author"
                                },
                                {
                                    "tag_id": "11644",
                                    "count": "49",
                                    "tag_name": "female-authors"
                                },
                                {
                                    "tag_id": "11643",
                                    "count": "48",
                                    "tag_name": "female-author"
                                },
                                {
                                    "tag_id": "11644",
                                    "count": "48",
                                    "tag_name": "female-authors"
                                },
                                {
                                    "tag_id": "11658",
                                    "count": "48",
                                    "tag_name": "female-protagonist"
                                },
                                {
                                    "tag_id": "11643",
                                    "count": "47",
                                    "tag_name": "female-author"
                                },
                                {
                                    "tag_id": "11644",
                                    "count": "47",
                                    "tag_name": "female-authors"
                                },
                                {
                                    "tag_id": "11658",
                                    "count": "47",
                                    "tag_name": "female-protagonist"
                                },
                                {
                                    "tag_id": "11643",
                                    "count": "46",
                                    "tag_name": "female-author"
                                },
                                {
                                    "tag_id": "11658",
                                    "count": "46",
                                    "tag_name": "female-protagonist"
                                },
                                {
                                    "tag_id": "11643",
                                    "count": "45",
                                    "tag_name": "female-author"
                                },
                                {
                                    "tag_id": "11643",
                                    "count": "44",
                                    "tag_name": "female-author"
                                },
                                {
                                    "tag_id": "11644",
                                    "count": "44",
                                    "tag_name": "female-authors"
                                },
                                {
                                    "tag_id": "11643",
                                    "count": "43",
                                    "tag_name": "female-author"
                                },
                                {
                                    "tag_id": "11644",
                                    "count": "43",
                                    "tag_name": "female-authors"
                                },
                                {
                                    "tag_id": "11643",
                                    "count": "42",
                                    "tag_name": "female-author"
                                },
                                {
                                    "tag_id": "11644",
                                    "count": "42",
                                    "tag_name": "female-authors"
                                },
                                {
                                    "tag_id": "11658",
                                    "count": "42",
                                    "tag_name": "female-protagonist"
                                },
                                {
                                    "tag_id": "11643",
                                    "count": "41",
                                    "tag_name": "female-author"
                                },
                                {
                                    "tag_id": "11644",
                                    "count": "41",
                                    "tag_name": "female-authors"
                                },
                                {
                                    "tag_id": "11643",
                                    "count": "40",
                                    "tag_name": "female-author"
                                },
                                {
                                    "tag_id": "11644",
                                    "count": "40",
                                    "tag_name": "female-authors"
                                },
                                {
                                    "tag_id": "11643",
                                    "count": "39",
                                    "tag_name": "female-author"
                                },
                                {
                                    "tag_id": "11644",
                                    "count": "39",
                                    "tag_name": "female-authors"
                                },
                                {
                                    "tag_id": "11643",
                                    "count": "38",
                                    "tag_name": "female-author"
                                },
                                {
                                    "tag_id": "11644",
                                    "count": "38",
                                    "tag_name": "female-authors"
                                },
                                {
                                    "tag_id": "11658",
                                    "count": "38",
                                    "tag_name": "female-protagonist"
                                },
                                {
                                    "tag_id": "11643",
                                    "count": "37",
                                    "tag_name": "female-author"
                                }
                            ]
                        },
                        "text/html": [
                            "<table>",
                            "<tr><th>tag_id</th><th>count</th><th>tag_name</th></tr>",
                            "<tr><td>11644</td><td>214</td><td>female-authors</td></tr>",
                            "<tr><td>11643</td><td>198</td><td>female-author</td></tr>",
                            "<tr><td>11643</td><td>194</td><td>female-author</td></tr>",
                            "<tr><td>11644</td><td>170</td><td>female-authors</td></tr>",
                            "<tr><td>11644</td><td>158</td><td>female-authors</td></tr>",
                            "<tr><td>11643</td><td>150</td><td>female-author</td></tr>",
                            "<tr><td>11644</td><td>146</td><td>female-authors</td></tr>",
                            "<tr><td>11643</td><td>140</td><td>female-author</td></tr>",
                            "<tr><td>11643</td><td>137</td><td>female-author</td></tr>",
                            "<tr><td>11644</td><td>128</td><td>female-authors</td></tr>",
                            "<tr><td>11644</td><td>120</td><td>female-authors</td></tr>",
                            "<tr><td>11643</td><td>108</td><td>female-author</td></tr>",
                            "<tr><td>11644</td><td>106</td><td>female-authors</td></tr>",
                            "<tr><td>11643</td><td>104</td><td>female-author</td></tr>",
                            "<tr><td>11643</td><td>103</td><td>female-author</td></tr>",
                            "<tr><td>11644</td><td>102</td><td>female-authors</td></tr>",
                            "<tr><td>11643</td><td>93</td><td>female-author</td></tr>",
                            "<tr><td>11644</td><td>93</td><td>female-authors</td></tr>",
                            "<tr><td>11643</td><td>91</td><td>female-author</td></tr>",
                            "<tr><td>11644</td><td>91</td><td>female-authors</td></tr>",
                            "<tr><td>11644</td><td>90</td><td>female-authors</td></tr>",
                            "<tr><td>11644</td><td>89</td><td>female-authors</td></tr>",
                            "<tr><td>11643</td><td>87</td><td>female-author</td></tr>",
                            "<tr><td>11644</td><td>84</td><td>female-authors</td></tr>",
                            "<tr><td>11643</td><td>83</td><td>female-author</td></tr>",
                            "<tr><td>11644</td><td>83</td><td>female-authors</td></tr>",
                            "<tr><td>11643</td><td>82</td><td>female-author</td></tr>",
                            "<tr><td>11644</td><td>82</td><td>female-authors</td></tr>",
                            "<tr><td>11644</td><td>81</td><td>female-authors</td></tr>",
                            "<tr><td>11643</td><td>79</td><td>female-author</td></tr>",
                            "<tr><td>11643</td><td>77</td><td>female-author</td></tr>",
                            "<tr><td>11643</td><td>76</td><td>female-author</td></tr>",
                            "<tr><td>11644</td><td>76</td><td>female-authors</td></tr>",
                            "<tr><td>11643</td><td>75</td><td>female-author</td></tr>",
                            "<tr><td>11644</td><td>75</td><td>female-authors</td></tr>",
                            "<tr><td>11644</td><td>72</td><td>female-authors</td></tr>",
                            "<tr><td>11644</td><td>71</td><td>female-authors</td></tr>",
                            "<tr><td>11643</td><td>70</td><td>female-author</td></tr>",
                            "<tr><td>11643</td><td>68</td><td>female-author</td></tr>",
                            "<tr><td>11643</td><td>67</td><td>female-author</td></tr>",
                            "<tr><td>11644</td><td>67</td><td>female-authors</td></tr>",
                            "<tr><td>11643</td><td>66</td><td>female-author</td></tr>",
                            "<tr><td>11644</td><td>66</td><td>female-authors</td></tr>",
                            "<tr><td>11643</td><td>65</td><td>female-author</td></tr>",
                            "<tr><td>11643</td><td>64</td><td>female-author</td></tr>",
                            "<tr><td>11644</td><td>64</td><td>female-authors</td></tr>",
                            "<tr><td>11643</td><td>63</td><td>female-author</td></tr>",
                            "<tr><td>11644</td><td>63</td><td>female-authors</td></tr>",
                            "<tr><td>11644</td><td>62</td><td>female-authors</td></tr>",
                            "<tr><td>11658</td><td>62</td><td>female-protagonist</td></tr>",
                            "<tr><td>11643</td><td>61</td><td>female-author</td></tr>",
                            "<tr><td>11643</td><td>60</td><td>female-author</td></tr>",
                            "<tr><td>11644</td><td>60</td><td>female-authors</td></tr>",
                            "<tr><td>11643</td><td>59</td><td>female-author</td></tr>",
                            "<tr><td>11644</td><td>59</td><td>female-authors</td></tr>",
                            "<tr><td>11643</td><td>58</td><td>female-author</td></tr>",
                            "<tr><td>11644</td><td>58</td><td>female-authors</td></tr>",
                            "<tr><td>11643</td><td>57</td><td>female-author</td></tr>",
                            "<tr><td>11644</td><td>57</td><td>female-authors</td></tr>",
                            "<tr><td>11644</td><td>56</td><td>female-authors</td></tr>",
                            "<tr><td>11643</td><td>55</td><td>female-author</td></tr>",
                            "<tr><td>11643</td><td>54</td><td>female-author</td></tr>",
                            "<tr><td>11644</td><td>54</td><td>female-authors</td></tr>",
                            "<tr><td>11658</td><td>54</td><td>female-protagonist</td></tr>",
                            "<tr><td>11643</td><td>53</td><td>female-author</td></tr>",
                            "<tr><td>11644</td><td>53</td><td>female-authors</td></tr>",
                            "<tr><td>11644</td><td>52</td><td>female-authors</td></tr>",
                            "<tr><td>11643</td><td>51</td><td>female-author</td></tr>",
                            "<tr><td>11644</td><td>51</td><td>female-authors</td></tr>",
                            "<tr><td>11643</td><td>50</td><td>female-author</td></tr>",
                            "<tr><td>11644</td><td>50</td><td>female-authors</td></tr>",
                            "<tr><td>11658</td><td>50</td><td>female-protagonist</td></tr>",
                            "<tr><td>11643</td><td>49</td><td>female-author</td></tr>",
                            "<tr><td>11644</td><td>49</td><td>female-authors</td></tr>",
                            "<tr><td>11643</td><td>48</td><td>female-author</td></tr>",
                            "<tr><td>11644</td><td>48</td><td>female-authors</td></tr>",
                            "<tr><td>11658</td><td>48</td><td>female-protagonist</td></tr>",
                            "<tr><td>11643</td><td>47</td><td>female-author</td></tr>",
                            "<tr><td>11644</td><td>47</td><td>female-authors</td></tr>",
                            "<tr><td>11658</td><td>47</td><td>female-protagonist</td></tr>",
                            "<tr><td>11643</td><td>46</td><td>female-author</td></tr>",
                            "<tr><td>11658</td><td>46</td><td>female-protagonist</td></tr>",
                            "<tr><td>11643</td><td>45</td><td>female-author</td></tr>",
                            "<tr><td>11643</td><td>44</td><td>female-author</td></tr>",
                            "<tr><td>11644</td><td>44</td><td>female-authors</td></tr>",
                            "<tr><td>11643</td><td>43</td><td>female-author</td></tr>",
                            "<tr><td>11644</td><td>43</td><td>female-authors</td></tr>",
                            "<tr><td>11643</td><td>42</td><td>female-author</td></tr>",
                            "<tr><td>11644</td><td>42</td><td>female-authors</td></tr>",
                            "<tr><td>11658</td><td>42</td><td>female-protagonist</td></tr>",
                            "<tr><td>11643</td><td>41</td><td>female-author</td></tr>",
                            "<tr><td>11644</td><td>41</td><td>female-authors</td></tr>",
                            "<tr><td>11643</td><td>40</td><td>female-author</td></tr>",
                            "<tr><td>11644</td><td>40</td><td>female-authors</td></tr>",
                            "<tr><td>11643</td><td>39</td><td>female-author</td></tr>",
                            "<tr><td>11644</td><td>39</td><td>female-authors</td></tr>",
                            "<tr><td>11643</td><td>38</td><td>female-author</td></tr>",
                            "<tr><td>11644</td><td>38</td><td>female-authors</td></tr>",
                            "<tr><td>11658</td><td>38</td><td>female-protagonist</td></tr>",
                            "<tr><td>11643</td><td>37</td><td>female-author</td></tr>",
                            "</table>"
                        ]
                    }
                }
            ],
            "execution_count": 29
        },
        {
            "cell_type": "markdown",
            "source": [
                "### **Which keyword(s) and tag(s) would you like to explore more?**\n",
                "\n",
                "I would like to explore female-authors."
            ],
            "metadata": {
                "azdata_cell_guid": "e9acd8b5-a62b-4ac0-bd07-19915b379ba6"
            },
            "attachments": {}
        },
        {
            "cell_type": "markdown",
            "source": [
                "### **Write a query to return authors, titles, ratings and** **selected tag(s)\\_id.**"
            ],
            "metadata": {
                "azdata_cell_guid": "59b84464-c0bc-4dac-9e02-0c803765b063"
            },
            "attachments": {}
        },
        {
            "cell_type": "code",
            "source": [
                "-- Solution\n",
                "SELECT TOP(100) authors, title, average_rating, tag_id, id, goodreads_book_id\n",
                "FROM BooksDB.dbo.books AS b FULL JOIN BooksDB.dbo.book_tags AS bt \n",
                "ON b.book_id = bt.goodreads_book_id\n",
                "WHERE tag_id = 11644\n",
                "ORDER BY average_rating DESC"
            ],
            "metadata": {
                "azdata_cell_guid": "51ffeaaf-6dde-4906-95f3-eb8757babf27",
                "tags": [],
                "language": "sql"
            },
            "outputs": [
                {
                    "output_type": "display_data",
                    "data": {
                        "text/html": "(100 rows affected)"
                    },
                    "metadata": {}
                },
                {
                    "output_type": "display_data",
                    "data": {
                        "text/html": "Total execution time: 00:00:00.207"
                    },
                    "metadata": {}
                },
                {
                    "output_type": "execute_result",
                    "metadata": {},
                    "execution_count": 53,
                    "data": {
                        "application/vnd.dataresource+json": {
                            "schema": {
                                "fields": [
                                    {
                                        "name": "authors"
                                    },
                                    {
                                        "name": "title"
                                    },
                                    {
                                        "name": "average_rating"
                                    },
                                    {
                                        "name": "tag_id"
                                    },
                                    {
                                        "name": "id"
                                    },
                                    {
                                        "name": "goodreads_book_id"
                                    }
                                ]
                            },
                            "data": [
                                {
                                    "authors": "Jane Austen",
                                    "title": "The Complete Novels",
                                    "average_rating": "4.55",
                                    "tag_id": "11644",
                                    "id": "4653",
                                    "goodreads_book_id": "14905"
                                },
                                {
                                    "authors": "Robin Hobb",
                                    "title": "Fool's Quest  (The Fitz and The Fool, #2)",
                                    "average_rating": "4.53",
                                    "tag_id": "11644",
                                    "id": "6228",
                                    "goodreads_book_id": "23157777"
                                },
                                {
                                    "authors": "C.S. Pacat",
                                    "title": "Kings Rising (Captive Prince, #3)",
                                    "average_rating": "4.5",
                                    "tag_id": "11644",
                                    "id": "8641",
                                    "goodreads_book_id": "17158532"
                                },
                                {
                                    "authors": "Hiromu Arakawa, Akira Watanabe",
                                    "title": "Fullmetal Alchemist, Vol. 1 (Fullmetal Alchemist, #1)",
                                    "average_rating": "4.49",
                                    "tag_id": "11644",
                                    "id": "893",
                                    "goodreads_book_id": "870"
                                },
                                {
                                    "authors": "Chimamanda Ngozi Adichie",
                                    "title": "We Should All Be Feminists",
                                    "average_rating": "4.47",
                                    "tag_id": "11644",
                                    "id": "2613",
                                    "goodreads_book_id": "22738563"
                                },
                                {
                                    "authors": "Flannery O'Connor",
                                    "title": "The Complete Stories",
                                    "average_rating": "4.44",
                                    "tag_id": "11644",
                                    "id": "3472",
                                    "goodreads_book_id": "284996"
                                },
                                {
                                    "authors": "Barbara Demick",
                                    "title": "Nothing to Envy: Ordinary Lives in North Korea",
                                    "average_rating": "4.42",
                                    "tag_id": "11644",
                                    "id": "2441",
                                    "goodreads_book_id": "6178648"
                                },
                                {
                                    "authors": "Yaa Gyasi",
                                    "title": "Homegoing",
                                    "average_rating": "4.41",
                                    "tag_id": "11644",
                                    "id": "2840",
                                    "goodreads_book_id": "27071490"
                                },
                                {
                                    "authors": "Elena Ferrante, Ann Goldstein",
                                    "title": "The Story of the Lost Child (The Neapolitan Novels, #4)",
                                    "average_rating": "4.39",
                                    "tag_id": "11644",
                                    "id": "3722",
                                    "goodreads_book_id": "25242224"
                                },
                                {
                                    "authors": "Bernadette Rossetti-Shustak, Caroline Jayne Church",
                                    "title": "I Love You Through and Through",
                                    "average_rating": "4.39",
                                    "tag_id": "11644",
                                    "id": "8648",
                                    "goodreads_book_id": "232958"
                                },
                                {
                                    "authors": "Elena Ferrante, Ann Goldstein",
                                    "title": "The Story of a New Name (The Neapolitan Novels #2)",
                                    "average_rating": "4.37",
                                    "tag_id": "11644",
                                    "id": "2535",
                                    "goodreads_book_id": "17465515"
                                },
                                {
                                    "authors": "Marjane Satrapi, Mattias Ripa, Blake Ferris, Anjali Singh",
                                    "title": "The Complete Persepolis",
                                    "average_rating": "4.36",
                                    "tag_id": "11644",
                                    "id": "1464",
                                    "goodreads_book_id": "991197"
                                },
                                {
                                    "authors": "Susan Abulhawa",
                                    "title": "Mornings in Jenin",
                                    "average_rating": "4.35",
                                    "tag_id": "11644",
                                    "id": "7762",
                                    "goodreads_book_id": "6692041"
                                },
                                {
                                    "authors": "Julia Child, Simone Beck, Louisette Bertholle",
                                    "title": "Mastering the Art of French Cooking",
                                    "average_rating": "4.33",
                                    "tag_id": "11644",
                                    "id": "2459",
                                    "goodreads_book_id": "129650"
                                },
                                {
                                    "authors": "Tamora Pierce",
                                    "title": "Wild Magic (Immortals, #1)",
                                    "average_rating": "4.32",
                                    "tag_id": "11644",
                                    "id": "2623",
                                    "goodreads_book_id": "13836"
                                },
                                {
                                    "authors": "Enid Blyton",
                                    "title": "The Folk of the Faraway Tree (The Faraway Tree, #3)",
                                    "average_rating": "4.32",
                                    "tag_id": "11644",
                                    "id": "9071",
                                    "goodreads_book_id": "473623"
                                },
                                {
                                    "authors": "N.K. Jemisin",
                                    "title": "The Fifth Season (The Broken Earth, #1)",
                                    "average_rating": "4.31",
                                    "tag_id": "11644",
                                    "id": "4961",
                                    "goodreads_book_id": "19161852"
                                },
                                {
                                    "authors": "Julia Child",
                                    "title": "The Way to Cook",
                                    "average_rating": "4.31",
                                    "tag_id": "11644",
                                    "id": "7860",
                                    "goodreads_book_id": "132688"
                                },
                                {
                                    "authors": "Diana Wynne Jones",
                                    "title": "Howl's Moving Castle (Howl's Moving Castle, #1)",
                                    "average_rating": "4.3",
                                    "tag_id": "11644",
                                    "id": "817",
                                    "goodreads_book_id": "6294"
                                },
                                {
                                    "authors": "Barbara Shook Hazen, Robert Lewis May, Richard Scarry",
                                    "title": "Rudolph the Red-Nosed Reindeer",
                                    "average_rating": "4.3",
                                    "tag_id": "11644",
                                    "id": "3539",
                                    "goodreads_book_id": "1215290"
                                },
                                {
                                    "authors": "Claudia Rankine",
                                    "title": "Citizen: An American Lyric",
                                    "average_rating": "4.3",
                                    "tag_id": "11644",
                                    "id": "7537",
                                    "goodreads_book_id": "20613761"
                                },
                                {
                                    "authors": "Cheryl Strayed",
                                    "title": "Tiny Beautiful Things: Advice on Love and Life from Dear Sugar",
                                    "average_rating": "4.29",
                                    "tag_id": "11644",
                                    "id": "2590",
                                    "goodreads_book_id": "13152194"
                                },
                                {
                                    "authors": "Elena Ferrante, Ann Goldstein",
                                    "title": "Those Who Leave and Those Who Stay (The Neapolitan Novels #3)",
                                    "average_rating": "4.29",
                                    "tag_id": "11644",
                                    "id": "3294",
                                    "goodreads_book_id": "23156040"
                                },
                                {
                                    "authors": "Enid Blyton",
                                    "title": "The Magic Faraway Tree (The Faraway Tree, #2)",
                                    "average_rating": "4.29",
                                    "tag_id": "11644",
                                    "id": "3836",
                                    "goodreads_book_id": "74998"
                                },
                                {
                                    "authors": "Loung Ung",
                                    "title": "First They Killed My Father: A Daughter of Cambodia Remembers",
                                    "average_rating": "4.29",
                                    "tag_id": "11644",
                                    "id": "5794",
                                    "goodreads_book_id": "4373"
                                },
                                {
                                    "authors": "Lois McMaster Bujold",
                                    "title": "The Warrior's Apprentice (Vorkosigan Saga, #2)",
                                    "average_rating": "4.29",
                                    "tag_id": "11644",
                                    "id": "7113",
                                    "goodreads_book_id": "61906"
                                },
                                {
                                    "authors": "Sylvia Plath, Karen V. Kukil",
                                    "title": "The Unabridged Journals of Sylvia Plath",
                                    "average_rating": "4.29",
                                    "tag_id": "11644",
                                    "id": "7592",
                                    "goodreads_book_id": "11623"
                                },
                                {
                                    "authors": "Tamora Pierce",
                                    "title": "Lioness Rampant (Song of the Lioness, #4)",
                                    "average_rating": "4.28",
                                    "tag_id": "11644",
                                    "id": "1863",
                                    "goodreads_book_id": "13837"
                                },
                                {
                                    "authors": "Tamora Pierce",
                                    "title": "Trickster's Queen (Daughter of the Lioness, #2)",
                                    "average_rating": "4.28",
                                    "tag_id": "11644",
                                    "id": "2959",
                                    "goodreads_book_id": "153780"
                                },
                                {
                                    "authors": "Michelle Magorian",
                                    "title": "Good Night, Mr. Tom",
                                    "average_rating": "4.28",
                                    "tag_id": "11644",
                                    "id": "3557",
                                    "goodreads_book_id": "161099"
                                },
                                {
                                    "authors": "Enid Blyton",
                                    "title": "The Faraway Tree Stories (The Faraway Tree #1-3)",
                                    "average_rating": "4.28",
                                    "tag_id": "11644",
                                    "id": "7767",
                                    "goodreads_book_id": "17490"
                                },
                                {
                                    "authors": "Anne Sexton, Maxine Kumin",
                                    "title": "The Complete Poems",
                                    "average_rating": "4.28",
                                    "tag_id": "11644",
                                    "id": "8168",
                                    "goodreads_book_id": "47730"
                                },
                                {
                                    "authors": "Hanya Yanagihara",
                                    "title": "A Little Life",
                                    "average_rating": "4.27",
                                    "tag_id": "11644",
                                    "id": "1198",
                                    "goodreads_book_id": "22822858"
                                },
                                {
                                    "authors": "Tamora Pierce",
                                    "title": "Alanna: The First Adventure (Song of the Lioness, #1)",
                                    "average_rating": "4.27",
                                    "tag_id": "11644",
                                    "id": "1480",
                                    "goodreads_book_id": "13831"
                                },
                                {
                                    "authors": "Madeline Miller",
                                    "title": "The Song of Achilles",
                                    "average_rating": "4.27",
                                    "tag_id": "11644",
                                    "id": "2334",
                                    "goodreads_book_id": "11250317"
                                },
                                {
                                    "authors": "Marjane Satrapi",
                                    "title": "Persepolis, Volume 1",
                                    "average_rating": "4.27",
                                    "tag_id": "11644",
                                    "id": "2386",
                                    "goodreads_book_id": "9522"
                                },
                                {
                                    "authors": "Rupi Kaur",
                                    "title": "Milk and Honey",
                                    "average_rating": "4.27",
                                    "tag_id": "11644",
                                    "id": "2672",
                                    "goodreads_book_id": "23513349"
                                },
                                {
                                    "authors": "Tamora Pierce",
                                    "title": "Trickster's Choice (Daughter of the Lioness, #1)",
                                    "average_rating": "4.27",
                                    "tag_id": "11644",
                                    "id": "3244",
                                    "goodreads_book_id": "24431"
                                },
                                {
                                    "authors": "Tamora Pierce",
                                    "title": "Squire (Protector of the Small, #3)",
                                    "average_rating": "4.27",
                                    "tag_id": "11644",
                                    "id": "3663",
                                    "goodreads_book_id": "153795"
                                },
                                {
                                    "authors": "Ntozake Shange",
                                    "title": "for colored girls who have considered suicide/when the rainbow is enuf",
                                    "average_rating": "4.27",
                                    "tag_id": "11644",
                                    "id": "3872",
                                    "goodreads_book_id": "58098"
                                },
                                {
                                    "authors": "Kate Beaton",
                                    "title": "Hark! A Vagrant",
                                    "average_rating": "4.27",
                                    "tag_id": "11644",
                                    "id": "5384",
                                    "goodreads_book_id": "10767466"
                                },
                                {
                                    "authors": "Flannery O'Connor, Robert Fitzgerald",
                                    "title": "Everything That Rises Must Converge: Stories",
                                    "average_rating": "4.27",
                                    "tag_id": "11644",
                                    "id": "6863",
                                    "goodreads_book_id": "218659"
                                },
                                {
                                    "authors": "Fannie Flagg",
                                    "title": "Fried Green Tomatoes at the Whistle Stop Cafe",
                                    "average_rating": "4.26",
                                    "tag_id": "11644",
                                    "id": "409",
                                    "goodreads_book_id": "9375"
                                },
                                {
                                    "authors": "Chimamanda Ngozi Adichie",
                                    "title": "Americanah",
                                    "average_rating": "4.26",
                                    "tag_id": "11644",
                                    "id": "673",
                                    "goodreads_book_id": "15796700"
                                },
                                {
                                    "authors": "Hilary Mantel",
                                    "title": "Bring Up the Bodies (Thomas Cromwell, #2)",
                                    "average_rating": "4.26",
                                    "tag_id": "11644",
                                    "id": "2018",
                                    "goodreads_book_id": "13507212"
                                },
                                {
                                    "authors": "Joanna Cole, Bruce Degen",
                                    "title": "Inside the Human Body (The Magic School Bus, #3)",
                                    "average_rating": "4.26",
                                    "tag_id": "11644",
                                    "id": "3279",
                                    "goodreads_book_id": "722864"
                                },
                                {
                                    "authors": "Tamora Pierce",
                                    "title": "Bloodhound (Beka Cooper, #2)",
                                    "average_rating": "4.26",
                                    "tag_id": "11644",
                                    "id": "4775",
                                    "goodreads_book_id": "153779"
                                },
                                {
                                    "authors": "Tamora Pierce",
                                    "title": "In the Hand of the Goddess (Song of the Lioness, #2)",
                                    "average_rating": "4.25",
                                    "tag_id": "11644",
                                    "id": "1857",
                                    "goodreads_book_id": "13835"
                                },
                                {
                                    "authors": "Margaret George",
                                    "title": "The Autobiography of Henry VIII: With Notes by His Fool, Will Somers",
                                    "average_rating": "4.25",
                                    "tag_id": "11644",
                                    "id": "4368",
                                    "goodreads_book_id": "10108"
                                },
                                {
                                    "authors": "Ursula K. Le Guin",
                                    "title": "The Earthsea Trilogy",
                                    "average_rating": "4.25",
                                    "tag_id": "11644",
                                    "id": "7728",
                                    "goodreads_book_id": "1170158"
                                },
                                {
                                    "authors": "Betty  Smith",
                                    "title": "A Tree Grows in Brooklyn",
                                    "average_rating": "4.24",
                                    "tag_id": "11644",
                                    "id": "265",
                                    "goodreads_book_id": "14891"
                                },
                                {
                                    "authors": "Flannery O'Connor",
                                    "title": "A Good Man is Hard to Find and Other Stories",
                                    "average_rating": "4.24",
                                    "tag_id": "11644",
                                    "id": "3808",
                                    "goodreads_book_id": "48464"
                                },
                                {
                                    "authors": "Joan Didion",
                                    "title": "Slouching Towards Bethlehem",
                                    "average_rating": "4.24",
                                    "tag_id": "11644",
                                    "id": "5146",
                                    "goodreads_book_id": "424"
                                },
                                {
                                    "authors": "Enid Blyton",
                                    "title": "The Enchanted Wood (The Faraway Tree, #1)",
                                    "average_rating": "4.24",
                                    "tag_id": "11644",
                                    "id": "6102",
                                    "goodreads_book_id": "17491"
                                },
                                {
                                    "authors": "Tamora Pierce",
                                    "title": "Mastiff (Beka Cooper, #3)",
                                    "average_rating": "4.24",
                                    "tag_id": "11644",
                                    "id": "7598",
                                    "goodreads_book_id": "2964700"
                                },
                                {
                                    "authors": "Betty MacDonald, Alexandra Boiger",
                                    "title": "Hello, Mrs. Piggle-Wiggle (Mrs. Piggle Wiggle, #4)",
                                    "average_rating": "4.24",
                                    "tag_id": "11644",
                                    "id": "9661",
                                    "goodreads_book_id": "25053"
                                },
                                {
                                    "authors": "Marjane Satrapi, Mattias Ripa",
                                    "title": "Persepolis: The Story of a Childhood (Persepolis, #1)",
                                    "average_rating": "4.23",
                                    "tag_id": "11644",
                                    "id": "828",
                                    "goodreads_book_id": "9516"
                                },
                                {
                                    "authors": "Jung Chang",
                                    "title": "Wild Swans: Three Daughters of China",
                                    "average_rating": "4.23",
                                    "tag_id": "11644",
                                    "id": "1487",
                                    "goodreads_book_id": "1848"
                                },
                                {
                                    "authors": "Marjane Satrapi, Anjali Singh",
                                    "title": "Persepolis 2: The Story of a Return (Persepolis, #2)",
                                    "average_rating": "4.23",
                                    "tag_id": "11644",
                                    "id": "2451",
                                    "goodreads_book_id": "9517"
                                },
                                {
                                    "authors": "Sylvia Plath",
                                    "title": "Ariel",
                                    "average_rating": "4.23",
                                    "tag_id": "11644",
                                    "id": "2921",
                                    "goodreads_book_id": "395090"
                                },
                                {
                                    "authors": "Malorie Blackman",
                                    "title": "Noughts & Crosses (Noughts & Crosses, #1)",
                                    "average_rating": "4.23",
                                    "tag_id": "11644",
                                    "id": "3418",
                                    "goodreads_book_id": "714902"
                                },
                                {
                                    "authors": "Tachibana Higuchi, 樋口 橘",
                                    "title": "Gakuen Alice, Vol. 01 (Gakuen Alice, #1)",
                                    "average_rating": "4.23",
                                    "tag_id": "11644",
                                    "id": "6452",
                                    "goodreads_book_id": "1753714"
                                },
                                {
                                    "authors": "Lindy West",
                                    "title": "Shrill: Notes from a Loud Woman",
                                    "average_rating": "4.23",
                                    "tag_id": "11644",
                                    "id": "6491",
                                    "goodreads_book_id": "29340182"
                                },
                                {
                                    "authors": "Mary  Stewart",
                                    "title": "The Hollow Hills (Arthurian Saga, #2)",
                                    "average_rating": "4.23",
                                    "tag_id": "11644",
                                    "id": "7513",
                                    "goodreads_book_id": "116343"
                                },
                                {
                                    "authors": "Judith Kerr",
                                    "title": "The Tiger Who Came to Tea",
                                    "average_rating": "4.23",
                                    "tag_id": "11644",
                                    "id": "9846",
                                    "goodreads_book_id": "1099097"
                                },
                                {
                                    "authors": "Colleen McCullough",
                                    "title": "The Thorn Birds",
                                    "average_rating": "4.22",
                                    "tag_id": "11644",
                                    "id": "311",
                                    "goodreads_book_id": "3412"
                                },
                                {
                                    "authors": "Naomi Klein",
                                    "title": "The Shock Doctrine: The Rise of Disaster Capitalism",
                                    "average_rating": "4.22",
                                    "tag_id": "11644",
                                    "id": "3586",
                                    "goodreads_book_id": "1237300"
                                },
                                {
                                    "authors": "Anne McCaffrey",
                                    "title": "The Dragonriders of Pern (Dragonriders of Pern, #1-3)",
                                    "average_rating": "4.22",
                                    "tag_id": "11644",
                                    "id": "5415",
                                    "goodreads_book_id": "61942"
                                },
                                {
                                    "authors": "Wendy Mass",
                                    "title": "A Mango-Shaped Space",
                                    "average_rating": "4.22",
                                    "tag_id": "11644",
                                    "id": "5913",
                                    "goodreads_book_id": "171020"
                                },
                                {
                                    "authors": "Irin Carmon, Shana Knizhnik",
                                    "title": "Notorious RBG: The Life and Times of Ruth Bader Ginsburg",
                                    "average_rating": "4.22",
                                    "tag_id": "11644",
                                    "id": "6905",
                                    "goodreads_book_id": "25422234"
                                },
                                {
                                    "authors": "Octavia E. Butler",
                                    "title": "Wild Seed (Patternmaster, #1)",
                                    "average_rating": "4.22",
                                    "tag_id": "11644",
                                    "id": "9768",
                                    "goodreads_book_id": "52318"
                                },
                                {
                                    "authors": "Elyn R. Saks",
                                    "title": "The Center Cannot Hold: My Journey Through Madness",
                                    "average_rating": "4.22",
                                    "tag_id": "11644",
                                    "id": "9808",
                                    "goodreads_book_id": "1098486"
                                },
                                {
                                    "authors": "L.M. Montgomery",
                                    "title": "Anne of Avonlea (Anne of Green Gables, #2)",
                                    "average_rating": "4.21",
                                    "tag_id": "11644",
                                    "id": "1210",
                                    "goodreads_book_id": "77390"
                                },
                                {
                                    "authors": "Emily Dickinson, Thomas H. Johnson",
                                    "title": "The Complete Poems of Emily Dickinson",
                                    "average_rating": "4.21",
                                    "tag_id": "11644",
                                    "id": "1492",
                                    "goodreads_book_id": "112204"
                                },
                                {
                                    "authors": "Robin Hobb",
                                    "title": "The Mad Ship (Liveship Traders, #2)",
                                    "average_rating": "4.21",
                                    "tag_id": "11644",
                                    "id": "3278",
                                    "goodreads_book_id": "45101"
                                },
                                {
                                    "authors": "Robin Hobb",
                                    "title": "Ship of Destiny (Liveship Traders, #3)",
                                    "average_rating": "4.21",
                                    "tag_id": "11644",
                                    "id": "3298",
                                    "goodreads_book_id": "45102"
                                },
                                {
                                    "authors": "Tamora Pierce",
                                    "title": "Wolf-Speaker (Immortals, #2)",
                                    "average_rating": "4.21",
                                    "tag_id": "11644",
                                    "id": "3648",
                                    "goodreads_book_id": "24094"
                                },
                                {
                                    "authors": "Ai Yazawa",
                                    "title": "Nana, Vol. 1 (Nana, #1)",
                                    "average_rating": "4.21",
                                    "tag_id": "11644",
                                    "id": "3651",
                                    "goodreads_book_id": "98413"
                                },
                                {
                                    "authors": "Marian Potter",
                                    "title": "The Little Red Caboose (Little Golden Book)",
                                    "average_rating": "4.21",
                                    "tag_id": "11644",
                                    "id": "7330",
                                    "goodreads_book_id": "894072"
                                },
                                {
                                    "authors": "Octavia E. Butler",
                                    "title": "Parable of the Talents (Earthseed, #2)",
                                    "average_rating": "4.21",
                                    "tag_id": "11644",
                                    "id": "8662",
                                    "goodreads_book_id": "60932"
                                },
                                {
                                    "authors": "Isabel Allende, Magda Bogin",
                                    "title": "The House of the Spirits",
                                    "average_rating": "4.2",
                                    "tag_id": "11644",
                                    "id": "669",
                                    "goodreads_book_id": "9328"
                                },
                                {
                                    "authors": "Daphne du Maurier, Sally Beauman",
                                    "title": "Rebecca",
                                    "average_rating": "4.2",
                                    "tag_id": "11644",
                                    "id": "270",
                                    "goodreads_book_id": "12873"
                                },
                                {
                                    "authors": "Agatha Christie",
                                    "title": "The Murder of Roger Ackroyd (Hercule Poirot, #4)",
                                    "average_rating": "4.2",
                                    "tag_id": "11644",
                                    "id": "1410",
                                    "goodreads_book_id": "16328"
                                },
                                {
                                    "authors": "Tamora Pierce",
                                    "title": "The Woman Who Rides Like a Man (Song of the Lioness, #3)",
                                    "average_rating": "4.2",
                                    "tag_id": "11644",
                                    "id": "2608",
                                    "goodreads_book_id": "13830"
                                },
                                {
                                    "authors": "Noelle Stevenson",
                                    "title": "Nimona",
                                    "average_rating": "4.2",
                                    "tag_id": "11644",
                                    "id": "2743",
                                    "goodreads_book_id": "19351043"
                                },
                                {
                                    "authors": "Sylvia Plath, Ted Hughes",
                                    "title": "The Collected Poems",
                                    "average_rating": "4.2",
                                    "tag_id": "11644",
                                    "id": "3381",
                                    "goodreads_book_id": "31426"
                                },
                                {
                                    "authors": "Patricia C. Wrede, Peter de Sève",
                                    "title": "Calling on Dragons (Enchanted Forest Chronicles, #3)",
                                    "average_rating": "4.2",
                                    "tag_id": "11644",
                                    "id": "4396",
                                    "goodreads_book_id": "169879"
                                },
                                {
                                    "authors": "Ann Rule",
                                    "title": "Small Sacrifices: A True Story of Passion and Murder",
                                    "average_rating": "4.2",
                                    "tag_id": "11644",
                                    "id": "5518",
                                    "goodreads_book_id": "231585"
                                },
                                {
                                    "authors": "Ann Leckie",
                                    "title": "Ancillary Mercy (Imperial Radch #3)",
                                    "average_rating": "4.2",
                                    "tag_id": "11644",
                                    "id": "5901",
                                    "goodreads_book_id": "23533039"
                                },
                                {
                                    "authors": "Audre Lorde",
                                    "title": "Zami: A New Spelling of My Name",
                                    "average_rating": "4.2",
                                    "tag_id": "11644",
                                    "id": "9049",
                                    "goodreads_book_id": "395220"
                                },
                                {
                                    "authors": "Margaret Edson",
                                    "title": "Wit",
                                    "average_rating": "4.2",
                                    "tag_id": "11644",
                                    "id": "9707",
                                    "goodreads_book_id": "171201"
                                },
                                {
                                    "authors": "Maya Angelou",
                                    "title": "I Know Why the Caged Bird Sings",
                                    "average_rating": "4.19",
                                    "tag_id": "11644",
                                    "id": "317",
                                    "goodreads_book_id": "13214"
                                },
                                {
                                    "authors": "Maya Angelou",
                                    "title": "The Heart of a Woman",
                                    "average_rating": "4.19",
                                    "tag_id": "11644",
                                    "id": "6057",
                                    "goodreads_book_id": "5160"
                                },
                                {
                                    "authors": "Esther Earl, Lori Earl, Wayne Earl, John Green",
                                    "title": "This Star Won't Go Out: The Life and Words of Esther Grace Earl",
                                    "average_rating": "4.19",
                                    "tag_id": "11644",
                                    "id": "8139",
                                    "goodreads_book_id": "17675031"
                                },
                                {
                                    "authors": "Beatrix Potter",
                                    "title": "The Tale of Mrs. Tiggy-Winkle",
                                    "average_rating": "4.19",
                                    "tag_id": "11644",
                                    "id": "9194",
                                    "goodreads_book_id": "543505"
                                },
                                {
                                    "authors": "Ursula K. Le Guin",
                                    "title": "The Dispossessed",
                                    "average_rating": "4.18",
                                    "tag_id": "11644",
                                    "id": "2210",
                                    "goodreads_book_id": "13651"
                                },
                                {
                                    "authors": "Octavia E. Butler",
                                    "title": "Kindred",
                                    "average_rating": "4.18",
                                    "tag_id": "11644",
                                    "id": "2555",
                                    "goodreads_book_id": "60931"
                                },
                                {
                                    "authors": "Beryl Markham",
                                    "title": "West with the Night",
                                    "average_rating": "4.18",
                                    "tag_id": "11644",
                                    "id": "4691",
                                    "goodreads_book_id": "1624"
                                },
                                {
                                    "authors": "Becky  Chambers",
                                    "title": "The Long Way to a Small, Angry Planet (Wayfarers, #1)",
                                    "average_rating": "4.18",
                                    "tag_id": "11644",
                                    "id": "5753",
                                    "goodreads_book_id": "22733729"
                                },
                                {
                                    "authors": "Chimamanda Ngozi Adichie",
                                    "title": "The Thing Around Your Neck",
                                    "average_rating": "4.18",
                                    "tag_id": "11644",
                                    "id": "7559",
                                    "goodreads_book_id": "5587960"
                                }
                            ]
                        },
                        "text/html": [
                            "<table>",
                            "<tr><th>authors</th><th>title</th><th>average_rating</th><th>tag_id</th><th>id</th><th>goodreads_book_id</th></tr>",
                            "<tr><td>Jane Austen</td><td>The Complete Novels</td><td>4.55</td><td>11644</td><td>4653</td><td>14905</td></tr>",
                            "<tr><td>Robin Hobb</td><td>Fool&#39;s Quest  (The Fitz and The Fool, #2)</td><td>4.53</td><td>11644</td><td>6228</td><td>23157777</td></tr>",
                            "<tr><td>C.S. Pacat</td><td>Kings Rising (Captive Prince, #3)</td><td>4.5</td><td>11644</td><td>8641</td><td>17158532</td></tr>",
                            "<tr><td>Hiromu Arakawa, Akira Watanabe</td><td>Fullmetal Alchemist, Vol. 1 (Fullmetal Alchemist, #1)</td><td>4.49</td><td>11644</td><td>893</td><td>870</td></tr>",
                            "<tr><td>Chimamanda Ngozi Adichie</td><td>We Should All Be Feminists</td><td>4.47</td><td>11644</td><td>2613</td><td>22738563</td></tr>",
                            "<tr><td>Flannery O&#39;Connor</td><td>The Complete Stories</td><td>4.44</td><td>11644</td><td>3472</td><td>284996</td></tr>",
                            "<tr><td>Barbara Demick</td><td>Nothing to Envy: Ordinary Lives in North Korea</td><td>4.42</td><td>11644</td><td>2441</td><td>6178648</td></tr>",
                            "<tr><td>Yaa Gyasi</td><td>Homegoing</td><td>4.41</td><td>11644</td><td>2840</td><td>27071490</td></tr>",
                            "<tr><td>Elena Ferrante, Ann Goldstein</td><td>The Story of the Lost Child (The Neapolitan Novels, #4)</td><td>4.39</td><td>11644</td><td>3722</td><td>25242224</td></tr>",
                            "<tr><td>Bernadette Rossetti-Shustak, Caroline Jayne Church</td><td>I Love You Through and Through</td><td>4.39</td><td>11644</td><td>8648</td><td>232958</td></tr>",
                            "<tr><td>Elena Ferrante, Ann Goldstein</td><td>The Story of a New Name (The Neapolitan Novels #2)</td><td>4.37</td><td>11644</td><td>2535</td><td>17465515</td></tr>",
                            "<tr><td>Marjane Satrapi, Mattias Ripa, Blake Ferris, Anjali Singh</td><td>The Complete Persepolis</td><td>4.36</td><td>11644</td><td>1464</td><td>991197</td></tr>",
                            "<tr><td>Susan Abulhawa</td><td>Mornings in Jenin</td><td>4.35</td><td>11644</td><td>7762</td><td>6692041</td></tr>",
                            "<tr><td>Julia Child, Simone Beck, Louisette Bertholle</td><td>Mastering the Art of French Cooking</td><td>4.33</td><td>11644</td><td>2459</td><td>129650</td></tr>",
                            "<tr><td>Tamora Pierce</td><td>Wild Magic (Immortals, #1)</td><td>4.32</td><td>11644</td><td>2623</td><td>13836</td></tr>",
                            "<tr><td>Enid Blyton</td><td>The Folk of the Faraway Tree (The Faraway Tree, #3)</td><td>4.32</td><td>11644</td><td>9071</td><td>473623</td></tr>",
                            "<tr><td>N.K. Jemisin</td><td>The Fifth Season (The Broken Earth, #1)</td><td>4.31</td><td>11644</td><td>4961</td><td>19161852</td></tr>",
                            "<tr><td>Julia Child</td><td>The Way to Cook</td><td>4.31</td><td>11644</td><td>7860</td><td>132688</td></tr>",
                            "<tr><td>Diana Wynne Jones</td><td>Howl&#39;s Moving Castle (Howl&#39;s Moving Castle, #1)</td><td>4.3</td><td>11644</td><td>817</td><td>6294</td></tr>",
                            "<tr><td>Barbara Shook Hazen, Robert Lewis May, Richard Scarry</td><td>Rudolph the Red-Nosed Reindeer</td><td>4.3</td><td>11644</td><td>3539</td><td>1215290</td></tr>",
                            "<tr><td>Claudia Rankine</td><td>Citizen: An American Lyric</td><td>4.3</td><td>11644</td><td>7537</td><td>20613761</td></tr>",
                            "<tr><td>Cheryl Strayed</td><td>Tiny Beautiful Things: Advice on Love and Life from Dear Sugar</td><td>4.29</td><td>11644</td><td>2590</td><td>13152194</td></tr>",
                            "<tr><td>Elena Ferrante, Ann Goldstein</td><td>Those Who Leave and Those Who Stay (The Neapolitan Novels #3)</td><td>4.29</td><td>11644</td><td>3294</td><td>23156040</td></tr>",
                            "<tr><td>Enid Blyton</td><td>The Magic Faraway Tree (The Faraway Tree, #2)</td><td>4.29</td><td>11644</td><td>3836</td><td>74998</td></tr>",
                            "<tr><td>Loung Ung</td><td>First They Killed My Father: A Daughter of Cambodia Remembers</td><td>4.29</td><td>11644</td><td>5794</td><td>4373</td></tr>",
                            "<tr><td>Lois McMaster Bujold</td><td>The Warrior&#39;s Apprentice (Vorkosigan Saga, #2)</td><td>4.29</td><td>11644</td><td>7113</td><td>61906</td></tr>",
                            "<tr><td>Sylvia Plath, Karen V. Kukil</td><td>The Unabridged Journals of Sylvia Plath</td><td>4.29</td><td>11644</td><td>7592</td><td>11623</td></tr>",
                            "<tr><td>Tamora Pierce</td><td>Lioness Rampant (Song of the Lioness, #4)</td><td>4.28</td><td>11644</td><td>1863</td><td>13837</td></tr>",
                            "<tr><td>Tamora Pierce</td><td>Trickster&#39;s Queen (Daughter of the Lioness, #2)</td><td>4.28</td><td>11644</td><td>2959</td><td>153780</td></tr>",
                            "<tr><td>Michelle Magorian</td><td>Good Night, Mr. Tom</td><td>4.28</td><td>11644</td><td>3557</td><td>161099</td></tr>",
                            "<tr><td>Enid Blyton</td><td>The Faraway Tree Stories (The Faraway Tree #1-3)</td><td>4.28</td><td>11644</td><td>7767</td><td>17490</td></tr>",
                            "<tr><td>Anne Sexton, Maxine Kumin</td><td>The Complete Poems</td><td>4.28</td><td>11644</td><td>8168</td><td>47730</td></tr>",
                            "<tr><td>Hanya Yanagihara</td><td>A Little Life</td><td>4.27</td><td>11644</td><td>1198</td><td>22822858</td></tr>",
                            "<tr><td>Tamora Pierce</td><td>Alanna: The First Adventure (Song of the Lioness, #1)</td><td>4.27</td><td>11644</td><td>1480</td><td>13831</td></tr>",
                            "<tr><td>Madeline Miller</td><td>The Song of Achilles</td><td>4.27</td><td>11644</td><td>2334</td><td>11250317</td></tr>",
                            "<tr><td>Marjane Satrapi</td><td>Persepolis, Volume 1</td><td>4.27</td><td>11644</td><td>2386</td><td>9522</td></tr>",
                            "<tr><td>Rupi Kaur</td><td>Milk and Honey</td><td>4.27</td><td>11644</td><td>2672</td><td>23513349</td></tr>",
                            "<tr><td>Tamora Pierce</td><td>Trickster&#39;s Choice (Daughter of the Lioness, #1)</td><td>4.27</td><td>11644</td><td>3244</td><td>24431</td></tr>",
                            "<tr><td>Tamora Pierce</td><td>Squire (Protector of the Small, #3)</td><td>4.27</td><td>11644</td><td>3663</td><td>153795</td></tr>",
                            "<tr><td>Ntozake Shange</td><td>for colored girls who have considered suicide/when the rainbow is enuf</td><td>4.27</td><td>11644</td><td>3872</td><td>58098</td></tr>",
                            "<tr><td>Kate Beaton</td><td>Hark! A Vagrant</td><td>4.27</td><td>11644</td><td>5384</td><td>10767466</td></tr>",
                            "<tr><td>Flannery O&#39;Connor, Robert Fitzgerald</td><td>Everything That Rises Must Converge: Stories</td><td>4.27</td><td>11644</td><td>6863</td><td>218659</td></tr>",
                            "<tr><td>Fannie Flagg</td><td>Fried Green Tomatoes at the Whistle Stop Cafe</td><td>4.26</td><td>11644</td><td>409</td><td>9375</td></tr>",
                            "<tr><td>Chimamanda Ngozi Adichie</td><td>Americanah</td><td>4.26</td><td>11644</td><td>673</td><td>15796700</td></tr>",
                            "<tr><td>Hilary Mantel</td><td>Bring Up the Bodies (Thomas Cromwell, #2)</td><td>4.26</td><td>11644</td><td>2018</td><td>13507212</td></tr>",
                            "<tr><td>Joanna Cole, Bruce Degen</td><td>Inside the Human Body (The Magic School Bus, #3)</td><td>4.26</td><td>11644</td><td>3279</td><td>722864</td></tr>",
                            "<tr><td>Tamora Pierce</td><td>Bloodhound (Beka Cooper, #2)</td><td>4.26</td><td>11644</td><td>4775</td><td>153779</td></tr>",
                            "<tr><td>Tamora Pierce</td><td>In the Hand of the Goddess (Song of the Lioness, #2)</td><td>4.25</td><td>11644</td><td>1857</td><td>13835</td></tr>",
                            "<tr><td>Margaret George</td><td>The Autobiography of Henry VIII: With Notes by His Fool, Will Somers</td><td>4.25</td><td>11644</td><td>4368</td><td>10108</td></tr>",
                            "<tr><td>Ursula K. Le Guin</td><td>The Earthsea Trilogy</td><td>4.25</td><td>11644</td><td>7728</td><td>1170158</td></tr>",
                            "<tr><td>Betty  Smith</td><td>A Tree Grows in Brooklyn</td><td>4.24</td><td>11644</td><td>265</td><td>14891</td></tr>",
                            "<tr><td>Flannery O&#39;Connor</td><td>A Good Man is Hard to Find and Other Stories</td><td>4.24</td><td>11644</td><td>3808</td><td>48464</td></tr>",
                            "<tr><td>Joan Didion</td><td>Slouching Towards Bethlehem</td><td>4.24</td><td>11644</td><td>5146</td><td>424</td></tr>",
                            "<tr><td>Enid Blyton</td><td>The Enchanted Wood (The Faraway Tree, #1)</td><td>4.24</td><td>11644</td><td>6102</td><td>17491</td></tr>",
                            "<tr><td>Tamora Pierce</td><td>Mastiff (Beka Cooper, #3)</td><td>4.24</td><td>11644</td><td>7598</td><td>2964700</td></tr>",
                            "<tr><td>Betty MacDonald, Alexandra Boiger</td><td>Hello, Mrs. Piggle-Wiggle (Mrs. Piggle Wiggle, #4)</td><td>4.24</td><td>11644</td><td>9661</td><td>25053</td></tr>",
                            "<tr><td>Marjane Satrapi, Mattias Ripa</td><td>Persepolis: The Story of a Childhood (Persepolis, #1)</td><td>4.23</td><td>11644</td><td>828</td><td>9516</td></tr>",
                            "<tr><td>Jung Chang</td><td>Wild Swans: Three Daughters of China</td><td>4.23</td><td>11644</td><td>1487</td><td>1848</td></tr>",
                            "<tr><td>Marjane Satrapi, Anjali Singh</td><td>Persepolis 2: The Story of a Return (Persepolis, #2)</td><td>4.23</td><td>11644</td><td>2451</td><td>9517</td></tr>",
                            "<tr><td>Sylvia Plath</td><td>Ariel</td><td>4.23</td><td>11644</td><td>2921</td><td>395090</td></tr>",
                            "<tr><td>Malorie Blackman</td><td>Noughts &amp; Crosses (Noughts &amp; Crosses, #1)</td><td>4.23</td><td>11644</td><td>3418</td><td>714902</td></tr>",
                            "<tr><td>Tachibana Higuchi, 樋口 橘</td><td>Gakuen Alice, Vol. 01 (Gakuen Alice, #1)</td><td>4.23</td><td>11644</td><td>6452</td><td>1753714</td></tr>",
                            "<tr><td>Lindy West</td><td>Shrill: Notes from a Loud Woman</td><td>4.23</td><td>11644</td><td>6491</td><td>29340182</td></tr>",
                            "<tr><td>Mary  Stewart</td><td>The Hollow Hills (Arthurian Saga, #2)</td><td>4.23</td><td>11644</td><td>7513</td><td>116343</td></tr>",
                            "<tr><td>Judith Kerr</td><td>The Tiger Who Came to Tea</td><td>4.23</td><td>11644</td><td>9846</td><td>1099097</td></tr>",
                            "<tr><td>Colleen McCullough</td><td>The Thorn Birds</td><td>4.22</td><td>11644</td><td>311</td><td>3412</td></tr>",
                            "<tr><td>Naomi Klein</td><td>The Shock Doctrine: The Rise of Disaster Capitalism</td><td>4.22</td><td>11644</td><td>3586</td><td>1237300</td></tr>",
                            "<tr><td>Anne McCaffrey</td><td>The Dragonriders of Pern (Dragonriders of Pern, #1-3)</td><td>4.22</td><td>11644</td><td>5415</td><td>61942</td></tr>",
                            "<tr><td>Wendy Mass</td><td>A Mango-Shaped Space</td><td>4.22</td><td>11644</td><td>5913</td><td>171020</td></tr>",
                            "<tr><td>Irin Carmon, Shana Knizhnik</td><td>Notorious RBG: The Life and Times of Ruth Bader Ginsburg</td><td>4.22</td><td>11644</td><td>6905</td><td>25422234</td></tr>",
                            "<tr><td>Octavia E. Butler</td><td>Wild Seed (Patternmaster, #1)</td><td>4.22</td><td>11644</td><td>9768</td><td>52318</td></tr>",
                            "<tr><td>Elyn R. Saks</td><td>The Center Cannot Hold: My Journey Through Madness</td><td>4.22</td><td>11644</td><td>9808</td><td>1098486</td></tr>",
                            "<tr><td>L.M. Montgomery</td><td>Anne of Avonlea (Anne of Green Gables, #2)</td><td>4.21</td><td>11644</td><td>1210</td><td>77390</td></tr>",
                            "<tr><td>Emily Dickinson, Thomas H. Johnson</td><td>The Complete Poems of Emily Dickinson</td><td>4.21</td><td>11644</td><td>1492</td><td>112204</td></tr>",
                            "<tr><td>Robin Hobb</td><td>The Mad Ship (Liveship Traders, #2)</td><td>4.21</td><td>11644</td><td>3278</td><td>45101</td></tr>",
                            "<tr><td>Robin Hobb</td><td>Ship of Destiny (Liveship Traders, #3)</td><td>4.21</td><td>11644</td><td>3298</td><td>45102</td></tr>",
                            "<tr><td>Tamora Pierce</td><td>Wolf-Speaker (Immortals, #2)</td><td>4.21</td><td>11644</td><td>3648</td><td>24094</td></tr>",
                            "<tr><td>Ai Yazawa</td><td>Nana, Vol. 1 (Nana, #1)</td><td>4.21</td><td>11644</td><td>3651</td><td>98413</td></tr>",
                            "<tr><td>Marian Potter</td><td>The Little Red Caboose (Little Golden Book)</td><td>4.21</td><td>11644</td><td>7330</td><td>894072</td></tr>",
                            "<tr><td>Octavia E. Butler</td><td>Parable of the Talents (Earthseed, #2)</td><td>4.21</td><td>11644</td><td>8662</td><td>60932</td></tr>",
                            "<tr><td>Isabel Allende, Magda Bogin</td><td>The House of the Spirits</td><td>4.2</td><td>11644</td><td>669</td><td>9328</td></tr>",
                            "<tr><td>Daphne du Maurier, Sally Beauman</td><td>Rebecca</td><td>4.2</td><td>11644</td><td>270</td><td>12873</td></tr>",
                            "<tr><td>Agatha Christie</td><td>The Murder of Roger Ackroyd (Hercule Poirot, #4)</td><td>4.2</td><td>11644</td><td>1410</td><td>16328</td></tr>",
                            "<tr><td>Tamora Pierce</td><td>The Woman Who Rides Like a Man (Song of the Lioness, #3)</td><td>4.2</td><td>11644</td><td>2608</td><td>13830</td></tr>",
                            "<tr><td>Noelle Stevenson</td><td>Nimona</td><td>4.2</td><td>11644</td><td>2743</td><td>19351043</td></tr>",
                            "<tr><td>Sylvia Plath, Ted Hughes</td><td>The Collected Poems</td><td>4.2</td><td>11644</td><td>3381</td><td>31426</td></tr>",
                            "<tr><td>Patricia C. Wrede, Peter de Sève</td><td>Calling on Dragons (Enchanted Forest Chronicles, #3)</td><td>4.2</td><td>11644</td><td>4396</td><td>169879</td></tr>",
                            "<tr><td>Ann Rule</td><td>Small Sacrifices: A True Story of Passion and Murder</td><td>4.2</td><td>11644</td><td>5518</td><td>231585</td></tr>",
                            "<tr><td>Ann Leckie</td><td>Ancillary Mercy (Imperial Radch #3)</td><td>4.2</td><td>11644</td><td>5901</td><td>23533039</td></tr>",
                            "<tr><td>Audre Lorde</td><td>Zami: A New Spelling of My Name</td><td>4.2</td><td>11644</td><td>9049</td><td>395220</td></tr>",
                            "<tr><td>Margaret Edson</td><td>Wit</td><td>4.2</td><td>11644</td><td>9707</td><td>171201</td></tr>",
                            "<tr><td>Maya Angelou</td><td>I Know Why the Caged Bird Sings</td><td>4.19</td><td>11644</td><td>317</td><td>13214</td></tr>",
                            "<tr><td>Maya Angelou</td><td>The Heart of a Woman</td><td>4.19</td><td>11644</td><td>6057</td><td>5160</td></tr>",
                            "<tr><td>Esther Earl, Lori Earl, Wayne Earl, John Green</td><td>This Star Won&#39;t Go Out: The Life and Words of Esther Grace Earl</td><td>4.19</td><td>11644</td><td>8139</td><td>17675031</td></tr>",
                            "<tr><td>Beatrix Potter</td><td>The Tale of Mrs. Tiggy-Winkle</td><td>4.19</td><td>11644</td><td>9194</td><td>543505</td></tr>",
                            "<tr><td>Ursula K. Le Guin</td><td>The Dispossessed</td><td>4.18</td><td>11644</td><td>2210</td><td>13651</td></tr>",
                            "<tr><td>Octavia E. Butler</td><td>Kindred</td><td>4.18</td><td>11644</td><td>2555</td><td>60931</td></tr>",
                            "<tr><td>Beryl Markham</td><td>West with the Night</td><td>4.18</td><td>11644</td><td>4691</td><td>1624</td></tr>",
                            "<tr><td>Becky  Chambers</td><td>The Long Way to a Small, Angry Planet (Wayfarers, #1)</td><td>4.18</td><td>11644</td><td>5753</td><td>22733729</td></tr>",
                            "<tr><td>Chimamanda Ngozi Adichie</td><td>The Thing Around Your Neck</td><td>4.18</td><td>11644</td><td>7559</td><td>5587960</td></tr>",
                            "</table>"
                        ]
                    }
                }
            ],
            "execution_count": 53
        },
        {
            "cell_type": "code",
            "source": [
                "SELECT TOP(100) bt.tag_id, count, tag_name\n",
                "FROM BooksDB.dbo.book_tags AS bt FULL JOIN BooksDB.dbo.tags AS b\n",
                "ON b.tag_id = bt.tag_id\n",
                "GROUP BY count, tag_name, bt.tag_id\n",
                "HAVING tag_name LIKE '%Seuss%'\n",
                "ORDER BY count DESC"
            ],
            "metadata": {
                "azdata_cell_guid": "d4f761e8-5af7-4e9a-950b-59dac9be7e08",
                "language": "sql",
                "tags": []
            },
            "outputs": [
                {
                    "output_type": "display_data",
                    "data": {
                        "text/html": "(57 rows affected)"
                    },
                    "metadata": {}
                },
                {
                    "output_type": "display_data",
                    "data": {
                        "text/html": "Total execution time: 00:00:00.217"
                    },
                    "metadata": {}
                },
                {
                    "output_type": "execute_result",
                    "metadata": {},
                    "execution_count": 33,
                    "data": {
                        "application/vnd.dataresource+json": {
                            "schema": {
                                "fields": [
                                    {
                                        "name": "tag_id"
                                    },
                                    {
                                        "name": "count"
                                    },
                                    {
                                        "name": "tag_name"
                                    }
                                ]
                            },
                            "data": [
                                {
                                    "tag_id": "9841",
                                    "count": "485",
                                    "tag_name": "dr-seuss"
                                },
                                {
                                    "tag_id": "9841",
                                    "count": "405",
                                    "tag_name": "dr-seuss"
                                },
                                {
                                    "tag_id": "9841",
                                    "count": "373",
                                    "tag_name": "dr-seuss"
                                },
                                {
                                    "tag_id": "9841",
                                    "count": "331",
                                    "tag_name": "dr-seuss"
                                },
                                {
                                    "tag_id": "9841",
                                    "count": "328",
                                    "tag_name": "dr-seuss"
                                },
                                {
                                    "tag_id": "9841",
                                    "count": "260",
                                    "tag_name": "dr-seuss"
                                },
                                {
                                    "tag_id": "9841",
                                    "count": "252",
                                    "tag_name": "dr-seuss"
                                },
                                {
                                    "tag_id": "9841",
                                    "count": "244",
                                    "tag_name": "dr-seuss"
                                },
                                {
                                    "tag_id": "9841",
                                    "count": "209",
                                    "tag_name": "dr-seuss"
                                },
                                {
                                    "tag_id": "9841",
                                    "count": "181",
                                    "tag_name": "dr-seuss"
                                },
                                {
                                    "tag_id": "9841",
                                    "count": "151",
                                    "tag_name": "dr-seuss"
                                },
                                {
                                    "tag_id": "9841",
                                    "count": "142",
                                    "tag_name": "dr-seuss"
                                },
                                {
                                    "tag_id": "9841",
                                    "count": "89",
                                    "tag_name": "dr-seuss"
                                },
                                {
                                    "tag_id": "9841",
                                    "count": "88",
                                    "tag_name": "dr-seuss"
                                },
                                {
                                    "tag_id": "9841",
                                    "count": "84",
                                    "tag_name": "dr-seuss"
                                },
                                {
                                    "tag_id": "9841",
                                    "count": "81",
                                    "tag_name": "dr-seuss"
                                },
                                {
                                    "tag_id": "9841",
                                    "count": "79",
                                    "tag_name": "dr-seuss"
                                },
                                {
                                    "tag_id": "9841",
                                    "count": "62",
                                    "tag_name": "dr-seuss"
                                },
                                {
                                    "tag_id": "9841",
                                    "count": "61",
                                    "tag_name": "dr-seuss"
                                },
                                {
                                    "tag_id": "27360",
                                    "count": "56",
                                    "tag_name": "seuss"
                                },
                                {
                                    "tag_id": "9841",
                                    "count": "50",
                                    "tag_name": "dr-seuss"
                                },
                                {
                                    "tag_id": "9841",
                                    "count": "47",
                                    "tag_name": "dr-seuss"
                                },
                                {
                                    "tag_id": "27360",
                                    "count": "46",
                                    "tag_name": "seuss"
                                },
                                {
                                    "tag_id": "27360",
                                    "count": "45",
                                    "tag_name": "seuss"
                                },
                                {
                                    "tag_id": "27360",
                                    "count": "41",
                                    "tag_name": "seuss"
                                },
                                {
                                    "tag_id": "9834",
                                    "count": "39",
                                    "tag_name": "dr--seuss"
                                },
                                {
                                    "tag_id": "27360",
                                    "count": "37",
                                    "tag_name": "seuss"
                                },
                                {
                                    "tag_id": "27360",
                                    "count": "35",
                                    "tag_name": "seuss"
                                },
                                {
                                    "tag_id": "9834",
                                    "count": "31",
                                    "tag_name": "dr--seuss"
                                },
                                {
                                    "tag_id": "27360",
                                    "count": "29",
                                    "tag_name": "seuss"
                                },
                                {
                                    "tag_id": "9841",
                                    "count": "26",
                                    "tag_name": "dr-seuss"
                                },
                                {
                                    "tag_id": "9834",
                                    "count": "26",
                                    "tag_name": "dr--seuss"
                                },
                                {
                                    "tag_id": "27360",
                                    "count": "25",
                                    "tag_name": "seuss"
                                },
                                {
                                    "tag_id": "27360",
                                    "count": "24",
                                    "tag_name": "seuss"
                                },
                                {
                                    "tag_id": "27360",
                                    "count": "23",
                                    "tag_name": "seuss"
                                },
                                {
                                    "tag_id": "9834",
                                    "count": "22",
                                    "tag_name": "dr--seuss"
                                },
                                {
                                    "tag_id": "9841",
                                    "count": "21",
                                    "tag_name": "dr-seuss"
                                },
                                {
                                    "tag_id": "27360",
                                    "count": "21",
                                    "tag_name": "seuss"
                                },
                                {
                                    "tag_id": "27360",
                                    "count": "19",
                                    "tag_name": "seuss"
                                },
                                {
                                    "tag_id": "9834",
                                    "count": "18",
                                    "tag_name": "dr--seuss"
                                },
                                {
                                    "tag_id": "27360",
                                    "count": "18",
                                    "tag_name": "seuss"
                                },
                                {
                                    "tag_id": "9841",
                                    "count": "17",
                                    "tag_name": "dr-seuss"
                                },
                                {
                                    "tag_id": "9841",
                                    "count": "14",
                                    "tag_name": "dr-seuss"
                                },
                                {
                                    "tag_id": "27360",
                                    "count": "13",
                                    "tag_name": "seuss"
                                },
                                {
                                    "tag_id": "27360",
                                    "count": "12",
                                    "tag_name": "seuss"
                                },
                                {
                                    "tag_id": "27360",
                                    "count": "10",
                                    "tag_name": "seuss"
                                },
                                {
                                    "tag_id": "9841",
                                    "count": "9",
                                    "tag_name": "dr-seuss"
                                },
                                {
                                    "tag_id": "9834",
                                    "count": "9",
                                    "tag_name": "dr--seuss"
                                },
                                {
                                    "tag_id": "27360",
                                    "count": "9",
                                    "tag_name": "seuss"
                                },
                                {
                                    "tag_id": "9841",
                                    "count": "8",
                                    "tag_name": "dr-seuss"
                                },
                                {
                                    "tag_id": "27360",
                                    "count": "8",
                                    "tag_name": "seuss"
                                },
                                {
                                    "tag_id": "9841",
                                    "count": "7",
                                    "tag_name": "dr-seuss"
                                },
                                {
                                    "tag_id": "27360",
                                    "count": "6",
                                    "tag_name": "seuss"
                                },
                                {
                                    "tag_id": "9842",
                                    "count": "5",
                                    "tag_name": "dr-seuss-books"
                                },
                                {
                                    "tag_id": "27360",
                                    "count": "5",
                                    "tag_name": "seuss"
                                },
                                {
                                    "tag_id": "9843",
                                    "count": "1",
                                    "tag_name": "dr-seuss-s-books"
                                },
                                {
                                    "tag_id": "27361",
                                    "count": "1",
                                    "tag_name": "seuss-and-friends"
                                }
                            ]
                        },
                        "text/html": [
                            "<table>",
                            "<tr><th>tag_id</th><th>count</th><th>tag_name</th></tr>",
                            "<tr><td>9841</td><td>485</td><td>dr-seuss</td></tr>",
                            "<tr><td>9841</td><td>405</td><td>dr-seuss</td></tr>",
                            "<tr><td>9841</td><td>373</td><td>dr-seuss</td></tr>",
                            "<tr><td>9841</td><td>331</td><td>dr-seuss</td></tr>",
                            "<tr><td>9841</td><td>328</td><td>dr-seuss</td></tr>",
                            "<tr><td>9841</td><td>260</td><td>dr-seuss</td></tr>",
                            "<tr><td>9841</td><td>252</td><td>dr-seuss</td></tr>",
                            "<tr><td>9841</td><td>244</td><td>dr-seuss</td></tr>",
                            "<tr><td>9841</td><td>209</td><td>dr-seuss</td></tr>",
                            "<tr><td>9841</td><td>181</td><td>dr-seuss</td></tr>",
                            "<tr><td>9841</td><td>151</td><td>dr-seuss</td></tr>",
                            "<tr><td>9841</td><td>142</td><td>dr-seuss</td></tr>",
                            "<tr><td>9841</td><td>89</td><td>dr-seuss</td></tr>",
                            "<tr><td>9841</td><td>88</td><td>dr-seuss</td></tr>",
                            "<tr><td>9841</td><td>84</td><td>dr-seuss</td></tr>",
                            "<tr><td>9841</td><td>81</td><td>dr-seuss</td></tr>",
                            "<tr><td>9841</td><td>79</td><td>dr-seuss</td></tr>",
                            "<tr><td>9841</td><td>62</td><td>dr-seuss</td></tr>",
                            "<tr><td>9841</td><td>61</td><td>dr-seuss</td></tr>",
                            "<tr><td>27360</td><td>56</td><td>seuss</td></tr>",
                            "<tr><td>9841</td><td>50</td><td>dr-seuss</td></tr>",
                            "<tr><td>9841</td><td>47</td><td>dr-seuss</td></tr>",
                            "<tr><td>27360</td><td>46</td><td>seuss</td></tr>",
                            "<tr><td>27360</td><td>45</td><td>seuss</td></tr>",
                            "<tr><td>27360</td><td>41</td><td>seuss</td></tr>",
                            "<tr><td>9834</td><td>39</td><td>dr--seuss</td></tr>",
                            "<tr><td>27360</td><td>37</td><td>seuss</td></tr>",
                            "<tr><td>27360</td><td>35</td><td>seuss</td></tr>",
                            "<tr><td>9834</td><td>31</td><td>dr--seuss</td></tr>",
                            "<tr><td>27360</td><td>29</td><td>seuss</td></tr>",
                            "<tr><td>9841</td><td>26</td><td>dr-seuss</td></tr>",
                            "<tr><td>9834</td><td>26</td><td>dr--seuss</td></tr>",
                            "<tr><td>27360</td><td>25</td><td>seuss</td></tr>",
                            "<tr><td>27360</td><td>24</td><td>seuss</td></tr>",
                            "<tr><td>27360</td><td>23</td><td>seuss</td></tr>",
                            "<tr><td>9834</td><td>22</td><td>dr--seuss</td></tr>",
                            "<tr><td>9841</td><td>21</td><td>dr-seuss</td></tr>",
                            "<tr><td>27360</td><td>21</td><td>seuss</td></tr>",
                            "<tr><td>27360</td><td>19</td><td>seuss</td></tr>",
                            "<tr><td>9834</td><td>18</td><td>dr--seuss</td></tr>",
                            "<tr><td>27360</td><td>18</td><td>seuss</td></tr>",
                            "<tr><td>9841</td><td>17</td><td>dr-seuss</td></tr>",
                            "<tr><td>9841</td><td>14</td><td>dr-seuss</td></tr>",
                            "<tr><td>27360</td><td>13</td><td>seuss</td></tr>",
                            "<tr><td>27360</td><td>12</td><td>seuss</td></tr>",
                            "<tr><td>27360</td><td>10</td><td>seuss</td></tr>",
                            "<tr><td>9841</td><td>9</td><td>dr-seuss</td></tr>",
                            "<tr><td>9834</td><td>9</td><td>dr--seuss</td></tr>",
                            "<tr><td>27360</td><td>9</td><td>seuss</td></tr>",
                            "<tr><td>9841</td><td>8</td><td>dr-seuss</td></tr>",
                            "<tr><td>27360</td><td>8</td><td>seuss</td></tr>",
                            "<tr><td>9841</td><td>7</td><td>dr-seuss</td></tr>",
                            "<tr><td>27360</td><td>6</td><td>seuss</td></tr>",
                            "<tr><td>9842</td><td>5</td><td>dr-seuss-books</td></tr>",
                            "<tr><td>27360</td><td>5</td><td>seuss</td></tr>",
                            "<tr><td>9843</td><td>1</td><td>dr-seuss-s-books</td></tr>",
                            "<tr><td>27361</td><td>1</td><td>seuss-and-friends</td></tr>",
                            "</table>"
                        ]
                    }
                }
            ],
            "execution_count": 33
        },
        {
            "cell_type": "code",
            "source": [
                "SELECT TOP(100) authors, title, average_rating, tag_id, id, goodreads_book_id\n",
                "FROM BooksDB.dbo.books AS b FULL JOIN BooksDB.dbo.book_tags AS bt \n",
                "ON b.book_id = bt.goodreads_book_id\n",
                "WHERE tag_id = 9841\n",
                "ORDER BY average_rating DESC"
            ],
            "metadata": {
                "azdata_cell_guid": "5b9927d8-6e52-4bf2-a048-08f25dcdb2d7",
                "language": "sql"
            },
            "outputs": [
                {
                    "output_type": "display_data",
                    "data": {
                        "text/html": "(29 rows affected)"
                    },
                    "metadata": {}
                },
                {
                    "output_type": "display_data",
                    "data": {
                        "text/html": "Total execution time: 00:00:00.226"
                    },
                    "metadata": {}
                },
                {
                    "output_type": "execute_result",
                    "metadata": {},
                    "execution_count": 52,
                    "data": {
                        "application/vnd.dataresource+json": {
                            "schema": {
                                "fields": [
                                    {
                                        "name": "authors"
                                    },
                                    {
                                        "name": "title"
                                    },
                                    {
                                        "name": "average_rating"
                                    },
                                    {
                                        "name": "tag_id"
                                    },
                                    {
                                        "name": "id"
                                    },
                                    {
                                        "name": "goodreads_book_id"
                                    }
                                ]
                            },
                            "data": [
                                {
                                    "authors": "Robert Kapilow, Dr. Seuss",
                                    "title": "Dr. Seuss's Green Eggs and Ham: For Soprano, Boy Soprano, and Orchestra",
                                    "average_rating": "4.44",
                                    "tag_id": "9841",
                                    "id": "976",
                                    "goodreads_book_id": "90072"
                                },
                                {
                                    "authors": "Dr. Seuss, Various",
                                    "title": "The Cat in the Hat and Other Dr. Seuss Favorites",
                                    "average_rating": "4.41",
                                    "tag_id": "9841",
                                    "id": "2176",
                                    "goodreads_book_id": "7788"
                                },
                                {
                                    "authors": "Dr. Seuss",
                                    "title": "How the Grinch Stole Christmas!",
                                    "average_rating": "4.36",
                                    "tag_id": "9841",
                                    "id": "364",
                                    "goodreads_book_id": "113946"
                                },
                                {
                                    "authors": "Dr. Seuss",
                                    "title": "The Lorax",
                                    "average_rating": "4.35",
                                    "tag_id": "9841",
                                    "id": "391",
                                    "goodreads_book_id": "7784"
                                },
                                {
                                    "authors": "Dr. Seuss",
                                    "title": "Oh, The Places You'll Go!",
                                    "average_rating": "4.34",
                                    "tag_id": "9841",
                                    "id": "358",
                                    "goodreads_book_id": "191139"
                                },
                                {
                                    "authors": "Dr. Seuss",
                                    "title": "The Sneetches and Other Stories",
                                    "average_rating": "4.31",
                                    "tag_id": "9841",
                                    "id": "2095",
                                    "goodreads_book_id": "105549"
                                },
                                {
                                    "authors": "Al Perkins, Eric Gurney",
                                    "title": "Hand, Hand, Fingers, Thumb",
                                    "average_rating": "4.22",
                                    "tag_id": "9841",
                                    "id": "3900",
                                    "goodreads_book_id": "857501"
                                },
                                {
                                    "authors": "Helen Marion Palmer, P.D. Eastman",
                                    "title": "A Fish Out of Water",
                                    "average_rating": "4.21",
                                    "tag_id": "9841",
                                    "id": "6708",
                                    "goodreads_book_id": "899608"
                                },
                                {
                                    "authors": "P.D. Eastman",
                                    "title": "The Best Nest",
                                    "average_rating": "4.19",
                                    "tag_id": "9841",
                                    "id": "9210",
                                    "goodreads_book_id": "160988"
                                },
                                {
                                    "authors": "Dr. Seuss",
                                    "title": "I Can Read With My Eyes Shut!",
                                    "average_rating": "4.17",
                                    "tag_id": "9841",
                                    "id": "9698",
                                    "goodreads_book_id": "7785"
                                },
                                {
                                    "authors": "Dr. Seuss",
                                    "title": "Horton Hears a Who!",
                                    "average_rating": "4.16",
                                    "tag_id": "9841",
                                    "id": "1348",
                                    "goodreads_book_id": "7779"
                                },
                                {
                                    "authors": "P.D. Eastman",
                                    "title": "Are You My Mother?",
                                    "average_rating": "4.16",
                                    "tag_id": "9841",
                                    "id": "579",
                                    "goodreads_book_id": "197084"
                                },
                                {
                                    "authors": "Dr. Seuss",
                                    "title": "The Cat in the Hat",
                                    "average_rating": "4.15",
                                    "tag_id": "9841",
                                    "id": "251",
                                    "goodreads_book_id": "233093"
                                },
                                {
                                    "authors": "Dr. Seuss",
                                    "title": "Horton Hatches the Egg",
                                    "average_rating": "4.14",
                                    "tag_id": "9841",
                                    "id": "4877",
                                    "goodreads_book_id": "11301"
                                },
                                {
                                    "authors": "Dr. Seuss, Theo LeSieg, Roy McKie",
                                    "title": "In a People House",
                                    "average_rating": "4.13",
                                    "tag_id": "9841",
                                    "id": "9746",
                                    "goodreads_book_id": "934700"
                                },
                                {
                                    "authors": "Stan Berenstain, Jan Berenstain",
                                    "title": "Inside, Outside, Upside Down (Berenstain Bears Bright and Early Board Book)",
                                    "average_rating": "4.13",
                                    "tag_id": "9841",
                                    "id": "7016",
                                    "goodreads_book_id": "773480"
                                },
                                {
                                    "authors": "Dr. Seuss",
                                    "title": "Yertle the Turtle and Other Stories",
                                    "average_rating": "4.13",
                                    "tag_id": "9841",
                                    "id": "5446",
                                    "goodreads_book_id": "420404"
                                },
                                {
                                    "authors": "Dr. Seuss",
                                    "title": "One Fish, Two Fish, Red Fish, Blue Fish",
                                    "average_rating": "4.12",
                                    "tag_id": "9841",
                                    "id": "798",
                                    "goodreads_book_id": "7770"
                                },
                                {
                                    "authors": "Dr. Seuss",
                                    "title": "Mr. Brown Can Moo! Can You?",
                                    "average_rating": "4.11",
                                    "tag_id": "9841",
                                    "id": "2512",
                                    "goodreads_book_id": "105552"
                                },
                                {
                                    "authors": "Theo LeSieg, Roy McKie",
                                    "title": "Ten Apples Up On Top!",
                                    "average_rating": "4.11",
                                    "tag_id": "9841",
                                    "id": "3762",
                                    "goodreads_book_id": "7797"
                                },
                                {
                                    "authors": "P.D. Eastman",
                                    "title": "Go, Dog. Go!",
                                    "average_rating": "4.08",
                                    "tag_id": "9841",
                                    "id": "1488",
                                    "goodreads_book_id": "460548"
                                },
                                {
                                    "authors": "Dr. Seuss",
                                    "title": "Dr. Seuss's ABC: An Amazing Alphabet Book! (Bright and Early Board Books)",
                                    "average_rating": "4.07",
                                    "tag_id": "9841",
                                    "id": "3363",
                                    "goodreads_book_id": "7769"
                                },
                                {
                                    "authors": "Dr. Seuss, Maurice Sendak, Audrey Geisel",
                                    "title": "The Secret Art of Dr. Seuss",
                                    "average_rating": "4.05",
                                    "tag_id": "9841",
                                    "id": "9502",
                                    "goodreads_book_id": "7780"
                                },
                                {
                                    "authors": "Dr. Seuss",
                                    "title": "Fox in Socks",
                                    "average_rating": "4.04",
                                    "tag_id": "9841",
                                    "id": "3047",
                                    "goodreads_book_id": "105551"
                                },
                                {
                                    "authors": "Dr. Seuss",
                                    "title": "There's a Wocket in My Pocket!",
                                    "average_rating": "4.02",
                                    "tag_id": "9841",
                                    "id": "5303",
                                    "goodreads_book_id": "310272"
                                },
                                {
                                    "authors": "Dr. Seuss",
                                    "title": "And to Think That I Saw it on Mulberry Street",
                                    "average_rating": "3.99",
                                    "tag_id": "9841",
                                    "id": "7611",
                                    "goodreads_book_id": "28351"
                                },
                                {
                                    "authors": "Dr. Seuss",
                                    "title": "The Foot Book: Dr. Seuss's Wacky Book of Opposites (Bright and Early Board Books)",
                                    "average_rating": "3.99",
                                    "tag_id": "9841",
                                    "id": "5265",
                                    "goodreads_book_id": "105548"
                                },
                                {
                                    "authors": "Dr. Seuss",
                                    "title": "Hop On Pop",
                                    "average_rating": "3.95",
                                    "tag_id": "9841",
                                    "id": "3274",
                                    "goodreads_book_id": "206962"
                                },
                                {
                                    "authors": "Dr. Seuss",
                                    "title": "The Cat in the Hat Comes Back",
                                    "average_rating": "3.83",
                                    "tag_id": "9841",
                                    "id": "6334",
                                    "goodreads_book_id": "667234"
                                }
                            ]
                        },
                        "text/html": [
                            "<table>",
                            "<tr><th>authors</th><th>title</th><th>average_rating</th><th>tag_id</th><th>id</th><th>goodreads_book_id</th></tr>",
                            "<tr><td>Robert Kapilow, Dr. Seuss</td><td>Dr. Seuss&#39;s Green Eggs and Ham: For Soprano, Boy Soprano, and Orchestra</td><td>4.44</td><td>9841</td><td>976</td><td>90072</td></tr>",
                            "<tr><td>Dr. Seuss, Various</td><td>The Cat in the Hat and Other Dr. Seuss Favorites</td><td>4.41</td><td>9841</td><td>2176</td><td>7788</td></tr>",
                            "<tr><td>Dr. Seuss</td><td>How the Grinch Stole Christmas!</td><td>4.36</td><td>9841</td><td>364</td><td>113946</td></tr>",
                            "<tr><td>Dr. Seuss</td><td>The Lorax</td><td>4.35</td><td>9841</td><td>391</td><td>7784</td></tr>",
                            "<tr><td>Dr. Seuss</td><td>Oh, The Places You&#39;ll Go!</td><td>4.34</td><td>9841</td><td>358</td><td>191139</td></tr>",
                            "<tr><td>Dr. Seuss</td><td>The Sneetches and Other Stories</td><td>4.31</td><td>9841</td><td>2095</td><td>105549</td></tr>",
                            "<tr><td>Al Perkins, Eric Gurney</td><td>Hand, Hand, Fingers, Thumb</td><td>4.22</td><td>9841</td><td>3900</td><td>857501</td></tr>",
                            "<tr><td>Helen Marion Palmer, P.D. Eastman</td><td>A Fish Out of Water</td><td>4.21</td><td>9841</td><td>6708</td><td>899608</td></tr>",
                            "<tr><td>P.D. Eastman</td><td>The Best Nest</td><td>4.19</td><td>9841</td><td>9210</td><td>160988</td></tr>",
                            "<tr><td>Dr. Seuss</td><td>I Can Read With My Eyes Shut!</td><td>4.17</td><td>9841</td><td>9698</td><td>7785</td></tr>",
                            "<tr><td>Dr. Seuss</td><td>Horton Hears a Who!</td><td>4.16</td><td>9841</td><td>1348</td><td>7779</td></tr>",
                            "<tr><td>P.D. Eastman</td><td>Are You My Mother?</td><td>4.16</td><td>9841</td><td>579</td><td>197084</td></tr>",
                            "<tr><td>Dr. Seuss</td><td>The Cat in the Hat</td><td>4.15</td><td>9841</td><td>251</td><td>233093</td></tr>",
                            "<tr><td>Dr. Seuss</td><td>Horton Hatches the Egg</td><td>4.14</td><td>9841</td><td>4877</td><td>11301</td></tr>",
                            "<tr><td>Dr. Seuss, Theo LeSieg, Roy McKie</td><td>In a People House</td><td>4.13</td><td>9841</td><td>9746</td><td>934700</td></tr>",
                            "<tr><td>Stan Berenstain, Jan Berenstain</td><td>Inside, Outside, Upside Down (Berenstain Bears Bright and Early Board Book)</td><td>4.13</td><td>9841</td><td>7016</td><td>773480</td></tr>",
                            "<tr><td>Dr. Seuss</td><td>Yertle the Turtle and Other Stories</td><td>4.13</td><td>9841</td><td>5446</td><td>420404</td></tr>",
                            "<tr><td>Dr. Seuss</td><td>One Fish, Two Fish, Red Fish, Blue Fish</td><td>4.12</td><td>9841</td><td>798</td><td>7770</td></tr>",
                            "<tr><td>Dr. Seuss</td><td>Mr. Brown Can Moo! Can You?</td><td>4.11</td><td>9841</td><td>2512</td><td>105552</td></tr>",
                            "<tr><td>Theo LeSieg, Roy McKie</td><td>Ten Apples Up On Top!</td><td>4.11</td><td>9841</td><td>3762</td><td>7797</td></tr>",
                            "<tr><td>P.D. Eastman</td><td>Go, Dog. Go!</td><td>4.08</td><td>9841</td><td>1488</td><td>460548</td></tr>",
                            "<tr><td>Dr. Seuss</td><td>Dr. Seuss&#39;s ABC: An Amazing Alphabet Book! (Bright and Early Board Books)</td><td>4.07</td><td>9841</td><td>3363</td><td>7769</td></tr>",
                            "<tr><td>Dr. Seuss, Maurice Sendak, Audrey Geisel</td><td>The Secret Art of Dr. Seuss</td><td>4.05</td><td>9841</td><td>9502</td><td>7780</td></tr>",
                            "<tr><td>Dr. Seuss</td><td>Fox in Socks</td><td>4.04</td><td>9841</td><td>3047</td><td>105551</td></tr>",
                            "<tr><td>Dr. Seuss</td><td>There&#39;s a Wocket in My Pocket!</td><td>4.02</td><td>9841</td><td>5303</td><td>310272</td></tr>",
                            "<tr><td>Dr. Seuss</td><td>And to Think That I Saw it on Mulberry Street</td><td>3.99</td><td>9841</td><td>7611</td><td>28351</td></tr>",
                            "<tr><td>Dr. Seuss</td><td>The Foot Book: Dr. Seuss&#39;s Wacky Book of Opposites (Bright and Early Board Books)</td><td>3.99</td><td>9841</td><td>5265</td><td>105548</td></tr>",
                            "<tr><td>Dr. Seuss</td><td>Hop On Pop</td><td>3.95</td><td>9841</td><td>3274</td><td>206962</td></tr>",
                            "<tr><td>Dr. Seuss</td><td>The Cat in the Hat Comes Back</td><td>3.83</td><td>9841</td><td>6334</td><td>667234</td></tr>",
                            "</table>"
                        ]
                    }
                }
            ],
            "execution_count": 52
        },
        {
            "cell_type": "code",
            "source": [
                "SELECT TOP(100) bt.tag_id, count, tag_name\n",
                "FROM BooksDB.dbo.book_tags AS bt FULL JOIN BooksDB.dbo.tags AS b\n",
                "ON b.tag_id = bt.tag_id\n",
                "GROUP BY count, tag_name, bt.tag_id\n",
                "HAVING tag_name LIKE '%dog%'\n",
                "ORDER BY count DESC"
            ],
            "metadata": {
                "azdata_cell_guid": "b28b8926-1c88-471a-878f-e6c626438f42",
                "language": "sql"
            },
            "outputs": [
                {
                    "output_type": "display_data",
                    "data": {
                        "text/html": "(100 rows affected)"
                    },
                    "metadata": {}
                },
                {
                    "output_type": "display_data",
                    "data": {
                        "text/html": "Total execution time: 00:00:00.317"
                    },
                    "metadata": {}
                },
                {
                    "output_type": "execute_result",
                    "metadata": {},
                    "execution_count": 49,
                    "data": {
                        "application/vnd.dataresource+json": {
                            "schema": {
                                "fields": [
                                    {
                                        "name": "tag_id"
                                    },
                                    {
                                        "name": "count"
                                    },
                                    {
                                        "name": "tag_name"
                                    }
                                ]
                            },
                            "data": [
                                {
                                    "tag_id": "9684",
                                    "count": "594",
                                    "tag_name": "dogs"
                                },
                                {
                                    "tag_id": "9684",
                                    "count": "515",
                                    "tag_name": "dogs"
                                },
                                {
                                    "tag_id": "9684",
                                    "count": "333",
                                    "tag_name": "dogs"
                                },
                                {
                                    "tag_id": "9684",
                                    "count": "260",
                                    "tag_name": "dogs"
                                },
                                {
                                    "tag_id": "9684",
                                    "count": "209",
                                    "tag_name": "dogs"
                                },
                                {
                                    "tag_id": "9684",
                                    "count": "203",
                                    "tag_name": "dogs"
                                },
                                {
                                    "tag_id": "9684",
                                    "count": "183",
                                    "tag_name": "dogs"
                                },
                                {
                                    "tag_id": "9684",
                                    "count": "179",
                                    "tag_name": "dogs"
                                },
                                {
                                    "tag_id": "9684",
                                    "count": "145",
                                    "tag_name": "dogs"
                                },
                                {
                                    "tag_id": "9684",
                                    "count": "134",
                                    "tag_name": "dogs"
                                },
                                {
                                    "tag_id": "9684",
                                    "count": "118",
                                    "tag_name": "dogs"
                                },
                                {
                                    "tag_id": "9684",
                                    "count": "110",
                                    "tag_name": "dogs"
                                },
                                {
                                    "tag_id": "9684",
                                    "count": "106",
                                    "tag_name": "dogs"
                                },
                                {
                                    "tag_id": "9684",
                                    "count": "102",
                                    "tag_name": "dogs"
                                },
                                {
                                    "tag_id": "9684",
                                    "count": "97",
                                    "tag_name": "dogs"
                                },
                                {
                                    "tag_id": "9684",
                                    "count": "93",
                                    "tag_name": "dogs"
                                },
                                {
                                    "tag_id": "9684",
                                    "count": "90",
                                    "tag_name": "dogs"
                                },
                                {
                                    "tag_id": "9684",
                                    "count": "83",
                                    "tag_name": "dogs"
                                },
                                {
                                    "tag_id": "9673",
                                    "count": "82",
                                    "tag_name": "dog-books"
                                },
                                {
                                    "tag_id": "9684",
                                    "count": "80",
                                    "tag_name": "dogs"
                                },
                                {
                                    "tag_id": "9684",
                                    "count": "75",
                                    "tag_name": "dogs"
                                },
                                {
                                    "tag_id": "9673",
                                    "count": "74",
                                    "tag_name": "dog-books"
                                },
                                {
                                    "tag_id": "9684",
                                    "count": "74",
                                    "tag_name": "dogs"
                                },
                                {
                                    "tag_id": "9684",
                                    "count": "72",
                                    "tag_name": "dogs"
                                },
                                {
                                    "tag_id": "9684",
                                    "count": "70",
                                    "tag_name": "dogs"
                                },
                                {
                                    "tag_id": "9673",
                                    "count": "69",
                                    "tag_name": "dog-books"
                                },
                                {
                                    "tag_id": "9684",
                                    "count": "69",
                                    "tag_name": "dogs"
                                },
                                {
                                    "tag_id": "9684",
                                    "count": "68",
                                    "tag_name": "dogs"
                                },
                                {
                                    "tag_id": "9684",
                                    "count": "64",
                                    "tag_name": "dogs"
                                },
                                {
                                    "tag_id": "9672",
                                    "count": "63",
                                    "tag_name": "dog"
                                },
                                {
                                    "tag_id": "9672",
                                    "count": "60",
                                    "tag_name": "dog"
                                },
                                {
                                    "tag_id": "9684",
                                    "count": "59",
                                    "tag_name": "dogs"
                                },
                                {
                                    "tag_id": "9684",
                                    "count": "57",
                                    "tag_name": "dogs"
                                },
                                {
                                    "tag_id": "9684",
                                    "count": "56",
                                    "tag_name": "dogs"
                                },
                                {
                                    "tag_id": "9684",
                                    "count": "55",
                                    "tag_name": "dogs"
                                },
                                {
                                    "tag_id": "9684",
                                    "count": "52",
                                    "tag_name": "dogs"
                                },
                                {
                                    "tag_id": "9684",
                                    "count": "50",
                                    "tag_name": "dogs"
                                },
                                {
                                    "tag_id": "9684",
                                    "count": "48",
                                    "tag_name": "dogs"
                                },
                                {
                                    "tag_id": "9674",
                                    "count": "47",
                                    "tag_name": "dog-days"
                                },
                                {
                                    "tag_id": "9684",
                                    "count": "46",
                                    "tag_name": "dogs"
                                },
                                {
                                    "tag_id": "9673",
                                    "count": "45",
                                    "tag_name": "dog-books"
                                },
                                {
                                    "tag_id": "9684",
                                    "count": "44",
                                    "tag_name": "dogs"
                                },
                                {
                                    "tag_id": "9684",
                                    "count": "43",
                                    "tag_name": "dogs"
                                },
                                {
                                    "tag_id": "9684",
                                    "count": "42",
                                    "tag_name": "dogs"
                                },
                                {
                                    "tag_id": "9684",
                                    "count": "41",
                                    "tag_name": "dogs"
                                },
                                {
                                    "tag_id": "9684",
                                    "count": "39",
                                    "tag_name": "dogs"
                                },
                                {
                                    "tag_id": "9673",
                                    "count": "38",
                                    "tag_name": "dog-books"
                                },
                                {
                                    "tag_id": "9684",
                                    "count": "38",
                                    "tag_name": "dogs"
                                },
                                {
                                    "tag_id": "9672",
                                    "count": "34",
                                    "tag_name": "dog"
                                },
                                {
                                    "tag_id": "9684",
                                    "count": "34",
                                    "tag_name": "dogs"
                                },
                                {
                                    "tag_id": "9684",
                                    "count": "33",
                                    "tag_name": "dogs"
                                },
                                {
                                    "tag_id": "9684",
                                    "count": "31",
                                    "tag_name": "dogs"
                                },
                                {
                                    "tag_id": "9684",
                                    "count": "29",
                                    "tag_name": "dogs"
                                },
                                {
                                    "tag_id": "9673",
                                    "count": "28",
                                    "tag_name": "dog-books"
                                },
                                {
                                    "tag_id": "9672",
                                    "count": "27",
                                    "tag_name": "dog"
                                },
                                {
                                    "tag_id": "9684",
                                    "count": "27",
                                    "tag_name": "dogs"
                                },
                                {
                                    "tag_id": "9684",
                                    "count": "26",
                                    "tag_name": "dogs"
                                },
                                {
                                    "tag_id": "9673",
                                    "count": "25",
                                    "tag_name": "dog-books"
                                },
                                {
                                    "tag_id": "9672",
                                    "count": "24",
                                    "tag_name": "dog"
                                },
                                {
                                    "tag_id": "9673",
                                    "count": "24",
                                    "tag_name": "dog-books"
                                },
                                {
                                    "tag_id": "9684",
                                    "count": "23",
                                    "tag_name": "dogs"
                                },
                                {
                                    "tag_id": "9673",
                                    "count": "22",
                                    "tag_name": "dog-books"
                                },
                                {
                                    "tag_id": "9673",
                                    "count": "20",
                                    "tag_name": "dog-books"
                                },
                                {
                                    "tag_id": "9681",
                                    "count": "20",
                                    "tag_name": "dog-training"
                                },
                                {
                                    "tag_id": "9673",
                                    "count": "19",
                                    "tag_name": "dog-books"
                                },
                                {
                                    "tag_id": "9684",
                                    "count": "19",
                                    "tag_name": "dogs"
                                },
                                {
                                    "tag_id": "9672",
                                    "count": "18",
                                    "tag_name": "dog"
                                },
                                {
                                    "tag_id": "9684",
                                    "count": "18",
                                    "tag_name": "dogs"
                                },
                                {
                                    "tag_id": "9672",
                                    "count": "17",
                                    "tag_name": "dog"
                                },
                                {
                                    "tag_id": "9673",
                                    "count": "17",
                                    "tag_name": "dog-books"
                                },
                                {
                                    "tag_id": "27001",
                                    "count": "17",
                                    "tag_name": "search-and-rescue-dogs"
                                },
                                {
                                    "tag_id": "9450",
                                    "count": "16",
                                    "tag_name": "diary-of-a-wimpy-kid-dog-days"
                                },
                                {
                                    "tag_id": "9672",
                                    "count": "16",
                                    "tag_name": "dog"
                                },
                                {
                                    "tag_id": "9673",
                                    "count": "16",
                                    "tag_name": "dog-books"
                                },
                                {
                                    "tag_id": "9672",
                                    "count": "15",
                                    "tag_name": "dog"
                                },
                                {
                                    "tag_id": "9684",
                                    "count": "15",
                                    "tag_name": "dogs"
                                },
                                {
                                    "tag_id": "9681",
                                    "count": "15",
                                    "tag_name": "dog-training"
                                },
                                {
                                    "tag_id": "32673",
                                    "count": "15",
                                    "tag_name": "wolfdogs"
                                },
                                {
                                    "tag_id": "9673",
                                    "count": "14",
                                    "tag_name": "dog-books"
                                },
                                {
                                    "tag_id": "9684",
                                    "count": "14",
                                    "tag_name": "dogs"
                                },
                                {
                                    "tag_id": "9679",
                                    "count": "14",
                                    "tag_name": "dog-stories"
                                },
                                {
                                    "tag_id": "9672",
                                    "count": "13",
                                    "tag_name": "dog"
                                },
                                {
                                    "tag_id": "9673",
                                    "count": "13",
                                    "tag_name": "dog-books"
                                },
                                {
                                    "tag_id": "9684",
                                    "count": "13",
                                    "tag_name": "dogs"
                                },
                                {
                                    "tag_id": "9672",
                                    "count": "12",
                                    "tag_name": "dog"
                                },
                                {
                                    "tag_id": "9684",
                                    "count": "12",
                                    "tag_name": "dogs"
                                },
                                {
                                    "tag_id": "9679",
                                    "count": "12",
                                    "tag_name": "dog-stories"
                                },
                                {
                                    "tag_id": "18666",
                                    "count": "12",
                                    "tag_name": "love-that-dog"
                                },
                                {
                                    "tag_id": "9672",
                                    "count": "11",
                                    "tag_name": "dog"
                                },
                                {
                                    "tag_id": "9673",
                                    "count": "11",
                                    "tag_name": "dog-books"
                                },
                                {
                                    "tag_id": "9684",
                                    "count": "11",
                                    "tag_name": "dogs"
                                },
                                {
                                    "tag_id": "9679",
                                    "count": "11",
                                    "tag_name": "dog-stories"
                                },
                                {
                                    "tag_id": "9672",
                                    "count": "10",
                                    "tag_name": "dog"
                                },
                                {
                                    "tag_id": "9673",
                                    "count": "10",
                                    "tag_name": "dog-books"
                                },
                                {
                                    "tag_id": "9684",
                                    "count": "10",
                                    "tag_name": "dogs"
                                },
                                {
                                    "tag_id": "1312",
                                    "count": "9",
                                    "tag_name": "a-dogs-life"
                                },
                                {
                                    "tag_id": "9672",
                                    "count": "9",
                                    "tag_name": "dog"
                                },
                                {
                                    "tag_id": "9673",
                                    "count": "9",
                                    "tag_name": "dog-books"
                                },
                                {
                                    "tag_id": "9684",
                                    "count": "9",
                                    "tag_name": "dogs"
                                },
                                {
                                    "tag_id": "9679",
                                    "count": "9",
                                    "tag_name": "dog-stories"
                                }
                            ]
                        },
                        "text/html": [
                            "<table>",
                            "<tr><th>tag_id</th><th>count</th><th>tag_name</th></tr>",
                            "<tr><td>9684</td><td>594</td><td>dogs</td></tr>",
                            "<tr><td>9684</td><td>515</td><td>dogs</td></tr>",
                            "<tr><td>9684</td><td>333</td><td>dogs</td></tr>",
                            "<tr><td>9684</td><td>260</td><td>dogs</td></tr>",
                            "<tr><td>9684</td><td>209</td><td>dogs</td></tr>",
                            "<tr><td>9684</td><td>203</td><td>dogs</td></tr>",
                            "<tr><td>9684</td><td>183</td><td>dogs</td></tr>",
                            "<tr><td>9684</td><td>179</td><td>dogs</td></tr>",
                            "<tr><td>9684</td><td>145</td><td>dogs</td></tr>",
                            "<tr><td>9684</td><td>134</td><td>dogs</td></tr>",
                            "<tr><td>9684</td><td>118</td><td>dogs</td></tr>",
                            "<tr><td>9684</td><td>110</td><td>dogs</td></tr>",
                            "<tr><td>9684</td><td>106</td><td>dogs</td></tr>",
                            "<tr><td>9684</td><td>102</td><td>dogs</td></tr>",
                            "<tr><td>9684</td><td>97</td><td>dogs</td></tr>",
                            "<tr><td>9684</td><td>93</td><td>dogs</td></tr>",
                            "<tr><td>9684</td><td>90</td><td>dogs</td></tr>",
                            "<tr><td>9684</td><td>83</td><td>dogs</td></tr>",
                            "<tr><td>9673</td><td>82</td><td>dog-books</td></tr>",
                            "<tr><td>9684</td><td>80</td><td>dogs</td></tr>",
                            "<tr><td>9684</td><td>75</td><td>dogs</td></tr>",
                            "<tr><td>9673</td><td>74</td><td>dog-books</td></tr>",
                            "<tr><td>9684</td><td>74</td><td>dogs</td></tr>",
                            "<tr><td>9684</td><td>72</td><td>dogs</td></tr>",
                            "<tr><td>9684</td><td>70</td><td>dogs</td></tr>",
                            "<tr><td>9673</td><td>69</td><td>dog-books</td></tr>",
                            "<tr><td>9684</td><td>69</td><td>dogs</td></tr>",
                            "<tr><td>9684</td><td>68</td><td>dogs</td></tr>",
                            "<tr><td>9684</td><td>64</td><td>dogs</td></tr>",
                            "<tr><td>9672</td><td>63</td><td>dog</td></tr>",
                            "<tr><td>9672</td><td>60</td><td>dog</td></tr>",
                            "<tr><td>9684</td><td>59</td><td>dogs</td></tr>",
                            "<tr><td>9684</td><td>57</td><td>dogs</td></tr>",
                            "<tr><td>9684</td><td>56</td><td>dogs</td></tr>",
                            "<tr><td>9684</td><td>55</td><td>dogs</td></tr>",
                            "<tr><td>9684</td><td>52</td><td>dogs</td></tr>",
                            "<tr><td>9684</td><td>50</td><td>dogs</td></tr>",
                            "<tr><td>9684</td><td>48</td><td>dogs</td></tr>",
                            "<tr><td>9674</td><td>47</td><td>dog-days</td></tr>",
                            "<tr><td>9684</td><td>46</td><td>dogs</td></tr>",
                            "<tr><td>9673</td><td>45</td><td>dog-books</td></tr>",
                            "<tr><td>9684</td><td>44</td><td>dogs</td></tr>",
                            "<tr><td>9684</td><td>43</td><td>dogs</td></tr>",
                            "<tr><td>9684</td><td>42</td><td>dogs</td></tr>",
                            "<tr><td>9684</td><td>41</td><td>dogs</td></tr>",
                            "<tr><td>9684</td><td>39</td><td>dogs</td></tr>",
                            "<tr><td>9673</td><td>38</td><td>dog-books</td></tr>",
                            "<tr><td>9684</td><td>38</td><td>dogs</td></tr>",
                            "<tr><td>9672</td><td>34</td><td>dog</td></tr>",
                            "<tr><td>9684</td><td>34</td><td>dogs</td></tr>",
                            "<tr><td>9684</td><td>33</td><td>dogs</td></tr>",
                            "<tr><td>9684</td><td>31</td><td>dogs</td></tr>",
                            "<tr><td>9684</td><td>29</td><td>dogs</td></tr>",
                            "<tr><td>9673</td><td>28</td><td>dog-books</td></tr>",
                            "<tr><td>9672</td><td>27</td><td>dog</td></tr>",
                            "<tr><td>9684</td><td>27</td><td>dogs</td></tr>",
                            "<tr><td>9684</td><td>26</td><td>dogs</td></tr>",
                            "<tr><td>9673</td><td>25</td><td>dog-books</td></tr>",
                            "<tr><td>9672</td><td>24</td><td>dog</td></tr>",
                            "<tr><td>9673</td><td>24</td><td>dog-books</td></tr>",
                            "<tr><td>9684</td><td>23</td><td>dogs</td></tr>",
                            "<tr><td>9673</td><td>22</td><td>dog-books</td></tr>",
                            "<tr><td>9673</td><td>20</td><td>dog-books</td></tr>",
                            "<tr><td>9681</td><td>20</td><td>dog-training</td></tr>",
                            "<tr><td>9673</td><td>19</td><td>dog-books</td></tr>",
                            "<tr><td>9684</td><td>19</td><td>dogs</td></tr>",
                            "<tr><td>9672</td><td>18</td><td>dog</td></tr>",
                            "<tr><td>9684</td><td>18</td><td>dogs</td></tr>",
                            "<tr><td>9672</td><td>17</td><td>dog</td></tr>",
                            "<tr><td>9673</td><td>17</td><td>dog-books</td></tr>",
                            "<tr><td>27001</td><td>17</td><td>search-and-rescue-dogs</td></tr>",
                            "<tr><td>9450</td><td>16</td><td>diary-of-a-wimpy-kid-dog-days</td></tr>",
                            "<tr><td>9672</td><td>16</td><td>dog</td></tr>",
                            "<tr><td>9673</td><td>16</td><td>dog-books</td></tr>",
                            "<tr><td>9672</td><td>15</td><td>dog</td></tr>",
                            "<tr><td>9684</td><td>15</td><td>dogs</td></tr>",
                            "<tr><td>9681</td><td>15</td><td>dog-training</td></tr>",
                            "<tr><td>32673</td><td>15</td><td>wolfdogs</td></tr>",
                            "<tr><td>9673</td><td>14</td><td>dog-books</td></tr>",
                            "<tr><td>9684</td><td>14</td><td>dogs</td></tr>",
                            "<tr><td>9679</td><td>14</td><td>dog-stories</td></tr>",
                            "<tr><td>9672</td><td>13</td><td>dog</td></tr>",
                            "<tr><td>9673</td><td>13</td><td>dog-books</td></tr>",
                            "<tr><td>9684</td><td>13</td><td>dogs</td></tr>",
                            "<tr><td>9672</td><td>12</td><td>dog</td></tr>",
                            "<tr><td>9684</td><td>12</td><td>dogs</td></tr>",
                            "<tr><td>9679</td><td>12</td><td>dog-stories</td></tr>",
                            "<tr><td>18666</td><td>12</td><td>love-that-dog</td></tr>",
                            "<tr><td>9672</td><td>11</td><td>dog</td></tr>",
                            "<tr><td>9673</td><td>11</td><td>dog-books</td></tr>",
                            "<tr><td>9684</td><td>11</td><td>dogs</td></tr>",
                            "<tr><td>9679</td><td>11</td><td>dog-stories</td></tr>",
                            "<tr><td>9672</td><td>10</td><td>dog</td></tr>",
                            "<tr><td>9673</td><td>10</td><td>dog-books</td></tr>",
                            "<tr><td>9684</td><td>10</td><td>dogs</td></tr>",
                            "<tr><td>1312</td><td>9</td><td>a-dogs-life</td></tr>",
                            "<tr><td>9672</td><td>9</td><td>dog</td></tr>",
                            "<tr><td>9673</td><td>9</td><td>dog-books</td></tr>",
                            "<tr><td>9684</td><td>9</td><td>dogs</td></tr>",
                            "<tr><td>9679</td><td>9</td><td>dog-stories</td></tr>",
                            "</table>"
                        ]
                    }
                }
            ],
            "execution_count": 49
        },
        {
            "cell_type": "code",
            "source": [
                "SELECT TOP(100) authors, title, average_rating, tag_id, id, goodreads_book_id\n",
                "FROM BooksDB.dbo.books AS b FULL JOIN BooksDB.dbo.book_tags AS bt \n",
                "ON b.book_id = bt.goodreads_book_id\n",
                "WHERE tag_id = 9684\n",
                "ORDER BY average_rating DESC"
            ],
            "metadata": {
                "azdata_cell_guid": "32751cfb-5aa0-4bba-beff-22e40026e7d6",
                "language": "sql"
            },
            "outputs": [
                {
                    "output_type": "display_data",
                    "data": {
                        "text/html": "(80 rows affected)"
                    },
                    "metadata": {}
                },
                {
                    "output_type": "display_data",
                    "data": {
                        "text/html": "Total execution time: 00:00:00.131"
                    },
                    "metadata": {}
                },
                {
                    "output_type": "execute_result",
                    "metadata": {},
                    "execution_count": 51,
                    "data": {
                        "application/vnd.dataresource+json": {
                            "schema": {
                                "fields": [
                                    {
                                        "name": "authors"
                                    },
                                    {
                                        "name": "title"
                                    },
                                    {
                                        "name": "average_rating"
                                    },
                                    {
                                        "name": "tag_id"
                                    },
                                    {
                                        "name": "id"
                                    },
                                    {
                                        "name": "goodreads_book_id"
                                    }
                                ]
                            },
                            "data": [
                                {
                                    "authors": "W. Bruce Cameron",
                                    "title": "A Dog's Journey (A Dog's Purpose, #2)",
                                    "average_rating": "4.41",
                                    "tag_id": "9684",
                                    "id": "7403",
                                    "goodreads_book_id": "13167796"
                                },
                                {
                                    "authors": "James Herriot",
                                    "title": "All Things Wise and Wonderful",
                                    "average_rating": "4.39",
                                    "tag_id": "9684",
                                    "id": "5658",
                                    "goodreads_book_id": "42909"
                                },
                                {
                                    "authors": "James Herriot",
                                    "title": "The Lord God Made Them All",
                                    "average_rating": "4.39",
                                    "tag_id": "9684",
                                    "id": "8053",
                                    "goodreads_book_id": "38739"
                                },
                                {
                                    "authors": "Mo Willems",
                                    "title": "The Pigeon Wants a Puppy!",
                                    "average_rating": "4.37",
                                    "tag_id": "9684",
                                    "id": "7753",
                                    "goodreads_book_id": "1908511"
                                },
                                {
                                    "authors": "Teddy Slater, Bill Langley, Ron Dias, Walt Disney Company",
                                    "title": "Lady and the Tramp",
                                    "average_rating": "4.36",
                                    "tag_id": "9684",
                                    "id": "3662",
                                    "goodreads_book_id": "765281"
                                },
                                {
                                    "authors": "W. Bruce Cameron",
                                    "title": "A Dog's Purpose (A Dog's Purpose, #1)",
                                    "average_rating": "4.35",
                                    "tag_id": "9684",
                                    "id": "1471",
                                    "goodreads_book_id": "7723542"
                                },
                                {
                                    "authors": "James Herriot",
                                    "title": "All Creatures Great and Small (All Creatures Great and Small, #1-2)",
                                    "average_rating": "4.31",
                                    "tag_id": "9684",
                                    "id": "994",
                                    "goodreads_book_id": "32085"
                                },
                                {
                                    "authors": "James Herriot",
                                    "title": "All Things Bright and Beautiful (All Creatures Great and Small)",
                                    "average_rating": "4.3",
                                    "tag_id": "9684",
                                    "id": "1656",
                                    "goodreads_book_id": "38743"
                                },
                                {
                                    "authors": "Lynley Dodd",
                                    "title": "Hairy Maclary from Donaldson's Dairy",
                                    "average_rating": "4.28",
                                    "tag_id": "9684",
                                    "id": "9435",
                                    "goodreads_book_id": "1153709"
                                },
                                {
                                    "authors": "Audrey Wood, Don    Wood",
                                    "title": "The Napping House",
                                    "average_rating": "4.27",
                                    "tag_id": "9684",
                                    "id": "2689",
                                    "goodreads_book_id": "815234"
                                },
                                {
                                    "authors": "Judy Schachner",
                                    "title": "Skippyjon Jones in Mummy Trouble (Skippyjon Jones, #3)",
                                    "average_rating": "4.25",
                                    "tag_id": "9684",
                                    "id": "9417",
                                    "goodreads_book_id": "244115"
                                },
                                {
                                    "authors": "Judy Schachner",
                                    "title": "Skippyjon Jones",
                                    "average_rating": "4.25",
                                    "tag_id": "9684",
                                    "id": "4258",
                                    "goodreads_book_id": "803171"
                                },
                                {
                                    "authors": "Ludwig Bemelmans",
                                    "title": "Madeline's Rescue",
                                    "average_rating": "4.24",
                                    "tag_id": "9684",
                                    "id": "4886",
                                    "goodreads_book_id": "773606"
                                },
                                {
                                    "authors": "Ann M. Martin",
                                    "title": "Rain Reign",
                                    "average_rating": "4.21",
                                    "tag_id": "9684",
                                    "id": "9381",
                                    "goodreads_book_id": "20575434"
                                },
                                {
                                    "authors": "Garth Stein",
                                    "title": "The Art of Racing in the Rain",
                                    "average_rating": "4.19",
                                    "tag_id": "9684",
                                    "id": "216",
                                    "goodreads_book_id": "3153910"
                                },
                                {
                                    "authors": "Farley Mowat",
                                    "title": "Never Cry Wolf",
                                    "average_rating": "4.19",
                                    "tag_id": "9684",
                                    "id": "5833",
                                    "goodreads_book_id": "72659"
                                },
                                {
                                    "authors": "Ann M. Martin",
                                    "title": "A Dog's Life: The Autobiography of a Stray",
                                    "average_rating": "4.18",
                                    "tag_id": "9684",
                                    "id": "8331",
                                    "goodreads_book_id": "343718"
                                },
                                {
                                    "authors": "Ted Kerasote",
                                    "title": "Merle's Door: Lessons from a Freethinking Dog",
                                    "average_rating": "4.18",
                                    "tag_id": "9684",
                                    "id": "5454",
                                    "goodreads_book_id": "430968"
                                },
                                {
                                    "authors": "Allie Brosh",
                                    "title": "Hyperbole and a Half: Unfortunate Situations, Flawed Coping Mechanisms, Mayhem, and Other Things That Happened",
                                    "average_rating": "4.17",
                                    "tag_id": "9684",
                                    "id": "721",
                                    "goodreads_book_id": "17571564"
                                },
                                {
                                    "authors": "Gene Zion, Margaret Bloy Graham",
                                    "title": "Harry the Dirty Dog",
                                    "average_rating": "4.17",
                                    "tag_id": "9684",
                                    "id": "2582",
                                    "goodreads_book_id": "857448"
                                },
                                {
                                    "authors": "Sheila Burnford",
                                    "title": "The Incredible Journey",
                                    "average_rating": "4.16",
                                    "tag_id": "9684",
                                    "id": "2523",
                                    "goodreads_book_id": "231821"
                                },
                                {
                                    "authors": "Peggy Rathmann",
                                    "title": "Officer Buckle & Gloria",
                                    "average_rating": "4.16",
                                    "tag_id": "9684",
                                    "id": "4201",
                                    "goodreads_book_id": "857445"
                                },
                                {
                                    "authors": "Dean Koontz",
                                    "title": "Watchers",
                                    "average_rating": "4.16",
                                    "tag_id": "9684",
                                    "id": "799",
                                    "goodreads_book_id": "32423"
                                },
                                {
                                    "authors": "Eric Knight, Marguerite Kirmse",
                                    "title": "Lassie Come-Home",
                                    "average_rating": "4.16",
                                    "tag_id": "9684",
                                    "id": "5069",
                                    "goodreads_book_id": "895886"
                                },
                                {
                                    "authors": "Norman Bridwell",
                                    "title": "Clifford's Halloween",
                                    "average_rating": "4.14",
                                    "tag_id": "9684",
                                    "id": "9151",
                                    "goodreads_book_id": "615233"
                                },
                                {
                                    "authors": "Iris Johansen",
                                    "title": "The Search (Eve Duncan, #3)",
                                    "average_rating": "4.14",
                                    "tag_id": "9684",
                                    "id": "9047",
                                    "goodreads_book_id": "94299"
                                },
                                {
                                    "authors": "Robert Crais",
                                    "title": "Suspect (Scott James & Maggie, #1)",
                                    "average_rating": "4.14",
                                    "tag_id": "9684",
                                    "id": "6933",
                                    "goodreads_book_id": "15755201"
                                },
                                {
                                    "authors": "John Grogan",
                                    "title": "Marley and Me: Life and Love With the World's Worst Dog",
                                    "average_rating": "4.12",
                                    "tag_id": "9684",
                                    "id": "199",
                                    "goodreads_book_id": "12691"
                                },
                                {
                                    "authors": "Jim Kjelgaard, Carl Pfeuffer",
                                    "title": "Big Red (Big Red, #1)",
                                    "average_rating": "4.11",
                                    "tag_id": "9684",
                                    "id": "6495",
                                    "goodreads_book_id": "123170"
                                },
                                {
                                    "authors": "Nora Roberts",
                                    "title": "The Search",
                                    "average_rating": "4.11",
                                    "tag_id": "9684",
                                    "id": "3097",
                                    "goodreads_book_id": "7076706"
                                },
                                {
                                    "authors": "Dodie Smith, Michael Dooling",
                                    "title": "The 101 Dalmatians (The Hundred and One Dalmatians, #1)",
                                    "average_rating": "4.11",
                                    "tag_id": "9684",
                                    "id": "3639",
                                    "goodreads_book_id": "511614"
                                },
                                {
                                    "authors": "Norman Bridwell",
                                    "title": "Clifford the Big Red Dog",
                                    "average_rating": "4.09",
                                    "tag_id": "9684",
                                    "id": "1765",
                                    "goodreads_book_id": "858719"
                                },
                                {
                                    "authors": "Jack London",
                                    "title": "The Call of the Wild/White Fang",
                                    "average_rating": "4.08",
                                    "tag_id": "9684",
                                    "id": "1650",
                                    "goodreads_book_id": "37677"
                                },
                                {
                                    "authors": "Janette Sebring Lowrey, Gustaf Tenggren",
                                    "title": "The Poky Little Puppy (A Little Golden Book)",
                                    "average_rating": "4.08",
                                    "tag_id": "9684",
                                    "id": "1648",
                                    "goodreads_book_id": "505304"
                                },
                                {
                                    "authors": "P.D. Eastman",
                                    "title": "Go, Dog. Go!",
                                    "average_rating": "4.08",
                                    "tag_id": "9684",
                                    "id": "1488",
                                    "goodreads_book_id": "460548"
                                },
                                {
                                    "authors": "Susan  Wilson",
                                    "title": "One Good Dog",
                                    "average_rating": "4.07",
                                    "tag_id": "9684",
                                    "id": "8691",
                                    "goodreads_book_id": "6928893"
                                },
                                {
                                    "authors": "John Steinbeck",
                                    "title": "Travels with Charley: In Search of America",
                                    "average_rating": "4.07",
                                    "tag_id": "9684",
                                    "id": "2004",
                                    "goodreads_book_id": "5306"
                                },
                                {
                                    "authors": "Fred Gipson",
                                    "title": "Old Yeller (Old Yeller, #1)",
                                    "average_rating": "4.06",
                                    "tag_id": "9684",
                                    "id": "1493",
                                    "goodreads_book_id": "130580"
                                },
                                {
                                    "authors": "Dick King-Smith, Maggie Kneen",
                                    "title": "Babe: The Gallant Pig",
                                    "average_rating": "4.05",
                                    "tag_id": "9684",
                                    "id": "9372",
                                    "goodreads_book_id": "646195"
                                },
                                {
                                    "authors": "Eric Hill",
                                    "title": "Where's Spot?",
                                    "average_rating": "4.05",
                                    "tag_id": "9684",
                                    "id": "8774",
                                    "goodreads_book_id": "132609"
                                },
                                {
                                    "authors": "Wilson Rawls",
                                    "title": "Where the Red Fern Grows",
                                    "average_rating": "4.04",
                                    "tag_id": "9684",
                                    "id": "321",
                                    "goodreads_book_id": "10365"
                                },
                                {
                                    "authors": "Larry Levin",
                                    "title": "Oogy: The Dog Only a Family Could Love",
                                    "average_rating": "4.04",
                                    "tag_id": "9684",
                                    "id": "8528",
                                    "goodreads_book_id": "8105569"
                                },
                                {
                                    "authors": "Ann Patchett",
                                    "title": "This is the Story of a Happy Marriage",
                                    "average_rating": "4.03",
                                    "tag_id": "9684",
                                    "id": "6990",
                                    "goodreads_book_id": "17349222"
                                },
                                {
                                    "authors": "Alice Hoffman",
                                    "title": "Faithful",
                                    "average_rating": "4.02",
                                    "tag_id": "9684",
                                    "id": "8282",
                                    "goodreads_book_id": "29430788"
                                },
                                {
                                    "authors": "Sharon Creech",
                                    "title": "Love That Dog (Jack, #1)",
                                    "average_rating": "4.01",
                                    "tag_id": "9684",
                                    "id": "3830",
                                    "goodreads_book_id": "53498"
                                },
                                {
                                    "authors": "Kate DiCamillo, Chris Sheban",
                                    "title": "Because of Winn-Dixie",
                                    "average_rating": "4",
                                    "tag_id": "9684",
                                    "id": "594",
                                    "goodreads_book_id": "357664"
                                },
                                {
                                    "authors": "Dean Koontz",
                                    "title": "Fear Nothing (Moonlight Bay, #1)",
                                    "average_rating": "3.99",
                                    "tag_id": "9684",
                                    "id": "3513",
                                    "goodreads_book_id": "32432"
                                },
                                {
                                    "authors": "Jack London",
                                    "title": "The Call of the Wild, White Fang and Other Stories",
                                    "average_rating": "3.97",
                                    "tag_id": "9684",
                                    "id": "6063",
                                    "goodreads_book_id": "43037"
                                },
                                {
                                    "authors": "Beverly Cleary, Tracy Dockray",
                                    "title": "Henry Huggins (Henry Huggins, #1)",
                                    "average_rating": "3.97",
                                    "tag_id": "9684",
                                    "id": "5491",
                                    "goodreads_book_id": "568476"
                                },
                                {
                                    "authors": "William H. Armstrong, James Barkley",
                                    "title": "Sounder",
                                    "average_rating": "3.96",
                                    "tag_id": "9684",
                                    "id": "4476",
                                    "goodreads_book_id": "598117"
                                },
                                {
                                    "authors": "Dean Koontz",
                                    "title": "One Door Away from Heaven",
                                    "average_rating": "3.95",
                                    "tag_id": "9684",
                                    "id": "6539",
                                    "goodreads_book_id": "15746"
                                },
                                {
                                    "authors": "Grant Morrison, Frank Quitely",
                                    "title": "We3",
                                    "average_rating": "3.95",
                                    "tag_id": "9684",
                                    "id": "5401",
                                    "goodreads_book_id": "22358"
                                },
                                {
                                    "authors": "Jack London",
                                    "title": "White Fang",
                                    "average_rating": "3.94",
                                    "tag_id": "9684",
                                    "id": "935",
                                    "goodreads_book_id": "43035"
                                },
                                {
                                    "authors": "Kathy Reichs, Brendan Reichs",
                                    "title": "Virals (Virals, #1)",
                                    "average_rating": "3.94",
                                    "tag_id": "9684",
                                    "id": "4036",
                                    "goodreads_book_id": "7800188"
                                },
                                {
                                    "authors": "Gordon Korman",
                                    "title": "Swindle (Swindle, #1)",
                                    "average_rating": "3.94",
                                    "tag_id": "9684",
                                    "id": "7188",
                                    "goodreads_book_id": "1653655"
                                },
                                {
                                    "authors": "Jack London",
                                    "title": "To Build a Fire",
                                    "average_rating": "3.92",
                                    "tag_id": "9684",
                                    "id": "8733",
                                    "goodreads_book_id": "194808"
                                },
                                {
                                    "authors": "Gabrielle Zevin",
                                    "title": "Elsewhere",
                                    "average_rating": "3.91",
                                    "tag_id": "9684",
                                    "id": "3160",
                                    "goodreads_book_id": "359410"
                                },
                                {
                                    "authors": "Phyllis Reynolds Naylor",
                                    "title": "Shiloh (Shiloh, #1)",
                                    "average_rating": "3.91",
                                    "tag_id": "9684",
                                    "id": "1742",
                                    "goodreads_book_id": "207153"
                                },
                                {
                                    "authors": "Peter Heller",
                                    "title": "The Dog Stars",
                                    "average_rating": "3.9",
                                    "tag_id": "9684",
                                    "id": "2516",
                                    "goodreads_book_id": "13330761"
                                },
                                {
                                    "authors": "Anne Tyler, Jennifer Bassett",
                                    "title": "The Accidental Tourist",
                                    "average_rating": "3.9",
                                    "tag_id": "9684",
                                    "id": "1202",
                                    "goodreads_book_id": "60792"
                                },
                                {
                                    "authors": "Kate Atkinson",
                                    "title": "Started Early, Took My Dog (Jackson Brodie, #4)",
                                    "average_rating": "3.89",
                                    "tag_id": "9684",
                                    "id": "4854",
                                    "goodreads_book_id": "7307795"
                                },
                                {
                                    "authors": "Robin McKinley",
                                    "title": "Deerskin",
                                    "average_rating": "3.88",
                                    "tag_id": "9684",
                                    "id": "8995",
                                    "goodreads_book_id": "8087"
                                },
                                {
                                    "authors": "Rory Stewart",
                                    "title": "The Places in Between",
                                    "average_rating": "3.88",
                                    "tag_id": "9684",
                                    "id": "7205",
                                    "goodreads_book_id": "95643"
                                },
                                {
                                    "authors": "Mary Kay Andrews",
                                    "title": "The Fixer Upper",
                                    "average_rating": "3.88",
                                    "tag_id": "9684",
                                    "id": "7566",
                                    "goodreads_book_id": "5941079"
                                },
                                {
                                    "authors": "Mary Kay Andrews",
                                    "title": "Save the Date",
                                    "average_rating": "3.87",
                                    "tag_id": "9684",
                                    "id": "8304",
                                    "goodreads_book_id": "18404093"
                                },
                                {
                                    "authors": "Spencer Quinn",
                                    "title": "Dog on It (A Chet and Bernie Mystery #1)",
                                    "average_rating": "3.85",
                                    "tag_id": "9684",
                                    "id": "7609",
                                    "goodreads_book_id": "5600151"
                                },
                                {
                                    "authors": "Jack London",
                                    "title": "The Call of the Wild",
                                    "average_rating": "3.83",
                                    "tag_id": "9684",
                                    "id": "375",
                                    "goodreads_book_id": "1852"
                                },
                                {
                                    "authors": "James Howe, Deborah Howe, Alan Daniel",
                                    "title": "Bunnicula (Bunnicula, #1)",
                                    "average_rating": "3.83",
                                    "tag_id": "9684",
                                    "id": "2415",
                                    "goodreads_book_id": "281235"
                                },
                                {
                                    "authors": "Jesmyn Ward",
                                    "title": "Salvage the Bones",
                                    "average_rating": "3.81",
                                    "tag_id": "9684",
                                    "id": "5177",
                                    "goodreads_book_id": "10846336"
                                },
                                {
                                    "authors": "Jennifer Crusie",
                                    "title": "Anyone But You",
                                    "average_rating": "3.8",
                                    "tag_id": "9684",
                                    "id": "7890",
                                    "goodreads_book_id": "33732"
                                },
                                {
                                    "authors": "Jennifer Crusie",
                                    "title": "Crazy For You",
                                    "average_rating": "3.78",
                                    "tag_id": "9684",
                                    "id": "9186",
                                    "goodreads_book_id": "33726"
                                },
                                {
                                    "authors": "Steven  Rowley",
                                    "title": "Lily and the Octopus",
                                    "average_rating": "3.74",
                                    "tag_id": "9684",
                                    "id": "7154",
                                    "goodreads_book_id": "27276262"
                                },
                                {
                                    "authors": "Dean Koontz",
                                    "title": "The Darkest Evening of the Year",
                                    "average_rating": "3.71",
                                    "tag_id": "9684",
                                    "id": "4789",
                                    "goodreads_book_id": "379316"
                                },
                                {
                                    "authors": "Dean Koontz",
                                    "title": "Tick Tock",
                                    "average_rating": "3.71",
                                    "tag_id": "9684",
                                    "id": "3924",
                                    "goodreads_book_id": "281433"
                                },
                                {
                                    "authors": "Jacqueline Sheehan",
                                    "title": "Lost & Found (Rocky Pelligrino, #1)",
                                    "average_rating": "3.71",
                                    "tag_id": "9684",
                                    "id": "9193",
                                    "goodreads_book_id": "697210"
                                },
                                {
                                    "authors": "Paul Auster",
                                    "title": "Timbuktu",
                                    "average_rating": "3.66",
                                    "tag_id": "9684",
                                    "id": "9905",
                                    "goodreads_book_id": "449"
                                },
                                {
                                    "authors": "Stephen King",
                                    "title": "Cujo",
                                    "average_rating": "3.65",
                                    "tag_id": "9684",
                                    "id": "556",
                                    "goodreads_book_id": "10603"
                                },
                                {
                                    "authors": "David Wroblewski",
                                    "title": "The Story of Edgar Sawtelle",
                                    "average_rating": "3.6",
                                    "tag_id": "9684",
                                    "id": "1316",
                                    "goodreads_book_id": "2731276"
                                },
                                {
                                    "authors": "Carolyn  Parkhurst",
                                    "title": "The Dogs of Babel",
                                    "average_rating": "3.56",
                                    "tag_id": "9684",
                                    "id": "6777",
                                    "goodreads_book_id": "89691"
                                },
                                {
                                    "authors": "Alexandra Horowitz",
                                    "title": "Inside of a Dog: What Dogs See, Smell, and Know",
                                    "average_rating": "3.55",
                                    "tag_id": "9684",
                                    "id": "9957",
                                    "goodreads_book_id": "6332526"
                                }
                            ]
                        },
                        "text/html": [
                            "<table>",
                            "<tr><th>authors</th><th>title</th><th>average_rating</th><th>tag_id</th><th>id</th><th>goodreads_book_id</th></tr>",
                            "<tr><td>W. Bruce Cameron</td><td>A Dog&#39;s Journey (A Dog&#39;s Purpose, #2)</td><td>4.41</td><td>9684</td><td>7403</td><td>13167796</td></tr>",
                            "<tr><td>James Herriot</td><td>All Things Wise and Wonderful</td><td>4.39</td><td>9684</td><td>5658</td><td>42909</td></tr>",
                            "<tr><td>James Herriot</td><td>The Lord God Made Them All</td><td>4.39</td><td>9684</td><td>8053</td><td>38739</td></tr>",
                            "<tr><td>Mo Willems</td><td>The Pigeon Wants a Puppy!</td><td>4.37</td><td>9684</td><td>7753</td><td>1908511</td></tr>",
                            "<tr><td>Teddy Slater, Bill Langley, Ron Dias, Walt Disney Company</td><td>Lady and the Tramp</td><td>4.36</td><td>9684</td><td>3662</td><td>765281</td></tr>",
                            "<tr><td>W. Bruce Cameron</td><td>A Dog&#39;s Purpose (A Dog&#39;s Purpose, #1)</td><td>4.35</td><td>9684</td><td>1471</td><td>7723542</td></tr>",
                            "<tr><td>James Herriot</td><td>All Creatures Great and Small (All Creatures Great and Small, #1-2)</td><td>4.31</td><td>9684</td><td>994</td><td>32085</td></tr>",
                            "<tr><td>James Herriot</td><td>All Things Bright and Beautiful (All Creatures Great and Small)</td><td>4.3</td><td>9684</td><td>1656</td><td>38743</td></tr>",
                            "<tr><td>Lynley Dodd</td><td>Hairy Maclary from Donaldson&#39;s Dairy</td><td>4.28</td><td>9684</td><td>9435</td><td>1153709</td></tr>",
                            "<tr><td>Audrey Wood, Don    Wood</td><td>The Napping House</td><td>4.27</td><td>9684</td><td>2689</td><td>815234</td></tr>",
                            "<tr><td>Judy Schachner</td><td>Skippyjon Jones in Mummy Trouble (Skippyjon Jones, #3)</td><td>4.25</td><td>9684</td><td>9417</td><td>244115</td></tr>",
                            "<tr><td>Judy Schachner</td><td>Skippyjon Jones</td><td>4.25</td><td>9684</td><td>4258</td><td>803171</td></tr>",
                            "<tr><td>Ludwig Bemelmans</td><td>Madeline&#39;s Rescue</td><td>4.24</td><td>9684</td><td>4886</td><td>773606</td></tr>",
                            "<tr><td>Ann M. Martin</td><td>Rain Reign</td><td>4.21</td><td>9684</td><td>9381</td><td>20575434</td></tr>",
                            "<tr><td>Garth Stein</td><td>The Art of Racing in the Rain</td><td>4.19</td><td>9684</td><td>216</td><td>3153910</td></tr>",
                            "<tr><td>Farley Mowat</td><td>Never Cry Wolf</td><td>4.19</td><td>9684</td><td>5833</td><td>72659</td></tr>",
                            "<tr><td>Ann M. Martin</td><td>A Dog&#39;s Life: The Autobiography of a Stray</td><td>4.18</td><td>9684</td><td>8331</td><td>343718</td></tr>",
                            "<tr><td>Ted Kerasote</td><td>Merle&#39;s Door: Lessons from a Freethinking Dog</td><td>4.18</td><td>9684</td><td>5454</td><td>430968</td></tr>",
                            "<tr><td>Allie Brosh</td><td>Hyperbole and a Half: Unfortunate Situations, Flawed Coping Mechanisms, Mayhem, and Other Things That Happened</td><td>4.17</td><td>9684</td><td>721</td><td>17571564</td></tr>",
                            "<tr><td>Gene Zion, Margaret Bloy Graham</td><td>Harry the Dirty Dog</td><td>4.17</td><td>9684</td><td>2582</td><td>857448</td></tr>",
                            "<tr><td>Sheila Burnford</td><td>The Incredible Journey</td><td>4.16</td><td>9684</td><td>2523</td><td>231821</td></tr>",
                            "<tr><td>Peggy Rathmann</td><td>Officer Buckle &amp; Gloria</td><td>4.16</td><td>9684</td><td>4201</td><td>857445</td></tr>",
                            "<tr><td>Dean Koontz</td><td>Watchers</td><td>4.16</td><td>9684</td><td>799</td><td>32423</td></tr>",
                            "<tr><td>Eric Knight, Marguerite Kirmse</td><td>Lassie Come-Home</td><td>4.16</td><td>9684</td><td>5069</td><td>895886</td></tr>",
                            "<tr><td>Norman Bridwell</td><td>Clifford&#39;s Halloween</td><td>4.14</td><td>9684</td><td>9151</td><td>615233</td></tr>",
                            "<tr><td>Iris Johansen</td><td>The Search (Eve Duncan, #3)</td><td>4.14</td><td>9684</td><td>9047</td><td>94299</td></tr>",
                            "<tr><td>Robert Crais</td><td>Suspect (Scott James &amp; Maggie, #1)</td><td>4.14</td><td>9684</td><td>6933</td><td>15755201</td></tr>",
                            "<tr><td>John Grogan</td><td>Marley and Me: Life and Love With the World&#39;s Worst Dog</td><td>4.12</td><td>9684</td><td>199</td><td>12691</td></tr>",
                            "<tr><td>Jim Kjelgaard, Carl Pfeuffer</td><td>Big Red (Big Red, #1)</td><td>4.11</td><td>9684</td><td>6495</td><td>123170</td></tr>",
                            "<tr><td>Nora Roberts</td><td>The Search</td><td>4.11</td><td>9684</td><td>3097</td><td>7076706</td></tr>",
                            "<tr><td>Dodie Smith, Michael Dooling</td><td>The 101 Dalmatians (The Hundred and One Dalmatians, #1)</td><td>4.11</td><td>9684</td><td>3639</td><td>511614</td></tr>",
                            "<tr><td>Norman Bridwell</td><td>Clifford the Big Red Dog</td><td>4.09</td><td>9684</td><td>1765</td><td>858719</td></tr>",
                            "<tr><td>Jack London</td><td>The Call of the Wild/White Fang</td><td>4.08</td><td>9684</td><td>1650</td><td>37677</td></tr>",
                            "<tr><td>Janette Sebring Lowrey, Gustaf Tenggren</td><td>The Poky Little Puppy (A Little Golden Book)</td><td>4.08</td><td>9684</td><td>1648</td><td>505304</td></tr>",
                            "<tr><td>P.D. Eastman</td><td>Go, Dog. Go!</td><td>4.08</td><td>9684</td><td>1488</td><td>460548</td></tr>",
                            "<tr><td>Susan  Wilson</td><td>One Good Dog</td><td>4.07</td><td>9684</td><td>8691</td><td>6928893</td></tr>",
                            "<tr><td>John Steinbeck</td><td>Travels with Charley: In Search of America</td><td>4.07</td><td>9684</td><td>2004</td><td>5306</td></tr>",
                            "<tr><td>Fred Gipson</td><td>Old Yeller (Old Yeller, #1)</td><td>4.06</td><td>9684</td><td>1493</td><td>130580</td></tr>",
                            "<tr><td>Dick King-Smith, Maggie Kneen</td><td>Babe: The Gallant Pig</td><td>4.05</td><td>9684</td><td>9372</td><td>646195</td></tr>",
                            "<tr><td>Eric Hill</td><td>Where&#39;s Spot?</td><td>4.05</td><td>9684</td><td>8774</td><td>132609</td></tr>",
                            "<tr><td>Wilson Rawls</td><td>Where the Red Fern Grows</td><td>4.04</td><td>9684</td><td>321</td><td>10365</td></tr>",
                            "<tr><td>Larry Levin</td><td>Oogy: The Dog Only a Family Could Love</td><td>4.04</td><td>9684</td><td>8528</td><td>8105569</td></tr>",
                            "<tr><td>Ann Patchett</td><td>This is the Story of a Happy Marriage</td><td>4.03</td><td>9684</td><td>6990</td><td>17349222</td></tr>",
                            "<tr><td>Alice Hoffman</td><td>Faithful</td><td>4.02</td><td>9684</td><td>8282</td><td>29430788</td></tr>",
                            "<tr><td>Sharon Creech</td><td>Love That Dog (Jack, #1)</td><td>4.01</td><td>9684</td><td>3830</td><td>53498</td></tr>",
                            "<tr><td>Kate DiCamillo, Chris Sheban</td><td>Because of Winn-Dixie</td><td>4</td><td>9684</td><td>594</td><td>357664</td></tr>",
                            "<tr><td>Dean Koontz</td><td>Fear Nothing (Moonlight Bay, #1)</td><td>3.99</td><td>9684</td><td>3513</td><td>32432</td></tr>",
                            "<tr><td>Jack London</td><td>The Call of the Wild, White Fang and Other Stories</td><td>3.97</td><td>9684</td><td>6063</td><td>43037</td></tr>",
                            "<tr><td>Beverly Cleary, Tracy Dockray</td><td>Henry Huggins (Henry Huggins, #1)</td><td>3.97</td><td>9684</td><td>5491</td><td>568476</td></tr>",
                            "<tr><td>William H. Armstrong, James Barkley</td><td>Sounder</td><td>3.96</td><td>9684</td><td>4476</td><td>598117</td></tr>",
                            "<tr><td>Dean Koontz</td><td>One Door Away from Heaven</td><td>3.95</td><td>9684</td><td>6539</td><td>15746</td></tr>",
                            "<tr><td>Grant Morrison, Frank Quitely</td><td>We3</td><td>3.95</td><td>9684</td><td>5401</td><td>22358</td></tr>",
                            "<tr><td>Jack London</td><td>White Fang</td><td>3.94</td><td>9684</td><td>935</td><td>43035</td></tr>",
                            "<tr><td>Kathy Reichs, Brendan Reichs</td><td>Virals (Virals, #1)</td><td>3.94</td><td>9684</td><td>4036</td><td>7800188</td></tr>",
                            "<tr><td>Gordon Korman</td><td>Swindle (Swindle, #1)</td><td>3.94</td><td>9684</td><td>7188</td><td>1653655</td></tr>",
                            "<tr><td>Jack London</td><td>To Build a Fire</td><td>3.92</td><td>9684</td><td>8733</td><td>194808</td></tr>",
                            "<tr><td>Gabrielle Zevin</td><td>Elsewhere</td><td>3.91</td><td>9684</td><td>3160</td><td>359410</td></tr>",
                            "<tr><td>Phyllis Reynolds Naylor</td><td>Shiloh (Shiloh, #1)</td><td>3.91</td><td>9684</td><td>1742</td><td>207153</td></tr>",
                            "<tr><td>Peter Heller</td><td>The Dog Stars</td><td>3.9</td><td>9684</td><td>2516</td><td>13330761</td></tr>",
                            "<tr><td>Anne Tyler, Jennifer Bassett</td><td>The Accidental Tourist</td><td>3.9</td><td>9684</td><td>1202</td><td>60792</td></tr>",
                            "<tr><td>Kate Atkinson</td><td>Started Early, Took My Dog (Jackson Brodie, #4)</td><td>3.89</td><td>9684</td><td>4854</td><td>7307795</td></tr>",
                            "<tr><td>Robin McKinley</td><td>Deerskin</td><td>3.88</td><td>9684</td><td>8995</td><td>8087</td></tr>",
                            "<tr><td>Rory Stewart</td><td>The Places in Between</td><td>3.88</td><td>9684</td><td>7205</td><td>95643</td></tr>",
                            "<tr><td>Mary Kay Andrews</td><td>The Fixer Upper</td><td>3.88</td><td>9684</td><td>7566</td><td>5941079</td></tr>",
                            "<tr><td>Mary Kay Andrews</td><td>Save the Date</td><td>3.87</td><td>9684</td><td>8304</td><td>18404093</td></tr>",
                            "<tr><td>Spencer Quinn</td><td>Dog on It (A Chet and Bernie Mystery #1)</td><td>3.85</td><td>9684</td><td>7609</td><td>5600151</td></tr>",
                            "<tr><td>Jack London</td><td>The Call of the Wild</td><td>3.83</td><td>9684</td><td>375</td><td>1852</td></tr>",
                            "<tr><td>James Howe, Deborah Howe, Alan Daniel</td><td>Bunnicula (Bunnicula, #1)</td><td>3.83</td><td>9684</td><td>2415</td><td>281235</td></tr>",
                            "<tr><td>Jesmyn Ward</td><td>Salvage the Bones</td><td>3.81</td><td>9684</td><td>5177</td><td>10846336</td></tr>",
                            "<tr><td>Jennifer Crusie</td><td>Anyone But You</td><td>3.8</td><td>9684</td><td>7890</td><td>33732</td></tr>",
                            "<tr><td>Jennifer Crusie</td><td>Crazy For You</td><td>3.78</td><td>9684</td><td>9186</td><td>33726</td></tr>",
                            "<tr><td>Steven  Rowley</td><td>Lily and the Octopus</td><td>3.74</td><td>9684</td><td>7154</td><td>27276262</td></tr>",
                            "<tr><td>Dean Koontz</td><td>The Darkest Evening of the Year</td><td>3.71</td><td>9684</td><td>4789</td><td>379316</td></tr>",
                            "<tr><td>Dean Koontz</td><td>Tick Tock</td><td>3.71</td><td>9684</td><td>3924</td><td>281433</td></tr>",
                            "<tr><td>Jacqueline Sheehan</td><td>Lost &amp; Found (Rocky Pelligrino, #1)</td><td>3.71</td><td>9684</td><td>9193</td><td>697210</td></tr>",
                            "<tr><td>Paul Auster</td><td>Timbuktu</td><td>3.66</td><td>9684</td><td>9905</td><td>449</td></tr>",
                            "<tr><td>Stephen King</td><td>Cujo</td><td>3.65</td><td>9684</td><td>556</td><td>10603</td></tr>",
                            "<tr><td>David Wroblewski</td><td>The Story of Edgar Sawtelle</td><td>3.6</td><td>9684</td><td>1316</td><td>2731276</td></tr>",
                            "<tr><td>Carolyn  Parkhurst</td><td>The Dogs of Babel</td><td>3.56</td><td>9684</td><td>6777</td><td>89691</td></tr>",
                            "<tr><td>Alexandra Horowitz</td><td>Inside of a Dog: What Dogs See, Smell, and Know</td><td>3.55</td><td>9684</td><td>9957</td><td>6332526</td></tr>",
                            "</table>"
                        ]
                    }
                }
            ],
            "execution_count": 51
        },
        {
            "cell_type": "markdown",
            "source": [
                "### **Record your thoughts about why you wrote the query the way you did.**\n",
                "\n",
                "**I chose to search by the highest returned tag\\_id containing female authors to search the books table for books by female authors.**"
            ],
            "metadata": {
                "azdata_cell_guid": "1e19a72c-1bca-446b-a0c7-a8efbc35dcf1"
            },
            "attachments": {}
        },
        {
            "cell_type": "markdown",
            "source": [
                "# Part 2: Choose Another Month\n",
                "\n",
                "Choose another month and plan at least 2 events / promotions and answer the following questions.\n",
                "\n",
                "Which month did you choose?  \n",
                "\n",
                "What 2 events / promotions are you highlighting?\n",
                "\n",
                "> 1. Dr. Seuss Week\n",
                "\n",
                "> 2. National Dog Day"
            ],
            "metadata": {
                "azdata_cell_guid": "3eaf376d-9de3-4553-a9d0-9caf74ee3d6a"
            },
            "attachments": {}
        },
        {
            "cell_type": "markdown",
            "source": [
                "# Part 3: Summarize your Work\n",
                "\n",
                "For each event write at least one query that joins any two tables in the BooksDB to support your choice and record you thoughts as to why you used the paticlular query. At least one of your queries needs to include a HAVING clause."
            ],
            "metadata": {
                "azdata_cell_guid": "1ba1363a-4f02-4962-a95a-93b80c5926b1"
            },
            "attachments": {}
        },
        {
            "cell_type": "code",
            "source": [
                "-- Event 1 Query"
            ],
            "metadata": {
                "azdata_cell_guid": "f50d32ce-4cb2-4af2-acb1-607777a76cf8",
                "language": "sql"
            },
            "outputs": [],
            "execution_count": null
        },
        {
            "cell_type": "code",
            "source": [
                ""
            ],
            "metadata": {
                "azdata_cell_guid": "5606f7f2-c46b-42d3-ac64-7ae21c3394f8",
                "language": "sql"
            },
            "outputs": [],
            "execution_count": null
        },
        {
            "cell_type": "markdown",
            "source": [
                "### **Summary of event 1:**\n",
                "\n",
                "Double Click to edit."
            ],
            "metadata": {
                "azdata_cell_guid": "3bc72d4c-077b-42d3-9528-9aff8e7b6cf3"
            },
            "attachments": {}
        },
        {
            "cell_type": "code",
            "source": [
                "-- Event 2 Query"
            ],
            "metadata": {
                "azdata_cell_guid": "dca0a98f-065f-4b0e-9d93-fcb01cad668c",
                "language": "sql"
            },
            "outputs": [],
            "execution_count": null
        },
        {
            "cell_type": "code",
            "source": [
                ""
            ],
            "metadata": {
                "azdata_cell_guid": "3aaae3a8-eff7-4b37-8970-2d913a67239b",
                "language": "sql"
            },
            "outputs": [],
            "execution_count": null
        },
        {
            "cell_type": "markdown",
            "source": [
                "### **Summary of event 2:**\n",
                "\n",
                "Double Click to edit."
            ],
            "metadata": {
                "azdata_cell_guid": "99d518dc-cd8b-42d6-9a9d-708771c9aa99"
            },
            "attachments": {}
        }
    ]
}