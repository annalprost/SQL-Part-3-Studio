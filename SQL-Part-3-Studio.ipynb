{
    "metadata": {
        "kernelspec": {
            "name": "SQL",
            "display_name": "SQL",
            "language": "sql"
        },
        "language_info": {
            "name": "sql",
            "version": ""
        },
        "extensions": {
            "azuredatastudio": {
                "version": 1,
                "views": []
            }
        }
    },
    "nbformat_minor": 2,
    "nbformat": 4,
    "cells": [
        {
            "cell_type": "markdown",
            "source": [
                "# SQL Part 3 Studio\n",
                "\n",
                "### Let's practice your SQL quering skills!  For each question, work along in the notebook adding your query and answering the questions. \n",
                "\n",
                "### **DataSet**\n",
                "\n",
                "### <span style=\"font-size: 14px; font-family: -apple-system, BlinkMacSystemFont, sans-serif;\">We will be using the Goodbooks-10k dataset from the exercises in the prep work.&nbsp; Feel free reference your previous notebooks.</span>\n",
                "\n",
                "- The dataset can be found here: [goodbooks-10k](https://www.kaggle.com/zygmunt/goodbooks-10k)\n",
                "- You can access the **BooksDB** in the Launchcode server.\n",
                "\n",
                "### **Business Issue**\n",
                "\n",
                "You are an employee at a small independet bookstore and you have been tasked to increase sales.  You decide to use the BooksDB to find books and themes to highlight in fun promotions throughout each month / season.  We will be starting with March and then you will have a chance to explore another month of your choosing.  We want to come up with a list of events/ promotions to run each month.  If you are looking for ideas to include in your promotions:\n",
                "\n",
                "- [https://www.calendarr.com/united-states/calendar-2022/](https://www.calendarr.com/united-states/calendar-2022/)\n",
                "- [https://www.holidayinsights.com/moreholidays/](https://www.holidayinsights.com/moreholidays/)\n",
                "    - Click on a month and it will take you to a more detailed page"
            ],
            "metadata": {
                "azdata_cell_guid": "b9034d8a-b631-48bf-a895-1012a6ffa784"
            },
            "attachments": {}
        },
        {
            "cell_type": "markdown",
            "source": [
                "## Part 1:  March - Women's History Month, Dr Seuss Day(3/2), National Pie Day3/14, St Patrick's Day (3/17), Season - Spring"
            ],
            "metadata": {
                "azdata_cell_guid": "6e55eb1c-4a14-4076-90d2-95ed17a6309f"
            },
            "attachments": {}
        },
        {
            "cell_type": "markdown",
            "source": [
                "### **Event 1:** Women's History Month\n",
                "\n",
                "Goal: Highlight Popular Womans Authors based on ratings from the Good Reads DB.\n",
                "\n",
                "### **Write a query that returns tag\\_id, the number of times each tag\\_id is used and the tag\\_name.**  \n",
                "\n",
                "### Use the GROUP BY and HAVING clause to narrow your focus.\n",
                "\n",
                "Try multiple keywords, ie woman vs female (female ended up giving better results)"
            ],
            "metadata": {
                "azdata_cell_guid": "d220c097-e9cf-4edd-9abe-312d071217b7"
            },
            "attachments": {}
        },
        {
            "cell_type": "code",
            "source": [
                "-- Solution\n",
                "SELECT TOP(100) bt.tag_id, count, tag_name\n",
                "FROM BooksDB.dbo.book_tags AS bt FULL JOIN BooksDB.dbo.tags AS b\n",
                "ON b.tag_id = bt.tag_id\n",
                "GROUP BY count, tag_name, bt.tag_id\n",
                "HAVING tag_name LIKE '%Female%'\n",
                "ORDER BY count DESC\n",
                ""
            ],
            "metadata": {
                "azdata_cell_guid": "e31b9d26-0386-44c7-828e-85f4f06f3ee6",
                "language": "sql"
            },
            "outputs": [
                {
                    "output_type": "display_data",
                    "data": {
                        "text/html": "(100 rows affected)"
                    },
                    "metadata": {}
                },
                {
                    "output_type": "display_data",
                    "data": {
                        "text/html": "Total execution time: 00:00:00.180"
                    },
                    "metadata": {}
                },
                {
                    "output_type": "execute_result",
                    "metadata": {},
                    "execution_count": 29,
                    "data": {
                        "application/vnd.dataresource+json": {
                            "schema": {
                                "fields": [
                                    {
                                        "name": "tag_id"
                                    },
                                    {
                                        "name": "count"
                                    },
                                    {
                                        "name": "tag_name"
                                    }
                                ]
                            },
                            "data": [
                                {
                                    "tag_id": "11644",
                                    "count": "214",
                                    "tag_name": "female-authors"
                                },
                                {
                                    "tag_id": "11643",
                                    "count": "198",
                                    "tag_name": "female-author"
                                },
                                {
                                    "tag_id": "11643",
                                    "count": "194",
                                    "tag_name": "female-author"
                                },
                                {
                                    "tag_id": "11644",
                                    "count": "170",
                                    "tag_name": "female-authors"
                                },
                                {
                                    "tag_id": "11644",
                                    "count": "158",
                                    "tag_name": "female-authors"
                                },
                                {
                                    "tag_id": "11643",
                                    "count": "150",
                                    "tag_name": "female-author"
                                },
                                {
                                    "tag_id": "11644",
                                    "count": "146",
                                    "tag_name": "female-authors"
                                },
                                {
                                    "tag_id": "11643",
                                    "count": "140",
                                    "tag_name": "female-author"
                                },
                                {
                                    "tag_id": "11643",
                                    "count": "137",
                                    "tag_name": "female-author"
                                },
                                {
                                    "tag_id": "11644",
                                    "count": "128",
                                    "tag_name": "female-authors"
                                },
                                {
                                    "tag_id": "11644",
                                    "count": "120",
                                    "tag_name": "female-authors"
                                },
                                {
                                    "tag_id": "11643",
                                    "count": "108",
                                    "tag_name": "female-author"
                                },
                                {
                                    "tag_id": "11644",
                                    "count": "106",
                                    "tag_name": "female-authors"
                                },
                                {
                                    "tag_id": "11643",
                                    "count": "104",
                                    "tag_name": "female-author"
                                },
                                {
                                    "tag_id": "11643",
                                    "count": "103",
                                    "tag_name": "female-author"
                                },
                                {
                                    "tag_id": "11644",
                                    "count": "102",
                                    "tag_name": "female-authors"
                                },
                                {
                                    "tag_id": "11643",
                                    "count": "93",
                                    "tag_name": "female-author"
                                },
                                {
                                    "tag_id": "11644",
                                    "count": "93",
                                    "tag_name": "female-authors"
                                },
                                {
                                    "tag_id": "11643",
                                    "count": "91",
                                    "tag_name": "female-author"
                                },
                                {
                                    "tag_id": "11644",
                                    "count": "91",
                                    "tag_name": "female-authors"
                                },
                                {
                                    "tag_id": "11644",
                                    "count": "90",
                                    "tag_name": "female-authors"
                                },
                                {
                                    "tag_id": "11644",
                                    "count": "89",
                                    "tag_name": "female-authors"
                                },
                                {
                                    "tag_id": "11643",
                                    "count": "87",
                                    "tag_name": "female-author"
                                },
                                {
                                    "tag_id": "11644",
                                    "count": "84",
                                    "tag_name": "female-authors"
                                },
                                {
                                    "tag_id": "11643",
                                    "count": "83",
                                    "tag_name": "female-author"
                                },
                                {
                                    "tag_id": "11644",
                                    "count": "83",
                                    "tag_name": "female-authors"
                                },
                                {
                                    "tag_id": "11643",
                                    "count": "82",
                                    "tag_name": "female-author"
                                },
                                {
                                    "tag_id": "11644",
                                    "count": "82",
                                    "tag_name": "female-authors"
                                },
                                {
                                    "tag_id": "11644",
                                    "count": "81",
                                    "tag_name": "female-authors"
                                },
                                {
                                    "tag_id": "11643",
                                    "count": "79",
                                    "tag_name": "female-author"
                                },
                                {
                                    "tag_id": "11643",
                                    "count": "77",
                                    "tag_name": "female-author"
                                },
                                {
                                    "tag_id": "11643",
                                    "count": "76",
                                    "tag_name": "female-author"
                                },
                                {
                                    "tag_id": "11644",
                                    "count": "76",
                                    "tag_name": "female-authors"
                                },
                                {
                                    "tag_id": "11643",
                                    "count": "75",
                                    "tag_name": "female-author"
                                },
                                {
                                    "tag_id": "11644",
                                    "count": "75",
                                    "tag_name": "female-authors"
                                },
                                {
                                    "tag_id": "11644",
                                    "count": "72",
                                    "tag_name": "female-authors"
                                },
                                {
                                    "tag_id": "11644",
                                    "count": "71",
                                    "tag_name": "female-authors"
                                },
                                {
                                    "tag_id": "11643",
                                    "count": "70",
                                    "tag_name": "female-author"
                                },
                                {
                                    "tag_id": "11643",
                                    "count": "68",
                                    "tag_name": "female-author"
                                },
                                {
                                    "tag_id": "11643",
                                    "count": "67",
                                    "tag_name": "female-author"
                                },
                                {
                                    "tag_id": "11644",
                                    "count": "67",
                                    "tag_name": "female-authors"
                                },
                                {
                                    "tag_id": "11643",
                                    "count": "66",
                                    "tag_name": "female-author"
                                },
                                {
                                    "tag_id": "11644",
                                    "count": "66",
                                    "tag_name": "female-authors"
                                },
                                {
                                    "tag_id": "11643",
                                    "count": "65",
                                    "tag_name": "female-author"
                                },
                                {
                                    "tag_id": "11643",
                                    "count": "64",
                                    "tag_name": "female-author"
                                },
                                {
                                    "tag_id": "11644",
                                    "count": "64",
                                    "tag_name": "female-authors"
                                },
                                {
                                    "tag_id": "11643",
                                    "count": "63",
                                    "tag_name": "female-author"
                                },
                                {
                                    "tag_id": "11644",
                                    "count": "63",
                                    "tag_name": "female-authors"
                                },
                                {
                                    "tag_id": "11644",
                                    "count": "62",
                                    "tag_name": "female-authors"
                                },
                                {
                                    "tag_id": "11658",
                                    "count": "62",
                                    "tag_name": "female-protagonist"
                                },
                                {
                                    "tag_id": "11643",
                                    "count": "61",
                                    "tag_name": "female-author"
                                },
                                {
                                    "tag_id": "11643",
                                    "count": "60",
                                    "tag_name": "female-author"
                                },
                                {
                                    "tag_id": "11644",
                                    "count": "60",
                                    "tag_name": "female-authors"
                                },
                                {
                                    "tag_id": "11643",
                                    "count": "59",
                                    "tag_name": "female-author"
                                },
                                {
                                    "tag_id": "11644",
                                    "count": "59",
                                    "tag_name": "female-authors"
                                },
                                {
                                    "tag_id": "11643",
                                    "count": "58",
                                    "tag_name": "female-author"
                                },
                                {
                                    "tag_id": "11644",
                                    "count": "58",
                                    "tag_name": "female-authors"
                                },
                                {
                                    "tag_id": "11643",
                                    "count": "57",
                                    "tag_name": "female-author"
                                },
                                {
                                    "tag_id": "11644",
                                    "count": "57",
                                    "tag_name": "female-authors"
                                },
                                {
                                    "tag_id": "11644",
                                    "count": "56",
                                    "tag_name": "female-authors"
                                },
                                {
                                    "tag_id": "11643",
                                    "count": "55",
                                    "tag_name": "female-author"
                                },
                                {
                                    "tag_id": "11643",
                                    "count": "54",
                                    "tag_name": "female-author"
                                },
                                {
                                    "tag_id": "11644",
                                    "count": "54",
                                    "tag_name": "female-authors"
                                },
                                {
                                    "tag_id": "11658",
                                    "count": "54",
                                    "tag_name": "female-protagonist"
                                },
                                {
                                    "tag_id": "11643",
                                    "count": "53",
                                    "tag_name": "female-author"
                                },
                                {
                                    "tag_id": "11644",
                                    "count": "53",
                                    "tag_name": "female-authors"
                                },
                                {
                                    "tag_id": "11644",
                                    "count": "52",
                                    "tag_name": "female-authors"
                                },
                                {
                                    "tag_id": "11643",
                                    "count": "51",
                                    "tag_name": "female-author"
                                },
                                {
                                    "tag_id": "11644",
                                    "count": "51",
                                    "tag_name": "female-authors"
                                },
                                {
                                    "tag_id": "11643",
                                    "count": "50",
                                    "tag_name": "female-author"
                                },
                                {
                                    "tag_id": "11644",
                                    "count": "50",
                                    "tag_name": "female-authors"
                                },
                                {
                                    "tag_id": "11658",
                                    "count": "50",
                                    "tag_name": "female-protagonist"
                                },
                                {
                                    "tag_id": "11643",
                                    "count": "49",
                                    "tag_name": "female-author"
                                },
                                {
                                    "tag_id": "11644",
                                    "count": "49",
                                    "tag_name": "female-authors"
                                },
                                {
                                    "tag_id": "11643",
                                    "count": "48",
                                    "tag_name": "female-author"
                                },
                                {
                                    "tag_id": "11644",
                                    "count": "48",
                                    "tag_name": "female-authors"
                                },
                                {
                                    "tag_id": "11658",
                                    "count": "48",
                                    "tag_name": "female-protagonist"
                                },
                                {
                                    "tag_id": "11643",
                                    "count": "47",
                                    "tag_name": "female-author"
                                },
                                {
                                    "tag_id": "11644",
                                    "count": "47",
                                    "tag_name": "female-authors"
                                },
                                {
                                    "tag_id": "11658",
                                    "count": "47",
                                    "tag_name": "female-protagonist"
                                },
                                {
                                    "tag_id": "11643",
                                    "count": "46",
                                    "tag_name": "female-author"
                                },
                                {
                                    "tag_id": "11658",
                                    "count": "46",
                                    "tag_name": "female-protagonist"
                                },
                                {
                                    "tag_id": "11643",
                                    "count": "45",
                                    "tag_name": "female-author"
                                },
                                {
                                    "tag_id": "11643",
                                    "count": "44",
                                    "tag_name": "female-author"
                                },
                                {
                                    "tag_id": "11644",
                                    "count": "44",
                                    "tag_name": "female-authors"
                                },
                                {
                                    "tag_id": "11643",
                                    "count": "43",
                                    "tag_name": "female-author"
                                },
                                {
                                    "tag_id": "11644",
                                    "count": "43",
                                    "tag_name": "female-authors"
                                },
                                {
                                    "tag_id": "11643",
                                    "count": "42",
                                    "tag_name": "female-author"
                                },
                                {
                                    "tag_id": "11644",
                                    "count": "42",
                                    "tag_name": "female-authors"
                                },
                                {
                                    "tag_id": "11658",
                                    "count": "42",
                                    "tag_name": "female-protagonist"
                                },
                                {
                                    "tag_id": "11643",
                                    "count": "41",
                                    "tag_name": "female-author"
                                },
                                {
                                    "tag_id": "11644",
                                    "count": "41",
                                    "tag_name": "female-authors"
                                },
                                {
                                    "tag_id": "11643",
                                    "count": "40",
                                    "tag_name": "female-author"
                                },
                                {
                                    "tag_id": "11644",
                                    "count": "40",
                                    "tag_name": "female-authors"
                                },
                                {
                                    "tag_id": "11643",
                                    "count": "39",
                                    "tag_name": "female-author"
                                },
                                {
                                    "tag_id": "11644",
                                    "count": "39",
                                    "tag_name": "female-authors"
                                },
                                {
                                    "tag_id": "11643",
                                    "count": "38",
                                    "tag_name": "female-author"
                                },
                                {
                                    "tag_id": "11644",
                                    "count": "38",
                                    "tag_name": "female-authors"
                                },
                                {
                                    "tag_id": "11658",
                                    "count": "38",
                                    "tag_name": "female-protagonist"
                                },
                                {
                                    "tag_id": "11643",
                                    "count": "37",
                                    "tag_name": "female-author"
                                }
                            ]
                        },
                        "text/html": [
                            "<table>",
                            "<tr><th>tag_id</th><th>count</th><th>tag_name</th></tr>",
                            "<tr><td>11644</td><td>214</td><td>female-authors</td></tr>",
                            "<tr><td>11643</td><td>198</td><td>female-author</td></tr>",
                            "<tr><td>11643</td><td>194</td><td>female-author</td></tr>",
                            "<tr><td>11644</td><td>170</td><td>female-authors</td></tr>",
                            "<tr><td>11644</td><td>158</td><td>female-authors</td></tr>",
                            "<tr><td>11643</td><td>150</td><td>female-author</td></tr>",
                            "<tr><td>11644</td><td>146</td><td>female-authors</td></tr>",
                            "<tr><td>11643</td><td>140</td><td>female-author</td></tr>",
                            "<tr><td>11643</td><td>137</td><td>female-author</td></tr>",
                            "<tr><td>11644</td><td>128</td><td>female-authors</td></tr>",
                            "<tr><td>11644</td><td>120</td><td>female-authors</td></tr>",
                            "<tr><td>11643</td><td>108</td><td>female-author</td></tr>",
                            "<tr><td>11644</td><td>106</td><td>female-authors</td></tr>",
                            "<tr><td>11643</td><td>104</td><td>female-author</td></tr>",
                            "<tr><td>11643</td><td>103</td><td>female-author</td></tr>",
                            "<tr><td>11644</td><td>102</td><td>female-authors</td></tr>",
                            "<tr><td>11643</td><td>93</td><td>female-author</td></tr>",
                            "<tr><td>11644</td><td>93</td><td>female-authors</td></tr>",
                            "<tr><td>11643</td><td>91</td><td>female-author</td></tr>",
                            "<tr><td>11644</td><td>91</td><td>female-authors</td></tr>",
                            "<tr><td>11644</td><td>90</td><td>female-authors</td></tr>",
                            "<tr><td>11644</td><td>89</td><td>female-authors</td></tr>",
                            "<tr><td>11643</td><td>87</td><td>female-author</td></tr>",
                            "<tr><td>11644</td><td>84</td><td>female-authors</td></tr>",
                            "<tr><td>11643</td><td>83</td><td>female-author</td></tr>",
                            "<tr><td>11644</td><td>83</td><td>female-authors</td></tr>",
                            "<tr><td>11643</td><td>82</td><td>female-author</td></tr>",
                            "<tr><td>11644</td><td>82</td><td>female-authors</td></tr>",
                            "<tr><td>11644</td><td>81</td><td>female-authors</td></tr>",
                            "<tr><td>11643</td><td>79</td><td>female-author</td></tr>",
                            "<tr><td>11643</td><td>77</td><td>female-author</td></tr>",
                            "<tr><td>11643</td><td>76</td><td>female-author</td></tr>",
                            "<tr><td>11644</td><td>76</td><td>female-authors</td></tr>",
                            "<tr><td>11643</td><td>75</td><td>female-author</td></tr>",
                            "<tr><td>11644</td><td>75</td><td>female-authors</td></tr>",
                            "<tr><td>11644</td><td>72</td><td>female-authors</td></tr>",
                            "<tr><td>11644</td><td>71</td><td>female-authors</td></tr>",
                            "<tr><td>11643</td><td>70</td><td>female-author</td></tr>",
                            "<tr><td>11643</td><td>68</td><td>female-author</td></tr>",
                            "<tr><td>11643</td><td>67</td><td>female-author</td></tr>",
                            "<tr><td>11644</td><td>67</td><td>female-authors</td></tr>",
                            "<tr><td>11643</td><td>66</td><td>female-author</td></tr>",
                            "<tr><td>11644</td><td>66</td><td>female-authors</td></tr>",
                            "<tr><td>11643</td><td>65</td><td>female-author</td></tr>",
                            "<tr><td>11643</td><td>64</td><td>female-author</td></tr>",
                            "<tr><td>11644</td><td>64</td><td>female-authors</td></tr>",
                            "<tr><td>11643</td><td>63</td><td>female-author</td></tr>",
                            "<tr><td>11644</td><td>63</td><td>female-authors</td></tr>",
                            "<tr><td>11644</td><td>62</td><td>female-authors</td></tr>",
                            "<tr><td>11658</td><td>62</td><td>female-protagonist</td></tr>",
                            "<tr><td>11643</td><td>61</td><td>female-author</td></tr>",
                            "<tr><td>11643</td><td>60</td><td>female-author</td></tr>",
                            "<tr><td>11644</td><td>60</td><td>female-authors</td></tr>",
                            "<tr><td>11643</td><td>59</td><td>female-author</td></tr>",
                            "<tr><td>11644</td><td>59</td><td>female-authors</td></tr>",
                            "<tr><td>11643</td><td>58</td><td>female-author</td></tr>",
                            "<tr><td>11644</td><td>58</td><td>female-authors</td></tr>",
                            "<tr><td>11643</td><td>57</td><td>female-author</td></tr>",
                            "<tr><td>11644</td><td>57</td><td>female-authors</td></tr>",
                            "<tr><td>11644</td><td>56</td><td>female-authors</td></tr>",
                            "<tr><td>11643</td><td>55</td><td>female-author</td></tr>",
                            "<tr><td>11643</td><td>54</td><td>female-author</td></tr>",
                            "<tr><td>11644</td><td>54</td><td>female-authors</td></tr>",
                            "<tr><td>11658</td><td>54</td><td>female-protagonist</td></tr>",
                            "<tr><td>11643</td><td>53</td><td>female-author</td></tr>",
                            "<tr><td>11644</td><td>53</td><td>female-authors</td></tr>",
                            "<tr><td>11644</td><td>52</td><td>female-authors</td></tr>",
                            "<tr><td>11643</td><td>51</td><td>female-author</td></tr>",
                            "<tr><td>11644</td><td>51</td><td>female-authors</td></tr>",
                            "<tr><td>11643</td><td>50</td><td>female-author</td></tr>",
                            "<tr><td>11644</td><td>50</td><td>female-authors</td></tr>",
                            "<tr><td>11658</td><td>50</td><td>female-protagonist</td></tr>",
                            "<tr><td>11643</td><td>49</td><td>female-author</td></tr>",
                            "<tr><td>11644</td><td>49</td><td>female-authors</td></tr>",
                            "<tr><td>11643</td><td>48</td><td>female-author</td></tr>",
                            "<tr><td>11644</td><td>48</td><td>female-authors</td></tr>",
                            "<tr><td>11658</td><td>48</td><td>female-protagonist</td></tr>",
                            "<tr><td>11643</td><td>47</td><td>female-author</td></tr>",
                            "<tr><td>11644</td><td>47</td><td>female-authors</td></tr>",
                            "<tr><td>11658</td><td>47</td><td>female-protagonist</td></tr>",
                            "<tr><td>11643</td><td>46</td><td>female-author</td></tr>",
                            "<tr><td>11658</td><td>46</td><td>female-protagonist</td></tr>",
                            "<tr><td>11643</td><td>45</td><td>female-author</td></tr>",
                            "<tr><td>11643</td><td>44</td><td>female-author</td></tr>",
                            "<tr><td>11644</td><td>44</td><td>female-authors</td></tr>",
                            "<tr><td>11643</td><td>43</td><td>female-author</td></tr>",
                            "<tr><td>11644</td><td>43</td><td>female-authors</td></tr>",
                            "<tr><td>11643</td><td>42</td><td>female-author</td></tr>",
                            "<tr><td>11644</td><td>42</td><td>female-authors</td></tr>",
                            "<tr><td>11658</td><td>42</td><td>female-protagonist</td></tr>",
                            "<tr><td>11643</td><td>41</td><td>female-author</td></tr>",
                            "<tr><td>11644</td><td>41</td><td>female-authors</td></tr>",
                            "<tr><td>11643</td><td>40</td><td>female-author</td></tr>",
                            "<tr><td>11644</td><td>40</td><td>female-authors</td></tr>",
                            "<tr><td>11643</td><td>39</td><td>female-author</td></tr>",
                            "<tr><td>11644</td><td>39</td><td>female-authors</td></tr>",
                            "<tr><td>11643</td><td>38</td><td>female-author</td></tr>",
                            "<tr><td>11644</td><td>38</td><td>female-authors</td></tr>",
                            "<tr><td>11658</td><td>38</td><td>female-protagonist</td></tr>",
                            "<tr><td>11643</td><td>37</td><td>female-author</td></tr>",
                            "</table>"
                        ]
                    }
                }
            ],
            "execution_count": 29
        },
        {
            "cell_type": "markdown",
            "source": [
                "### **Which keyword(s) and tag(s) would you like to explore more?**\n",
                "\n",
                "I would like to explore female-authors."
            ],
            "metadata": {
                "azdata_cell_guid": "e9acd8b5-a62b-4ac0-bd07-19915b379ba6"
            },
            "attachments": {}
        },
        {
            "cell_type": "markdown",
            "source": [
                "### **Write a query to return authors, titles, ratings and** **selected tag(s)\\_id.**"
            ],
            "metadata": {
                "azdata_cell_guid": "59b84464-c0bc-4dac-9e02-0c803765b063"
            },
            "attachments": {}
        },
        {
            "cell_type": "code",
            "source": [
                "-- Solution\n",
                "SELECT authors, title, average_rating, tag_id, id, goodreads_book_id\n",
                "FROM BooksDB.dbo.books AS b FULL JOIN BooksDB.dbo.book_tags AS bt \n",
                "ON b.book_id = bt.goodreads_book_id\n",
                "WHERE tag_id = 11644\n",
                "ORDER BY average_rating DESC"
            ],
            "metadata": {
                "azdata_cell_guid": "51ffeaaf-6dde-4906-95f3-eb8757babf27",
                "tags": [],
                "language": "sql"
            },
            "outputs": [
                {
                    "output_type": "display_data",
                    "data": {
                        "text/html": "(721 rows affected)"
                    },
                    "metadata": {}
                },
                {
                    "output_type": "display_data",
                    "data": {
                        "text/html": "Total execution time: 00:00:00.219"
                    },
                    "metadata": {}
                },
                {
                    "output_type": "execute_result",
                    "metadata": {},
                    "execution_count": 36,
                    "data": {
                        "application/vnd.dataresource+json": {
                            "schema": {
                                "fields": [
                                    {
                                        "name": "authors"
                                    },
                                    {
                                        "name": "title"
                                    },
                                    {
                                        "name": "average_rating"
                                    },
                                    {
                                        "name": "tag_id"
                                    },
                                    {
                                        "name": "id"
                                    },
                                    {
                                        "name": "goodreads_book_id"
                                    }
                                ]
                            },
                            "data": [
                                {
                                    "authors": "Jane Austen",
                                    "title": "The Complete Novels",
                                    "average_rating": "4.55",
                                    "tag_id": "11644",
                                    "id": "4653",
                                    "goodreads_book_id": "14905"
                                },
                                {
                                    "authors": "Robin Hobb",
                                    "title": "Fool's Quest  (The Fitz and The Fool, #2)",
                                    "average_rating": "4.53",
                                    "tag_id": "11644",
                                    "id": "6228",
                                    "goodreads_book_id": "23157777"
                                },
                                {
                                    "authors": "C.S. Pacat",
                                    "title": "Kings Rising (Captive Prince, #3)",
                                    "average_rating": "4.5",
                                    "tag_id": "11644",
                                    "id": "8641",
                                    "goodreads_book_id": "17158532"
                                },
                                {
                                    "authors": "Hiromu Arakawa, Akira Watanabe",
                                    "title": "Fullmetal Alchemist, Vol. 1 (Fullmetal Alchemist, #1)",
                                    "average_rating": "4.49",
                                    "tag_id": "11644",
                                    "id": "893",
                                    "goodreads_book_id": "870"
                                },
                                {
                                    "authors": "Chimamanda Ngozi Adichie",
                                    "title": "We Should All Be Feminists",
                                    "average_rating": "4.47",
                                    "tag_id": "11644",
                                    "id": "2613",
                                    "goodreads_book_id": "22738563"
                                },
                                {
                                    "authors": "Flannery O'Connor",
                                    "title": "The Complete Stories",
                                    "average_rating": "4.44",
                                    "tag_id": "11644",
                                    "id": "3472",
                                    "goodreads_book_id": "284996"
                                },
                                {
                                    "authors": "Barbara Demick",
                                    "title": "Nothing to Envy: Ordinary Lives in North Korea",
                                    "average_rating": "4.42",
                                    "tag_id": "11644",
                                    "id": "2441",
                                    "goodreads_book_id": "6178648"
                                },
                                {
                                    "authors": "Yaa Gyasi",
                                    "title": "Homegoing",
                                    "average_rating": "4.41",
                                    "tag_id": "11644",
                                    "id": "2840",
                                    "goodreads_book_id": "27071490"
                                },
                                {
                                    "authors": "Elena Ferrante, Ann Goldstein",
                                    "title": "The Story of the Lost Child (The Neapolitan Novels, #4)",
                                    "average_rating": "4.39",
                                    "tag_id": "11644",
                                    "id": "3722",
                                    "goodreads_book_id": "25242224"
                                },
                                {
                                    "authors": "Bernadette Rossetti-Shustak, Caroline Jayne Church",
                                    "title": "I Love You Through and Through",
                                    "average_rating": "4.39",
                                    "tag_id": "11644",
                                    "id": "8648",
                                    "goodreads_book_id": "232958"
                                },
                                {
                                    "authors": "Elena Ferrante, Ann Goldstein",
                                    "title": "The Story of a New Name (The Neapolitan Novels #2)",
                                    "average_rating": "4.37",
                                    "tag_id": "11644",
                                    "id": "2535",
                                    "goodreads_book_id": "17465515"
                                },
                                {
                                    "authors": "Marjane Satrapi, Mattias Ripa, Blake Ferris, Anjali Singh",
                                    "title": "The Complete Persepolis",
                                    "average_rating": "4.36",
                                    "tag_id": "11644",
                                    "id": "1464",
                                    "goodreads_book_id": "991197"
                                },
                                {
                                    "authors": "Susan Abulhawa",
                                    "title": "Mornings in Jenin",
                                    "average_rating": "4.35",
                                    "tag_id": "11644",
                                    "id": "7762",
                                    "goodreads_book_id": "6692041"
                                },
                                {
                                    "authors": "Julia Child, Simone Beck, Louisette Bertholle",
                                    "title": "Mastering the Art of French Cooking",
                                    "average_rating": "4.33",
                                    "tag_id": "11644",
                                    "id": "2459",
                                    "goodreads_book_id": "129650"
                                },
                                {
                                    "authors": "Tamora Pierce",
                                    "title": "Wild Magic (Immortals, #1)",
                                    "average_rating": "4.32",
                                    "tag_id": "11644",
                                    "id": "2623",
                                    "goodreads_book_id": "13836"
                                },
                                {
                                    "authors": "Enid Blyton",
                                    "title": "The Folk of the Faraway Tree (The Faraway Tree, #3)",
                                    "average_rating": "4.32",
                                    "tag_id": "11644",
                                    "id": "9071",
                                    "goodreads_book_id": "473623"
                                },
                                {
                                    "authors": "Julia Child",
                                    "title": "The Way to Cook",
                                    "average_rating": "4.31",
                                    "tag_id": "11644",
                                    "id": "7860",
                                    "goodreads_book_id": "132688"
                                },
                                {
                                    "authors": "N.K. Jemisin",
                                    "title": "The Fifth Season (The Broken Earth, #1)",
                                    "average_rating": "4.31",
                                    "tag_id": "11644",
                                    "id": "4961",
                                    "goodreads_book_id": "19161852"
                                },
                                {
                                    "authors": "Barbara Shook Hazen, Robert Lewis May, Richard Scarry",
                                    "title": "Rudolph the Red-Nosed Reindeer",
                                    "average_rating": "4.3",
                                    "tag_id": "11644",
                                    "id": "3539",
                                    "goodreads_book_id": "1215290"
                                },
                                {
                                    "authors": "Claudia Rankine",
                                    "title": "Citizen: An American Lyric",
                                    "average_rating": "4.3",
                                    "tag_id": "11644",
                                    "id": "7537",
                                    "goodreads_book_id": "20613761"
                                },
                                {
                                    "authors": "Diana Wynne Jones",
                                    "title": "Howl's Moving Castle (Howl's Moving Castle, #1)",
                                    "average_rating": "4.3",
                                    "tag_id": "11644",
                                    "id": "817",
                                    "goodreads_book_id": "6294"
                                },
                                {
                                    "authors": "Elena Ferrante, Ann Goldstein",
                                    "title": "Those Who Leave and Those Who Stay (The Neapolitan Novels #3)",
                                    "average_rating": "4.29",
                                    "tag_id": "11644",
                                    "id": "3294",
                                    "goodreads_book_id": "23156040"
                                },
                                {
                                    "authors": "Cheryl Strayed",
                                    "title": "Tiny Beautiful Things: Advice on Love and Life from Dear Sugar",
                                    "average_rating": "4.29",
                                    "tag_id": "11644",
                                    "id": "2590",
                                    "goodreads_book_id": "13152194"
                                },
                                {
                                    "authors": "Sylvia Plath, Karen V. Kukil",
                                    "title": "The Unabridged Journals of Sylvia Plath",
                                    "average_rating": "4.29",
                                    "tag_id": "11644",
                                    "id": "7592",
                                    "goodreads_book_id": "11623"
                                },
                                {
                                    "authors": "Lois McMaster Bujold",
                                    "title": "The Warrior's Apprentice (Vorkosigan Saga, #2)",
                                    "average_rating": "4.29",
                                    "tag_id": "11644",
                                    "id": "7113",
                                    "goodreads_book_id": "61906"
                                },
                                {
                                    "authors": "Loung Ung",
                                    "title": "First They Killed My Father: A Daughter of Cambodia Remembers",
                                    "average_rating": "4.29",
                                    "tag_id": "11644",
                                    "id": "5794",
                                    "goodreads_book_id": "4373"
                                },
                                {
                                    "authors": "Enid Blyton",
                                    "title": "The Magic Faraway Tree (The Faraway Tree, #2)",
                                    "average_rating": "4.29",
                                    "tag_id": "11644",
                                    "id": "3836",
                                    "goodreads_book_id": "74998"
                                },
                                {
                                    "authors": "Michelle Magorian",
                                    "title": "Good Night, Mr. Tom",
                                    "average_rating": "4.28",
                                    "tag_id": "11644",
                                    "id": "3557",
                                    "goodreads_book_id": "161099"
                                },
                                {
                                    "authors": "Tamora Pierce",
                                    "title": "Lioness Rampant (Song of the Lioness, #4)",
                                    "average_rating": "4.28",
                                    "tag_id": "11644",
                                    "id": "1863",
                                    "goodreads_book_id": "13837"
                                },
                                {
                                    "authors": "Tamora Pierce",
                                    "title": "Trickster's Queen (Daughter of the Lioness, #2)",
                                    "average_rating": "4.28",
                                    "tag_id": "11644",
                                    "id": "2959",
                                    "goodreads_book_id": "153780"
                                },
                                {
                                    "authors": "Enid Blyton",
                                    "title": "The Faraway Tree Stories (The Faraway Tree #1-3)",
                                    "average_rating": "4.28",
                                    "tag_id": "11644",
                                    "id": "7767",
                                    "goodreads_book_id": "17490"
                                },
                                {
                                    "authors": "Anne Sexton, Maxine Kumin",
                                    "title": "The Complete Poems",
                                    "average_rating": "4.28",
                                    "tag_id": "11644",
                                    "id": "8168",
                                    "goodreads_book_id": "47730"
                                },
                                {
                                    "authors": "Rupi Kaur",
                                    "title": "Milk and Honey",
                                    "average_rating": "4.27",
                                    "tag_id": "11644",
                                    "id": "2672",
                                    "goodreads_book_id": "23513349"
                                },
                                {
                                    "authors": "Tamora Pierce",
                                    "title": "Trickster's Choice (Daughter of the Lioness, #1)",
                                    "average_rating": "4.27",
                                    "tag_id": "11644",
                                    "id": "3244",
                                    "goodreads_book_id": "24431"
                                },
                                {
                                    "authors": "Marjane Satrapi",
                                    "title": "Persepolis, Volume 1",
                                    "average_rating": "4.27",
                                    "tag_id": "11644",
                                    "id": "2386",
                                    "goodreads_book_id": "9522"
                                },
                                {
                                    "authors": "Madeline Miller",
                                    "title": "The Song of Achilles",
                                    "average_rating": "4.27",
                                    "tag_id": "11644",
                                    "id": "2334",
                                    "goodreads_book_id": "11250317"
                                },
                                {
                                    "authors": "Tamora Pierce",
                                    "title": "Alanna: The First Adventure (Song of the Lioness, #1)",
                                    "average_rating": "4.27",
                                    "tag_id": "11644",
                                    "id": "1480",
                                    "goodreads_book_id": "13831"
                                },
                                {
                                    "authors": "Hanya Yanagihara",
                                    "title": "A Little Life",
                                    "average_rating": "4.27",
                                    "tag_id": "11644",
                                    "id": "1198",
                                    "goodreads_book_id": "22822858"
                                },
                                {
                                    "authors": "Tamora Pierce",
                                    "title": "Squire (Protector of the Small, #3)",
                                    "average_rating": "4.27",
                                    "tag_id": "11644",
                                    "id": "3663",
                                    "goodreads_book_id": "153795"
                                },
                                {
                                    "authors": "Ntozake Shange",
                                    "title": "for colored girls who have considered suicide/when the rainbow is enuf",
                                    "average_rating": "4.27",
                                    "tag_id": "11644",
                                    "id": "3872",
                                    "goodreads_book_id": "58098"
                                },
                                {
                                    "authors": "Kate Beaton",
                                    "title": "Hark! A Vagrant",
                                    "average_rating": "4.27",
                                    "tag_id": "11644",
                                    "id": "5384",
                                    "goodreads_book_id": "10767466"
                                },
                                {
                                    "authors": "Flannery O'Connor, Robert Fitzgerald",
                                    "title": "Everything That Rises Must Converge: Stories",
                                    "average_rating": "4.27",
                                    "tag_id": "11644",
                                    "id": "6863",
                                    "goodreads_book_id": "218659"
                                },
                                {
                                    "authors": "Tamora Pierce",
                                    "title": "Bloodhound (Beka Cooper, #2)",
                                    "average_rating": "4.26",
                                    "tag_id": "11644",
                                    "id": "4775",
                                    "goodreads_book_id": "153779"
                                },
                                {
                                    "authors": "Fannie Flagg",
                                    "title": "Fried Green Tomatoes at the Whistle Stop Cafe",
                                    "average_rating": "4.26",
                                    "tag_id": "11644",
                                    "id": "409",
                                    "goodreads_book_id": "9375"
                                },
                                {
                                    "authors": "Chimamanda Ngozi Adichie",
                                    "title": "Americanah",
                                    "average_rating": "4.26",
                                    "tag_id": "11644",
                                    "id": "673",
                                    "goodreads_book_id": "15796700"
                                },
                                {
                                    "authors": "Hilary Mantel",
                                    "title": "Bring Up the Bodies (Thomas Cromwell, #2)",
                                    "average_rating": "4.26",
                                    "tag_id": "11644",
                                    "id": "2018",
                                    "goodreads_book_id": "13507212"
                                },
                                {
                                    "authors": "Joanna Cole, Bruce Degen",
                                    "title": "Inside the Human Body (The Magic School Bus, #3)",
                                    "average_rating": "4.26",
                                    "tag_id": "11644",
                                    "id": "3279",
                                    "goodreads_book_id": "722864"
                                },
                                {
                                    "authors": "Tamora Pierce",
                                    "title": "In the Hand of the Goddess (Song of the Lioness, #2)",
                                    "average_rating": "4.25",
                                    "tag_id": "11644",
                                    "id": "1857",
                                    "goodreads_book_id": "13835"
                                },
                                {
                                    "authors": "Margaret George",
                                    "title": "The Autobiography of Henry VIII: With Notes by His Fool, Will Somers",
                                    "average_rating": "4.25",
                                    "tag_id": "11644",
                                    "id": "4368",
                                    "goodreads_book_id": "10108"
                                },
                                {
                                    "authors": "Ursula K. Le Guin",
                                    "title": "The Earthsea Trilogy",
                                    "average_rating": "4.25",
                                    "tag_id": "11644",
                                    "id": "7728",
                                    "goodreads_book_id": "1170158"
                                },
                                {
                                    "authors": "Betty MacDonald, Alexandra Boiger",
                                    "title": "Hello, Mrs. Piggle-Wiggle (Mrs. Piggle Wiggle, #4)",
                                    "average_rating": "4.24",
                                    "tag_id": "11644",
                                    "id": "9661",
                                    "goodreads_book_id": "25053"
                                },
                                {
                                    "authors": "Flannery O'Connor",
                                    "title": "A Good Man is Hard to Find and Other Stories",
                                    "average_rating": "4.24",
                                    "tag_id": "11644",
                                    "id": "3808",
                                    "goodreads_book_id": "48464"
                                },
                                {
                                    "authors": "Joan Didion",
                                    "title": "Slouching Towards Bethlehem",
                                    "average_rating": "4.24",
                                    "tag_id": "11644",
                                    "id": "5146",
                                    "goodreads_book_id": "424"
                                },
                                {
                                    "authors": "Tamora Pierce",
                                    "title": "Mastiff (Beka Cooper, #3)",
                                    "average_rating": "4.24",
                                    "tag_id": "11644",
                                    "id": "7598",
                                    "goodreads_book_id": "2964700"
                                },
                                {
                                    "authors": "Enid Blyton",
                                    "title": "The Enchanted Wood (The Faraway Tree, #1)",
                                    "average_rating": "4.24",
                                    "tag_id": "11644",
                                    "id": "6102",
                                    "goodreads_book_id": "17491"
                                },
                                {
                                    "authors": "Betty  Smith",
                                    "title": "A Tree Grows in Brooklyn",
                                    "average_rating": "4.24",
                                    "tag_id": "11644",
                                    "id": "265",
                                    "goodreads_book_id": "14891"
                                },
                                {
                                    "authors": "Jung Chang",
                                    "title": "Wild Swans: Three Daughters of China",
                                    "average_rating": "4.23",
                                    "tag_id": "11644",
                                    "id": "1487",
                                    "goodreads_book_id": "1848"
                                },
                                {
                                    "authors": "Marjane Satrapi, Mattias Ripa",
                                    "title": "Persepolis: The Story of a Childhood (Persepolis, #1)",
                                    "average_rating": "4.23",
                                    "tag_id": "11644",
                                    "id": "828",
                                    "goodreads_book_id": "9516"
                                },
                                {
                                    "authors": "Marjane Satrapi, Anjali Singh",
                                    "title": "Persepolis 2: The Story of a Return (Persepolis, #2)",
                                    "average_rating": "4.23",
                                    "tag_id": "11644",
                                    "id": "2451",
                                    "goodreads_book_id": "9517"
                                },
                                {
                                    "authors": "Malorie Blackman",
                                    "title": "Noughts & Crosses (Noughts & Crosses, #1)",
                                    "average_rating": "4.23",
                                    "tag_id": "11644",
                                    "id": "3418",
                                    "goodreads_book_id": "714902"
                                },
                                {
                                    "authors": "Sylvia Plath",
                                    "title": "Ariel",
                                    "average_rating": "4.23",
                                    "tag_id": "11644",
                                    "id": "2921",
                                    "goodreads_book_id": "395090"
                                },
                                {
                                    "authors": "Tachibana Higuchi, 樋口 橘",
                                    "title": "Gakuen Alice, Vol. 01 (Gakuen Alice, #1)",
                                    "average_rating": "4.23",
                                    "tag_id": "11644",
                                    "id": "6452",
                                    "goodreads_book_id": "1753714"
                                },
                                {
                                    "authors": "Lindy West",
                                    "title": "Shrill: Notes from a Loud Woman",
                                    "average_rating": "4.23",
                                    "tag_id": "11644",
                                    "id": "6491",
                                    "goodreads_book_id": "29340182"
                                },
                                {
                                    "authors": "Mary  Stewart",
                                    "title": "The Hollow Hills (Arthurian Saga, #2)",
                                    "average_rating": "4.23",
                                    "tag_id": "11644",
                                    "id": "7513",
                                    "goodreads_book_id": "116343"
                                },
                                {
                                    "authors": "Judith Kerr",
                                    "title": "The Tiger Who Came to Tea",
                                    "average_rating": "4.23",
                                    "tag_id": "11644",
                                    "id": "9846",
                                    "goodreads_book_id": "1099097"
                                },
                                {
                                    "authors": "Octavia E. Butler",
                                    "title": "Wild Seed (Patternmaster, #1)",
                                    "average_rating": "4.22",
                                    "tag_id": "11644",
                                    "id": "9768",
                                    "goodreads_book_id": "52318"
                                },
                                {
                                    "authors": "Elyn R. Saks",
                                    "title": "The Center Cannot Hold: My Journey Through Madness",
                                    "average_rating": "4.22",
                                    "tag_id": "11644",
                                    "id": "9808",
                                    "goodreads_book_id": "1098486"
                                },
                                {
                                    "authors": "Irin Carmon, Shana Knizhnik",
                                    "title": "Notorious RBG: The Life and Times of Ruth Bader Ginsburg",
                                    "average_rating": "4.22",
                                    "tag_id": "11644",
                                    "id": "6905",
                                    "goodreads_book_id": "25422234"
                                },
                                {
                                    "authors": "Wendy Mass",
                                    "title": "A Mango-Shaped Space",
                                    "average_rating": "4.22",
                                    "tag_id": "11644",
                                    "id": "5913",
                                    "goodreads_book_id": "171020"
                                },
                                {
                                    "authors": "Anne McCaffrey",
                                    "title": "The Dragonriders of Pern (Dragonriders of Pern, #1-3)",
                                    "average_rating": "4.22",
                                    "tag_id": "11644",
                                    "id": "5415",
                                    "goodreads_book_id": "61942"
                                },
                                {
                                    "authors": "Naomi Klein",
                                    "title": "The Shock Doctrine: The Rise of Disaster Capitalism",
                                    "average_rating": "4.22",
                                    "tag_id": "11644",
                                    "id": "3586",
                                    "goodreads_book_id": "1237300"
                                },
                                {
                                    "authors": "Colleen McCullough",
                                    "title": "The Thorn Birds",
                                    "average_rating": "4.22",
                                    "tag_id": "11644",
                                    "id": "311",
                                    "goodreads_book_id": "3412"
                                },
                                {
                                    "authors": "Emily Dickinson, Thomas H. Johnson",
                                    "title": "The Complete Poems of Emily Dickinson",
                                    "average_rating": "4.21",
                                    "tag_id": "11644",
                                    "id": "1492",
                                    "goodreads_book_id": "112204"
                                },
                                {
                                    "authors": "L.M. Montgomery",
                                    "title": "Anne of Avonlea (Anne of Green Gables, #2)",
                                    "average_rating": "4.21",
                                    "tag_id": "11644",
                                    "id": "1210",
                                    "goodreads_book_id": "77390"
                                },
                                {
                                    "authors": "Robin Hobb",
                                    "title": "The Mad Ship (Liveship Traders, #2)",
                                    "average_rating": "4.21",
                                    "tag_id": "11644",
                                    "id": "3278",
                                    "goodreads_book_id": "45101"
                                },
                                {
                                    "authors": "Robin Hobb",
                                    "title": "Ship of Destiny (Liveship Traders, #3)",
                                    "average_rating": "4.21",
                                    "tag_id": "11644",
                                    "id": "3298",
                                    "goodreads_book_id": "45102"
                                },
                                {
                                    "authors": "Tamora Pierce",
                                    "title": "Wolf-Speaker (Immortals, #2)",
                                    "average_rating": "4.21",
                                    "tag_id": "11644",
                                    "id": "3648",
                                    "goodreads_book_id": "24094"
                                },
                                {
                                    "authors": "Ai Yazawa",
                                    "title": "Nana, Vol. 1 (Nana, #1)",
                                    "average_rating": "4.21",
                                    "tag_id": "11644",
                                    "id": "3651",
                                    "goodreads_book_id": "98413"
                                },
                                {
                                    "authors": "Marian Potter",
                                    "title": "The Little Red Caboose (Little Golden Book)",
                                    "average_rating": "4.21",
                                    "tag_id": "11644",
                                    "id": "7330",
                                    "goodreads_book_id": "894072"
                                },
                                {
                                    "authors": "Octavia E. Butler",
                                    "title": "Parable of the Talents (Earthseed, #2)",
                                    "average_rating": "4.21",
                                    "tag_id": "11644",
                                    "id": "8662",
                                    "goodreads_book_id": "60932"
                                },
                                {
                                    "authors": "Audre Lorde",
                                    "title": "Zami: A New Spelling of My Name",
                                    "average_rating": "4.2",
                                    "tag_id": "11644",
                                    "id": "9049",
                                    "goodreads_book_id": "395220"
                                },
                                {
                                    "authors": "Margaret Edson",
                                    "title": "Wit",
                                    "average_rating": "4.2",
                                    "tag_id": "11644",
                                    "id": "9707",
                                    "goodreads_book_id": "171201"
                                },
                                {
                                    "authors": "Ann Leckie",
                                    "title": "Ancillary Mercy (Imperial Radch #3)",
                                    "average_rating": "4.2",
                                    "tag_id": "11644",
                                    "id": "5901",
                                    "goodreads_book_id": "23533039"
                                },
                                {
                                    "authors": "Patricia C. Wrede, Peter de Sève",
                                    "title": "Calling on Dragons (Enchanted Forest Chronicles, #3)",
                                    "average_rating": "4.2",
                                    "tag_id": "11644",
                                    "id": "4396",
                                    "goodreads_book_id": "169879"
                                },
                                {
                                    "authors": "Ann Rule",
                                    "title": "Small Sacrifices: A True Story of Passion and Murder",
                                    "average_rating": "4.2",
                                    "tag_id": "11644",
                                    "id": "5518",
                                    "goodreads_book_id": "231585"
                                },
                                {
                                    "authors": "Sylvia Plath, Ted Hughes",
                                    "title": "The Collected Poems",
                                    "average_rating": "4.2",
                                    "tag_id": "11644",
                                    "id": "3381",
                                    "goodreads_book_id": "31426"
                                },
                                {
                                    "authors": "Noelle Stevenson",
                                    "title": "Nimona",
                                    "average_rating": "4.2",
                                    "tag_id": "11644",
                                    "id": "2743",
                                    "goodreads_book_id": "19351043"
                                },
                                {
                                    "authors": "Tamora Pierce",
                                    "title": "The Woman Who Rides Like a Man (Song of the Lioness, #3)",
                                    "average_rating": "4.2",
                                    "tag_id": "11644",
                                    "id": "2608",
                                    "goodreads_book_id": "13830"
                                },
                                {
                                    "authors": "Agatha Christie",
                                    "title": "The Murder of Roger Ackroyd (Hercule Poirot, #4)",
                                    "average_rating": "4.2",
                                    "tag_id": "11644",
                                    "id": "1410",
                                    "goodreads_book_id": "16328"
                                },
                                {
                                    "authors": "Daphne du Maurier, Sally Beauman",
                                    "title": "Rebecca",
                                    "average_rating": "4.2",
                                    "tag_id": "11644",
                                    "id": "270",
                                    "goodreads_book_id": "12873"
                                },
                                {
                                    "authors": "Isabel Allende, Magda Bogin",
                                    "title": "The House of the Spirits",
                                    "average_rating": "4.2",
                                    "tag_id": "11644",
                                    "id": "669",
                                    "goodreads_book_id": "9328"
                                },
                                {
                                    "authors": "Maya Angelou",
                                    "title": "I Know Why the Caged Bird Sings",
                                    "average_rating": "4.19",
                                    "tag_id": "11644",
                                    "id": "317",
                                    "goodreads_book_id": "13214"
                                },
                                {
                                    "authors": "Maya Angelou",
                                    "title": "The Heart of a Woman",
                                    "average_rating": "4.19",
                                    "tag_id": "11644",
                                    "id": "6057",
                                    "goodreads_book_id": "5160"
                                },
                                {
                                    "authors": "Beatrix Potter",
                                    "title": "The Tale of Mrs. Tiggy-Winkle",
                                    "average_rating": "4.19",
                                    "tag_id": "11644",
                                    "id": "9194",
                                    "goodreads_book_id": "543505"
                                },
                                {
                                    "authors": "Esther Earl, Lori Earl, Wayne Earl, John Green",
                                    "title": "This Star Won't Go Out: The Life and Words of Esther Grace Earl",
                                    "average_rating": "4.19",
                                    "tag_id": "11644",
                                    "id": "8139",
                                    "goodreads_book_id": "17675031"
                                },
                                {
                                    "authors": "Becky  Chambers",
                                    "title": "The Long Way to a Small, Angry Planet (Wayfarers, #1)",
                                    "average_rating": "4.18",
                                    "tag_id": "11644",
                                    "id": "5753",
                                    "goodreads_book_id": "22733729"
                                },
                                {
                                    "authors": "Chimamanda Ngozi Adichie",
                                    "title": "The Thing Around Your Neck",
                                    "average_rating": "4.18",
                                    "tag_id": "11644",
                                    "id": "7559",
                                    "goodreads_book_id": "5587960"
                                },
                                {
                                    "authors": "Beryl Markham",
                                    "title": "West with the Night",
                                    "average_rating": "4.18",
                                    "tag_id": "11644",
                                    "id": "4691",
                                    "goodreads_book_id": "1624"
                                },
                                {
                                    "authors": "Octavia E. Butler",
                                    "title": "Kindred",
                                    "average_rating": "4.18",
                                    "tag_id": "11644",
                                    "id": "2555",
                                    "goodreads_book_id": "60931"
                                },
                                {
                                    "authors": "Ursula K. Le Guin",
                                    "title": "The Dispossessed",
                                    "average_rating": "4.18",
                                    "tag_id": "11644",
                                    "id": "2210",
                                    "goodreads_book_id": "13651"
                                },
                                {
                                    "authors": "Brené Brown",
                                    "title": "The Gifts of Imperfection: Let Go of Who You Think You're Supposed to Be and Embrace Who You Are",
                                    "average_rating": "4.17",
                                    "tag_id": "11644",
                                    "id": "2036",
                                    "goodreads_book_id": "7015403"
                                },
                                {
                                    "authors": "Mary Doria Russell",
                                    "title": "The Sparrow (The Sparrow, #1)",
                                    "average_rating": "4.17",
                                    "tag_id": "11644",
                                    "id": "2632",
                                    "goodreads_book_id": "334176"
                                },
                                {
                                    "authors": "Alice Walker",
                                    "title": "The Color Purple",
                                    "average_rating": "4.17",
                                    "tag_id": "11644",
                                    "id": "198",
                                    "goodreads_book_id": "11486"
                                },
                                {
                                    "authors": "Allie Brosh",
                                    "title": "Hyperbole and a Half: Unfortunate Situations, Flawed Coping Mechanisms, Mayhem, and Other Things That Happened",
                                    "average_rating": "4.17",
                                    "tag_id": "11644",
                                    "id": "721",
                                    "goodreads_book_id": "17571564"
                                },
                                {
                                    "authors": "Natalie Goldberg",
                                    "title": "Writing Down the Bones: Freeing the Writer Within",
                                    "average_rating": "4.17",
                                    "tag_id": "11644",
                                    "id": "5496",
                                    "goodreads_book_id": "44905"
                                },
                                {
                                    "authors": "Margaret George",
                                    "title": "The Memoirs of Cleopatra",
                                    "average_rating": "4.17",
                                    "tag_id": "11644",
                                    "id": "7138",
                                    "goodreads_book_id": "10115"
                                },
                                {
                                    "authors": "Christiane F., Kai Hermann, Horst Rieck",
                                    "title": "Wir Kinder vom Bahnhof Zoo",
                                    "average_rating": "4.16",
                                    "tag_id": "11644",
                                    "id": "6856",
                                    "goodreads_book_id": "1337448"
                                },
                                {
                                    "authors": "Tamora Pierce",
                                    "title": "Shatterglass (The Circle Opens, #4)",
                                    "average_rating": "4.16",
                                    "tag_id": "11644",
                                    "id": "7505",
                                    "goodreads_book_id": "153782"
                                },
                                {
                                    "authors": "Emily Dickinson",
                                    "title": "Selected Poems",
                                    "average_rating": "4.16",
                                    "tag_id": "11644",
                                    "id": "6455",
                                    "goodreads_book_id": "112200"
                                },
                                {
                                    "authors": "Lois McMaster Bujold",
                                    "title": "The Curse of Chalion (World of the Five Gods, #1)",
                                    "average_rating": "4.16",
                                    "tag_id": "11644",
                                    "id": "5429",
                                    "goodreads_book_id": "61886"
                                },
                                {
                                    "authors": "L.M. Montgomery",
                                    "title": "Rilla of Ingleside (Anne of Green Gables, #8)",
                                    "average_rating": "4.16",
                                    "tag_id": "11644",
                                    "id": "4698",
                                    "goodreads_book_id": "433533"
                                },
                                {
                                    "authors": "Agatha Christie",
                                    "title": "Murder on the Orient Express (Hercule Poirot, #10)",
                                    "average_rating": "4.16",
                                    "tag_id": "11644",
                                    "id": "672",
                                    "goodreads_book_id": "16304"
                                },
                                {
                                    "authors": "Elisabeth Kübler-Ross",
                                    "title": "On Death and Dying",
                                    "average_rating": "4.15",
                                    "tag_id": "11644",
                                    "id": "5163",
                                    "goodreads_book_id": "781844"
                                },
                                {
                                    "authors": "Tamora Pierce",
                                    "title": "The Will of the Empress (Circle Reforged, #1)",
                                    "average_rating": "4.15",
                                    "tag_id": "11644",
                                    "id": "8332",
                                    "goodreads_book_id": "153783"
                                },
                                {
                                    "authors": "Iris Rainer Dart",
                                    "title": "Beaches",
                                    "average_rating": "4.14",
                                    "tag_id": "11644",
                                    "id": "8009",
                                    "goodreads_book_id": "1219954"
                                },
                                {
                                    "authors": "Mary Westmacott, Agatha Christie",
                                    "title": "Absent In The Spring",
                                    "average_rating": "4.14",
                                    "tag_id": "11644",
                                    "id": "8057",
                                    "goodreads_book_id": "140345"
                                },
                                {
                                    "authors": "Madeleine L'Engle",
                                    "title": "A Ring of Endless Light (Austin Family, #4)",
                                    "average_rating": "4.14",
                                    "tag_id": "11644",
                                    "id": "8099",
                                    "goodreads_book_id": "14358"
                                },
                                {
                                    "authors": "Octavia E. Butler",
                                    "title": "Parable of the Sower (Earthseed, #1)",
                                    "average_rating": "4.14",
                                    "tag_id": "11644",
                                    "id": "4047",
                                    "goodreads_book_id": "52397"
                                },
                                {
                                    "authors": "Felicia Day, Joss Whedon",
                                    "title": "You're Never Weird on the Internet (Almost)",
                                    "average_rating": "4.14",
                                    "tag_id": "11644",
                                    "id": "3822",
                                    "goodreads_book_id": "23705512"
                                },
                                {
                                    "authors": "Tamora Pierce",
                                    "title": "Briar's Book (Circle of Magic, #4)",
                                    "average_rating": "4.14",
                                    "tag_id": "11644",
                                    "id": "6374",
                                    "goodreads_book_id": "58893"
                                },
                                {
                                    "authors": "G. Willow Wilson, Adrian Alphona, Jacob Wyatt",
                                    "title": "Ms. Marvel, Vol. 2: Generation Why",
                                    "average_rating": "4.14",
                                    "tag_id": "11644",
                                    "id": "6468",
                                    "goodreads_book_id": "23017947"
                                },
                                {
                                    "authors": "Virginia Woolf",
                                    "title": "The Waves",
                                    "average_rating": "4.14",
                                    "tag_id": "11644",
                                    "id": "6326",
                                    "goodreads_book_id": "46114"
                                },
                                {
                                    "authors": "Sarah Andersen",
                                    "title": "Adulthood Is a Myth (Sarah's Scribbles, #1)",
                                    "average_rating": "4.14",
                                    "tag_id": "11644",
                                    "id": "7550",
                                    "goodreads_book_id": "25855506"
                                },
                                {
                                    "authors": "Patti Smith",
                                    "title": "Just Kids",
                                    "average_rating": "4.14",
                                    "tag_id": "11644",
                                    "id": "775",
                                    "goodreads_book_id": "341879"
                                },
                                {
                                    "authors": "Irma S. Rombauer, Marion Rombauer Becker, Ethan Becker",
                                    "title": "The Joy of Cooking",
                                    "average_rating": "4.14",
                                    "tag_id": "11644",
                                    "id": "913",
                                    "goodreads_book_id": "327847"
                                },
                                {
                                    "authors": "Tess Gerritsen",
                                    "title": "The Apprentice (Rizzoli & Isles, #2)",
                                    "average_rating": "4.14",
                                    "tag_id": "11644",
                                    "id": "3158",
                                    "goodreads_book_id": "715834"
                                },
                                {
                                    "authors": "Anne Fadiman",
                                    "title": "The Spirit Catches You and You Fall Down: A Hmong Child, Her American Doctors, and the Collision of Two Cultures",
                                    "average_rating": "4.14",
                                    "tag_id": "11644",
                                    "id": "1888",
                                    "goodreads_book_id": "12609"
                                },
                                {
                                    "authors": "Julia Alvarez",
                                    "title": "In the Time of the Butterflies",
                                    "average_rating": "4.13",
                                    "tag_id": "11644",
                                    "id": "2367",
                                    "goodreads_book_id": "11206"
                                },
                                {
                                    "authors": "Ann Rule",
                                    "title": "The Stranger Beside Me: Ted Bundy The Shocking Inside Story",
                                    "average_rating": "4.13",
                                    "tag_id": "11644",
                                    "id": "2592",
                                    "goodreads_book_id": "15654"
                                },
                                {
                                    "authors": "G. Willow Wilson, Adrian Alphona",
                                    "title": "Ms. Marvel, Vol. 1: No Normal",
                                    "average_rating": "4.13",
                                    "tag_id": "11644",
                                    "id": "3436",
                                    "goodreads_book_id": "20898019"
                                },
                                {
                                    "authors": "Elizabeth Gaskell, Alan Shelston",
                                    "title": "North and South",
                                    "average_rating": "4.13",
                                    "tag_id": "11644",
                                    "id": "1114",
                                    "goodreads_book_id": "156538"
                                },
                                {
                                    "authors": "Madeleine L'Engle",
                                    "title": "A Swiftly Tilting Planet (A Wrinkle in Time Quintet, #3)",
                                    "average_rating": "4.13",
                                    "tag_id": "11644",
                                    "id": "1530",
                                    "goodreads_book_id": "77276"
                                },
                                {
                                    "authors": "Jane Austen, James Kinsley, Deidre Shauna Lynch",
                                    "title": "Persuasion",
                                    "average_rating": "4.13",
                                    "tag_id": "11644",
                                    "id": "230",
                                    "goodreads_book_id": "2156"
                                },
                                {
                                    "authors": "Lois McMaster Bujold",
                                    "title": "Shards of Honour  (Vorkosigan Saga, #1)",
                                    "average_rating": "4.13",
                                    "tag_id": "11644",
                                    "id": "6340",
                                    "goodreads_book_id": "61903"
                                },
                                {
                                    "authors": "Gloria Naylor",
                                    "title": "The Women of Brewster Place",
                                    "average_rating": "4.13",
                                    "tag_id": "11644",
                                    "id": "6467",
                                    "goodreads_book_id": "765811"
                                },
                                {
                                    "authors": "Virginia M. Axline",
                                    "title": "Dibs in Search of Self",
                                    "average_rating": "4.13",
                                    "tag_id": "11644",
                                    "id": "9456",
                                    "goodreads_book_id": "73860"
                                },
                                {
                                    "authors": "S.A.R.K.",
                                    "title": "Succulent Wild Woman",
                                    "average_rating": "4.12",
                                    "tag_id": "11644",
                                    "id": "9482",
                                    "goodreads_book_id": "164836"
                                },
                                {
                                    "authors": "Lorrie Moore",
                                    "title": "Birds of America",
                                    "average_rating": "4.12",
                                    "tag_id": "11644",
                                    "id": "7771",
                                    "goodreads_book_id": "19631"
                                },
                                {
                                    "authors": "Tamora Pierce",
                                    "title": "Street Magic (The Circle Opens, #2)",
                                    "average_rating": "4.12",
                                    "tag_id": "11644",
                                    "id": "7895",
                                    "goodreads_book_id": "24093"
                                },
                                {
                                    "authors": "Jeanette Winterson",
                                    "title": "The Passion",
                                    "average_rating": "4.12",
                                    "tag_id": "11644",
                                    "id": "6808",
                                    "goodreads_book_id": "15047"
                                },
                                {
                                    "authors": "Mary  Stewart",
                                    "title": "The Crystal Cave (Arthurian Saga, #1)",
                                    "average_rating": "4.12",
                                    "tag_id": "11644",
                                    "id": "3818",
                                    "goodreads_book_id": "82192"
                                },
                                {
                                    "authors": "Jhumpa Lahiri",
                                    "title": "Interpreter of Maladies",
                                    "average_rating": "4.12",
                                    "tag_id": "11644",
                                    "id": "662",
                                    "goodreads_book_id": "5439"
                                },
                                {
                                    "authors": "Marion Zimmer Bradley",
                                    "title": "The Mists of Avalon (Avalon, #1)",
                                    "average_rating": "4.12",
                                    "tag_id": "11644",
                                    "id": "620",
                                    "goodreads_book_id": "402045"
                                },
                                {
                                    "authors": "Alison Bechdel",
                                    "title": "Fun Home: A Family Tragicomic",
                                    "average_rating": "4.12",
                                    "tag_id": "11644",
                                    "id": "1370",
                                    "goodreads_book_id": "38990"
                                },
                                {
                                    "authors": "Jhumpa Lahiri",
                                    "title": "Unaccustomed Earth",
                                    "average_rating": "4.11",
                                    "tag_id": "11644",
                                    "id": "1310",
                                    "goodreads_book_id": "85301"
                                },
                                {
                                    "authors": "Ursula K. Le Guin",
                                    "title": "The Farthest Shore (Earthsea Cycle, #3)",
                                    "average_rating": "4.11",
                                    "tag_id": "11644",
                                    "id": "1591",
                                    "goodreads_book_id": "13667"
                                },
                                {
                                    "authors": "Chimamanda Ngozi Adichie",
                                    "title": "Purple Hibiscus",
                                    "average_rating": "4.11",
                                    "tag_id": "11644",
                                    "id": "3186",
                                    "goodreads_book_id": "126381"
                                },
                                {
                                    "authors": "Charlotte Perkins Gilman, Elaine Hedges",
                                    "title": "The Yellow Wall-Paper",
                                    "average_rating": "4.11",
                                    "tag_id": "11644",
                                    "id": "2157",
                                    "goodreads_book_id": "286957"
                                },
                                {
                                    "authors": "Chitra Banerjee Divakaruni",
                                    "title": "The Palace of Illusions",
                                    "average_rating": "4.11",
                                    "tag_id": "11644",
                                    "id": "5335",
                                    "goodreads_book_id": "1774836"
                                },
                                {
                                    "authors": "Meg Jay",
                                    "title": "The Defining Decade: Why Your Twenties Matter--And How to Make the Most of Them Now",
                                    "average_rating": "4.11",
                                    "tag_id": "11644",
                                    "id": "7009",
                                    "goodreads_book_id": "13523061"
                                },
                                {
                                    "authors": "Dorothy L. Sayers",
                                    "title": "Unnatural Death (Lord Peter Wimsey, #3)",
                                    "average_rating": "4.11",
                                    "tag_id": "11644",
                                    "id": "6017",
                                    "goodreads_book_id": "192892"
                                },
                                {
                                    "authors": "Annie Dillard",
                                    "title": "Pilgrim at Tinker Creek",
                                    "average_rating": "4.1",
                                    "tag_id": "11644",
                                    "id": "6600",
                                    "goodreads_book_id": "12527"
                                },
                                {
                                    "authors": "Octavia E. Butler",
                                    "title": "Dawn (Xenogenesis, #1)",
                                    "average_rating": "4.1",
                                    "tag_id": "11644",
                                    "id": "7145",
                                    "goodreads_book_id": "60929"
                                },
                                {
                                    "authors": "Janet Stevens, Hans Christian Andersen",
                                    "title": "The Princess and the Pea",
                                    "average_rating": "4.1",
                                    "tag_id": "11644",
                                    "id": "7408",
                                    "goodreads_book_id": "576570"
                                },
                                {
                                    "authors": "Roz Chast",
                                    "title": "Can't We Talk about Something More Pleasant?",
                                    "average_rating": "4.1",
                                    "tag_id": "11644",
                                    "id": "4706",
                                    "goodreads_book_id": "18594409"
                                },
                                {
                                    "authors": "Virginia Woolf",
                                    "title": "A Room of One's Own",
                                    "average_rating": "4.1",
                                    "tag_id": "11644",
                                    "id": "1664",
                                    "goodreads_book_id": "18521"
                                },
                                {
                                    "authors": "Helene Wecker",
                                    "title": "The Golem and the Jinni (The Golem and the Jinni, #1)",
                                    "average_rating": "4.1",
                                    "tag_id": "11644",
                                    "id": "1474",
                                    "goodreads_book_id": "15819028"
                                },
                                {
                                    "authors": "Anne Frank, Eleanor Roosevelt, B.M. Mooyaart-Doubleday",
                                    "title": "The Diary of a Young Girl",
                                    "average_rating": "4.1",
                                    "tag_id": "11644",
                                    "id": "15",
                                    "goodreads_book_id": "48855"
                                },
                                {
                                    "authors": "Charlotte Brontë, Michael Mason",
                                    "title": "Jane Eyre",
                                    "average_rating": "4.1",
                                    "tag_id": "11644",
                                    "id": "43",
                                    "goodreads_book_id": "10210"
                                },
                                {
                                    "authors": "Marion Cunningham, Fannie Merritt Farmer, Archibald Candy Corporation",
                                    "title": "The Fannie Farmer Cookbook: Anniversary",
                                    "average_rating": "4.1",
                                    "tag_id": "11644",
                                    "id": "8246",
                                    "goodreads_book_id": "158944"
                                },
                                {
                                    "authors": "Stacy King, SunNeko Lee, Crystal S. Chan, Victor Hugo",
                                    "title": "Manga Classics: Les Misérables",
                                    "average_rating": "4.1",
                                    "tag_id": "11644",
                                    "id": "9479",
                                    "goodreads_book_id": "21433251"
                                },
                                {
                                    "authors": "Anna Gavalda, Alison Anderson",
                                    "title": "Hunting and Gathering",
                                    "average_rating": "4.1",
                                    "tag_id": "11644",
                                    "id": "8902",
                                    "goodreads_book_id": "47780"
                                },
                                {
                                    "authors": "Alice  Miller, Ruth Ward",
                                    "title": "The Drama of the Gifted Child: The Search for the True Self",
                                    "average_rating": "4.09",
                                    "tag_id": "11644",
                                    "id": "9296",
                                    "goodreads_book_id": "4887"
                                },
                                {
                                    "authors": "Waris Dirie, Cathleen Miller",
                                    "title": "Desert Flower",
                                    "average_rating": "4.09",
                                    "tag_id": "11644",
                                    "id": "8176",
                                    "goodreads_book_id": "8745"
                                },
                                {
                                    "authors": "Sandra Gulland",
                                    "title": "The Many Lives & Secret Sorrows of Josephine B. (Josephine Bonaparte, #1)",
                                    "average_rating": "4.09",
                                    "tag_id": "11644",
                                    "id": "7789",
                                    "goodreads_book_id": "70287"
                                },
                                {
                                    "authors": "Dorothy Allison",
                                    "title": "Bastard Out of Carolina",
                                    "average_rating": "4.09",
                                    "tag_id": "11644",
                                    "id": "3237",
                                    "goodreads_book_id": "25354"
                                },
                                {
                                    "authors": "Ursula K. Le Guin",
                                    "title": "The Lathe of Heaven",
                                    "average_rating": "4.09",
                                    "tag_id": "11644",
                                    "id": "3403",
                                    "goodreads_book_id": "59924"
                                },
                                {
                                    "authors": "Shirley Jackson",
                                    "title": "The Lottery",
                                    "average_rating": "4.09",
                                    "tag_id": "11644",
                                    "id": "2993",
                                    "goodreads_book_id": "6219656"
                                },
                                {
                                    "authors": "Simone de Beauvoir, H.M. Parshley, Deirdre Bair",
                                    "title": "The Second Sex",
                                    "average_rating": "4.09",
                                    "tag_id": "11644",
                                    "id": "5327",
                                    "goodreads_book_id": "457264"
                                },
                                {
                                    "authors": "Elizabeth Kolbert",
                                    "title": "The Sixth Extinction: An Unnatural History",
                                    "average_rating": "4.09",
                                    "tag_id": "11644",
                                    "id": "4115",
                                    "goodreads_book_id": "17910054"
                                },
                                {
                                    "authors": "Jeanette Winterson",
                                    "title": "Written on the Body",
                                    "average_rating": "4.08",
                                    "tag_id": "11644",
                                    "id": "5024",
                                    "goodreads_book_id": "15054"
                                },
                                {
                                    "authors": "Kate Chopin",
                                    "title": "The Story of an Hour",
                                    "average_rating": "4.08",
                                    "tag_id": "11644",
                                    "id": "7562",
                                    "goodreads_book_id": "2267195"
                                },
                                {
                                    "authors": "Gloria Steinem",
                                    "title": "My Life on the Road",
                                    "average_rating": "4.08",
                                    "tag_id": "11644",
                                    "id": "7199",
                                    "goodreads_book_id": "15451058"
                                },
                                {
                                    "authors": "Harriet Jacobs",
                                    "title": "Incidents in the Life of a Slave Girl",
                                    "average_rating": "4.08",
                                    "tag_id": "11644",
                                    "id": "3419",
                                    "goodreads_book_id": "152519"
                                },
                                {
                                    "authors": "Maya Angelou",
                                    "title": "Letter to My Daughter",
                                    "average_rating": "4.08",
                                    "tag_id": "11644",
                                    "id": "9187",
                                    "goodreads_book_id": "4016515"
                                },
                                {
                                    "authors": "Lynn Flewelling",
                                    "title": "Luck in the Shadows (Nightrunner, #1)",
                                    "average_rating": "4.08",
                                    "tag_id": "11644",
                                    "id": "9086",
                                    "goodreads_book_id": "74270"
                                },
                                {
                                    "authors": "Elizabeth Gaskell, Pam Morris",
                                    "title": "Wives and Daughters",
                                    "average_rating": "4.07",
                                    "tag_id": "11644",
                                    "id": "3346",
                                    "goodreads_book_id": "383206"
                                },
                                {
                                    "authors": "Sara Gruen",
                                    "title": "Water for Elephants",
                                    "average_rating": "4.07",
                                    "tag_id": "11644",
                                    "id": "46",
                                    "goodreads_book_id": "43641"
                                },
                                {
                                    "authors": "Donna Tartt",
                                    "title": "The Secret History",
                                    "average_rating": "4.07",
                                    "tag_id": "11644",
                                    "id": "494",
                                    "goodreads_book_id": "29044"
                                },
                                {
                                    "authors": "Ursula K. Le Guin",
                                    "title": "The Tombs of Atuan (Earthsea Cycle, #2)",
                                    "average_rating": "4.07",
                                    "tag_id": "11644",
                                    "id": "1629",
                                    "goodreads_book_id": "13662"
                                },
                                {
                                    "authors": "Ursula Hegi",
                                    "title": "Stones from the River",
                                    "average_rating": "4.07",
                                    "tag_id": "11644",
                                    "id": "1159",
                                    "goodreads_book_id": "77163"
                                },
                                {
                                    "authors": "Helen Keller",
                                    "title": "The Story of My Life",
                                    "average_rating": "4.07",
                                    "tag_id": "11644",
                                    "id": "800",
                                    "goodreads_book_id": "821611"
                                },
                                {
                                    "authors": "Rachel Maddow",
                                    "title": "Drift: The Unmooring of American Military Power",
                                    "average_rating": "4.07",
                                    "tag_id": "11644",
                                    "id": "6804",
                                    "goodreads_book_id": "12143200"
                                },
                                {
                                    "authors": "Tamora Pierce",
                                    "title": "Tris's Book (Circle of Magic, #2)",
                                    "average_rating": "4.07",
                                    "tag_id": "11644",
                                    "id": "5805",
                                    "goodreads_book_id": "58890"
                                },
                                {
                                    "authors": "Isabel Allende",
                                    "title": "Paula",
                                    "average_rating": "4.07",
                                    "tag_id": "11644",
                                    "id": "4606",
                                    "goodreads_book_id": "24790"
                                },
                                {
                                    "authors": "Enid Blyton",
                                    "title": "Five on a Treasure Island (Famous Five, #1)",
                                    "average_rating": "4.06",
                                    "tag_id": "11644",
                                    "id": "6359",
                                    "goodreads_book_id": "17488"
                                },
                                {
                                    "authors": "Tamora Pierce",
                                    "title": "Daja's Book (Circle of Magic, #3)",
                                    "average_rating": "4.06",
                                    "tag_id": "11644",
                                    "id": "6368",
                                    "goodreads_book_id": "58894"
                                },
                                {
                                    "authors": "Keri Hulme",
                                    "title": "The Bone People",
                                    "average_rating": "4.06",
                                    "tag_id": "11644",
                                    "id": "6307",
                                    "goodreads_book_id": "460635"
                                },
                                {
                                    "authors": "Marguerite Henry",
                                    "title": "Stormy, Misty's Foal (Misty, #3)",
                                    "average_rating": "4.06",
                                    "tag_id": "11644",
                                    "id": "6311",
                                    "goodreads_book_id": "296125"
                                },
                                {
                                    "authors": "Malala Yousafzai, Christina Lamb",
                                    "title": "I Am Malala: The Story of the Girl Who Stood Up for Education and Was Shot by the Taliban",
                                    "average_rating": "4.06",
                                    "tag_id": "11644",
                                    "id": "470",
                                    "goodreads_book_id": "17851885"
                                },
                                {
                                    "authors": "Jane Austen, Tony Tanner, Ros Ballaster",
                                    "title": "Sense and Sensibility",
                                    "average_rating": "4.06",
                                    "tag_id": "11644",
                                    "id": "76",
                                    "goodreads_book_id": "14935"
                                },
                                {
                                    "authors": "Margaret Atwood",
                                    "title": "The Handmaid's Tale",
                                    "average_rating": "4.06",
                                    "tag_id": "11644",
                                    "id": "119",
                                    "goodreads_book_id": "38447"
                                },
                                {
                                    "authors": "Shirley Jackson",
                                    "title": "The Lottery and Other Stories",
                                    "average_rating": "4.06",
                                    "tag_id": "11644",
                                    "id": "2199",
                                    "goodreads_book_id": "89723"
                                },
                                {
                                    "authors": "Ursula K. Le Guin",
                                    "title": "The Other Wind (Earthsea Cycle, #6)",
                                    "average_rating": "4.06",
                                    "tag_id": "11644",
                                    "id": "8893",
                                    "goodreads_book_id": "13658"
                                },
                                {
                                    "authors": "Alice Munro",
                                    "title": "Hateship, Friendship, Courtship, Loveship, Marriage: Stories",
                                    "average_rating": "4.06",
                                    "tag_id": "11644",
                                    "id": "7874",
                                    "goodreads_book_id": "111126"
                                },
                                {
                                    "authors": "Alice Walker",
                                    "title": "Possessing the Secret of Joy",
                                    "average_rating": "4.06",
                                    "tag_id": "11644",
                                    "id": "8080",
                                    "goodreads_book_id": "60935"
                                },
                                {
                                    "authors": "Alice Walker",
                                    "title": "The Temple of My Familiar",
                                    "average_rating": "4.05",
                                    "tag_id": "11644",
                                    "id": "8039",
                                    "goodreads_book_id": "60937"
                                },
                                {
                                    "authors": "Tamora Pierce",
                                    "title": "Cold Fire (The Circle Opens, #3)",
                                    "average_rating": "4.05",
                                    "tag_id": "11644",
                                    "id": "7981",
                                    "goodreads_book_id": "153792"
                                },
                                {
                                    "authors": "Katherine Addison",
                                    "title": "The Goblin Emperor",
                                    "average_rating": "4.05",
                                    "tag_id": "11644",
                                    "id": "7900",
                                    "goodreads_book_id": "17910048"
                                },
                                {
                                    "authors": "Mary Doria Russell",
                                    "title": "Children of God (The Sparrow, #2)",
                                    "average_rating": "4.05",
                                    "tag_id": "11644",
                                    "id": "8128",
                                    "goodreads_book_id": "16948"
                                },
                                {
                                    "authors": "Roxane Gay",
                                    "title": "An Untamed State",
                                    "average_rating": "4.05",
                                    "tag_id": "11644",
                                    "id": "8409",
                                    "goodreads_book_id": "18467818"
                                },
                                {
                                    "authors": "Barbara Kingsolver",
                                    "title": "Animal Dreams",
                                    "average_rating": "4.05",
                                    "tag_id": "11644",
                                    "id": "1752",
                                    "goodreads_book_id": "77262"
                                },
                                {
                                    "authors": "Shirley Jackson, Jonathan Lethem",
                                    "title": "We Have Always Lived in the Castle",
                                    "average_rating": "4.05",
                                    "tag_id": "11644",
                                    "id": "2637",
                                    "goodreads_book_id": "89724"
                                },
                                {
                                    "authors": "Lisa See",
                                    "title": "Snow Flower and the Secret Fan",
                                    "average_rating": "4.05",
                                    "tag_id": "11644",
                                    "id": "273",
                                    "goodreads_book_id": "1103"
                                },
                                {
                                    "authors": "Mary Roach",
                                    "title": "Stiff: The Curious Lives of Human Cadavers",
                                    "average_rating": "4.05",
                                    "tag_id": "11644",
                                    "id": "758",
                                    "goodreads_book_id": "32145"
                                },
                                {
                                    "authors": "Anne Rice",
                                    "title": "The Vampire Lestat (The Vampire Chronicles, #2)",
                                    "average_rating": "4.05",
                                    "tag_id": "11644",
                                    "id": "696",
                                    "goodreads_book_id": "43814"
                                },
                                {
                                    "authors": "Ursula K. Le Guin, Lech Jęczmyk",
                                    "title": "The Left Hand of Darkness",
                                    "average_rating": "4.05",
                                    "tag_id": "11644",
                                    "id": "1574",
                                    "goodreads_book_id": "18423"
                                },
                                {
                                    "authors": "Margaret Atwood",
                                    "title": "The Year of the Flood  (MaddAddam, #2)",
                                    "average_rating": "4.05",
                                    "tag_id": "11644",
                                    "id": "1405",
                                    "goodreads_book_id": "6080337"
                                },
                                {
                                    "authors": "Tana French",
                                    "title": "The Likeness (Dublin Murder Squad, #2)",
                                    "average_rating": "4.05",
                                    "tag_id": "11644",
                                    "id": "1325",
                                    "goodreads_book_id": "1914973"
                                },
                                {
                                    "authors": "Robin Hobb",
                                    "title": "City of Dragons (Rain Wild Chronicles, #3)",
                                    "average_rating": "4.05",
                                    "tag_id": "11644",
                                    "id": "6830",
                                    "goodreads_book_id": "11801463"
                                },
                                {
                                    "authors": "Chelsea Cain",
                                    "title": "Sweetheart (Archie Sheridan & Gretchen Lowell, #2)",
                                    "average_rating": "4.05",
                                    "tag_id": "11644",
                                    "id": "7601",
                                    "goodreads_book_id": "2983654"
                                },
                                {
                                    "authors": "Shonda Rhimes",
                                    "title": "Year of Yes: How to Dance It Out, Stand In the Sun and Be Your Own Person",
                                    "average_rating": "4.05",
                                    "tag_id": "11644",
                                    "id": "4601",
                                    "goodreads_book_id": "25690958"
                                },
                                {
                                    "authors": "L.M. Montgomery",
                                    "title": "Anne of Ingleside (Anne of Green Gables, #6)",
                                    "average_rating": "4.05",
                                    "tag_id": "11644",
                                    "id": "3904",
                                    "goodreads_book_id": "77391"
                                },
                                {
                                    "authors": "Caitlin Doughty",
                                    "title": "Smoke Gets in Your Eyes: And Other Lessons from the Crematory",
                                    "average_rating": "4.04",
                                    "tag_id": "11644",
                                    "id": "4824",
                                    "goodreads_book_id": "20663702"
                                },
                                {
                                    "authors": "Caroline Knapp",
                                    "title": "Drinking: A Love Story",
                                    "average_rating": "4.04",
                                    "tag_id": "11644",
                                    "id": "7615",
                                    "goodreads_book_id": "73965"
                                },
                                {
                                    "authors": "Cate Tiernan",
                                    "title": "Book of Shadows (Sweep, #1)",
                                    "average_rating": "4.04",
                                    "tag_id": "11644",
                                    "id": "7387",
                                    "goodreads_book_id": "675614"
                                },
                                {
                                    "authors": "Hope Jahren",
                                    "title": "Lab Girl",
                                    "average_rating": "4.04",
                                    "tag_id": "11644",
                                    "id": "7049",
                                    "goodreads_book_id": "25733983"
                                },
                                {
                                    "authors": "Martha Stewart, Victor Schrager",
                                    "title": "Martha Stewart's Cookies: The Very Best Treats to Bake and to Share",
                                    "average_rating": "4.04",
                                    "tag_id": "11644",
                                    "id": "6626",
                                    "goodreads_book_id": "2176873"
                                },
                                {
                                    "authors": "Betty Mahmoody",
                                    "title": "Not Without My Daughter",
                                    "average_rating": "4.04",
                                    "tag_id": "11644",
                                    "id": "5798",
                                    "goodreads_book_id": "43255"
                                },
                                {
                                    "authors": "Jen Sincero",
                                    "title": "You Are a Badass: How to Stop Doubting Your Greatness and Start Living an Awesome Life",
                                    "average_rating": "4.04",
                                    "tag_id": "11644",
                                    "id": "6071",
                                    "goodreads_book_id": "15843166"
                                },
                                {
                                    "authors": "Louisa May Alcott",
                                    "title": "Little Women (Little Women, #1)",
                                    "average_rating": "4.04",
                                    "tag_id": "11644",
                                    "id": "42",
                                    "goodreads_book_id": "1934"
                                },
                                {
                                    "authors": "L.M. Montgomery",
                                    "title": "Anne of Windy Poplars (Anne of Green Gables, #4)",
                                    "average_rating": "4.04",
                                    "tag_id": "11644",
                                    "id": "3138",
                                    "goodreads_book_id": "65840"
                                },
                                {
                                    "authors": "Laurie R. King",
                                    "title": "A Monstrous Regiment of Women (Mary Russell, #2)",
                                    "average_rating": "4.04",
                                    "tag_id": "11644",
                                    "id": "8412",
                                    "goodreads_book_id": "104737"
                                },
                                {
                                    "authors": "N.K. Jemisin",
                                    "title": "The Broken Kingdoms (Inheritance, #2)",
                                    "average_rating": "4.04",
                                    "tag_id": "11644",
                                    "id": "9668",
                                    "goodreads_book_id": "7904453"
                                },
                                {
                                    "authors": "Geraldine Brooks",
                                    "title": "Nine Parts of Desire: The Hidden World of Islamic Women",
                                    "average_rating": "4.04",
                                    "tag_id": "11644",
                                    "id": "9650",
                                    "goodreads_book_id": "337615"
                                },
                                {
                                    "authors": "Chelsea Cain",
                                    "title": "Evil at Heart (Archie Sheridan & Gretchen Lowell, #3)",
                                    "average_rating": "4.03",
                                    "tag_id": "11644",
                                    "id": "8884",
                                    "goodreads_book_id": "6193923"
                                },
                                {
                                    "authors": "Marion Zimmer Bradley, Diana L. Paxson",
                                    "title": "Priestess of Avalon (Avalon, #4)",
                                    "average_rating": "4.03",
                                    "tag_id": "11644",
                                    "id": "7961",
                                    "goodreads_book_id": "84552"
                                },
                                {
                                    "authors": "Kay Redfield Jamison",
                                    "title": "An Unquiet Mind: A Memoir of Moods and Madness",
                                    "average_rating": "4.03",
                                    "tag_id": "11644",
                                    "id": "2255",
                                    "goodreads_book_id": "361459"
                                },
                                {
                                    "authors": "Emma Donoghue",
                                    "title": "Room",
                                    "average_rating": "4.03",
                                    "tag_id": "11644",
                                    "id": "124",
                                    "goodreads_book_id": "7937843"
                                },
                                {
                                    "authors": "Agatha Christie",
                                    "title": "Murder at the Vicarage (Miss Marple, #1)",
                                    "average_rating": "4.03",
                                    "tag_id": "11644",
                                    "id": "1058",
                                    "goodreads_book_id": "16331"
                                },
                                {
                                    "authors": "Truddi Chase, Robert A. Phillips Jr.",
                                    "title": "When Rabbit Howls",
                                    "average_rating": "4.03",
                                    "tag_id": "11644",
                                    "id": "6670",
                                    "goodreads_book_id": "760941"
                                },
                                {
                                    "authors": "Ann Leckie",
                                    "title": "Ancillary Sword (Imperial Radch, #2)",
                                    "average_rating": "4.03",
                                    "tag_id": "11644",
                                    "id": "4621",
                                    "goodreads_book_id": "20706284"
                                },
                                {
                                    "authors": "Pat Barker",
                                    "title": "Regeneration (Regeneration, #1)",
                                    "average_rating": "4.03",
                                    "tag_id": "11644",
                                    "id": "5392",
                                    "goodreads_book_id": "5872"
                                },
                                {
                                    "authors": "Angela Carter",
                                    "title": "The Bloody Chamber and Other Stories",
                                    "average_rating": "4.02",
                                    "tag_id": "11644",
                                    "id": "5273",
                                    "goodreads_book_id": "49011"
                                },
                                {
                                    "authors": "Louise Erdrich",
                                    "title": "The Master Butchers Singing Club",
                                    "average_rating": "4.02",
                                    "tag_id": "11644",
                                    "id": "5734",
                                    "goodreads_book_id": "142900"
                                },
                                {
                                    "authors": "Barbara Kingsolver",
                                    "title": "The Poisonwood Bible",
                                    "average_rating": "4.02",
                                    "tag_id": "11644",
                                    "id": "100",
                                    "goodreads_book_id": "7244"
                                },
                                {
                                    "authors": "Emily St. John Mandel",
                                    "title": "Station Eleven",
                                    "average_rating": "4.02",
                                    "tag_id": "11644",
                                    "id": "458",
                                    "goodreads_book_id": "20170404"
                                },
                                {
                                    "authors": "Sarah Waters",
                                    "title": "Fingersmith",
                                    "average_rating": "4.02",
                                    "tag_id": "11644",
                                    "id": "2062",
                                    "goodreads_book_id": "45162"
                                },
                                {
                                    "authors": "Charlotte Perkins Gilman",
                                    "title": "The Yellow Wallpaper and Other Stories",
                                    "average_rating": "4.02",
                                    "tag_id": "11644",
                                    "id": "1785",
                                    "goodreads_book_id": "99300"
                                },
                                {
                                    "authors": "Siri Hustvedt",
                                    "title": "What I Loved",
                                    "average_rating": "4.02",
                                    "tag_id": "11644",
                                    "id": "8479",
                                    "goodreads_book_id": "125502"
                                },
                                {
                                    "authors": "Fannie Flagg",
                                    "title": "Standing in the Rainbow (Elmwood Springs, #2)",
                                    "average_rating": "4.02",
                                    "tag_id": "11644",
                                    "id": "8811",
                                    "goodreads_book_id": "31493"
                                },
                                {
                                    "authors": "Cecelia Ahern",
                                    "title": "How to Fall in Love",
                                    "average_rating": "4.02",
                                    "tag_id": "11644",
                                    "id": "9131",
                                    "goodreads_book_id": "18161265"
                                },
                                {
                                    "authors": "Toni Morrison",
                                    "title": "Song of Solomon",
                                    "average_rating": "4.01",
                                    "tag_id": "11644",
                                    "id": "1642",
                                    "goodreads_book_id": "11334"
                                },
                                {
                                    "authors": "Hannah Kent",
                                    "title": "Burial Rites",
                                    "average_rating": "4.01",
                                    "tag_id": "11644",
                                    "id": "2061",
                                    "goodreads_book_id": "17333319"
                                },
                                {
                                    "authors": "Sue Monk Kidd",
                                    "title": "The Secret Life of Bees",
                                    "average_rating": "4.01",
                                    "tag_id": "11644",
                                    "id": "57",
                                    "goodreads_book_id": "37435"
                                },
                                {
                                    "authors": "Louise Rennison",
                                    "title": "Dancing in My Nuddy-Pants (Confessions of Georgia Nicolson, #4)",
                                    "average_rating": "4.01",
                                    "tag_id": "11644",
                                    "id": "6122",
                                    "goodreads_book_id": "402015"
                                },
                                {
                                    "authors": "V.C. Andrews",
                                    "title": "Heaven (Casteel, #1)",
                                    "average_rating": "4.01",
                                    "tag_id": "11644",
                                    "id": "6182",
                                    "goodreads_book_id": "787660"
                                },
                                {
                                    "authors": "Rosalind Miles",
                                    "title": "I, Elizabeth",
                                    "average_rating": "4.01",
                                    "tag_id": "11644",
                                    "id": "7541",
                                    "goodreads_book_id": "56353"
                                },
                                {
                                    "authors": "Tess Gerritsen",
                                    "title": "The Mephisto Club (Rizzoli & Isles, #6)",
                                    "average_rating": "4.01",
                                    "tag_id": "11644",
                                    "id": "4481",
                                    "goodreads_book_id": "32254"
                                },
                                {
                                    "authors": "Isabel Allende, Margaret Sayers Peden",
                                    "title": "Island Beneath the Sea",
                                    "average_rating": "4.01",
                                    "tag_id": "11644",
                                    "id": "4502",
                                    "goodreads_book_id": "7005479"
                                },
                                {
                                    "authors": "L.M. Montgomery",
                                    "title": "Rainbow Valley (Anne of Green Gables, #7)",
                                    "average_rating": "4",
                                    "tag_id": "11644",
                                    "id": "5567",
                                    "goodreads_book_id": "77395"
                                },
                                {
                                    "authors": "Deborah Blum",
                                    "title": "The Poisoner's Handbook: Murder and the Birth of Forensic Medicine in Jazz Age New York",
                                    "average_rating": "4",
                                    "tag_id": "11644",
                                    "id": "5634",
                                    "goodreads_book_id": "7054123"
                                },
                                {
                                    "authors": "Margaret Atwood",
                                    "title": "Oryx and Crake (MaddAddam, #1)",
                                    "average_rating": "4",
                                    "tag_id": "11644",
                                    "id": "572",
                                    "goodreads_book_id": "46756"
                                },
                                {
                                    "authors": "Dodie Smith",
                                    "title": "I Capture the Castle",
                                    "average_rating": "4",
                                    "tag_id": "11644",
                                    "id": "1957",
                                    "goodreads_book_id": "31122"
                                },
                                {
                                    "authors": "Sarah Waters",
                                    "title": "Tipping the Velvet",
                                    "average_rating": "4",
                                    "tag_id": "11644",
                                    "id": "2145",
                                    "goodreads_book_id": "56373"
                                },
                                {
                                    "authors": "Twyla Tharp",
                                    "title": "The Creative Habit: Learn It and Use It for Life",
                                    "average_rating": "4",
                                    "tag_id": "11644",
                                    "id": "8747",
                                    "goodreads_book_id": "254799"
                                },
                                {
                                    "authors": "Ursula K. Le Guin",
                                    "title": "Tales from Earthsea (Earthsea Cycle, #5)",
                                    "average_rating": "4",
                                    "tag_id": "11644",
                                    "id": "9424",
                                    "goodreads_book_id": "13659"
                                },
                                {
                                    "authors": "Enid Blyton",
                                    "title": "Five Go Adventuring Again (Famous Five, #2)",
                                    "average_rating": "3.99",
                                    "tag_id": "11644",
                                    "id": "9686",
                                    "goodreads_book_id": "17487"
                                },
                                {
                                    "authors": "Giulia Enders, Jill Enders",
                                    "title": "Gut: The Inside Story of Our Body’s Most Underrated Organ",
                                    "average_rating": "3.99",
                                    "tag_id": "11644",
                                    "id": "9969",
                                    "goodreads_book_id": "23013953"
                                },
                                {
                                    "authors": "Maggie Nelson",
                                    "title": "The Argonauts",
                                    "average_rating": "3.99",
                                    "tag_id": "11644",
                                    "id": "8580",
                                    "goodreads_book_id": "22929741"
                                },
                                {
                                    "authors": "Annie Proulx",
                                    "title": "Close Range",
                                    "average_rating": "3.99",
                                    "tag_id": "11644",
                                    "id": "7970",
                                    "goodreads_book_id": "27999"
                                },
                                {
                                    "authors": "Ursula K. Le Guin",
                                    "title": "A Wizard of Earthsea (Earthsea Cycle, #1)",
                                    "average_rating": "3.99",
                                    "tag_id": "11644",
                                    "id": "593",
                                    "goodreads_book_id": "13642"
                                },
                                {
                                    "authors": "Toni Morrison",
                                    "title": "The Bluest Eye",
                                    "average_rating": "3.99",
                                    "tag_id": "11644",
                                    "id": "763",
                                    "goodreads_book_id": "11337"
                                },
                                {
                                    "authors": "Jane Austen, Fiona Stafford",
                                    "title": "Emma",
                                    "average_rating": "3.99",
                                    "tag_id": "11644",
                                    "id": "171",
                                    "goodreads_book_id": "6969"
                                },
                                {
                                    "authors": "Emily M. Danforth",
                                    "title": "The Miseducation of Cameron Post",
                                    "average_rating": "3.99",
                                    "tag_id": "11644",
                                    "id": "7421",
                                    "goodreads_book_id": "11595276"
                                },
                                {
                                    "authors": "Tamora Pierce",
                                    "title": "Sandry's Book (Circle of Magic, #1)",
                                    "average_rating": "3.99",
                                    "tag_id": "11644",
                                    "id": "4712",
                                    "goodreads_book_id": "58889"
                                },
                                {
                                    "authors": "Julie Anne Peters",
                                    "title": "Keeping You a Secret",
                                    "average_rating": "3.98",
                                    "tag_id": "11644",
                                    "id": "3721",
                                    "goodreads_book_id": "272315"
                                },
                                {
                                    "authors": "Margaret Peterson Haddix",
                                    "title": "Running Out of Time",
                                    "average_rating": "3.98",
                                    "tag_id": "11644",
                                    "id": "6938",
                                    "goodreads_book_id": "227658"
                                },
                                {
                                    "authors": "Sara Nović",
                                    "title": "Girl at War",
                                    "average_rating": "3.98",
                                    "tag_id": "11644",
                                    "id": "6799",
                                    "goodreads_book_id": "23209971"
                                },
                                {
                                    "authors": "Alice Munro",
                                    "title": "Runaway",
                                    "average_rating": "3.98",
                                    "tag_id": "11644",
                                    "id": "6125",
                                    "goodreads_book_id": "14280"
                                },
                                {
                                    "authors": "Louise Erdrich",
                                    "title": "Love Medicine",
                                    "average_rating": "3.98",
                                    "tag_id": "11644",
                                    "id": "6242",
                                    "goodreads_book_id": "91440"
                                },
                                {
                                    "authors": "Agatha Christie, Ροζίτα Σώκου",
                                    "title": "The Mysterious Affair at Styles (Hercule Poirot, #1)",
                                    "average_rating": "3.98",
                                    "tag_id": "11644",
                                    "id": "671",
                                    "goodreads_book_id": "16343"
                                },
                                {
                                    "authors": "Barbara Kingsolver",
                                    "title": "Prodigal Summer",
                                    "average_rating": "3.98",
                                    "tag_id": "11644",
                                    "id": "1144",
                                    "goodreads_book_id": "14249"
                                },
                                {
                                    "authors": "Amy Tan",
                                    "title": "The Bonesetter's Daughter",
                                    "average_rating": "3.98",
                                    "tag_id": "11644",
                                    "id": "848",
                                    "goodreads_book_id": "12555"
                                },
                                {
                                    "authors": "Katherine Dunn",
                                    "title": "Geek Love",
                                    "average_rating": "3.98",
                                    "tag_id": "11644",
                                    "id": "2051",
                                    "goodreads_book_id": "13872"
                                },
                                {
                                    "authors": "Ruth Ozeki",
                                    "title": "A Tale for the Time Being",
                                    "average_rating": "3.98",
                                    "tag_id": "11644",
                                    "id": "1700",
                                    "goodreads_book_id": "15811545"
                                },
                                {
                                    "authors": "Amy Tan",
                                    "title": "The Kitchen God's Wife",
                                    "average_rating": "3.98",
                                    "tag_id": "11644",
                                    "id": "1714",
                                    "goodreads_book_id": "12557"
                                },
                                {
                                    "authors": "Thrity Umrigar",
                                    "title": "The Space Between Us",
                                    "average_rating": "3.98",
                                    "tag_id": "11644",
                                    "id": "3021",
                                    "goodreads_book_id": "218357"
                                },
                                {
                                    "authors": "Amy Tan",
                                    "title": "The Hundred Secret Senses",
                                    "average_rating": "3.98",
                                    "tag_id": "11644",
                                    "id": "3311",
                                    "goodreads_book_id": "690866"
                                },
                                {
                                    "authors": "Margaret Atwood",
                                    "title": "MaddAddam (MaddAddam, #3)",
                                    "average_rating": "3.98",
                                    "tag_id": "11644",
                                    "id": "2570",
                                    "goodreads_book_id": "17262203"
                                },
                                {
                                    "authors": "Sarah Vowell",
                                    "title": "Assassination Vacation",
                                    "average_rating": "3.98",
                                    "tag_id": "11644",
                                    "id": "2897",
                                    "goodreads_book_id": "3110"
                                },
                                {
                                    "authors": "Tamora Pierce",
                                    "title": "Magic Steps (The Circle Opens, #1)",
                                    "average_rating": "3.98",
                                    "tag_id": "11644",
                                    "id": "8085",
                                    "goodreads_book_id": "153781"
                                },
                                {
                                    "authors": "A.N. Roquelaure, Anne Rice",
                                    "title": "Sleeping Beauty Box Set",
                                    "average_rating": "3.98",
                                    "tag_id": "11644",
                                    "id": "8096",
                                    "goodreads_book_id": "26581"
                                },
                                {
                                    "authors": "Nancy Garden",
                                    "title": "Annie on My Mind",
                                    "average_rating": "3.97",
                                    "tag_id": "11644",
                                    "id": "3415",
                                    "goodreads_book_id": "595375"
                                },
                                {
                                    "authors": "Tana French",
                                    "title": "Faithful Place (Dublin Murder Squad, #3)",
                                    "average_rating": "3.97",
                                    "tag_id": "11644",
                                    "id": "1911",
                                    "goodreads_book_id": "7093952"
                                },
                                {
                                    "authors": "Margaret Atwood, Brigitte Walitzek",
                                    "title": "Alias Grace",
                                    "average_rating": "3.97",
                                    "tag_id": "11644",
                                    "id": "1845",
                                    "goodreads_book_id": "58027"
                                },
                                {
                                    "authors": "Ann Leckie",
                                    "title": "Ancillary Justice (Imperial Radch #1)",
                                    "average_rating": "3.97",
                                    "tag_id": "11644",
                                    "id": "2218",
                                    "goodreads_book_id": "17333324"
                                },
                                {
                                    "authors": "Katherine Boo",
                                    "title": "Behind the Beautiful Forevers: Life, Death, and Hope in a Mumbai Undercity",
                                    "average_rating": "3.97",
                                    "tag_id": "11644",
                                    "id": "1252",
                                    "goodreads_book_id": "11869272"
                                },
                                {
                                    "authors": "Carson McCullers",
                                    "title": "The Heart is a Lonely Hunter",
                                    "average_rating": "3.97",
                                    "tag_id": "11644",
                                    "id": "1365",
                                    "goodreads_book_id": "37380"
                                },
                                {
                                    "authors": "Johanna Spyri, Angelo  Rinaldi, Beverly Cleary",
                                    "title": "Heidi",
                                    "average_rating": "3.97",
                                    "tag_id": "11644",
                                    "id": "639",
                                    "goodreads_book_id": "93"
                                },
                                {
                                    "authors": "Pearl S. Buck",
                                    "title": "The Good Earth (House of Earth, #1)",
                                    "average_rating": "3.97",
                                    "tag_id": "11644",
                                    "id": "461",
                                    "goodreads_book_id": "1078"
                                },
                                {
                                    "authors": "Anne Rice",
                                    "title": "Interview with the Vampire (The Vampire Chronicles, #1)",
                                    "average_rating": "3.97",
                                    "tag_id": "11644",
                                    "id": "205",
                                    "goodreads_book_id": "43763"
                                },
                                {
                                    "authors": "Amanda Palmer",
                                    "title": "The Art of Asking; or, How I Learned to Stop Worrying and Let People Help",
                                    "average_rating": "3.97",
                                    "tag_id": "11644",
                                    "id": "4225",
                                    "goodreads_book_id": "20980987"
                                },
                                {
                                    "authors": "Catherynne M. Valente, Ana Juan",
                                    "title": "The Girl Who Circumnavigated Fairyland in a Ship of Her Own Making (Fairyland, #1)",
                                    "average_rating": "3.97",
                                    "tag_id": "11644",
                                    "id": "4624",
                                    "goodreads_book_id": "9591398"
                                },
                                {
                                    "authors": "Louise Rennison",
                                    "title": "Knocked Out by My Nunga-Nungas (Confessions of Georgia Nicolson, #3)",
                                    "average_rating": "3.97",
                                    "tag_id": "11644",
                                    "id": "5029",
                                    "goodreads_book_id": "112675"
                                },
                                {
                                    "authors": "Agatha Christie",
                                    "title": "A Murder Is Announced (Miss Marple, #5)",
                                    "average_rating": "3.96",
                                    "tag_id": "11644",
                                    "id": "4728",
                                    "goodreads_book_id": "16298"
                                },
                                {
                                    "authors": "Nigella Lawson",
                                    "title": "Nigella Express: Good Food, Fast",
                                    "average_rating": "3.96",
                                    "tag_id": "11644",
                                    "id": "4735",
                                    "goodreads_book_id": "468070"
                                },
                                {
                                    "authors": "Liz Moore",
                                    "title": "Heft",
                                    "average_rating": "3.96",
                                    "tag_id": "11644",
                                    "id": "7382",
                                    "goodreads_book_id": "11381910"
                                },
                                {
                                    "authors": "V.C. Andrews",
                                    "title": "Dark Angel (Casteel, #2)",
                                    "average_rating": "3.96",
                                    "tag_id": "11644",
                                    "id": "7410",
                                    "goodreads_book_id": "397466"
                                },
                                {
                                    "authors": "Jhumpa Lahiri",
                                    "title": "The Namesake",
                                    "average_rating": "3.96",
                                    "tag_id": "11644",
                                    "id": "378",
                                    "goodreads_book_id": "33917"
                                },
                                {
                                    "authors": "Alexandra Fuller",
                                    "title": "Don't Let's Go to the Dogs Tonight",
                                    "average_rating": "3.96",
                                    "tag_id": "11644",
                                    "id": "2288",
                                    "goodreads_book_id": "24687"
                                },
                                {
                                    "authors": "Sarah Ban Breathnach",
                                    "title": "Simple Abundance:  A Daybook of Comfort and Joy",
                                    "average_rating": "3.96",
                                    "tag_id": "11644",
                                    "id": "2566",
                                    "goodreads_book_id": "748862"
                                },
                                {
                                    "authors": "Louise Fitzhugh",
                                    "title": "Harriet the Spy (Harriet the Spy #1)",
                                    "average_rating": "3.96",
                                    "tag_id": "11644",
                                    "id": "1707",
                                    "goodreads_book_id": "232576"
                                },
                                {
                                    "authors": "Jean Kwok",
                                    "title": "Girl in Translation",
                                    "average_rating": "3.96",
                                    "tag_id": "11644",
                                    "id": "3038",
                                    "goodreads_book_id": "7362158"
                                },
                                {
                                    "authors": "Louise Rennison",
                                    "title": "On the Bright Side, I'm Now the Girlfriend of a Sex God (Confessions of Georgia Nicolson, #2)",
                                    "average_rating": "3.96",
                                    "tag_id": "11644",
                                    "id": "2812",
                                    "goodreads_book_id": "402014"
                                },
                                {
                                    "authors": "Sarah Hepola",
                                    "title": "Blackout: Remembering the Things I Drank to Forget",
                                    "average_rating": "3.96",
                                    "tag_id": "11644",
                                    "id": "8105",
                                    "goodreads_book_id": "23341862"
                                },
                                {
                                    "authors": "Isabel Allende",
                                    "title": "The Stories of Eva Luna",
                                    "average_rating": "3.96",
                                    "tag_id": "11644",
                                    "id": "8295",
                                    "goodreads_book_id": "3291"
                                },
                                {
                                    "authors": "Rene Denfeld",
                                    "title": "The Enchanted",
                                    "average_rating": "3.96",
                                    "tag_id": "11644",
                                    "id": "8326",
                                    "goodreads_book_id": "18090147"
                                },
                                {
                                    "authors": "Anne Michaels",
                                    "title": "Fugitive Pieces",
                                    "average_rating": "3.95",
                                    "tag_id": "11644",
                                    "id": "9215",
                                    "goodreads_book_id": "15836"
                                },
                                {
                                    "authors": "Mollie Katzen",
                                    "title": "The Moosewood Cookbook: Recipes from Moosewood Restaurant, Ithaca, New York",
                                    "average_rating": "3.95",
                                    "tag_id": "11644",
                                    "id": "3046",
                                    "goodreads_book_id": "603422"
                                },
                                {
                                    "authors": "Pamela Druckerman, Abby Craden",
                                    "title": "Bringing Up Bébé: One American Mother Discovers the Wisdom of French Parenting",
                                    "average_rating": "3.95",
                                    "tag_id": "11644",
                                    "id": "3442",
                                    "goodreads_book_id": "13152287"
                                },
                                {
                                    "authors": "Ann-Marie MacDonald",
                                    "title": "Fall on Your Knees",
                                    "average_rating": "3.95",
                                    "tag_id": "11644",
                                    "id": "1806",
                                    "goodreads_book_id": "5174"
                                },
                                {
                                    "authors": "Audrey Niffenegger",
                                    "title": "The Time Traveler's Wife",
                                    "average_rating": "3.95",
                                    "tag_id": "11644",
                                    "id": "38",
                                    "goodreads_book_id": "14050"
                                },
                                {
                                    "authors": "Newt Scamander, J.K. Rowling, Albus Dumbledore",
                                    "title": "Fantastic Beasts and Where to Find Them",
                                    "average_rating": "3.95",
                                    "tag_id": "11644",
                                    "id": "469",
                                    "goodreads_book_id": "41899"
                                },
                                {
                                    "authors": "Joanne Harris",
                                    "title": "Chocolat (Chocolat, #1)",
                                    "average_rating": "3.95",
                                    "tag_id": "11644",
                                    "id": "1131",
                                    "goodreads_book_id": "47401"
                                },
                                {
                                    "authors": "Eowyn Ivey",
                                    "title": "The Snow Child",
                                    "average_rating": "3.95",
                                    "tag_id": "11644",
                                    "id": "1164",
                                    "goodreads_book_id": "11250053"
                                },
                                {
                                    "authors": "Margaret Atwood",
                                    "title": "The Blind Assassin",
                                    "average_rating": "3.95",
                                    "tag_id": "11644",
                                    "id": "883",
                                    "goodreads_book_id": "78433"
                                },
                                {
                                    "authors": "Heather O'Neill",
                                    "title": "Lullabies for Little Criminals",
                                    "average_rating": "3.95",
                                    "tag_id": "11644",
                                    "id": "6770",
                                    "goodreads_book_id": "22207"
                                },
                                {
                                    "authors": "Isabel Allende, Margaret Sayers Peden",
                                    "title": "Eva Luna",
                                    "average_rating": "3.95",
                                    "tag_id": "11644",
                                    "id": "3511",
                                    "goodreads_book_id": "149196"
                                },
                                {
                                    "authors": "Agatha Christie",
                                    "title": "Evil Under the Sun (Hercule Poirot, #23)",
                                    "average_rating": "3.94",
                                    "tag_id": "11644",
                                    "id": "4240",
                                    "goodreads_book_id": "16305"
                                },
                                {
                                    "authors": "Alison Weir",
                                    "title": "Innocent Traitor",
                                    "average_rating": "3.94",
                                    "tag_id": "11644",
                                    "id": "4129",
                                    "goodreads_book_id": "111218"
                                },
                                {
                                    "authors": "Judy Blume",
                                    "title": "Otherwise Known as Sheila the Great (Fudge #2)",
                                    "average_rating": "3.94",
                                    "tag_id": "11644",
                                    "id": "3871",
                                    "goodreads_book_id": "80670"
                                },
                                {
                                    "authors": "Jeanette Winterson",
                                    "title": "Why Be Happy When You Could Be Normal?",
                                    "average_rating": "3.94",
                                    "tag_id": "11644",
                                    "id": "4704",
                                    "goodreads_book_id": "11395597"
                                },
                                {
                                    "authors": "P.D. James",
                                    "title": "Cover Her Face (Adam Dalgliesh #1)",
                                    "average_rating": "3.94",
                                    "tag_id": "11644",
                                    "id": "4586",
                                    "goodreads_book_id": "3832"
                                },
                                {
                                    "authors": "Rachel Carson, Linda Lear, Edward O. Wilson",
                                    "title": "Silent Spring",
                                    "average_rating": "3.94",
                                    "tag_id": "11644",
                                    "id": "4487",
                                    "goodreads_book_id": "27333"
                                },
                                {
                                    "authors": "Noelle Stevenson, Grace Ellis, Shannon Waters, Shannon Watters, Brooke A. Allen, Faith Hicks, Kat Leyh, Brooke Allen, Carolyn Nowak, Various, Carey Pietsch",
                                    "title": "Lumberjanes, Vol. 1: Beware the Kitten Holy",
                                    "average_rating": "3.94",
                                    "tag_id": "11644",
                                    "id": "5333",
                                    "goodreads_book_id": "22554204"
                                },
                                {
                                    "authors": "Ann M. Martin",
                                    "title": "Kristy's Great Idea (The Baby-Sitters Club, #1)",
                                    "average_rating": "3.94",
                                    "tag_id": "11644",
                                    "id": "5621",
                                    "goodreads_book_id": "233722"
                                },
                                {
                                    "authors": "Gail Tsukiyama",
                                    "title": "Women of the Silk",
                                    "average_rating": "3.94",
                                    "tag_id": "11644",
                                    "id": "7458",
                                    "goodreads_book_id": "51114"
                                },
                                {
                                    "authors": "Patti Smith",
                                    "title": "M Train",
                                    "average_rating": "3.94",
                                    "tag_id": "11644",
                                    "id": "6241",
                                    "goodreads_book_id": "24728470"
                                },
                                {
                                    "authors": "Yōko Ogawa, Stephen Snyder",
                                    "title": "The Housekeeper and the Professor",
                                    "average_rating": "3.94",
                                    "tag_id": "11644",
                                    "id": "5933",
                                    "goodreads_book_id": "3181564"
                                },
                                {
                                    "authors": "Barbara Kingsolver",
                                    "title": "The Bean Trees (Greer Family, #1)",
                                    "average_rating": "3.94",
                                    "tag_id": "11644",
                                    "id": "860",
                                    "goodreads_book_id": "30868"
                                },
                                {
                                    "authors": "Edith Wharton, Nina Bawden",
                                    "title": "The House of Mirth",
                                    "average_rating": "3.94",
                                    "tag_id": "11644",
                                    "id": "1509",
                                    "goodreads_book_id": "17728"
                                },
                                {
                                    "authors": "Anna Sewell",
                                    "title": "Black Beauty",
                                    "average_rating": "3.94",
                                    "tag_id": "11644",
                                    "id": "497",
                                    "goodreads_book_id": "3685"
                                },
                                {
                                    "authors": "Tina Fey",
                                    "title": "Bossypants",
                                    "average_rating": "3.94",
                                    "tag_id": "11644",
                                    "id": "106",
                                    "goodreads_book_id": "9418327"
                                },
                                {
                                    "authors": "Laura Esquivel, Thomas  Christensen, Carol Christensen",
                                    "title": "Like Water for Chocolate",
                                    "average_rating": "3.94",
                                    "tag_id": "11644",
                                    "id": "272",
                                    "goodreads_book_id": "6952"
                                },
                                {
                                    "authors": "Terry McMillan",
                                    "title": "Waiting to Exhale (Waiting To Exhale #1)",
                                    "average_rating": "3.94",
                                    "tag_id": "11644",
                                    "id": "8779",
                                    "goodreads_book_id": "122212"
                                },
                                {
                                    "authors": "Melanie Rawn",
                                    "title": "Dragon Prince (Dragon Prince, #1)",
                                    "average_rating": "3.94",
                                    "tag_id": "11644",
                                    "id": "8729",
                                    "goodreads_book_id": "185289"
                                },
                                {
                                    "authors": "Jill Murphy",
                                    "title": "The Worst Witch (Worst Witch, #1)",
                                    "average_rating": "3.94",
                                    "tag_id": "11644",
                                    "id": "8477",
                                    "goodreads_book_id": "351023"
                                },
                                {
                                    "authors": "Ruth Ozeki",
                                    "title": "My Year of Meats",
                                    "average_rating": "3.93",
                                    "tag_id": "11644",
                                    "id": "8516",
                                    "goodreads_book_id": "12349"
                                },
                                {
                                    "authors": "Sara Douglass",
                                    "title": "The Wayfarer Redemption (Wayfarer Redemption, #1)",
                                    "average_rating": "3.93",
                                    "tag_id": "11644",
                                    "id": "7788",
                                    "goodreads_book_id": "231989"
                                },
                                {
                                    "authors": "Phyllis T. Smith",
                                    "title": "I Am Livia",
                                    "average_rating": "3.93",
                                    "tag_id": "11644",
                                    "id": "9226",
                                    "goodreads_book_id": "20874139"
                                },
                                {
                                    "authors": "Janet Fitch",
                                    "title": "White Oleander",
                                    "average_rating": "3.93",
                                    "tag_id": "11644",
                                    "id": "326",
                                    "goodreads_book_id": "32234"
                                },
                                {
                                    "authors": "Edith Wharton, Maureen Howard",
                                    "title": "The Age of Innocence",
                                    "average_rating": "3.93",
                                    "tag_id": "11644",
                                    "id": "899",
                                    "goodreads_book_id": "53835"
                                },
                                {
                                    "authors": "George Eliot, Michel Faber",
                                    "title": "Middlemarch",
                                    "average_rating": "3.93",
                                    "tag_id": "11644",
                                    "id": "961",
                                    "goodreads_book_id": "19089"
                                },
                                {
                                    "authors": "Jenny  Lawson",
                                    "title": "Furiously Happy: A Funny Book About Horrible Things",
                                    "average_rating": "3.93",
                                    "tag_id": "11644",
                                    "id": "1810",
                                    "goodreads_book_id": "23848559"
                                },
                                {
                                    "authors": "Marian Keyes",
                                    "title": "Rachel's Holiday (Walsh Family, #2)",
                                    "average_rating": "3.93",
                                    "tag_id": "11644",
                                    "id": "1913",
                                    "goodreads_book_id": "9301"
                                },
                                {
                                    "authors": "Patricia Highsmith",
                                    "title": "The Talented Mr. Ripley (Ripley, #1)",
                                    "average_rating": "3.93",
                                    "tag_id": "11644",
                                    "id": "3262",
                                    "goodreads_book_id": "2247142"
                                },
                                {
                                    "authors": "Mary Roach",
                                    "title": "Packing for Mars: The Curious Science of Life in the Void",
                                    "average_rating": "3.93",
                                    "tag_id": "11644",
                                    "id": "2841",
                                    "goodreads_book_id": "7237456"
                                },
                                {
                                    "authors": "Annie Proulx",
                                    "title": "Brokeback Mountain",
                                    "average_rating": "3.93",
                                    "tag_id": "11644",
                                    "id": "6066",
                                    "goodreads_book_id": "1627"
                                },
                                {
                                    "authors": "Rebecca Solnit",
                                    "title": "Men Explain Things to Me",
                                    "average_rating": "3.93",
                                    "tag_id": "11644",
                                    "id": "5820",
                                    "goodreads_book_id": "18528190"
                                },
                                {
                                    "authors": "Margaret Atwood",
                                    "title": "Stone Mattress: Nine Tales",
                                    "average_rating": "3.93",
                                    "tag_id": "11644",
                                    "id": "7640",
                                    "goodreads_book_id": "22642472"
                                },
                                {
                                    "authors": "Natsuo Kirino, Stephen Snyder",
                                    "title": "Out",
                                    "average_rating": "3.93",
                                    "tag_id": "11644",
                                    "id": "6594",
                                    "goodreads_book_id": "25365"
                                },
                                {
                                    "authors": "Isabel Allende, Margaret Sayers Peden",
                                    "title": "Portrait in Sepia",
                                    "average_rating": "3.93",
                                    "tag_id": "11644",
                                    "id": "4108",
                                    "goodreads_book_id": "85987"
                                },
                                {
                                    "authors": "Patricia Highsmith",
                                    "title": "The Price of Salt",
                                    "average_rating": "3.93",
                                    "tag_id": "11644",
                                    "id": "4338",
                                    "goodreads_book_id": "52258"
                                },
                                {
                                    "authors": "Stella Gibbons, Lynne Truss, Roz Chast",
                                    "title": "Cold Comfort Farm",
                                    "average_rating": "3.92",
                                    "tag_id": "11644",
                                    "id": "3878",
                                    "goodreads_book_id": "92780"
                                },
                                {
                                    "authors": "Mary Roach",
                                    "title": "Gulp: Adventures on the Alimentary Canal",
                                    "average_rating": "3.92",
                                    "tag_id": "11644",
                                    "id": "3545",
                                    "goodreads_book_id": "13615414"
                                },
                                {
                                    "authors": "Chelsea Cain",
                                    "title": "Heartsick (Archie Sheridan & Gretchen Lowell, #1)",
                                    "average_rating": "3.92",
                                    "tag_id": "11644",
                                    "id": "3745",
                                    "goodreads_book_id": "657034"
                                },
                                {
                                    "authors": "Agatha Christie",
                                    "title": "4:50 from Paddington (Miss Marple, #8)",
                                    "average_rating": "3.92",
                                    "tag_id": "11644",
                                    "id": "5041",
                                    "goodreads_book_id": "140278"
                                },
                                {
                                    "authors": "Daphne du Maurier",
                                    "title": "My Cousin Rachel",
                                    "average_rating": "3.92",
                                    "tag_id": "11644",
                                    "id": "6916",
                                    "goodreads_book_id": "18869970"
                                },
                                {
                                    "authors": "Mineko Iwasaki, Rande Brown",
                                    "title": "Geisha, a Life",
                                    "average_rating": "3.92",
                                    "tag_id": "11644",
                                    "id": "6885",
                                    "goodreads_book_id": "522534"
                                },
                                {
                                    "authors": "Cynthia Voigt",
                                    "title": "Homecoming (Tillerman Cycle, #1)",
                                    "average_rating": "3.92",
                                    "tag_id": "11644",
                                    "id": "7345",
                                    "goodreads_book_id": "12125"
                                },
                                {
                                    "authors": "Julie Maroh",
                                    "title": "Le bleu est une couleur chaude",
                                    "average_rating": "3.92",
                                    "tag_id": "11644",
                                    "id": "6449",
                                    "goodreads_book_id": "7963189"
                                },
                                {
                                    "authors": "Kate Atkinson",
                                    "title": "A God in Ruins",
                                    "average_rating": "3.92",
                                    "tag_id": "11644",
                                    "id": "2848",
                                    "goodreads_book_id": "3722183"
                                },
                                {
                                    "authors": "Emily Carroll",
                                    "title": "Through the Woods",
                                    "average_rating": "3.92",
                                    "tag_id": "11644",
                                    "id": "3368",
                                    "goodreads_book_id": "18659623"
                                },
                                {
                                    "authors": "Mary Karr",
                                    "title": "The Liars' Club",
                                    "average_rating": "3.92",
                                    "tag_id": "11644",
                                    "id": "1978",
                                    "goodreads_book_id": "14241"
                                },
                                {
                                    "authors": "Margaret Atwood",
                                    "title": "Cat's Eye",
                                    "average_rating": "3.92",
                                    "tag_id": "11644",
                                    "id": "2561",
                                    "goodreads_book_id": "51019"
                                },
                                {
                                    "authors": "Ann Patchett",
                                    "title": "Bel Canto",
                                    "average_rating": "3.92",
                                    "tag_id": "11644",
                                    "id": "407",
                                    "goodreads_book_id": "5826"
                                },
                                {
                                    "authors": "Gillian Flynn",
                                    "title": "Sharp Objects",
                                    "average_rating": "3.92",
                                    "tag_id": "11644",
                                    "id": "244",
                                    "goodreads_book_id": "66559"
                                },
                                {
                                    "authors": "Louisa May Alcott",
                                    "title": "Good Wives (Little Women, #1.5)",
                                    "average_rating": "3.92",
                                    "tag_id": "11644",
                                    "id": "8740",
                                    "goodreads_book_id": "78960"
                                },
                                {
                                    "authors": "Elizabeth Berg",
                                    "title": "What We Keep ",
                                    "average_rating": "3.91",
                                    "tag_id": "11644",
                                    "id": "8094",
                                    "goodreads_book_id": "226858"
                                },
                                {
                                    "authors": "Arundhati Roy",
                                    "title": "The God of Small Things",
                                    "average_rating": "3.91",
                                    "tag_id": "11644",
                                    "id": "436",
                                    "goodreads_book_id": "9777"
                                },
                                {
                                    "authors": "Nicole Krauss",
                                    "title": "The History of Love",
                                    "average_rating": "3.91",
                                    "tag_id": "11644",
                                    "id": "867",
                                    "goodreads_book_id": "3867"
                                },
                                {
                                    "authors": "Jodi Picoult",
                                    "title": "Change of Heart",
                                    "average_rating": "3.91",
                                    "tag_id": "11644",
                                    "id": "1101",
                                    "goodreads_book_id": "1609451"
                                },
                                {
                                    "authors": "Louise Erdrich",
                                    "title": "The Round House",
                                    "average_rating": "3.91",
                                    "tag_id": "11644",
                                    "id": "1195",
                                    "goodreads_book_id": "13602426"
                                },
                                {
                                    "authors": "Anne Brontë, Stevie Davies",
                                    "title": "The Tenant of Wildfell Hall",
                                    "average_rating": "3.91",
                                    "tag_id": "11644",
                                    "id": "1771",
                                    "goodreads_book_id": "337113"
                                },
                                {
                                    "authors": "Roxane Gay",
                                    "title": "Bad Feminist",
                                    "average_rating": "3.91",
                                    "tag_id": "11644",
                                    "id": "2739",
                                    "goodreads_book_id": "18813642"
                                },
                                {
                                    "authors": "Danielle Steel",
                                    "title": "The Gift",
                                    "average_rating": "3.91",
                                    "tag_id": "11644",
                                    "id": "7684",
                                    "goodreads_book_id": "59836"
                                },
                                {
                                    "authors": "Toni Morrison",
                                    "title": "Tar Baby",
                                    "average_rating": "3.91",
                                    "tag_id": "11644",
                                    "id": "6934",
                                    "goodreads_book_id": "11359"
                                },
                                {
                                    "authors": "Dorothy L. Sayers",
                                    "title": "Whose Body?  (Lord Peter Wimsey, #1)",
                                    "average_rating": "3.91",
                                    "tag_id": "11644",
                                    "id": "4290",
                                    "goodreads_book_id": "192893"
                                },
                                {
                                    "authors": "Sarah Vowell, Katherine Streeter",
                                    "title": "The Partly Cloudy Patriot",
                                    "average_rating": "3.9",
                                    "tag_id": "11644",
                                    "id": "4418",
                                    "goodreads_book_id": "12358"
                                },
                                {
                                    "authors": "Judith Guest",
                                    "title": "Ordinary People",
                                    "average_rating": "3.9",
                                    "tag_id": "11644",
                                    "id": "6729",
                                    "goodreads_book_id": "160251"
                                },
                                {
                                    "authors": "Isabel Allende, Margaret Sayers Peden",
                                    "title": "Inés of My Soul",
                                    "average_rating": "3.9",
                                    "tag_id": "11644",
                                    "id": "5774",
                                    "goodreads_book_id": "3300"
                                },
                                {
                                    "authors": "Agatha Christie",
                                    "title": "Hercule Poirot's Christmas (Hercule Poirot, #20)",
                                    "average_rating": "3.9",
                                    "tag_id": "11644",
                                    "id": "6087",
                                    "goodreads_book_id": "16349"
                                },
                                {
                                    "authors": "Susanna Kaysen",
                                    "title": "Girl, Interrupted",
                                    "average_rating": "3.9",
                                    "tag_id": "11644",
                                    "id": "604",
                                    "goodreads_book_id": "68783"
                                },
                                {
                                    "authors": "Amy Tan",
                                    "title": "The Joy Luck Club",
                                    "average_rating": "3.9",
                                    "tag_id": "11644",
                                    "id": "118",
                                    "goodreads_book_id": "7763"
                                },
                                {
                                    "authors": "Octavia E. Butler",
                                    "title": "Fledgling",
                                    "average_rating": "3.9",
                                    "tag_id": "11644",
                                    "id": "8517",
                                    "goodreads_book_id": "60925"
                                },
                                {
                                    "authors": "Iris Murdoch, Mary Kinzie",
                                    "title": "The Sea, the Sea",
                                    "average_rating": "3.9",
                                    "tag_id": "11644",
                                    "id": "8508",
                                    "goodreads_book_id": "11229"
                                },
                                {
                                    "authors": "Naomi Wolf",
                                    "title": "The Beauty Myth",
                                    "average_rating": "3.89",
                                    "tag_id": "11644",
                                    "id": "7946",
                                    "goodreads_book_id": "39926"
                                },
                                {
                                    "authors": "Liz Kessler, Sarah Gibb",
                                    "title": "The Tail of Emily Windsnap (Emily Windsnap, #1)",
                                    "average_rating": "3.89",
                                    "tag_id": "11644",
                                    "id": "8104",
                                    "goodreads_book_id": "161656"
                                },
                                {
                                    "authors": "Louise Erdrich",
                                    "title": "The Beet Queen",
                                    "average_rating": "3.89",
                                    "tag_id": "11644",
                                    "id": "9542",
                                    "goodreads_book_id": "91439"
                                },
                                {
                                    "authors": "Judy Blume",
                                    "title": "Are You There God? It's Me, Margaret",
                                    "average_rating": "3.89",
                                    "tag_id": "11644",
                                    "id": "621",
                                    "goodreads_book_id": "37732"
                                },
                                {
                                    "authors": "Isabel Allende, Margaret Sayers Peden",
                                    "title": "Daughter of Fortune",
                                    "average_rating": "3.89",
                                    "tag_id": "11644",
                                    "id": "925",
                                    "goodreads_book_id": "16527"
                                },
                                {
                                    "authors": "Mindy Kaling",
                                    "title": "Why Not Me?",
                                    "average_rating": "3.89",
                                    "tag_id": "11644",
                                    "id": "1044",
                                    "goodreads_book_id": "22716447"
                                },
                                {
                                    "authors": "Shirley Jackson, Laura   Miller",
                                    "title": "The Haunting of Hill House",
                                    "average_rating": "3.89",
                                    "tag_id": "11644",
                                    "id": "1954",
                                    "goodreads_book_id": "89717"
                                },
                                {
                                    "authors": "Ursula K. Le Guin",
                                    "title": "Tehanu (Earthsea Cycle, #4)",
                                    "average_rating": "3.89",
                                    "tag_id": "11644",
                                    "id": "5661",
                                    "goodreads_book_id": "13661"
                                },
                                {
                                    "authors": "Agatha Christie",
                                    "title": "The Mirror Crack'd from Side to Side (Miss Marple, #9)",
                                    "average_rating": "3.89",
                                    "tag_id": "11644",
                                    "id": "6512",
                                    "goodreads_book_id": "16372"
                                },
                                {
                                    "authors": "Agatha Christie",
                                    "title": "Peril at End House (Hercule Poirot, #8)",
                                    "average_rating": "3.89",
                                    "tag_id": "11644",
                                    "id": "6212",
                                    "goodreads_book_id": "16424"
                                },
                                {
                                    "authors": "Lucy Knisley",
                                    "title": "Relish: My Life in the Kitchen",
                                    "average_rating": "3.89",
                                    "tag_id": "11644",
                                    "id": "7189",
                                    "goodreads_book_id": "15786110"
                                },
                                {
                                    "authors": "S.E. Hinton",
                                    "title": "That Was Then, This Is Now",
                                    "average_rating": "3.89",
                                    "tag_id": "11644",
                                    "id": "4965",
                                    "goodreads_book_id": "33569"
                                },
                                {
                                    "authors": "Willa Cather",
                                    "title": "Death Comes for the Archbishop",
                                    "average_rating": "3.88",
                                    "tag_id": "11644",
                                    "id": "4996",
                                    "goodreads_book_id": "545951"
                                },
                                {
                                    "authors": "Rita Mae Brown",
                                    "title": "Rubyfruit Jungle",
                                    "average_rating": "3.88",
                                    "tag_id": "11644",
                                    "id": "4455",
                                    "goodreads_book_id": "165395"
                                },
                                {
                                    "authors": "Flannery O'Connor",
                                    "title": "Wise Blood",
                                    "average_rating": "3.88",
                                    "tag_id": "11644",
                                    "id": "4942",
                                    "goodreads_book_id": "48467"
                                },
                                {
                                    "authors": "Frida Kahlo, Carlos Fuentes, Sarah M. Lowe",
                                    "title": "The Diary of Frida Kahlo: An Intimate Self-Portrait",
                                    "average_rating": "3.88",
                                    "tag_id": "11644",
                                    "id": "3734",
                                    "goodreads_book_id": "91760"
                                },
                                {
                                    "authors": "Carrie Brownstein",
                                    "title": "Hunger Makes Me a Modern Girl",
                                    "average_rating": "3.88",
                                    "tag_id": "11644",
                                    "id": "5663",
                                    "goodreads_book_id": "25065629"
                                },
                                {
                                    "authors": "A.S. Byatt",
                                    "title": "Possession",
                                    "average_rating": "3.88",
                                    "tag_id": "11644",
                                    "id": "1970",
                                    "goodreads_book_id": "41219"
                                },
                                {
                                    "authors": "Jean M. Auel",
                                    "title": "The Mammoth Hunters (Earth's Children, #3)",
                                    "average_rating": "3.88",
                                    "tag_id": "11644",
                                    "id": "2406",
                                    "goodreads_book_id": "49824"
                                },
                                {
                                    "authors": "Vera Brosgol",
                                    "title": "Anya's Ghost",
                                    "average_rating": "3.88",
                                    "tag_id": "11644",
                                    "id": "2805",
                                    "goodreads_book_id": "9615347"
                                },
                                {
                                    "authors": "Elena Ferrante, Ann Goldstein",
                                    "title": "My Brilliant Friend (The Neapolitan Novels #1)",
                                    "average_rating": "3.88",
                                    "tag_id": "11644",
                                    "id": "1187",
                                    "goodreads_book_id": "13586707"
                                },
                                {
                                    "authors": "Inga Muscio, Betty Dodson",
                                    "title": "Cunt: A Declaration of Independence",
                                    "average_rating": "3.88",
                                    "tag_id": "11644",
                                    "id": "9962",
                                    "goodreads_book_id": "52588"
                                },
                                {
                                    "authors": "Georgia Byng",
                                    "title": "Molly Moon's Incredible Book of Hypnotism (Molly Moon, #1)",
                                    "average_rating": "3.87",
                                    "tag_id": "11644",
                                    "id": "9081",
                                    "goodreads_book_id": "807968"
                                },
                                {
                                    "authors": "Jacqueline Woodson",
                                    "title": "Another Brooklyn",
                                    "average_rating": "3.87",
                                    "tag_id": "11644",
                                    "id": "8065",
                                    "goodreads_book_id": "27213163"
                                },
                                {
                                    "authors": "V.C. Andrews",
                                    "title": "Dawn (Cutler, #1)",
                                    "average_rating": "3.87",
                                    "tag_id": "11644",
                                    "id": "7785",
                                    "goodreads_book_id": "397456"
                                },
                                {
                                    "authors": "Zora Neale Hurston",
                                    "title": "Their Eyes Were Watching God",
                                    "average_rating": "3.87",
                                    "tag_id": "11644",
                                    "id": "468",
                                    "goodreads_book_id": "37415"
                                },
                                {
                                    "authors": "Donna Tartt",
                                    "title": "The Goldfinch",
                                    "average_rating": "3.87",
                                    "tag_id": "11644",
                                    "id": "146",
                                    "goodreads_book_id": "17333223"
                                },
                                {
                                    "authors": "Anchee Min",
                                    "title": "Empress Orchid (Empress Orchid, #1)",
                                    "average_rating": "3.87",
                                    "tag_id": "11644",
                                    "id": "5297",
                                    "goodreads_book_id": "139254"
                                },
                                {
                                    "authors": "Sheri  Fink",
                                    "title": "Five Days at Memorial: Life and Death in a Storm-Ravaged Hospital",
                                    "average_rating": "3.87",
                                    "tag_id": "11644",
                                    "id": "5623",
                                    "goodreads_book_id": "17704902"
                                },
                                {
                                    "authors": "Joan Didion, David Thomson",
                                    "title": "Play It as It Lays",
                                    "average_rating": "3.86",
                                    "tag_id": "11644",
                                    "id": "5315",
                                    "goodreads_book_id": "428"
                                },
                                {
                                    "authors": "Naomi Klein",
                                    "title": "No Logo",
                                    "average_rating": "3.86",
                                    "tag_id": "11644",
                                    "id": "5120",
                                    "goodreads_book_id": "647"
                                },
                                {
                                    "authors": "Edwidge Danticat",
                                    "title": "Breath, Eyes, Memory",
                                    "average_rating": "3.86",
                                    "tag_id": "11644",
                                    "id": "4671",
                                    "goodreads_book_id": "5186"
                                },
                                {
                                    "authors": "Jill Bolte Taylor",
                                    "title": "My Stroke of Insight: A Brain Scientist's Personal Journey",
                                    "average_rating": "3.86",
                                    "tag_id": "11644",
                                    "id": "5772",
                                    "goodreads_book_id": "142292"
                                },
                                {
                                    "authors": "Eve Ensler, Gloria Steinem",
                                    "title": "The Vagina Monologues",
                                    "average_rating": "3.86",
                                    "tag_id": "11644",
                                    "id": "5906",
                                    "goodreads_book_id": "104734"
                                },
                                {
                                    "authors": "Susan Vreeland",
                                    "title": "The Passion of Artemisia",
                                    "average_rating": "3.86",
                                    "tag_id": "11644",
                                    "id": "7418",
                                    "goodreads_book_id": "98048"
                                },
                                {
                                    "authors": "Joan Didion",
                                    "title": "The Year of Magical Thinking",
                                    "average_rating": "3.86",
                                    "tag_id": "11644",
                                    "id": "895",
                                    "goodreads_book_id": "7815"
                                },
                                {
                                    "authors": "Anne Rice",
                                    "title": "The Queen of the Damned (The Vampire Chronicles, #3)",
                                    "average_rating": "3.86",
                                    "tag_id": "11644",
                                    "id": "898",
                                    "goodreads_book_id": "43758"
                                },
                                {
                                    "authors": "Virginia Woolf",
                                    "title": "Orlando",
                                    "average_rating": "3.86",
                                    "tag_id": "11644",
                                    "id": "3210",
                                    "goodreads_book_id": "18839"
                                },
                                {
                                    "authors": "Toni Morrison",
                                    "title": "Sula",
                                    "average_rating": "3.86",
                                    "tag_id": "11644",
                                    "id": "2508",
                                    "goodreads_book_id": "11346"
                                },
                                {
                                    "authors": "Sarah Vowell",
                                    "title": "Take the Cannoli",
                                    "average_rating": "3.86",
                                    "tag_id": "11644",
                                    "id": "8045",
                                    "goodreads_book_id": "12357"
                                },
                                {
                                    "authors": "Madeleine L'Engle",
                                    "title": "An Acceptable Time (A Wrinkle in Time Quintet, #5)",
                                    "average_rating": "3.86",
                                    "tag_id": "11644",
                                    "id": "9198",
                                    "goodreads_book_id": "24761"
                                },
                                {
                                    "authors": "Louise Erdrich",
                                    "title": "LaRose",
                                    "average_rating": "3.86",
                                    "tag_id": "11644",
                                    "id": "8722",
                                    "goodreads_book_id": "26116430"
                                },
                                {
                                    "authors": "Mary Higgins Clark",
                                    "title": "Pretend You Don't See Her",
                                    "average_rating": "3.86",
                                    "tag_id": "11644",
                                    "id": "9000",
                                    "goodreads_book_id": "43357"
                                },
                                {
                                    "authors": "Susanna Clarke, Charles Vess",
                                    "title": "The Ladies of Grace Adieu and Other Stories",
                                    "average_rating": "3.85",
                                    "tag_id": "11644",
                                    "id": "8931",
                                    "goodreads_book_id": "15161"
                                },
                                {
                                    "authors": "Agatha Christie",
                                    "title": "The Body in the Library (Miss Marple, #3)",
                                    "average_rating": "3.85",
                                    "tag_id": "11644",
                                    "id": "3229",
                                    "goodreads_book_id": "16319"
                                },
                                {
                                    "authors": "Hilary Mantel",
                                    "title": "Wolf Hall (Thomas Cromwell, #1)",
                                    "average_rating": "3.85",
                                    "tag_id": "11644",
                                    "id": "816",
                                    "goodreads_book_id": "6101138"
                                },
                                {
                                    "authors": "Tracy Chevalier",
                                    "title": "Girl with a Pearl Earring",
                                    "average_rating": "3.85",
                                    "tag_id": "11644",
                                    "id": "148",
                                    "goodreads_book_id": "2865"
                                },
                                {
                                    "authors": "Ayn Rand, Leonard Peikoff",
                                    "title": "The Fountainhead",
                                    "average_rating": "3.85",
                                    "tag_id": "11644",
                                    "id": "287",
                                    "goodreads_book_id": "2122"
                                },
                                {
                                    "authors": "Melina Marchetta",
                                    "title": "Looking for Alibrandi",
                                    "average_rating": "3.85",
                                    "tag_id": "11644",
                                    "id": "7433",
                                    "goodreads_book_id": "82436"
                                },
                                {
                                    "authors": "Betty Friedan, Anna Quindlen",
                                    "title": "The Feminine Mystique",
                                    "average_rating": "3.85",
                                    "tag_id": "11644",
                                    "id": "6998",
                                    "goodreads_book_id": "38723"
                                },
                                {
                                    "authors": "Daphne du Maurier",
                                    "title": "Jamaica Inn",
                                    "average_rating": "3.85",
                                    "tag_id": "11644",
                                    "id": "6278",
                                    "goodreads_book_id": "18869967"
                                },
                                {
                                    "authors": "Hannah  Green, Joanne Greenberg",
                                    "title": "I Never Promised You a Rose Garden",
                                    "average_rating": "3.85",
                                    "tag_id": "11644",
                                    "id": "4598",
                                    "goodreads_book_id": "45220"
                                },
                                {
                                    "authors": "Susan Cooper",
                                    "title": "Over Sea, Under Stone (The Dark Is Rising, #1)",
                                    "average_rating": "3.85",
                                    "tag_id": "11644",
                                    "id": "3826",
                                    "goodreads_book_id": "11312"
                                },
                                {
                                    "authors": "Elizabeth Gaskell",
                                    "title": "Cranford",
                                    "average_rating": "3.85",
                                    "tag_id": "11644",
                                    "id": "4219",
                                    "goodreads_book_id": "182381"
                                },
                                {
                                    "authors": "Cristina Henriquez",
                                    "title": "The Book of Unknown Americans",
                                    "average_rating": "3.85",
                                    "tag_id": "11644",
                                    "id": "3955",
                                    "goodreads_book_id": "18465852"
                                },
                                {
                                    "authors": "Carol Shields",
                                    "title": "The Stone Diaries",
                                    "average_rating": "3.84",
                                    "tag_id": "11644",
                                    "id": "3889",
                                    "goodreads_book_id": "77554"
                                },
                                {
                                    "authors": "Susan Sontag",
                                    "title": "On Photography",
                                    "average_rating": "3.84",
                                    "tag_id": "11644",
                                    "id": "3785",
                                    "goodreads_book_id": "52372"
                                },
                                {
                                    "authors": "Willa Cather",
                                    "title": "O Pioneers!",
                                    "average_rating": "3.84",
                                    "tag_id": "11644",
                                    "id": "3585",
                                    "goodreads_book_id": "140963"
                                },
                                {
                                    "authors": "Lilian Jackson Braun",
                                    "title": "The Cat Who Could Read Backwards (Cat Who..., #1)",
                                    "average_rating": "3.84",
                                    "tag_id": "11644",
                                    "id": "4447",
                                    "goodreads_book_id": "508903"
                                },
                                {
                                    "authors": "Fannie Flagg",
                                    "title": "Welcome to the World, Baby Girl! (Elmwood Springs, #1)",
                                    "average_rating": "3.84",
                                    "tag_id": "11644",
                                    "id": "5615",
                                    "goodreads_book_id": "84022"
                                },
                                {
                                    "authors": "Mindy Kaling",
                                    "title": "Is Everyone Hanging Out Without Me? (And Other Concerns)",
                                    "average_rating": "3.84",
                                    "tag_id": "11644",
                                    "id": "290",
                                    "goodreads_book_id": "10335308"
                                },
                                {
                                    "authors": "Jane Austen, Kathryn Sutherland, Tony Tanner, Claire Lamont",
                                    "title": "Mansfield Park",
                                    "average_rating": "3.84",
                                    "tag_id": "11644",
                                    "id": "471",
                                    "goodreads_book_id": "45032"
                                },
                                {
                                    "authors": "Ann Patchett",
                                    "title": "Commonwealth",
                                    "average_rating": "3.84",
                                    "tag_id": "11644",
                                    "id": "2037",
                                    "goodreads_book_id": "28214365"
                                },
                                {
                                    "authors": "Lily King",
                                    "title": "Euphoria",
                                    "average_rating": "3.84",
                                    "tag_id": "11644",
                                    "id": "1912",
                                    "goodreads_book_id": "18467802"
                                },
                                {
                                    "authors": "Marilynne Robinson",
                                    "title": "Gilead (Gilead, #1)",
                                    "average_rating": "3.84",
                                    "tag_id": "11644",
                                    "id": "1796",
                                    "goodreads_book_id": "68210"
                                },
                                {
                                    "authors": "Agatha Christie",
                                    "title": "Nemesis (Miss Marple, #12)",
                                    "average_rating": "3.84",
                                    "tag_id": "11644",
                                    "id": "7748",
                                    "goodreads_book_id": "31304"
                                },
                                {
                                    "authors": "Rita Golden Gelman",
                                    "title": "Tales of a Female Nomad: Living at Large in the World",
                                    "average_rating": "3.84",
                                    "tag_id": "11644",
                                    "id": "7770",
                                    "goodreads_book_id": "85622"
                                },
                                {
                                    "authors": "G. Willow Wilson",
                                    "title": "Alif the Unseen",
                                    "average_rating": "3.84",
                                    "tag_id": "11644",
                                    "id": "8271",
                                    "goodreads_book_id": "13239822"
                                },
                                {
                                    "authors": "Agatha Christie",
                                    "title": "The Moving Finger (Miss Marple, #4)",
                                    "average_rating": "3.84",
                                    "tag_id": "11644",
                                    "id": "8215",
                                    "goodreads_book_id": "16341"
                                },
                                {
                                    "authors": "Agatha Christie",
                                    "title": "After the Funeral (Hercule Poirot, #29)",
                                    "average_rating": "3.84",
                                    "tag_id": "11644",
                                    "id": "8156",
                                    "goodreads_book_id": "527744"
                                },
                                {
                                    "authors": "Jeanette Winterson",
                                    "title": "Sexing the Cherry",
                                    "average_rating": "3.83",
                                    "tag_id": "11644",
                                    "id": "8692",
                                    "goodreads_book_id": "15050"
                                },
                                {
                                    "authors": "Jessi Klein",
                                    "title": "You'll Grow Out of It",
                                    "average_rating": "3.83",
                                    "tag_id": "11644",
                                    "id": "9651",
                                    "goodreads_book_id": "27170141"
                                },
                                {
                                    "authors": "Portia de Rossi",
                                    "title": "Unbearable Lightness: A Story of Loss and Gain",
                                    "average_rating": "3.83",
                                    "tag_id": "11644",
                                    "id": "2948",
                                    "goodreads_book_id": "9219901"
                                },
                                {
                                    "authors": "Mary Roach",
                                    "title": "Bonk: The Curious Coupling of Science and Sex",
                                    "average_rating": "3.83",
                                    "tag_id": "11644",
                                    "id": "2661",
                                    "goodreads_book_id": "2082136"
                                },
                                {
                                    "authors": "Patricia Schultz",
                                    "title": "1,000 Places to See Before You Die",
                                    "average_rating": "3.83",
                                    "tag_id": "11644",
                                    "id": "2618",
                                    "goodreads_book_id": "11525"
                                },
                                {
                                    "authors": "Harriet Beecher Stowe",
                                    "title": "Uncle Tom's Cabin",
                                    "average_rating": "3.83",
                                    "tag_id": "11644",
                                    "id": "650",
                                    "goodreads_book_id": "46787"
                                },
                                {
                                    "authors": "Annie Proulx",
                                    "title": "The Shipping News",
                                    "average_rating": "3.83",
                                    "tag_id": "11644",
                                    "id": "919",
                                    "goodreads_book_id": "7354"
                                },
                                {
                                    "authors": "Joanne Harris",
                                    "title": "Five Quarters of the Orange",
                                    "average_rating": "3.83",
                                    "tag_id": "11644",
                                    "id": "4508",
                                    "goodreads_book_id": "15096"
                                },
                                {
                                    "authors": "Banana Yoshimoto, Megan Backus",
                                    "title": "Kitchen",
                                    "average_rating": "3.83",
                                    "tag_id": "11644",
                                    "id": "3708",
                                    "goodreads_book_id": "50144"
                                },
                                {
                                    "authors": "Margaret Atwood",
                                    "title": "The Robber Bride",
                                    "average_rating": "3.82",
                                    "tag_id": "11644",
                                    "id": "3837",
                                    "goodreads_book_id": "17650"
                                },
                                {
                                    "authors": "Marilynne Robinson",
                                    "title": "Housekeeping",
                                    "average_rating": "3.82",
                                    "tag_id": "11644",
                                    "id": "3638",
                                    "goodreads_book_id": "11741"
                                },
                                {
                                    "authors": "Camille Pagán",
                                    "title": "Life and Other Near-Death Experiences",
                                    "average_rating": "3.82",
                                    "tag_id": "11644",
                                    "id": "4787",
                                    "goodreads_book_id": "26583370"
                                },
                                {
                                    "authors": "Anne Tyler",
                                    "title": "Dinner at the Homesick Restaurant",
                                    "average_rating": "3.82",
                                    "tag_id": "11644",
                                    "id": "6181",
                                    "goodreads_book_id": "77699"
                                },
                                {
                                    "authors": "George Eliot, Edmund White",
                                    "title": "Daniel Deronda",
                                    "average_rating": "3.82",
                                    "tag_id": "11644",
                                    "id": "5915",
                                    "goodreads_book_id": "304"
                                },
                                {
                                    "authors": "Agatha Christie",
                                    "title": "Cat Among the Pigeons (Hercule Poirot, #32)",
                                    "average_rating": "3.82",
                                    "tag_id": "11644",
                                    "id": "7208",
                                    "goodreads_book_id": "16342"
                                },
                                {
                                    "authors": "Alice Munro",
                                    "title": "Too Much Happiness",
                                    "average_rating": "3.82",
                                    "tag_id": "11644",
                                    "id": "7366",
                                    "goodreads_book_id": "6464937"
                                },
                                {
                                    "authors": "Jhumpa Lahiri",
                                    "title": "The Lowland",
                                    "average_rating": "3.82",
                                    "tag_id": "11644",
                                    "id": "1242",
                                    "goodreads_book_id": "17262100"
                                },
                                {
                                    "authors": "Emily Brontë, Richard J. Dunn",
                                    "title": "Wuthering Heights",
                                    "average_rating": "3.82",
                                    "tag_id": "11644",
                                    "id": "63",
                                    "goodreads_book_id": "6185"
                                },
                                {
                                    "authors": "Therese Anne Fowler",
                                    "title": "Z: A Novel of Zelda Fitzgerald",
                                    "average_rating": "3.82",
                                    "tag_id": "11644",
                                    "id": "2769",
                                    "goodreads_book_id": "15994634"
                                },
                                {
                                    "authors": "Marina Keegan",
                                    "title": "The Opposite of Loneliness: Essays and Stories",
                                    "average_rating": "3.82",
                                    "tag_id": "11644",
                                    "id": "3432",
                                    "goodreads_book_id": "18143905"
                                },
                                {
                                    "authors": "Irène Némirovsky, Sandra Smith",
                                    "title": "Suite Française",
                                    "average_rating": "3.82",
                                    "tag_id": "11644",
                                    "id": "2107",
                                    "goodreads_book_id": "43944"
                                },
                                {
                                    "authors": "Marie Kondō",
                                    "title": "Spark Joy: An Illustrated Master Class on the Art of Organizing and Tidying Up",
                                    "average_rating": "3.82",
                                    "tag_id": "11644",
                                    "id": "9809",
                                    "goodreads_book_id": "25614984"
                                },
                                {
                                    "authors": "Patricia Highsmith",
                                    "title": "Strangers on a Train",
                                    "average_rating": "3.82",
                                    "tag_id": "11644",
                                    "id": "9793",
                                    "goodreads_book_id": "15677"
                                },
                                {
                                    "authors": "Marjane Satrapi, Anjali Singh",
                                    "title": "Embroideries",
                                    "average_rating": "3.82",
                                    "tag_id": "11644",
                                    "id": "8367",
                                    "goodreads_book_id": "9526"
                                },
                                {
                                    "authors": "Donna Leon",
                                    "title": "Death at La Fenice (Commissario Brunetti, #1)",
                                    "average_rating": "3.81",
                                    "tag_id": "11644",
                                    "id": "9451",
                                    "goodreads_book_id": "68099"
                                },
                                {
                                    "authors": "Miranda July",
                                    "title": "No One Belongs Here More Than You",
                                    "average_rating": "3.81",
                                    "tag_id": "11644",
                                    "id": "3187",
                                    "goodreads_book_id": "113429"
                                },
                                {
                                    "authors": "Amy Poehler",
                                    "title": "Yes Please",
                                    "average_rating": "3.81",
                                    "tag_id": "11644",
                                    "id": "352",
                                    "goodreads_book_id": "20910157"
                                },
                                {
                                    "authors": "Elizabeth Gilbert",
                                    "title": "The Signature of All Things",
                                    "average_rating": "3.81",
                                    "tag_id": "11644",
                                    "id": "1271",
                                    "goodreads_book_id": "17465453"
                                },
                                {
                                    "authors": "Tracy Chevalier",
                                    "title": "Remarkable Creatures ",
                                    "average_rating": "3.81",
                                    "tag_id": "11644",
                                    "id": "3686",
                                    "goodreads_book_id": "6457081"
                                },
                                {
                                    "authors": "V.C. Andrews",
                                    "title": "Seeds of Yesterday (Dollanganger, #4)",
                                    "average_rating": "3.81",
                                    "tag_id": "11644",
                                    "id": "4052",
                                    "goodreads_book_id": "659612"
                                },
                                {
                                    "authors": "N.K. Jemisin",
                                    "title": "The Hundred Thousand Kingdoms (Inheritance Trilogy, #1)",
                                    "average_rating": "3.8",
                                    "tag_id": "11644",
                                    "id": "4200",
                                    "goodreads_book_id": "6437061"
                                },
                                {
                                    "authors": "Miranda Hart",
                                    "title": "Is It Just Me?",
                                    "average_rating": "3.8",
                                    "tag_id": "11644",
                                    "id": "7709",
                                    "goodreads_book_id": "15733346"
                                },
                                {
                                    "authors": "Agatha Christie",
                                    "title": "The Murder on the Links (Hercule Poirot, #2)",
                                    "average_rating": "3.8",
                                    "tag_id": "11644",
                                    "id": "6314",
                                    "goodreads_book_id": "639787"
                                },
                                {
                                    "authors": "Susanna Clarke",
                                    "title": "Jonathan Strange & Mr Norrell",
                                    "average_rating": "3.8",
                                    "tag_id": "11644",
                                    "id": "682",
                                    "goodreads_book_id": "14201"
                                },
                                {
                                    "authors": "Jane Austen, Alfred MacAdam",
                                    "title": "Northanger Abbey",
                                    "average_rating": "3.8",
                                    "tag_id": "11644",
                                    "id": "451",
                                    "goodreads_book_id": "50398"
                                },
                                {
                                    "authors": "Sheri Reynolds",
                                    "title": "The Rapture of Canaan",
                                    "average_rating": "3.8",
                                    "tag_id": "11644",
                                    "id": "3468",
                                    "goodreads_book_id": "5180"
                                },
                                {
                                    "authors": "Isabel Allende, Nick Caistor, Amanda Hopkinson",
                                    "title": "The Japanese Lover",
                                    "average_rating": "3.8",
                                    "tag_id": "11644",
                                    "id": "2999",
                                    "goodreads_book_id": "25152052"
                                },
                                {
                                    "authors": "Jodi Picoult",
                                    "title": "Salem Falls",
                                    "average_rating": "3.8",
                                    "tag_id": "11644",
                                    "id": "1685",
                                    "goodreads_book_id": "10915"
                                },
                                {
                                    "authors": "Nella Larsen, Ntozake Shange, Thadious M. Davis",
                                    "title": "Passing",
                                    "average_rating": "3.8",
                                    "tag_id": "11644",
                                    "id": "8840",
                                    "goodreads_book_id": "349929"
                                },
                                {
                                    "authors": "Scarlett Thomas",
                                    "title": "The End of Mr. Y",
                                    "average_rating": "3.79",
                                    "tag_id": "11644",
                                    "id": "8653",
                                    "goodreads_book_id": "93436"
                                },
                                {
                                    "authors": "Robin McKinley",
                                    "title": "Spindle's End",
                                    "average_rating": "3.79",
                                    "tag_id": "11644",
                                    "id": "7934",
                                    "goodreads_book_id": "77368"
                                },
                                {
                                    "authors": "Marian Keyes",
                                    "title": "Watermelon (Walsh Family, #1)",
                                    "average_rating": "3.79",
                                    "tag_id": "11644",
                                    "id": "1713",
                                    "goodreads_book_id": "9300"
                                },
                                {
                                    "authors": "Sarah Dunant",
                                    "title": "The Birth of Venus",
                                    "average_rating": "3.79",
                                    "tag_id": "11644",
                                    "id": "1171",
                                    "goodreads_book_id": "28078"
                                },
                                {
                                    "authors": "Elif Shafak",
                                    "title": "The Bastard of Istanbul",
                                    "average_rating": "3.79",
                                    "tag_id": "11644",
                                    "id": "4769",
                                    "goodreads_book_id": "98920"
                                },
                                {
                                    "authors": "Kate Atkinson",
                                    "title": "One Good Turn (Jackson Brodie, #2)",
                                    "average_rating": "3.79",
                                    "tag_id": "11644",
                                    "id": "5468",
                                    "goodreads_book_id": "501124"
                                },
                                {
                                    "authors": "Judy Blume",
                                    "title": "Blubber",
                                    "average_rating": "3.78",
                                    "tag_id": "11644",
                                    "id": "4815",
                                    "goodreads_book_id": "37739"
                                },
                                {
                                    "authors": "Toni Morrison",
                                    "title": "Jazz",
                                    "average_rating": "3.78",
                                    "tag_id": "11644",
                                    "id": "6389",
                                    "goodreads_book_id": "37398"
                                },
                                {
                                    "authors": "Agatha Christie",
                                    "title": "Death in the Clouds (Hercule Poirot, #12)",
                                    "average_rating": "3.78",
                                    "tag_id": "11644",
                                    "id": "6684",
                                    "goodreads_book_id": "16326"
                                },
                                {
                                    "authors": "Virginia Woolf, Maureen Howard",
                                    "title": "Mrs. Dalloway",
                                    "average_rating": "3.78",
                                    "tag_id": "11644",
                                    "id": "701",
                                    "goodreads_book_id": "14942"
                                },
                                {
                                    "authors": "Celeste Ng",
                                    "title": "Everything I Never Told You",
                                    "average_rating": "3.78",
                                    "tag_id": "11644",
                                    "id": "668",
                                    "goodreads_book_id": "18693763"
                                },
                                {
                                    "authors": "Jane Hamilton, Frank  Muller, C.J. Critt",
                                    "title": "A Map of the World",
                                    "average_rating": "3.78",
                                    "tag_id": "11644",
                                    "id": "1567",
                                    "goodreads_book_id": "5205"
                                },
                                {
                                    "authors": "Marian Keyes",
                                    "title": "Last Chance Saloon",
                                    "average_rating": "3.78",
                                    "tag_id": "11644",
                                    "id": "3016",
                                    "goodreads_book_id": "9298"
                                },
                                {
                                    "authors": "Lauren Oliver",
                                    "title": "Annabel (Delirium, #0.5)",
                                    "average_rating": "3.78",
                                    "tag_id": "11644",
                                    "id": "9634",
                                    "goodreads_book_id": "15820492"
                                },
                                {
                                    "authors": "S.E. Hinton",
                                    "title": "Rumble Fish",
                                    "average_rating": "3.77",
                                    "tag_id": "11644",
                                    "id": "7840",
                                    "goodreads_book_id": "759960"
                                },
                                {
                                    "authors": "George Eliot, A.S. Byatt",
                                    "title": "The Mill on the Floss",
                                    "average_rating": "3.77",
                                    "tag_id": "11644",
                                    "id": "2952",
                                    "goodreads_book_id": "20564"
                                },
                                {
                                    "authors": "Marian Keyes",
                                    "title": "The Other Side of the Story",
                                    "average_rating": "3.77",
                                    "tag_id": "11644",
                                    "id": "2938",
                                    "goodreads_book_id": "9302"
                                },
                                {
                                    "authors": "Elizabeth  Smart, Chris Stewart",
                                    "title": "My Story",
                                    "average_rating": "3.77",
                                    "tag_id": "11644",
                                    "id": "3315",
                                    "goodreads_book_id": "17287028"
                                },
                                {
                                    "authors": "Beatrice Sparks, Anonymous",
                                    "title": "Go Ask Alice",
                                    "average_rating": "3.77",
                                    "tag_id": "11644",
                                    "id": "425",
                                    "goodreads_book_id": "46799"
                                },
                                {
                                    "authors": "Toni Morrison",
                                    "title": "Beloved",
                                    "average_rating": "3.77",
                                    "tag_id": "11644",
                                    "id": "354",
                                    "goodreads_book_id": "6149"
                                },
                                {
                                    "authors": "Alice Sebold",
                                    "title": "The Lovely Bones",
                                    "average_rating": "3.77",
                                    "tag_id": "11644",
                                    "id": "22",
                                    "goodreads_book_id": "12232938"
                                },
                                {
                                    "authors": "Alice Sebold",
                                    "title": "Lucky",
                                    "average_rating": "3.77",
                                    "tag_id": "11644",
                                    "id": "1083",
                                    "goodreads_book_id": "82970"
                                },
                                {
                                    "authors": "Marie Kondō, Cathy Hirano",
                                    "title": "The Life-Changing Magic of Tidying Up: The Japanese Art of Decluttering and Organizing",
                                    "average_rating": "3.77",
                                    "tag_id": "11644",
                                    "id": "920",
                                    "goodreads_book_id": "22318578"
                                },
                                {
                                    "authors": "Agatha Christie",
                                    "title": "The Mystery of the Blue Train (Hercule Poirot, #6)",
                                    "average_rating": "3.77",
                                    "tag_id": "11644",
                                    "id": "7006",
                                    "goodreads_book_id": "16335"
                                },
                                {
                                    "authors": "George Eliot, Joanna Trollope, Hugh Osborne",
                                    "title": "Adam Bede",
                                    "average_rating": "3.77",
                                    "tag_id": "11644",
                                    "id": "5931",
                                    "goodreads_book_id": "20563"
                                },
                                {
                                    "authors": "Toni Morrison",
                                    "title": "Paradise",
                                    "average_rating": "3.77",
                                    "tag_id": "11644",
                                    "id": "5629",
                                    "goodreads_book_id": "5198"
                                },
                                {
                                    "authors": "Marguerite Duras, Barbara Bray, Maxine Hong Kingston",
                                    "title": "The Lover",
                                    "average_rating": "3.76",
                                    "tag_id": "11644",
                                    "id": "4602",
                                    "goodreads_book_id": "275"
                                },
                                {
                                    "authors": "Muriel Spark",
                                    "title": "The Prime of Miss Jean Brodie",
                                    "average_rating": "3.76",
                                    "tag_id": "11644",
                                    "id": "4091",
                                    "goodreads_book_id": "517188"
                                },
                                {
                                    "authors": "Kyung-Sook Shin, 신경숙, Chi-Young Kim",
                                    "title": "Please Look After Mom",
                                    "average_rating": "3.76",
                                    "tag_id": "11644",
                                    "id": "6329",
                                    "goodreads_book_id": "8574333"
                                },
                                {
                                    "authors": "Virginia Woolf",
                                    "title": "To the Lighthouse",
                                    "average_rating": "3.76",
                                    "tag_id": "11644",
                                    "id": "1084",
                                    "goodreads_book_id": "59716"
                                },
                                {
                                    "authors": "Willa Cather",
                                    "title": "My Ántonia",
                                    "average_rating": "3.76",
                                    "tag_id": "11644",
                                    "id": "1094",
                                    "goodreads_book_id": "17150"
                                },
                                {
                                    "authors": "Iris Murdoch",
                                    "title": "Under the Net",
                                    "average_rating": "3.76",
                                    "tag_id": "11644",
                                    "id": "9323",
                                    "goodreads_book_id": "11324"
                                },
                                {
                                    "authors": "Zadie Smith",
                                    "title": "White Teeth",
                                    "average_rating": "3.75",
                                    "tag_id": "11644",
                                    "id": "1005",
                                    "goodreads_book_id": "3711"
                                },
                                {
                                    "authors": "Mary Wollstonecraft Shelley, Percy Bysshe Shelley, Maurice Hindle",
                                    "title": "Frankenstein",
                                    "average_rating": "3.75",
                                    "tag_id": "11644",
                                    "id": "71",
                                    "goodreads_book_id": "18490"
                                },
                                {
                                    "authors": "Helen Fielding",
                                    "title": "Bridget Jones's Diary (Bridget Jones, #1)",
                                    "average_rating": "3.75",
                                    "tag_id": "11644",
                                    "id": "75",
                                    "goodreads_book_id": "227443"
                                },
                                {
                                    "authors": "Ann Brashares",
                                    "title": "The Sisterhood of the Traveling Pants (Sisterhood, #1)",
                                    "average_rating": "3.75",
                                    "tag_id": "11644",
                                    "id": "120",
                                    "goodreads_book_id": "452306"
                                },
                                {
                                    "authors": "Jeanette Winterson",
                                    "title": "Oranges Are Not the Only Fruit",
                                    "average_rating": "3.75",
                                    "tag_id": "11644",
                                    "id": "2747",
                                    "goodreads_book_id": "15055"
                                },
                                {
                                    "authors": "Charlotte Brontë, A.S. Byatt, Μαρία Λαϊνά, Ignes Sodre",
                                    "title": "Villette",
                                    "average_rating": "3.75",
                                    "tag_id": "11644",
                                    "id": "2499",
                                    "goodreads_book_id": "31173"
                                },
                                {
                                    "authors": "Isabel Allende, Margaret Sayers Peden",
                                    "title": "Zorro",
                                    "average_rating": "3.75",
                                    "tag_id": "11644",
                                    "id": "6604",
                                    "goodreads_book_id": "24796"
                                },
                                {
                                    "authors": "Joan Didion",
                                    "title": "Blue Nights",
                                    "average_rating": "3.75",
                                    "tag_id": "11644",
                                    "id": "6168",
                                    "goodreads_book_id": "10252302"
                                },
                                {
                                    "authors": "Doris Lessing",
                                    "title": "The Golden Notebook",
                                    "average_rating": "3.75",
                                    "tag_id": "11644",
                                    "id": "7496",
                                    "goodreads_book_id": "24100"
                                },
                                {
                                    "authors": "Linda Lafferty",
                                    "title": "The Bloodletter's Daughter: A Novel of Old Bohemia",
                                    "average_rating": "3.75",
                                    "tag_id": "11644",
                                    "id": "7077",
                                    "goodreads_book_id": "15096257"
                                },
                                {
                                    "authors": "Hillary Rodham Clinton",
                                    "title": "Living History",
                                    "average_rating": "3.75",
                                    "tag_id": "11644",
                                    "id": "3896",
                                    "goodreads_book_id": "56073"
                                },
                                {
                                    "authors": "Marian Keyes",
                                    "title": "This Charming Man",
                                    "average_rating": "3.75",
                                    "tag_id": "11644",
                                    "id": "3516",
                                    "goodreads_book_id": "2334751"
                                },
                                {
                                    "authors": "Alice Munro",
                                    "title": "Dear Life: Stories",
                                    "average_rating": "3.75",
                                    "tag_id": "11644",
                                    "id": "4438",
                                    "goodreads_book_id": "13530981"
                                },
                                {
                                    "authors": "Chelsea Handler, Johnny Kansas, Stephanie Stehling, Heather McDonald, Roy Handler, Brad Wollack, Amber Mazzola, Josh Wolf, Shoshanna Handler, Eva Magdalenski, Amy Meyer, Glen Handler, Dave Mallow, Sarah Colonna",
                                    "title": "Lies That Chelsea Handler Told Me",
                                    "average_rating": "3.74",
                                    "tag_id": "11644",
                                    "id": "2206",
                                    "goodreads_book_id": "9902804"
                                },
                                {
                                    "authors": "Helen Macdonald",
                                    "title": "H is for Hawk",
                                    "average_rating": "3.74",
                                    "tag_id": "11644",
                                    "id": "2652",
                                    "goodreads_book_id": "18803640"
                                },
                                {
                                    "authors": "Tana French",
                                    "title": "In the Woods (Dublin Murder Squad, #1)",
                                    "average_rating": "3.74",
                                    "tag_id": "11644",
                                    "id": "473",
                                    "goodreads_book_id": "237209"
                                },
                                {
                                    "authors": "Agatha Christie",
                                    "title": "They Do It with Mirrors (Miss Marple, #6)",
                                    "average_rating": "3.74",
                                    "tag_id": "11644",
                                    "id": "9494",
                                    "goodreads_book_id": "68930"
                                },
                                {
                                    "authors": "Agatha Christie, Hugh Fraser",
                                    "title": "One, Two, Buckle My Shoe (Hercule Poirot, #22)",
                                    "average_rating": "3.74",
                                    "tag_id": "11644",
                                    "id": "9469",
                                    "goodreads_book_id": "16312"
                                },
                                {
                                    "authors": "Jacqueline Wilson, Nick Sharratt",
                                    "title": "The Illustrated Mum",
                                    "average_rating": "3.74",
                                    "tag_id": "11644",
                                    "id": "9881",
                                    "goodreads_book_id": "511684"
                                },
                                {
                                    "authors": "Leslie Marmon Silko",
                                    "title": "Ceremony",
                                    "average_rating": "3.73",
                                    "tag_id": "11644",
                                    "id": "8018",
                                    "goodreads_book_id": "588234"
                                },
                                {
                                    "authors": "Caitlin Moran",
                                    "title": "How to Be a Woman",
                                    "average_rating": "3.73",
                                    "tag_id": "11644",
                                    "id": "1307",
                                    "goodreads_book_id": "10600242"
                                },
                                {
                                    "authors": "Rachel Cohn, David Levithan",
                                    "title": "Nick & Norah's Infinite Playlist",
                                    "average_rating": "3.73",
                                    "tag_id": "11644",
                                    "id": "1583",
                                    "goodreads_book_id": "25373"
                                },
                                {
                                    "authors": "Anne Rice",
                                    "title": "Memnoch the Devil (The Vampire Chronicles, #5)",
                                    "average_rating": "3.73",
                                    "tag_id": "11644",
                                    "id": "1633",
                                    "goodreads_book_id": "31338"
                                },
                                {
                                    "authors": "Marian Keyes",
                                    "title": " Angels (Walsh Family, #3)",
                                    "average_rating": "3.73",
                                    "tag_id": "11644",
                                    "id": "3998",
                                    "goodreads_book_id": "82747"
                                },
                                {
                                    "authors": "Mary Elizabeth Braddon",
                                    "title": "Lady Audley's Secret",
                                    "average_rating": "3.73",
                                    "tag_id": "11644",
                                    "id": "7650",
                                    "goodreads_book_id": "588747"
                                },
                                {
                                    "authors": "Sarah Waters",
                                    "title": "Affinity",
                                    "average_rating": "3.73",
                                    "tag_id": "11644",
                                    "id": "6587",
                                    "goodreads_book_id": "72929"
                                },
                                {
                                    "authors": "Maxine Hong Kingston",
                                    "title": "The Woman Warrior",
                                    "average_rating": "3.72",
                                    "tag_id": "11644",
                                    "id": "5863",
                                    "goodreads_book_id": "30852"
                                },
                                {
                                    "authors": "Julie Gregory",
                                    "title": "Sickened: The Memoir of a Munchausen by Proxy Childhood",
                                    "average_rating": "3.72",
                                    "tag_id": "11644",
                                    "id": "7453",
                                    "goodreads_book_id": "4507"
                                },
                                {
                                    "authors": "Jenny Offill",
                                    "title": "Dept. of Speculation",
                                    "average_rating": "3.72",
                                    "tag_id": "11644",
                                    "id": "3961",
                                    "goodreads_book_id": "17402288"
                                },
                                {
                                    "authors": "Ellen DeGeneres",
                                    "title": "Seriously... I'm Kidding",
                                    "average_rating": "3.72",
                                    "tag_id": "11644",
                                    "id": "1162",
                                    "goodreads_book_id": "11230081"
                                },
                                {
                                    "authors": "Lorraine Hansberry",
                                    "title": "A Raisin in the Sun",
                                    "average_rating": "3.72",
                                    "tag_id": "11644",
                                    "id": "2240",
                                    "goodreads_book_id": "5517"
                                },
                                {
                                    "authors": "Amélie Nothomb",
                                    "title": "Stupeur et tremblements",
                                    "average_rating": "3.72",
                                    "tag_id": "11644",
                                    "id": "8538",
                                    "goodreads_book_id": "71458"
                                },
                                {
                                    "authors": "Toni Morrison",
                                    "title": "Home",
                                    "average_rating": "3.71",
                                    "tag_id": "11644",
                                    "id": "8019",
                                    "goodreads_book_id": "13152998"
                                },
                                {
                                    "authors": "Agatha Christie, Robin Bailey",
                                    "title": "The Clocks (Hercule Poirot, #34)",
                                    "average_rating": "3.71",
                                    "tag_id": "11644",
                                    "id": "9476",
                                    "goodreads_book_id": "388018"
                                },
                                {
                                    "authors": "Karen Joy Fowler",
                                    "title": "We Are All Completely Beside Ourselves",
                                    "average_rating": "3.71",
                                    "tag_id": "11644",
                                    "id": "1212",
                                    "goodreads_book_id": "16176440"
                                },
                                {
                                    "authors": "Carrie Fisher",
                                    "title": "Wishful Drinking",
                                    "average_rating": "3.71",
                                    "tag_id": "11644",
                                    "id": "3618",
                                    "goodreads_book_id": "4961048"
                                },
                                {
                                    "authors": "Charlotte Brontë, Lucasta Miller, collaborative, Jessica Cox",
                                    "title": "Shirley",
                                    "average_rating": "3.71",
                                    "tag_id": "11644",
                                    "id": "4870",
                                    "goodreads_book_id": "31168"
                                },
                                {
                                    "authors": "NoViolet Bulawayo",
                                    "title": "We Need New Names",
                                    "average_rating": "3.71",
                                    "tag_id": "11644",
                                    "id": "7329",
                                    "goodreads_book_id": "15852479"
                                },
                                {
                                    "authors": "Sonali Deraniyagala",
                                    "title": "Wave",
                                    "average_rating": "3.7",
                                    "tag_id": "11644",
                                    "id": "7273",
                                    "goodreads_book_id": "15771862"
                                },
                                {
                                    "authors": "Pearl Cleage",
                                    "title": "What Looks Like Crazy on an Ordinary Day (Idlewild, #1)",
                                    "average_rating": "3.7",
                                    "tag_id": "11644",
                                    "id": "5667",
                                    "goodreads_book_id": "5175"
                                },
                                {
                                    "authors": "Toni Morrison",
                                    "title": "God Help the Child",
                                    "average_rating": "3.7",
                                    "tag_id": "11644",
                                    "id": "6460",
                                    "goodreads_book_id": "23602473"
                                },
                                {
                                    "authors": "Anne Rice",
                                    "title": "The Tale of the Body Thief (The Vampire Chronicles, #4)",
                                    "average_rating": "3.7",
                                    "tag_id": "11644",
                                    "id": "1533",
                                    "goodreads_book_id": "31336"
                                },
                                {
                                    "authors": "Joyce Carol Oates",
                                    "title": "We Were the Mulvaneys",
                                    "average_rating": "3.7",
                                    "tag_id": "11644",
                                    "id": "1145",
                                    "goodreads_book_id": "5204"
                                },
                                {
                                    "authors": "Piper Kerman",
                                    "title": "Orange Is the New Black",
                                    "average_rating": "3.7",
                                    "tag_id": "11644",
                                    "id": "617",
                                    "goodreads_book_id": "6314763"
                                },
                                {
                                    "authors": "Eleanor Catton",
                                    "title": "The Luminaries",
                                    "average_rating": "3.7",
                                    "tag_id": "11644",
                                    "id": "1920",
                                    "goodreads_book_id": "17333230"
                                },
                                {
                                    "authors": "Marisha Pessl",
                                    "title": "Special Topics in Calamity Physics",
                                    "average_rating": "3.7",
                                    "tag_id": "11644",
                                    "id": "2914",
                                    "goodreads_book_id": "3483"
                                },
                                {
                                    "authors": "Emma Healey",
                                    "title": "Elizabeth Is Missing",
                                    "average_rating": "3.7",
                                    "tag_id": "11644",
                                    "id": "2829",
                                    "goodreads_book_id": "18635113"
                                },
                                {
                                    "authors": "Jacqueline Susann",
                                    "title": "Valley of the Dolls",
                                    "average_rating": "3.7",
                                    "tag_id": "11644",
                                    "id": "3090",
                                    "goodreads_book_id": "50833"
                                },
                                {
                                    "authors": "Julie Otsuka",
                                    "title": "When the Emperor Was Divine",
                                    "average_rating": "3.7",
                                    "tag_id": "11644",
                                    "id": "9386",
                                    "goodreads_book_id": "764073"
                                },
                                {
                                    "authors": "Agatha Christie",
                                    "title": "At Bertram's Hotel (Miss Marple, #11)",
                                    "average_rating": "3.7",
                                    "tag_id": "11644",
                                    "id": "8868",
                                    "goodreads_book_id": "16333"
                                },
                                {
                                    "authors": "Elizabeth Gaskell, Shirley Foster",
                                    "title": "Mary Barton",
                                    "average_rating": "3.7",
                                    "tag_id": "11644",
                                    "id": "8564",
                                    "goodreads_book_id": "54620"
                                },
                                {
                                    "authors": "Anaïs Nin",
                                    "title": "Delta of Venus",
                                    "average_rating": "3.69",
                                    "tag_id": "11644",
                                    "id": "7812",
                                    "goodreads_book_id": "11041"
                                },
                                {
                                    "authors": "Jacqueline Wilson, Nick Sharratt, Sue Heap",
                                    "title": "Double Act",
                                    "average_rating": "3.69",
                                    "tag_id": "11644",
                                    "id": "7879",
                                    "goodreads_book_id": "511527"
                                },
                                {
                                    "authors": "Emma Donoghue",
                                    "title": "Slammerkin",
                                    "average_rating": "3.69",
                                    "tag_id": "11644",
                                    "id": "9158",
                                    "goodreads_book_id": "44543"
                                },
                                {
                                    "authors": "Cecelia Ahern",
                                    "title": "Thanks for the Memories",
                                    "average_rating": "3.69",
                                    "tag_id": "11644",
                                    "id": "3211",
                                    "goodreads_book_id": "2410506"
                                },
                                {
                                    "authors": "Marian Keyes",
                                    "title": "Sushi for Beginners",
                                    "average_rating": "3.69",
                                    "tag_id": "11644",
                                    "id": "1711",
                                    "goodreads_book_id": "82748"
                                },
                                {
                                    "authors": "Jacqueline Wilson, Nick Sharratt",
                                    "title": "The Story of Tracy Beaker",
                                    "average_rating": "3.69",
                                    "tag_id": "11644",
                                    "id": "7045",
                                    "goodreads_book_id": "462684"
                                },
                                {
                                    "authors": "Zoë Heller",
                                    "title": "What Was She Thinking? [Notes on a Scandal]",
                                    "average_rating": "3.69",
                                    "tag_id": "11644",
                                    "id": "7311",
                                    "goodreads_book_id": "13258"
                                },
                                {
                                    "authors": "Caitlin Moran",
                                    "title": "How to Build a Girl",
                                    "average_rating": "3.69",
                                    "tag_id": "11644",
                                    "id": "4834",
                                    "goodreads_book_id": "20525628"
                                },
                                {
                                    "authors": "P.D. James",
                                    "title": "The Children of Men",
                                    "average_rating": "3.69",
                                    "tag_id": "11644",
                                    "id": "3551",
                                    "goodreads_book_id": "41913"
                                },
                                {
                                    "authors": "Susan Hill, John Lawrence",
                                    "title": "The Woman in Black",
                                    "average_rating": "3.68",
                                    "tag_id": "11644",
                                    "id": "3773",
                                    "goodreads_book_id": "37034"
                                },
                                {
                                    "authors": "Rachael Ray",
                                    "title": "Rachael Ray 365: No Repeats: A Year of Deliciously Different Dinners",
                                    "average_rating": "3.68",
                                    "tag_id": "11644",
                                    "id": "4136",
                                    "goodreads_book_id": "3882"
                                },
                                {
                                    "authors": "Zadie Smith",
                                    "title": "On Beauty",
                                    "average_rating": "3.68",
                                    "tag_id": "11644",
                                    "id": "1928",
                                    "goodreads_book_id": "3679"
                                },
                                {
                                    "authors": "Elizabeth Berg",
                                    "title": "Open House",
                                    "average_rating": "3.68",
                                    "tag_id": "11644",
                                    "id": "2087",
                                    "goodreads_book_id": "5190"
                                },
                                {
                                    "authors": "Gwyn Hyman Rubio",
                                    "title": "Icy Sparks",
                                    "average_rating": "3.68",
                                    "tag_id": "11644",
                                    "id": "2820",
                                    "goodreads_book_id": "3476"
                                },
                                {
                                    "authors": "Amanda Brown",
                                    "title": "Legally Blonde",
                                    "average_rating": "3.68",
                                    "tag_id": "11644",
                                    "id": "8380",
                                    "goodreads_book_id": "386142"
                                },
                                {
                                    "authors": "Jennifer McMahon",
                                    "title": "The Night Sister",
                                    "average_rating": "3.67",
                                    "tag_id": "11644",
                                    "id": "9422",
                                    "goodreads_book_id": "24040551"
                                },
                                {
                                    "authors": "Tracy Chevalier",
                                    "title": "The Lady and the Unicorn",
                                    "average_rating": "3.67",
                                    "tag_id": "11644",
                                    "id": "3322",
                                    "goodreads_book_id": "89788"
                                },
                                {
                                    "authors": "Sarah Winman",
                                    "title": "When God Was a Rabbit",
                                    "average_rating": "3.67",
                                    "tag_id": "11644",
                                    "id": "3446",
                                    "goodreads_book_id": "8874743"
                                },
                                {
                                    "authors": "Mariko Tamaki, Jillian Tamaki",
                                    "title": "This One Summer",
                                    "average_rating": "3.67",
                                    "tag_id": "11644",
                                    "id": "4097",
                                    "goodreads_book_id": "18465566"
                                },
                                {
                                    "authors": "Laline Paull",
                                    "title": "The Bees",
                                    "average_rating": "3.67",
                                    "tag_id": "11644",
                                    "id": "5230",
                                    "goodreads_book_id": "18652002"
                                },
                                {
                                    "authors": "Margaret Atwood",
                                    "title": "The Edible Woman",
                                    "average_rating": "3.67",
                                    "tag_id": "11644",
                                    "id": "5257",
                                    "goodreads_book_id": "133445"
                                },
                                {
                                    "authors": "Karen Russell",
                                    "title": "Vampires in the Lemon Grove",
                                    "average_rating": "3.67",
                                    "tag_id": "11644",
                                    "id": "6827",
                                    "goodreads_book_id": "13531832"
                                },
                                {
                                    "authors": "Melinda Haynes",
                                    "title": "Mother of Pearl",
                                    "average_rating": "3.67",
                                    "tag_id": "11644",
                                    "id": "5737",
                                    "goodreads_book_id": "5179"
                                },
                                {
                                    "authors": "Alison Bechdel",
                                    "title": "Are You My Mother?",
                                    "average_rating": "3.66",
                                    "tag_id": "11644",
                                    "id": "5787",
                                    "goodreads_book_id": "11566956"
                                },
                                {
                                    "authors": "Carrie Fisher",
                                    "title": "The Princess Diarist",
                                    "average_rating": "3.66",
                                    "tag_id": "11644",
                                    "id": "6245",
                                    "goodreads_book_id": "26025989"
                                },
                                {
                                    "authors": "Margaret Atwood",
                                    "title": "The Penelopiad",
                                    "average_rating": "3.66",
                                    "tag_id": "11644",
                                    "id": "5395",
                                    "goodreads_book_id": "17645"
                                },
                                {
                                    "authors": "Cecelia Ahern",
                                    "title": "The Book of Tomorrow",
                                    "average_rating": "3.66",
                                    "tag_id": "11644",
                                    "id": "4141",
                                    "goodreads_book_id": "6631792"
                                },
                                {
                                    "authors": "Cecelia Ahern",
                                    "title": "A Place Called Here",
                                    "average_rating": "3.66",
                                    "tag_id": "11644",
                                    "id": "4249",
                                    "goodreads_book_id": "588369"
                                },
                                {
                                    "authors": "Agatha Christie",
                                    "title": "Hallowe'en Party (Hercule Poirot, #36)",
                                    "average_rating": "3.66",
                                    "tag_id": "11644",
                                    "id": "7991",
                                    "goodreads_book_id": "16307"
                                },
                                {
                                    "authors": "Pattie Boyd, Penny Junor",
                                    "title": "Wonderful Tonight",
                                    "average_rating": "3.65",
                                    "tag_id": "11644",
                                    "id": "9436",
                                    "goodreads_book_id": "764063"
                                },
                                {
                                    "authors": "Peggy Orenstein",
                                    "title": "Cinderella Ate My Daughter: Dispatches from the Frontlines of the New Girlie-Girl Culture",
                                    "average_rating": "3.65",
                                    "tag_id": "11644",
                                    "id": "9999",
                                    "goodreads_book_id": "8565083"
                                },
                                {
                                    "authors": "Emma Donoghue",
                                    "title": "The Wonder",
                                    "average_rating": "3.65",
                                    "tag_id": "11644",
                                    "id": "4128",
                                    "goodreads_book_id": "28449257"
                                },
                                {
                                    "authors": "Nora Ephron",
                                    "title": "I Feel Bad about My Neck: And Other Thoughts on Being a Woman",
                                    "average_rating": "3.65",
                                    "tag_id": "11644",
                                    "id": "3579",
                                    "goodreads_book_id": "8765"
                                },
                                {
                                    "authors": "Tracy Chevalier",
                                    "title": "The Virgin Blue",
                                    "average_rating": "3.65",
                                    "tag_id": "11644",
                                    "id": "4842",
                                    "goodreads_book_id": "2873"
                                },
                                {
                                    "authors": "Toni Morrison",
                                    "title": "A Mercy",
                                    "average_rating": "3.65",
                                    "tag_id": "11644",
                                    "id": "7002",
                                    "goodreads_book_id": "3009435"
                                },
                                {
                                    "authors": "Anne Brontë, Angeline Goreau",
                                    "title": "Agnes Grey",
                                    "average_rating": "3.65",
                                    "tag_id": "11644",
                                    "id": "3212",
                                    "goodreads_book_id": "298230"
                                },
                                {
                                    "authors": "Jennifer Egan",
                                    "title": "A Visit from the Goon Squad",
                                    "average_rating": "3.64",
                                    "tag_id": "11644",
                                    "id": "638",
                                    "goodreads_book_id": "7331435"
                                },
                                {
                                    "authors": "Kim Edwards",
                                    "title": "The Memory Keeper's Daughter",
                                    "average_rating": "3.64",
                                    "tag_id": "11644",
                                    "id": "111",
                                    "goodreads_book_id": "10441"
                                },
                                {
                                    "authors": "Karen Thompson Walker",
                                    "title": "The Age of Miracles",
                                    "average_rating": "3.64",
                                    "tag_id": "11644",
                                    "id": "1439",
                                    "goodreads_book_id": "12401556"
                                },
                                {
                                    "authors": "Miriam Toews",
                                    "title": "A Complicated Kindness",
                                    "average_rating": "3.64",
                                    "tag_id": "11644",
                                    "id": "6791",
                                    "goodreads_book_id": "13374"
                                },
                                {
                                    "authors": "Angela Flournoy",
                                    "title": "The Turner House",
                                    "average_rating": "3.64",
                                    "tag_id": "11644",
                                    "id": "9823",
                                    "goodreads_book_id": "22749750"
                                },
                                {
                                    "authors": "Esi Edugyan",
                                    "title": "Half Blood Blues",
                                    "average_rating": "3.63",
                                    "tag_id": "11644",
                                    "id": "9205",
                                    "goodreads_book_id": "11076123"
                                },
                                {
                                    "authors": "Chelsea Handler",
                                    "title": "Uganda Be Kidding Me",
                                    "average_rating": "3.63",
                                    "tag_id": "11644",
                                    "id": "6748",
                                    "goodreads_book_id": "18127101"
                                },
                                {
                                    "authors": "Deborah Rodriguez",
                                    "title": "Kabul Beauty School: An American Woman Goes Behind the Veil",
                                    "average_rating": "3.63",
                                    "tag_id": "11644",
                                    "id": "5703",
                                    "goodreads_book_id": "316558"
                                },
                                {
                                    "authors": "Kate Chopin",
                                    "title": "The Awakening",
                                    "average_rating": "3.63",
                                    "tag_id": "11644",
                                    "id": "782",
                                    "goodreads_book_id": "58345"
                                },
                                {
                                    "authors": "Ayn Rand",
                                    "title": "Anthem",
                                    "average_rating": "3.62",
                                    "tag_id": "11644",
                                    "id": "903",
                                    "goodreads_book_id": "667"
                                },
                                {
                                    "authors": "Françoise Sagan",
                                    "title": "Bonjour tristesse",
                                    "average_rating": "3.62",
                                    "tag_id": "11644",
                                    "id": "7032",
                                    "goodreads_book_id": "61672"
                                },
                                {
                                    "authors": "Agatha Christie",
                                    "title": "Elephants Can Remember (Hercule Poirot, #37)",
                                    "average_rating": "3.62",
                                    "tag_id": "11644",
                                    "id": "7681",
                                    "goodreads_book_id": "148584"
                                },
                                {
                                    "authors": "Julia Alvarez",
                                    "title": "How the García Girls Lost Their Accents ",
                                    "average_rating": "3.62",
                                    "tag_id": "11644",
                                    "id": "5456",
                                    "goodreads_book_id": "11208"
                                },
                                {
                                    "authors": "Anita Shreve",
                                    "title": "The Weight of Water",
                                    "average_rating": "3.62",
                                    "tag_id": "11644",
                                    "id": "5095",
                                    "goodreads_book_id": "228534"
                                },
                                {
                                    "authors": "Jane Green",
                                    "title": "The Beach House",
                                    "average_rating": "3.62",
                                    "tag_id": "11644",
                                    "id": "3912",
                                    "goodreads_book_id": "2071575"
                                },
                                {
                                    "authors": "Leslie Jamison",
                                    "title": "The Empathy Exams: Essays",
                                    "average_rating": "3.62",
                                    "tag_id": "11644",
                                    "id": "9726",
                                    "goodreads_book_id": "17934655"
                                },
                                {
                                    "authors": "Ali Smith",
                                    "title": "How to Be Both",
                                    "average_rating": "3.61",
                                    "tag_id": "11644",
                                    "id": "8224",
                                    "goodreads_book_id": "20439328"
                                },
                                {
                                    "authors": "Amy Chua",
                                    "title": "Battle Hymn of the Tiger Mother",
                                    "average_rating": "3.61",
                                    "tag_id": "11644",
                                    "id": "2742",
                                    "goodreads_book_id": "9160695"
                                },
                                {
                                    "authors": "George Eliot",
                                    "title": "Silas Marner",
                                    "average_rating": "3.6",
                                    "tag_id": "11644",
                                    "id": "2355",
                                    "goodreads_book_id": "54539"
                                },
                                {
                                    "authors": "Barbara Ehrenreich",
                                    "title": "Nickel and Dimed: On (Not) Getting By in America",
                                    "average_rating": "3.6",
                                    "tag_id": "11644",
                                    "id": "508",
                                    "goodreads_book_id": "1869"
                                },
                                {
                                    "authors": "Zadie Smith",
                                    "title": "Swing Time",
                                    "average_rating": "3.6",
                                    "tag_id": "11644",
                                    "id": "7359",
                                    "goodreads_book_id": "28390369"
                                },
                                {
                                    "authors": "Agatha Christie",
                                    "title": "The Big Four (Hercule Poirot, #5)",
                                    "average_rating": "3.6",
                                    "tag_id": "11644",
                                    "id": "6211",
                                    "goodreads_book_id": "16316"
                                },
                                {
                                    "authors": "Sarah Vowell",
                                    "title": "Unfamiliar Fishes",
                                    "average_rating": "3.6",
                                    "tag_id": "11644",
                                    "id": "9514",
                                    "goodreads_book_id": "8857310"
                                },
                                {
                                    "authors": "Lauren Beukes",
                                    "title": "Broken Monsters",
                                    "average_rating": "3.59",
                                    "tag_id": "11644",
                                    "id": "7591",
                                    "goodreads_book_id": "20706269"
                                },
                                {
                                    "authors": "Han Kang, Deborah     Smith",
                                    "title": "The Vegetarian",
                                    "average_rating": "3.59",
                                    "tag_id": "11644",
                                    "id": "3481",
                                    "goodreads_book_id": "25489025"
                                },
                                {
                                    "authors": "Julie Otsuka",
                                    "title": "The Buddha in the Attic",
                                    "average_rating": "3.59",
                                    "tag_id": "11644",
                                    "id": "3427",
                                    "goodreads_book_id": "10464963"
                                },
                                {
                                    "authors": "Jessie Burton",
                                    "title": "The Miniaturist",
                                    "average_rating": "3.58",
                                    "tag_id": "11644",
                                    "id": "1395",
                                    "goodreads_book_id": "18498569"
                                },
                                {
                                    "authors": "Kim Gordon",
                                    "title": "Girl in a Band",
                                    "average_rating": "3.58",
                                    "tag_id": "11644",
                                    "id": "5280",
                                    "goodreads_book_id": "22693211"
                                },
                                {
                                    "authors": "Miranda July",
                                    "title": "The First Bad Man",
                                    "average_rating": "3.58",
                                    "tag_id": "11644",
                                    "id": "5553",
                                    "goodreads_book_id": "21412400"
                                },
                                {
                                    "authors": "Lauren Groff",
                                    "title": "The Monsters of Templeton",
                                    "average_rating": "3.58",
                                    "tag_id": "11644",
                                    "id": "7285",
                                    "goodreads_book_id": "1474628"
                                },
                                {
                                    "authors": "Rachel Dratch",
                                    "title": "Girl Walks into a Bar . . .: Comedy Calamities, Dating Disasters, and a Midlife Miracle",
                                    "average_rating": "3.57",
                                    "tag_id": "11644",
                                    "id": "5698",
                                    "goodreads_book_id": "12867423"
                                },
                                {
                                    "authors": "Mary Roach",
                                    "title": "Spook: Science Tackles the Afterlife",
                                    "average_rating": "3.57",
                                    "tag_id": "11644",
                                    "id": "3933",
                                    "goodreads_book_id": "14990"
                                },
                                {
                                    "authors": "Sandra Cisneros",
                                    "title": "The House on Mango Street",
                                    "average_rating": "3.57",
                                    "tag_id": "11644",
                                    "id": "1255",
                                    "goodreads_book_id": "139253"
                                },
                                {
                                    "authors": "Azar Nafisi",
                                    "title": "Reading Lolita in Tehran",
                                    "average_rating": "3.57",
                                    "tag_id": "11644",
                                    "id": "916",
                                    "goodreads_book_id": "7603"
                                },
                                {
                                    "authors": "Elizabeth Wurtzel",
                                    "title": "Prozac Nation",
                                    "average_rating": "3.57",
                                    "tag_id": "11644",
                                    "id": "2229",
                                    "goodreads_book_id": "227603"
                                },
                                {
                                    "authors": "Laura  Barnett",
                                    "title": "The Versions of Us",
                                    "average_rating": "3.57",
                                    "tag_id": "11644",
                                    "id": "9872",
                                    "goodreads_book_id": "24480276"
                                },
                                {
                                    "authors": "Hillary Rodham Clinton",
                                    "title": "Hard Choices",
                                    "average_rating": "3.57",
                                    "tag_id": "11644",
                                    "id": "9202",
                                    "goodreads_book_id": "17727276"
                                },
                                {
                                    "authors": "Nora Ephron",
                                    "title": "Heartburn",
                                    "average_rating": "3.57",
                                    "tag_id": "11644",
                                    "id": "8384",
                                    "goodreads_book_id": "225343"
                                },
                                {
                                    "authors": "Charlotte Brontë",
                                    "title": "The Professor",
                                    "average_rating": "3.56",
                                    "tag_id": "11644",
                                    "id": "8207",
                                    "goodreads_book_id": "31175"
                                },
                                {
                                    "authors": "Jean Rhys",
                                    "title": "Wide Sargasso Sea",
                                    "average_rating": "3.56",
                                    "tag_id": "11644",
                                    "id": "2809",
                                    "goodreads_book_id": "44597"
                                },
                                {
                                    "authors": "Lauren Groff",
                                    "title": "Fates and Furies",
                                    "average_rating": "3.56",
                                    "tag_id": "11644",
                                    "id": "1220",
                                    "goodreads_book_id": "24612118"
                                },
                                {
                                    "authors": "Jane Austen, Robert William Chapman",
                                    "title": "Lady Susan",
                                    "average_rating": "3.56",
                                    "tag_id": "11644",
                                    "id": "6302",
                                    "goodreads_book_id": "91582"
                                },
                                {
                                    "authors": "Tracy Chevalier",
                                    "title": "Falling Angels",
                                    "average_rating": "3.55",
                                    "tag_id": "11644",
                                    "id": "6299",
                                    "goodreads_book_id": "2872"
                                },
                                {
                                    "authors": "Suzanne Rindell",
                                    "title": "The Other Typist",
                                    "average_rating": "3.55",
                                    "tag_id": "11644",
                                    "id": "7096",
                                    "goodreads_book_id": "17329041"
                                },
                                {
                                    "authors": "Meg Wolitzer",
                                    "title": "The Interestings",
                                    "average_rating": "3.54",
                                    "tag_id": "11644",
                                    "id": "1009",
                                    "goodreads_book_id": "15815333"
                                },
                                {
                                    "authors": "Gillian Flynn",
                                    "title": "The Grownup",
                                    "average_rating": "3.54",
                                    "tag_id": "11644",
                                    "id": "2169",
                                    "goodreads_book_id": "26025580"
                                },
                                {
                                    "authors": "Diablo Cody",
                                    "title": "Candy Girl: A Year in the Life of an Unlikely Stripper",
                                    "average_rating": "3.54",
                                    "tag_id": "11644",
                                    "id": "9038",
                                    "goodreads_book_id": "29486"
                                },
                                {
                                    "authors": "Jacqueline Wilson",
                                    "title": "Girls in Love (Girls, #1)",
                                    "average_rating": "3.53",
                                    "tag_id": "11644",
                                    "id": "8745",
                                    "goodreads_book_id": "266765"
                                },
                                {
                                    "authors": "Kate Hamer",
                                    "title": "The Girl in the Red Coat",
                                    "average_rating": "3.53",
                                    "tag_id": "11644",
                                    "id": "9641",
                                    "goodreads_book_id": "23289469"
                                },
                                {
                                    "authors": "Helen Fielding",
                                    "title": "Bridget Jones: The Edge of Reason (Bridget Jones, #2)",
                                    "average_rating": "3.53",
                                    "tag_id": "11644",
                                    "id": "1457",
                                    "goodreads_book_id": "363752"
                                },
                                {
                                    "authors": "Lionel Shriver",
                                    "title": "The Post-Birthday World",
                                    "average_rating": "3.52",
                                    "tag_id": "11644",
                                    "id": "9188",
                                    "goodreads_book_id": "393060"
                                },
                                {
                                    "authors": "Sarah Macdonald",
                                    "title": "Holy Cow: An Indian Adventure",
                                    "average_rating": "3.51",
                                    "tag_id": "11644",
                                    "id": "6351",
                                    "goodreads_book_id": "3858"
                                },
                                {
                                    "authors": "Emma Cline",
                                    "title": "The Girls",
                                    "average_rating": "3.49",
                                    "tag_id": "11644",
                                    "id": "1174",
                                    "goodreads_book_id": "26893819"
                                },
                                {
                                    "authors": "Lauren Beukes",
                                    "title": "The Shining Girls",
                                    "average_rating": "3.49",
                                    "tag_id": "11644",
                                    "id": "3267",
                                    "goodreads_book_id": "16131077"
                                },
                                {
                                    "authors": "Anita Shreve",
                                    "title": "The Last Time They Met",
                                    "average_rating": "3.48",
                                    "tag_id": "11644",
                                    "id": "7454",
                                    "goodreads_book_id": "96082"
                                },
                                {
                                    "authors": "Gretchen Rubin, Käthe Mazur",
                                    "title": "Happier at Home: Kiss More, Jump More, Abandon a Project, Read Samuel Johnson, and My Other Experiments in the Practice of Everyday Life",
                                    "average_rating": "3.48",
                                    "tag_id": "11644",
                                    "id": "9718",
                                    "goodreads_book_id": "13414599"
                                },
                                {
                                    "authors": "Janet Fitch",
                                    "title": "Paint it Black",
                                    "average_rating": "3.47",
                                    "tag_id": "11644",
                                    "id": "9300",
                                    "goodreads_book_id": "33144"
                                },
                                {
                                    "authors": "Alisa Valdes, Alisa Valdes-Rodriguez",
                                    "title": "The Dirty Girls Social Club (Dirty Girls, #1)",
                                    "average_rating": "3.46",
                                    "tag_id": "11644",
                                    "id": "7796",
                                    "goodreads_book_id": "491735"
                                },
                                {
                                    "authors": "Rachel Kushner",
                                    "title": "The Flamethrowers",
                                    "average_rating": "3.46",
                                    "tag_id": "11644",
                                    "id": "5709",
                                    "goodreads_book_id": "15803141"
                                },
                                {
                                    "authors": "Margaret Atwood",
                                    "title": "Surfacing",
                                    "average_rating": "3.45",
                                    "tag_id": "11644",
                                    "id": "6675",
                                    "goodreads_book_id": "46755"
                                },
                                {
                                    "authors": "Nicole Krauss",
                                    "title": "Great House",
                                    "average_rating": "3.45",
                                    "tag_id": "11644",
                                    "id": "7486",
                                    "goodreads_book_id": "7907782"
                                },
                                {
                                    "authors": "Sloane Crosley",
                                    "title": "I Was Told There'd Be Cake",
                                    "average_rating": "3.45",
                                    "tag_id": "11644",
                                    "id": "3555",
                                    "goodreads_book_id": "2195289"
                                },
                                {
                                    "authors": "Alexandra Ripley",
                                    "title": "Scarlett",
                                    "average_rating": "3.44",
                                    "tag_id": "11644",
                                    "id": "2302",
                                    "goodreads_book_id": "73062"
                                },
                                {
                                    "authors": "Erica Jong",
                                    "title": "Fear of Flying",
                                    "average_rating": "3.44",
                                    "tag_id": "11644",
                                    "id": "8189",
                                    "goodreads_book_id": "9654"
                                },
                                {
                                    "authors": "Kate Summerscale",
                                    "title": "The Suspicions of Mr. Whicher: A Shocking Murder and the Undoing of a Great Victorian Detective",
                                    "average_rating": "3.43",
                                    "tag_id": "11644",
                                    "id": "7735",
                                    "goodreads_book_id": "1747896"
                                },
                                {
                                    "authors": "Jennifer Egan",
                                    "title": "The Keep",
                                    "average_rating": "3.43",
                                    "tag_id": "11644",
                                    "id": "9588",
                                    "goodreads_book_id": "86655"
                                },
                                {
                                    "authors": "Donna Tartt",
                                    "title": "The Little Friend",
                                    "average_rating": "3.43",
                                    "tag_id": "11644",
                                    "id": "3219",
                                    "goodreads_book_id": "775346"
                                },
                                {
                                    "authors": "Anne Tyler",
                                    "title": "Vinegar Girl",
                                    "average_rating": "3.42",
                                    "tag_id": "11644",
                                    "id": "6737",
                                    "goodreads_book_id": "27070127"
                                },
                                {
                                    "authors": "Amy Tan",
                                    "title": "Saving Fish from Drowning",
                                    "average_rating": "3.41",
                                    "tag_id": "11644",
                                    "id": "4057",
                                    "goodreads_book_id": "9503"
                                },
                                {
                                    "authors": "Zadie Smith",
                                    "title": "NW",
                                    "average_rating": "3.41",
                                    "tag_id": "11644",
                                    "id": "4354",
                                    "goodreads_book_id": "13537891"
                                },
                                {
                                    "authors": "Kiran Desai",
                                    "title": "The Inheritance of Loss",
                                    "average_rating": "3.41",
                                    "tag_id": "11644",
                                    "id": "2284",
                                    "goodreads_book_id": "95186"
                                },
                                {
                                    "authors": "Kate Jacobs",
                                    "title": "The Friday Night Knitting Club (Friday Night Knitting Club, #1)",
                                    "average_rating": "3.41",
                                    "tag_id": "11644",
                                    "id": "1655",
                                    "goodreads_book_id": "17204"
                                },
                                {
                                    "authors": "Holly Madison",
                                    "title": "Down the Rabbit Hole: Curious Adventures and Cautionary Tales of a Former Playboy Bunny",
                                    "average_rating": "3.4",
                                    "tag_id": "11644",
                                    "id": "4489",
                                    "goodreads_book_id": "23215469"
                                },
                                {
                                    "authors": "Lionel Shriver",
                                    "title": "Big Brother",
                                    "average_rating": "3.4",
                                    "tag_id": "11644",
                                    "id": "9930",
                                    "goodreads_book_id": "16128105"
                                },
                                {
                                    "authors": "Sarah Waters",
                                    "title": "The Paying Guests",
                                    "average_rating": "3.39",
                                    "tag_id": "11644",
                                    "id": "1708",
                                    "goodreads_book_id": "20821087"
                                },
                                {
                                    "authors": "Monica Ali",
                                    "title": "Brick Lane",
                                    "average_rating": "3.38",
                                    "tag_id": "11644",
                                    "id": "4473",
                                    "goodreads_book_id": "18723"
                                },
                                {
                                    "authors": "Ottessa Moshfegh",
                                    "title": "Eileen",
                                    "average_rating": "3.38",
                                    "tag_id": "11644",
                                    "id": "8255",
                                    "goodreads_book_id": "23453099"
                                },
                                {
                                    "authors": "Courtney Maum",
                                    "title": "I Am Having So Much Fun Here Without You",
                                    "average_rating": "3.37",
                                    "tag_id": "11644",
                                    "id": "7545",
                                    "goodreads_book_id": "18775284"
                                },
                                {
                                    "authors": "Candace Bushnell",
                                    "title": "Sex and the City",
                                    "average_rating": "3.37",
                                    "tag_id": "11644",
                                    "id": "2340",
                                    "goodreads_book_id": "7455"
                                },
                                {
                                    "authors": "Margaret Atwood",
                                    "title": "The Heart Goes Last",
                                    "average_rating": "3.37",
                                    "tag_id": "11644",
                                    "id": "3329",
                                    "goodreads_book_id": "24388326"
                                },
                                {
                                    "authors": "Téa Obreht",
                                    "title": "The Tiger's Wife",
                                    "average_rating": "3.37",
                                    "tag_id": "11644",
                                    "id": "1334",
                                    "goodreads_book_id": "8366402"
                                },
                                {
                                    "authors": "Curtis Sittenfeld",
                                    "title": "Prep",
                                    "average_rating": "3.36",
                                    "tag_id": "11644",
                                    "id": "1843",
                                    "goodreads_book_id": "9844"
                                },
                                {
                                    "authors": "J. Courtney Sullivan",
                                    "title": "Commencement ",
                                    "average_rating": "3.36",
                                    "tag_id": "11644",
                                    "id": "8525",
                                    "goodreads_book_id": "6080420"
                                },
                                {
                                    "authors": "Edith Wharton",
                                    "title": "Ethan Frome",
                                    "average_rating": "3.35",
                                    "tag_id": "11644",
                                    "id": "1566",
                                    "goodreads_book_id": "5246"
                                },
                                {
                                    "authors": "Helen Oyeyemi",
                                    "title": "Boy, Snow, Bird",
                                    "average_rating": "3.34",
                                    "tag_id": "11644",
                                    "id": "5416",
                                    "goodreads_book_id": "18079683"
                                },
                                {
                                    "authors": "Pauline Réage, Sabine d'Estree",
                                    "title": "Story of O (Story of O #1)",
                                    "average_rating": "3.34",
                                    "tag_id": "11644",
                                    "id": "8141",
                                    "goodreads_book_id": "40483"
                                },
                                {
                                    "authors": "Alissa Nutting",
                                    "title": "Tampa",
                                    "average_rating": "3.34",
                                    "tag_id": "11644",
                                    "id": "8919",
                                    "goodreads_book_id": "17225311"
                                },
                                {
                                    "authors": "Lena Dunham, Joana Avillez",
                                    "title": "Not That Kind of Girl: A Young Woman Tells You What She's \"Learned\"",
                                    "average_rating": "3.33",
                                    "tag_id": "11644",
                                    "id": "931",
                                    "goodreads_book_id": "20588698"
                                },
                                {
                                    "authors": "Sarah Blake, Orlagh Cassidy",
                                    "title": "The Postmistress",
                                    "average_rating": "3.3",
                                    "tag_id": "11644",
                                    "id": "3724",
                                    "goodreads_book_id": "6578507"
                                },
                                {
                                    "authors": "Adelle Waldman",
                                    "title": "The Love Affairs of Nathaniel P.",
                                    "average_rating": "3.3",
                                    "tag_id": "11644",
                                    "id": "6114",
                                    "goodreads_book_id": "16045140"
                                },
                                {
                                    "authors": "Stephanie Danler",
                                    "title": "Sweetbitter",
                                    "average_rating": "3.28",
                                    "tag_id": "11644",
                                    "id": "4610",
                                    "goodreads_book_id": "26192646"
                                },
                                {
                                    "authors": "Isabel Allende, Oliver Brock, Frank Wynne",
                                    "title": "Ripper",
                                    "average_rating": "3.24",
                                    "tag_id": "11644",
                                    "id": "8335",
                                    "goodreads_book_id": "18090150"
                                },
                                {
                                    "authors": "Jill Alexander Essbaum",
                                    "title": "Hausfrau",
                                    "average_rating": "3.24",
                                    "tag_id": "11644",
                                    "id": "8379",
                                    "goodreads_book_id": "22725443"
                                },
                                {
                                    "authors": "Edan Lepucki",
                                    "title": "California",
                                    "average_rating": "3.22",
                                    "tag_id": "11644",
                                    "id": "6082",
                                    "goodreads_book_id": "18774020"
                                },
                                {
                                    "authors": "Karen Russell",
                                    "title": "Swamplandia!",
                                    "average_rating": "3.21",
                                    "tag_id": "11644",
                                    "id": "2496",
                                    "goodreads_book_id": "8584686"
                                },
                                {
                                    "authors": "Charlotte Rogan",
                                    "title": "The Lifeboat",
                                    "average_rating": "3.2",
                                    "tag_id": "11644",
                                    "id": "5595",
                                    "goodreads_book_id": "12888599"
                                },
                                {
                                    "authors": "Jodi Picoult",
                                    "title": "Songs of the Humpback Whale",
                                    "average_rating": "3.19",
                                    "tag_id": "11644",
                                    "id": "4427",
                                    "goodreads_book_id": "10914"
                                },
                                {
                                    "authors": "Maria Semple",
                                    "title": "Today Will Be Different",
                                    "average_rating": "3.19",
                                    "tag_id": "11644",
                                    "id": "4178",
                                    "goodreads_book_id": "28449270"
                                },
                                {
                                    "authors": "Aimee Bender",
                                    "title": "The Particular Sadness of Lemon Cake",
                                    "average_rating": "3.19",
                                    "tag_id": "11644",
                                    "id": "2736",
                                    "goodreads_book_id": "7048800"
                                },
                                {
                                    "authors": "Anita Shreve",
                                    "title": "All He Ever Wanted",
                                    "average_rating": "3.18",
                                    "tag_id": "11644",
                                    "id": "9267",
                                    "goodreads_book_id": "443540"
                                },
                                {
                                    "authors": "Zadie Smith",
                                    "title": "The Autograph Man",
                                    "average_rating": "3.14",
                                    "tag_id": "11644",
                                    "id": "9579",
                                    "goodreads_book_id": "3710"
                                },
                                {
                                    "authors": "Lorrie Moore",
                                    "title": "A Gate at the Stairs",
                                    "average_rating": "3.14",
                                    "tag_id": "11644",
                                    "id": "7066",
                                    "goodreads_book_id": "6076387"
                                },
                                {
                                    "authors": "Emma Donoghue",
                                    "title": "Frog Music",
                                    "average_rating": "3.13",
                                    "tag_id": "11644",
                                    "id": "5776",
                                    "goodreads_book_id": "18295858"
                                },
                                {
                                    "authors": "Claire Messud",
                                    "title": "The Emperor's Children",
                                    "average_rating": "2.93",
                                    "tag_id": "11644",
                                    "id": "4614",
                                    "goodreads_book_id": "3648"
                                },
                                {
                                    "authors": "Candace Bushnell",
                                    "title": "Four Blondes",
                                    "average_rating": "2.8",
                                    "tag_id": "11644",
                                    "id": "4009",
                                    "goodreads_book_id": "6613"
                                },
                                {
                                    "authors": "Alice Sebold",
                                    "title": "The Almost Moon",
                                    "average_rating": "2.67",
                                    "tag_id": "11644",
                                    "id": "3550",
                                    "goodreads_book_id": "783291"
                                }
                            ]
                        },
                        "text/html": [
                            "<table>",
                            "<tr><th>authors</th><th>title</th><th>average_rating</th><th>tag_id</th><th>id</th><th>goodreads_book_id</th></tr>",
                            "<tr><td>Jane Austen</td><td>The Complete Novels</td><td>4.55</td><td>11644</td><td>4653</td><td>14905</td></tr>",
                            "<tr><td>Robin Hobb</td><td>Fool&#39;s Quest  (The Fitz and The Fool, #2)</td><td>4.53</td><td>11644</td><td>6228</td><td>23157777</td></tr>",
                            "<tr><td>C.S. Pacat</td><td>Kings Rising (Captive Prince, #3)</td><td>4.5</td><td>11644</td><td>8641</td><td>17158532</td></tr>",
                            "<tr><td>Hiromu Arakawa, Akira Watanabe</td><td>Fullmetal Alchemist, Vol. 1 (Fullmetal Alchemist, #1)</td><td>4.49</td><td>11644</td><td>893</td><td>870</td></tr>",
                            "<tr><td>Chimamanda Ngozi Adichie</td><td>We Should All Be Feminists</td><td>4.47</td><td>11644</td><td>2613</td><td>22738563</td></tr>",
                            "<tr><td>Flannery O&#39;Connor</td><td>The Complete Stories</td><td>4.44</td><td>11644</td><td>3472</td><td>284996</td></tr>",
                            "<tr><td>Barbara Demick</td><td>Nothing to Envy: Ordinary Lives in North Korea</td><td>4.42</td><td>11644</td><td>2441</td><td>6178648</td></tr>",
                            "<tr><td>Yaa Gyasi</td><td>Homegoing</td><td>4.41</td><td>11644</td><td>2840</td><td>27071490</td></tr>",
                            "<tr><td>Elena Ferrante, Ann Goldstein</td><td>The Story of the Lost Child (The Neapolitan Novels, #4)</td><td>4.39</td><td>11644</td><td>3722</td><td>25242224</td></tr>",
                            "<tr><td>Bernadette Rossetti-Shustak, Caroline Jayne Church</td><td>I Love You Through and Through</td><td>4.39</td><td>11644</td><td>8648</td><td>232958</td></tr>",
                            "<tr><td>Elena Ferrante, Ann Goldstein</td><td>The Story of a New Name (The Neapolitan Novels #2)</td><td>4.37</td><td>11644</td><td>2535</td><td>17465515</td></tr>",
                            "<tr><td>Marjane Satrapi, Mattias Ripa, Blake Ferris, Anjali Singh</td><td>The Complete Persepolis</td><td>4.36</td><td>11644</td><td>1464</td><td>991197</td></tr>",
                            "<tr><td>Susan Abulhawa</td><td>Mornings in Jenin</td><td>4.35</td><td>11644</td><td>7762</td><td>6692041</td></tr>",
                            "<tr><td>Julia Child, Simone Beck, Louisette Bertholle</td><td>Mastering the Art of French Cooking</td><td>4.33</td><td>11644</td><td>2459</td><td>129650</td></tr>",
                            "<tr><td>Tamora Pierce</td><td>Wild Magic (Immortals, #1)</td><td>4.32</td><td>11644</td><td>2623</td><td>13836</td></tr>",
                            "<tr><td>Enid Blyton</td><td>The Folk of the Faraway Tree (The Faraway Tree, #3)</td><td>4.32</td><td>11644</td><td>9071</td><td>473623</td></tr>",
                            "<tr><td>Julia Child</td><td>The Way to Cook</td><td>4.31</td><td>11644</td><td>7860</td><td>132688</td></tr>",
                            "<tr><td>N.K. Jemisin</td><td>The Fifth Season (The Broken Earth, #1)</td><td>4.31</td><td>11644</td><td>4961</td><td>19161852</td></tr>",
                            "<tr><td>Barbara Shook Hazen, Robert Lewis May, Richard Scarry</td><td>Rudolph the Red-Nosed Reindeer</td><td>4.3</td><td>11644</td><td>3539</td><td>1215290</td></tr>",
                            "<tr><td>Claudia Rankine</td><td>Citizen: An American Lyric</td><td>4.3</td><td>11644</td><td>7537</td><td>20613761</td></tr>",
                            "<tr><td>Diana Wynne Jones</td><td>Howl&#39;s Moving Castle (Howl&#39;s Moving Castle, #1)</td><td>4.3</td><td>11644</td><td>817</td><td>6294</td></tr>",
                            "<tr><td>Elena Ferrante, Ann Goldstein</td><td>Those Who Leave and Those Who Stay (The Neapolitan Novels #3)</td><td>4.29</td><td>11644</td><td>3294</td><td>23156040</td></tr>",
                            "<tr><td>Cheryl Strayed</td><td>Tiny Beautiful Things: Advice on Love and Life from Dear Sugar</td><td>4.29</td><td>11644</td><td>2590</td><td>13152194</td></tr>",
                            "<tr><td>Sylvia Plath, Karen V. Kukil</td><td>The Unabridged Journals of Sylvia Plath</td><td>4.29</td><td>11644</td><td>7592</td><td>11623</td></tr>",
                            "<tr><td>Lois McMaster Bujold</td><td>The Warrior&#39;s Apprentice (Vorkosigan Saga, #2)</td><td>4.29</td><td>11644</td><td>7113</td><td>61906</td></tr>",
                            "<tr><td>Loung Ung</td><td>First They Killed My Father: A Daughter of Cambodia Remembers</td><td>4.29</td><td>11644</td><td>5794</td><td>4373</td></tr>",
                            "<tr><td>Enid Blyton</td><td>The Magic Faraway Tree (The Faraway Tree, #2)</td><td>4.29</td><td>11644</td><td>3836</td><td>74998</td></tr>",
                            "<tr><td>Michelle Magorian</td><td>Good Night, Mr. Tom</td><td>4.28</td><td>11644</td><td>3557</td><td>161099</td></tr>",
                            "<tr><td>Tamora Pierce</td><td>Lioness Rampant (Song of the Lioness, #4)</td><td>4.28</td><td>11644</td><td>1863</td><td>13837</td></tr>",
                            "<tr><td>Tamora Pierce</td><td>Trickster&#39;s Queen (Daughter of the Lioness, #2)</td><td>4.28</td><td>11644</td><td>2959</td><td>153780</td></tr>",
                            "<tr><td>Enid Blyton</td><td>The Faraway Tree Stories (The Faraway Tree #1-3)</td><td>4.28</td><td>11644</td><td>7767</td><td>17490</td></tr>",
                            "<tr><td>Anne Sexton, Maxine Kumin</td><td>The Complete Poems</td><td>4.28</td><td>11644</td><td>8168</td><td>47730</td></tr>",
                            "<tr><td>Rupi Kaur</td><td>Milk and Honey</td><td>4.27</td><td>11644</td><td>2672</td><td>23513349</td></tr>",
                            "<tr><td>Tamora Pierce</td><td>Trickster&#39;s Choice (Daughter of the Lioness, #1)</td><td>4.27</td><td>11644</td><td>3244</td><td>24431</td></tr>",
                            "<tr><td>Marjane Satrapi</td><td>Persepolis, Volume 1</td><td>4.27</td><td>11644</td><td>2386</td><td>9522</td></tr>",
                            "<tr><td>Madeline Miller</td><td>The Song of Achilles</td><td>4.27</td><td>11644</td><td>2334</td><td>11250317</td></tr>",
                            "<tr><td>Tamora Pierce</td><td>Alanna: The First Adventure (Song of the Lioness, #1)</td><td>4.27</td><td>11644</td><td>1480</td><td>13831</td></tr>",
                            "<tr><td>Hanya Yanagihara</td><td>A Little Life</td><td>4.27</td><td>11644</td><td>1198</td><td>22822858</td></tr>",
                            "<tr><td>Tamora Pierce</td><td>Squire (Protector of the Small, #3)</td><td>4.27</td><td>11644</td><td>3663</td><td>153795</td></tr>",
                            "<tr><td>Ntozake Shange</td><td>for colored girls who have considered suicide/when the rainbow is enuf</td><td>4.27</td><td>11644</td><td>3872</td><td>58098</td></tr>",
                            "<tr><td>Kate Beaton</td><td>Hark! A Vagrant</td><td>4.27</td><td>11644</td><td>5384</td><td>10767466</td></tr>",
                            "<tr><td>Flannery O&#39;Connor, Robert Fitzgerald</td><td>Everything That Rises Must Converge: Stories</td><td>4.27</td><td>11644</td><td>6863</td><td>218659</td></tr>",
                            "<tr><td>Tamora Pierce</td><td>Bloodhound (Beka Cooper, #2)</td><td>4.26</td><td>11644</td><td>4775</td><td>153779</td></tr>",
                            "<tr><td>Fannie Flagg</td><td>Fried Green Tomatoes at the Whistle Stop Cafe</td><td>4.26</td><td>11644</td><td>409</td><td>9375</td></tr>",
                            "<tr><td>Chimamanda Ngozi Adichie</td><td>Americanah</td><td>4.26</td><td>11644</td><td>673</td><td>15796700</td></tr>",
                            "<tr><td>Hilary Mantel</td><td>Bring Up the Bodies (Thomas Cromwell, #2)</td><td>4.26</td><td>11644</td><td>2018</td><td>13507212</td></tr>",
                            "<tr><td>Joanna Cole, Bruce Degen</td><td>Inside the Human Body (The Magic School Bus, #3)</td><td>4.26</td><td>11644</td><td>3279</td><td>722864</td></tr>",
                            "<tr><td>Tamora Pierce</td><td>In the Hand of the Goddess (Song of the Lioness, #2)</td><td>4.25</td><td>11644</td><td>1857</td><td>13835</td></tr>",
                            "<tr><td>Margaret George</td><td>The Autobiography of Henry VIII: With Notes by His Fool, Will Somers</td><td>4.25</td><td>11644</td><td>4368</td><td>10108</td></tr>",
                            "<tr><td>Ursula K. Le Guin</td><td>The Earthsea Trilogy</td><td>4.25</td><td>11644</td><td>7728</td><td>1170158</td></tr>",
                            "<tr><td>Betty MacDonald, Alexandra Boiger</td><td>Hello, Mrs. Piggle-Wiggle (Mrs. Piggle Wiggle, #4)</td><td>4.24</td><td>11644</td><td>9661</td><td>25053</td></tr>",
                            "<tr><td>Flannery O&#39;Connor</td><td>A Good Man is Hard to Find and Other Stories</td><td>4.24</td><td>11644</td><td>3808</td><td>48464</td></tr>",
                            "<tr><td>Joan Didion</td><td>Slouching Towards Bethlehem</td><td>4.24</td><td>11644</td><td>5146</td><td>424</td></tr>",
                            "<tr><td>Tamora Pierce</td><td>Mastiff (Beka Cooper, #3)</td><td>4.24</td><td>11644</td><td>7598</td><td>2964700</td></tr>",
                            "<tr><td>Enid Blyton</td><td>The Enchanted Wood (The Faraway Tree, #1)</td><td>4.24</td><td>11644</td><td>6102</td><td>17491</td></tr>",
                            "<tr><td>Betty  Smith</td><td>A Tree Grows in Brooklyn</td><td>4.24</td><td>11644</td><td>265</td><td>14891</td></tr>",
                            "<tr><td>Jung Chang</td><td>Wild Swans: Three Daughters of China</td><td>4.23</td><td>11644</td><td>1487</td><td>1848</td></tr>",
                            "<tr><td>Marjane Satrapi, Mattias Ripa</td><td>Persepolis: The Story of a Childhood (Persepolis, #1)</td><td>4.23</td><td>11644</td><td>828</td><td>9516</td></tr>",
                            "<tr><td>Marjane Satrapi, Anjali Singh</td><td>Persepolis 2: The Story of a Return (Persepolis, #2)</td><td>4.23</td><td>11644</td><td>2451</td><td>9517</td></tr>",
                            "<tr><td>Malorie Blackman</td><td>Noughts &amp; Crosses (Noughts &amp; Crosses, #1)</td><td>4.23</td><td>11644</td><td>3418</td><td>714902</td></tr>",
                            "<tr><td>Sylvia Plath</td><td>Ariel</td><td>4.23</td><td>11644</td><td>2921</td><td>395090</td></tr>",
                            "<tr><td>Tachibana Higuchi, 樋口 橘</td><td>Gakuen Alice, Vol. 01 (Gakuen Alice, #1)</td><td>4.23</td><td>11644</td><td>6452</td><td>1753714</td></tr>",
                            "<tr><td>Lindy West</td><td>Shrill: Notes from a Loud Woman</td><td>4.23</td><td>11644</td><td>6491</td><td>29340182</td></tr>",
                            "<tr><td>Mary  Stewart</td><td>The Hollow Hills (Arthurian Saga, #2)</td><td>4.23</td><td>11644</td><td>7513</td><td>116343</td></tr>",
                            "<tr><td>Judith Kerr</td><td>The Tiger Who Came to Tea</td><td>4.23</td><td>11644</td><td>9846</td><td>1099097</td></tr>",
                            "<tr><td>Octavia E. Butler</td><td>Wild Seed (Patternmaster, #1)</td><td>4.22</td><td>11644</td><td>9768</td><td>52318</td></tr>",
                            "<tr><td>Elyn R. Saks</td><td>The Center Cannot Hold: My Journey Through Madness</td><td>4.22</td><td>11644</td><td>9808</td><td>1098486</td></tr>",
                            "<tr><td>Irin Carmon, Shana Knizhnik</td><td>Notorious RBG: The Life and Times of Ruth Bader Ginsburg</td><td>4.22</td><td>11644</td><td>6905</td><td>25422234</td></tr>",
                            "<tr><td>Wendy Mass</td><td>A Mango-Shaped Space</td><td>4.22</td><td>11644</td><td>5913</td><td>171020</td></tr>",
                            "<tr><td>Anne McCaffrey</td><td>The Dragonriders of Pern (Dragonriders of Pern, #1-3)</td><td>4.22</td><td>11644</td><td>5415</td><td>61942</td></tr>",
                            "<tr><td>Naomi Klein</td><td>The Shock Doctrine: The Rise of Disaster Capitalism</td><td>4.22</td><td>11644</td><td>3586</td><td>1237300</td></tr>",
                            "<tr><td>Colleen McCullough</td><td>The Thorn Birds</td><td>4.22</td><td>11644</td><td>311</td><td>3412</td></tr>",
                            "<tr><td>Emily Dickinson, Thomas H. Johnson</td><td>The Complete Poems of Emily Dickinson</td><td>4.21</td><td>11644</td><td>1492</td><td>112204</td></tr>",
                            "<tr><td>L.M. Montgomery</td><td>Anne of Avonlea (Anne of Green Gables, #2)</td><td>4.21</td><td>11644</td><td>1210</td><td>77390</td></tr>",
                            "<tr><td>Robin Hobb</td><td>The Mad Ship (Liveship Traders, #2)</td><td>4.21</td><td>11644</td><td>3278</td><td>45101</td></tr>",
                            "<tr><td>Robin Hobb</td><td>Ship of Destiny (Liveship Traders, #3)</td><td>4.21</td><td>11644</td><td>3298</td><td>45102</td></tr>",
                            "<tr><td>Tamora Pierce</td><td>Wolf-Speaker (Immortals, #2)</td><td>4.21</td><td>11644</td><td>3648</td><td>24094</td></tr>",
                            "<tr><td>Ai Yazawa</td><td>Nana, Vol. 1 (Nana, #1)</td><td>4.21</td><td>11644</td><td>3651</td><td>98413</td></tr>",
                            "<tr><td>Marian Potter</td><td>The Little Red Caboose (Little Golden Book)</td><td>4.21</td><td>11644</td><td>7330</td><td>894072</td></tr>",
                            "<tr><td>Octavia E. Butler</td><td>Parable of the Talents (Earthseed, #2)</td><td>4.21</td><td>11644</td><td>8662</td><td>60932</td></tr>",
                            "<tr><td>Audre Lorde</td><td>Zami: A New Spelling of My Name</td><td>4.2</td><td>11644</td><td>9049</td><td>395220</td></tr>",
                            "<tr><td>Margaret Edson</td><td>Wit</td><td>4.2</td><td>11644</td><td>9707</td><td>171201</td></tr>",
                            "<tr><td>Ann Leckie</td><td>Ancillary Mercy (Imperial Radch #3)</td><td>4.2</td><td>11644</td><td>5901</td><td>23533039</td></tr>",
                            "<tr><td>Patricia C. Wrede, Peter de Sève</td><td>Calling on Dragons (Enchanted Forest Chronicles, #3)</td><td>4.2</td><td>11644</td><td>4396</td><td>169879</td></tr>",
                            "<tr><td>Ann Rule</td><td>Small Sacrifices: A True Story of Passion and Murder</td><td>4.2</td><td>11644</td><td>5518</td><td>231585</td></tr>",
                            "<tr><td>Sylvia Plath, Ted Hughes</td><td>The Collected Poems</td><td>4.2</td><td>11644</td><td>3381</td><td>31426</td></tr>",
                            "<tr><td>Noelle Stevenson</td><td>Nimona</td><td>4.2</td><td>11644</td><td>2743</td><td>19351043</td></tr>",
                            "<tr><td>Tamora Pierce</td><td>The Woman Who Rides Like a Man (Song of the Lioness, #3)</td><td>4.2</td><td>11644</td><td>2608</td><td>13830</td></tr>",
                            "<tr><td>Agatha Christie</td><td>The Murder of Roger Ackroyd (Hercule Poirot, #4)</td><td>4.2</td><td>11644</td><td>1410</td><td>16328</td></tr>",
                            "<tr><td>Daphne du Maurier, Sally Beauman</td><td>Rebecca</td><td>4.2</td><td>11644</td><td>270</td><td>12873</td></tr>",
                            "<tr><td>Isabel Allende, Magda Bogin</td><td>The House of the Spirits</td><td>4.2</td><td>11644</td><td>669</td><td>9328</td></tr>",
                            "<tr><td>Maya Angelou</td><td>I Know Why the Caged Bird Sings</td><td>4.19</td><td>11644</td><td>317</td><td>13214</td></tr>",
                            "<tr><td>Maya Angelou</td><td>The Heart of a Woman</td><td>4.19</td><td>11644</td><td>6057</td><td>5160</td></tr>",
                            "<tr><td>Beatrix Potter</td><td>The Tale of Mrs. Tiggy-Winkle</td><td>4.19</td><td>11644</td><td>9194</td><td>543505</td></tr>",
                            "<tr><td>Esther Earl, Lori Earl, Wayne Earl, John Green</td><td>This Star Won&#39;t Go Out: The Life and Words of Esther Grace Earl</td><td>4.19</td><td>11644</td><td>8139</td><td>17675031</td></tr>",
                            "<tr><td>Becky  Chambers</td><td>The Long Way to a Small, Angry Planet (Wayfarers, #1)</td><td>4.18</td><td>11644</td><td>5753</td><td>22733729</td></tr>",
                            "<tr><td>Chimamanda Ngozi Adichie</td><td>The Thing Around Your Neck</td><td>4.18</td><td>11644</td><td>7559</td><td>5587960</td></tr>",
                            "<tr><td>Beryl Markham</td><td>West with the Night</td><td>4.18</td><td>11644</td><td>4691</td><td>1624</td></tr>",
                            "<tr><td>Octavia E. Butler</td><td>Kindred</td><td>4.18</td><td>11644</td><td>2555</td><td>60931</td></tr>",
                            "<tr><td>Ursula K. Le Guin</td><td>The Dispossessed</td><td>4.18</td><td>11644</td><td>2210</td><td>13651</td></tr>",
                            "<tr><td>Brené Brown</td><td>The Gifts of Imperfection: Let Go of Who You Think You&#39;re Supposed to Be and Embrace Who You Are</td><td>4.17</td><td>11644</td><td>2036</td><td>7015403</td></tr>",
                            "<tr><td>Mary Doria Russell</td><td>The Sparrow (The Sparrow, #1)</td><td>4.17</td><td>11644</td><td>2632</td><td>334176</td></tr>",
                            "<tr><td>Alice Walker</td><td>The Color Purple</td><td>4.17</td><td>11644</td><td>198</td><td>11486</td></tr>",
                            "<tr><td>Allie Brosh</td><td>Hyperbole and a Half: Unfortunate Situations, Flawed Coping Mechanisms, Mayhem, and Other Things That Happened</td><td>4.17</td><td>11644</td><td>721</td><td>17571564</td></tr>",
                            "<tr><td>Natalie Goldberg</td><td>Writing Down the Bones: Freeing the Writer Within</td><td>4.17</td><td>11644</td><td>5496</td><td>44905</td></tr>",
                            "<tr><td>Margaret George</td><td>The Memoirs of Cleopatra</td><td>4.17</td><td>11644</td><td>7138</td><td>10115</td></tr>",
                            "<tr><td>Christiane F., Kai Hermann, Horst Rieck</td><td>Wir Kinder vom Bahnhof Zoo</td><td>4.16</td><td>11644</td><td>6856</td><td>1337448</td></tr>",
                            "<tr><td>Tamora Pierce</td><td>Shatterglass (The Circle Opens, #4)</td><td>4.16</td><td>11644</td><td>7505</td><td>153782</td></tr>",
                            "<tr><td>Emily Dickinson</td><td>Selected Poems</td><td>4.16</td><td>11644</td><td>6455</td><td>112200</td></tr>",
                            "<tr><td>Lois McMaster Bujold</td><td>The Curse of Chalion (World of the Five Gods, #1)</td><td>4.16</td><td>11644</td><td>5429</td><td>61886</td></tr>",
                            "<tr><td>L.M. Montgomery</td><td>Rilla of Ingleside (Anne of Green Gables, #8)</td><td>4.16</td><td>11644</td><td>4698</td><td>433533</td></tr>",
                            "<tr><td>Agatha Christie</td><td>Murder on the Orient Express (Hercule Poirot, #10)</td><td>4.16</td><td>11644</td><td>672</td><td>16304</td></tr>",
                            "<tr><td>Elisabeth Kübler-Ross</td><td>On Death and Dying</td><td>4.15</td><td>11644</td><td>5163</td><td>781844</td></tr>",
                            "<tr><td>Tamora Pierce</td><td>The Will of the Empress (Circle Reforged, #1)</td><td>4.15</td><td>11644</td><td>8332</td><td>153783</td></tr>",
                            "<tr><td>Iris Rainer Dart</td><td>Beaches</td><td>4.14</td><td>11644</td><td>8009</td><td>1219954</td></tr>",
                            "<tr><td>Mary Westmacott, Agatha Christie</td><td>Absent In The Spring</td><td>4.14</td><td>11644</td><td>8057</td><td>140345</td></tr>",
                            "<tr><td>Madeleine L&#39;Engle</td><td>A Ring of Endless Light (Austin Family, #4)</td><td>4.14</td><td>11644</td><td>8099</td><td>14358</td></tr>",
                            "<tr><td>Octavia E. Butler</td><td>Parable of the Sower (Earthseed, #1)</td><td>4.14</td><td>11644</td><td>4047</td><td>52397</td></tr>",
                            "<tr><td>Felicia Day, Joss Whedon</td><td>You&#39;re Never Weird on the Internet (Almost)</td><td>4.14</td><td>11644</td><td>3822</td><td>23705512</td></tr>",
                            "<tr><td>Tamora Pierce</td><td>Briar&#39;s Book (Circle of Magic, #4)</td><td>4.14</td><td>11644</td><td>6374</td><td>58893</td></tr>",
                            "<tr><td>G. Willow Wilson, Adrian Alphona, Jacob Wyatt</td><td>Ms. Marvel, Vol. 2: Generation Why</td><td>4.14</td><td>11644</td><td>6468</td><td>23017947</td></tr>",
                            "<tr><td>Virginia Woolf</td><td>The Waves</td><td>4.14</td><td>11644</td><td>6326</td><td>46114</td></tr>",
                            "<tr><td>Sarah Andersen</td><td>Adulthood Is a Myth (Sarah&#39;s Scribbles, #1)</td><td>4.14</td><td>11644</td><td>7550</td><td>25855506</td></tr>",
                            "<tr><td>Patti Smith</td><td>Just Kids</td><td>4.14</td><td>11644</td><td>775</td><td>341879</td></tr>",
                            "<tr><td>Irma S. Rombauer, Marion Rombauer Becker, Ethan Becker</td><td>The Joy of Cooking</td><td>4.14</td><td>11644</td><td>913</td><td>327847</td></tr>",
                            "<tr><td>Tess Gerritsen</td><td>The Apprentice (Rizzoli &amp; Isles, #2)</td><td>4.14</td><td>11644</td><td>3158</td><td>715834</td></tr>",
                            "<tr><td>Anne Fadiman</td><td>The Spirit Catches You and You Fall Down: A Hmong Child, Her American Doctors, and the Collision of Two Cultures</td><td>4.14</td><td>11644</td><td>1888</td><td>12609</td></tr>",
                            "<tr><td>Julia Alvarez</td><td>In the Time of the Butterflies</td><td>4.13</td><td>11644</td><td>2367</td><td>11206</td></tr>",
                            "<tr><td>Ann Rule</td><td>The Stranger Beside Me: Ted Bundy The Shocking Inside Story</td><td>4.13</td><td>11644</td><td>2592</td><td>15654</td></tr>",
                            "<tr><td>G. Willow Wilson, Adrian Alphona</td><td>Ms. Marvel, Vol. 1: No Normal</td><td>4.13</td><td>11644</td><td>3436</td><td>20898019</td></tr>",
                            "<tr><td>Elizabeth Gaskell, Alan Shelston</td><td>North and South</td><td>4.13</td><td>11644</td><td>1114</td><td>156538</td></tr>",
                            "<tr><td>Madeleine L&#39;Engle</td><td>A Swiftly Tilting Planet (A Wrinkle in Time Quintet, #3)</td><td>4.13</td><td>11644</td><td>1530</td><td>77276</td></tr>",
                            "<tr><td>Jane Austen, James Kinsley, Deidre Shauna Lynch</td><td>Persuasion</td><td>4.13</td><td>11644</td><td>230</td><td>2156</td></tr>",
                            "<tr><td>Lois McMaster Bujold</td><td>Shards of Honour  (Vorkosigan Saga, #1)</td><td>4.13</td><td>11644</td><td>6340</td><td>61903</td></tr>",
                            "<tr><td>Gloria Naylor</td><td>The Women of Brewster Place</td><td>4.13</td><td>11644</td><td>6467</td><td>765811</td></tr>",
                            "<tr><td>Virginia M. Axline</td><td>Dibs in Search of Self</td><td>4.13</td><td>11644</td><td>9456</td><td>73860</td></tr>",
                            "<tr><td>S.A.R.K.</td><td>Succulent Wild Woman</td><td>4.12</td><td>11644</td><td>9482</td><td>164836</td></tr>",
                            "<tr><td>Lorrie Moore</td><td>Birds of America</td><td>4.12</td><td>11644</td><td>7771</td><td>19631</td></tr>",
                            "<tr><td>Tamora Pierce</td><td>Street Magic (The Circle Opens, #2)</td><td>4.12</td><td>11644</td><td>7895</td><td>24093</td></tr>",
                            "<tr><td>Jeanette Winterson</td><td>The Passion</td><td>4.12</td><td>11644</td><td>6808</td><td>15047</td></tr>",
                            "<tr><td>Mary  Stewart</td><td>The Crystal Cave (Arthurian Saga, #1)</td><td>4.12</td><td>11644</td><td>3818</td><td>82192</td></tr>",
                            "<tr><td>Jhumpa Lahiri</td><td>Interpreter of Maladies</td><td>4.12</td><td>11644</td><td>662</td><td>5439</td></tr>",
                            "<tr><td>Marion Zimmer Bradley</td><td>The Mists of Avalon (Avalon, #1)</td><td>4.12</td><td>11644</td><td>620</td><td>402045</td></tr>",
                            "<tr><td>Alison Bechdel</td><td>Fun Home: A Family Tragicomic</td><td>4.12</td><td>11644</td><td>1370</td><td>38990</td></tr>",
                            "<tr><td>Jhumpa Lahiri</td><td>Unaccustomed Earth</td><td>4.11</td><td>11644</td><td>1310</td><td>85301</td></tr>",
                            "<tr><td>Ursula K. Le Guin</td><td>The Farthest Shore (Earthsea Cycle, #3)</td><td>4.11</td><td>11644</td><td>1591</td><td>13667</td></tr>",
                            "<tr><td>Chimamanda Ngozi Adichie</td><td>Purple Hibiscus</td><td>4.11</td><td>11644</td><td>3186</td><td>126381</td></tr>",
                            "<tr><td>Charlotte Perkins Gilman, Elaine Hedges</td><td>The Yellow Wall-Paper</td><td>4.11</td><td>11644</td><td>2157</td><td>286957</td></tr>",
                            "<tr><td>Chitra Banerjee Divakaruni</td><td>The Palace of Illusions</td><td>4.11</td><td>11644</td><td>5335</td><td>1774836</td></tr>",
                            "<tr><td>Meg Jay</td><td>The Defining Decade: Why Your Twenties Matter--And How to Make the Most of Them Now</td><td>4.11</td><td>11644</td><td>7009</td><td>13523061</td></tr>",
                            "<tr><td>Dorothy L. Sayers</td><td>Unnatural Death (Lord Peter Wimsey, #3)</td><td>4.11</td><td>11644</td><td>6017</td><td>192892</td></tr>",
                            "<tr><td>Annie Dillard</td><td>Pilgrim at Tinker Creek</td><td>4.1</td><td>11644</td><td>6600</td><td>12527</td></tr>",
                            "<tr><td>Octavia E. Butler</td><td>Dawn (Xenogenesis, #1)</td><td>4.1</td><td>11644</td><td>7145</td><td>60929</td></tr>",
                            "<tr><td>Janet Stevens, Hans Christian Andersen</td><td>The Princess and the Pea</td><td>4.1</td><td>11644</td><td>7408</td><td>576570</td></tr>",
                            "<tr><td>Roz Chast</td><td>Can&#39;t We Talk about Something More Pleasant?</td><td>4.1</td><td>11644</td><td>4706</td><td>18594409</td></tr>",
                            "<tr><td>Virginia Woolf</td><td>A Room of One&#39;s Own</td><td>4.1</td><td>11644</td><td>1664</td><td>18521</td></tr>",
                            "<tr><td>Helene Wecker</td><td>The Golem and the Jinni (The Golem and the Jinni, #1)</td><td>4.1</td><td>11644</td><td>1474</td><td>15819028</td></tr>",
                            "<tr><td>Anne Frank, Eleanor Roosevelt, B.M. Mooyaart-Doubleday</td><td>The Diary of a Young Girl</td><td>4.1</td><td>11644</td><td>15</td><td>48855</td></tr>",
                            "<tr><td>Charlotte Brontë, Michael Mason</td><td>Jane Eyre</td><td>4.1</td><td>11644</td><td>43</td><td>10210</td></tr>",
                            "<tr><td>Marion Cunningham, Fannie Merritt Farmer, Archibald Candy Corporation</td><td>The Fannie Farmer Cookbook: Anniversary</td><td>4.1</td><td>11644</td><td>8246</td><td>158944</td></tr>",
                            "<tr><td>Stacy King, SunNeko Lee, Crystal S. Chan, Victor Hugo</td><td>Manga Classics: Les Misérables</td><td>4.1</td><td>11644</td><td>9479</td><td>21433251</td></tr>",
                            "<tr><td>Anna Gavalda, Alison Anderson</td><td>Hunting and Gathering</td><td>4.1</td><td>11644</td><td>8902</td><td>47780</td></tr>",
                            "<tr><td>Alice  Miller, Ruth Ward</td><td>The Drama of the Gifted Child: The Search for the True Self</td><td>4.09</td><td>11644</td><td>9296</td><td>4887</td></tr>",
                            "<tr><td>Waris Dirie, Cathleen Miller</td><td>Desert Flower</td><td>4.09</td><td>11644</td><td>8176</td><td>8745</td></tr>",
                            "<tr><td>Sandra Gulland</td><td>The Many Lives &amp; Secret Sorrows of Josephine B. (Josephine Bonaparte, #1)</td><td>4.09</td><td>11644</td><td>7789</td><td>70287</td></tr>",
                            "<tr><td>Dorothy Allison</td><td>Bastard Out of Carolina</td><td>4.09</td><td>11644</td><td>3237</td><td>25354</td></tr>",
                            "<tr><td>Ursula K. Le Guin</td><td>The Lathe of Heaven</td><td>4.09</td><td>11644</td><td>3403</td><td>59924</td></tr>",
                            "<tr><td>Shirley Jackson</td><td>The Lottery</td><td>4.09</td><td>11644</td><td>2993</td><td>6219656</td></tr>",
                            "<tr><td>Simone de Beauvoir, H.M. Parshley, Deirdre Bair</td><td>The Second Sex</td><td>4.09</td><td>11644</td><td>5327</td><td>457264</td></tr>",
                            "<tr><td>Elizabeth Kolbert</td><td>The Sixth Extinction: An Unnatural History</td><td>4.09</td><td>11644</td><td>4115</td><td>17910054</td></tr>",
                            "<tr><td>Jeanette Winterson</td><td>Written on the Body</td><td>4.08</td><td>11644</td><td>5024</td><td>15054</td></tr>",
                            "<tr><td>Kate Chopin</td><td>The Story of an Hour</td><td>4.08</td><td>11644</td><td>7562</td><td>2267195</td></tr>",
                            "<tr><td>Gloria Steinem</td><td>My Life on the Road</td><td>4.08</td><td>11644</td><td>7199</td><td>15451058</td></tr>",
                            "<tr><td>Harriet Jacobs</td><td>Incidents in the Life of a Slave Girl</td><td>4.08</td><td>11644</td><td>3419</td><td>152519</td></tr>",
                            "<tr><td>Maya Angelou</td><td>Letter to My Daughter</td><td>4.08</td><td>11644</td><td>9187</td><td>4016515</td></tr>",
                            "<tr><td>Lynn Flewelling</td><td>Luck in the Shadows (Nightrunner, #1)</td><td>4.08</td><td>11644</td><td>9086</td><td>74270</td></tr>",
                            "<tr><td>Elizabeth Gaskell, Pam Morris</td><td>Wives and Daughters</td><td>4.07</td><td>11644</td><td>3346</td><td>383206</td></tr>",
                            "<tr><td>Sara Gruen</td><td>Water for Elephants</td><td>4.07</td><td>11644</td><td>46</td><td>43641</td></tr>",
                            "<tr><td>Donna Tartt</td><td>The Secret History</td><td>4.07</td><td>11644</td><td>494</td><td>29044</td></tr>",
                            "<tr><td>Ursula K. Le Guin</td><td>The Tombs of Atuan (Earthsea Cycle, #2)</td><td>4.07</td><td>11644</td><td>1629</td><td>13662</td></tr>",
                            "<tr><td>Ursula Hegi</td><td>Stones from the River</td><td>4.07</td><td>11644</td><td>1159</td><td>77163</td></tr>",
                            "<tr><td>Helen Keller</td><td>The Story of My Life</td><td>4.07</td><td>11644</td><td>800</td><td>821611</td></tr>",
                            "<tr><td>Rachel Maddow</td><td>Drift: The Unmooring of American Military Power</td><td>4.07</td><td>11644</td><td>6804</td><td>12143200</td></tr>",
                            "<tr><td>Tamora Pierce</td><td>Tris&#39;s Book (Circle of Magic, #2)</td><td>4.07</td><td>11644</td><td>5805</td><td>58890</td></tr>",
                            "<tr><td>Isabel Allende</td><td>Paula</td><td>4.07</td><td>11644</td><td>4606</td><td>24790</td></tr>",
                            "<tr><td>Enid Blyton</td><td>Five on a Treasure Island (Famous Five, #1)</td><td>4.06</td><td>11644</td><td>6359</td><td>17488</td></tr>",
                            "<tr><td>Tamora Pierce</td><td>Daja&#39;s Book (Circle of Magic, #3)</td><td>4.06</td><td>11644</td><td>6368</td><td>58894</td></tr>",
                            "<tr><td>Keri Hulme</td><td>The Bone People</td><td>4.06</td><td>11644</td><td>6307</td><td>460635</td></tr>",
                            "<tr><td>Marguerite Henry</td><td>Stormy, Misty&#39;s Foal (Misty, #3)</td><td>4.06</td><td>11644</td><td>6311</td><td>296125</td></tr>",
                            "<tr><td>Malala Yousafzai, Christina Lamb</td><td>I Am Malala: The Story of the Girl Who Stood Up for Education and Was Shot by the Taliban</td><td>4.06</td><td>11644</td><td>470</td><td>17851885</td></tr>",
                            "<tr><td>Jane Austen, Tony Tanner, Ros Ballaster</td><td>Sense and Sensibility</td><td>4.06</td><td>11644</td><td>76</td><td>14935</td></tr>",
                            "<tr><td>Margaret Atwood</td><td>The Handmaid&#39;s Tale</td><td>4.06</td><td>11644</td><td>119</td><td>38447</td></tr>",
                            "<tr><td>Shirley Jackson</td><td>The Lottery and Other Stories</td><td>4.06</td><td>11644</td><td>2199</td><td>89723</td></tr>",
                            "<tr><td>Ursula K. Le Guin</td><td>The Other Wind (Earthsea Cycle, #6)</td><td>4.06</td><td>11644</td><td>8893</td><td>13658</td></tr>",
                            "<tr><td>Alice Munro</td><td>Hateship, Friendship, Courtship, Loveship, Marriage: Stories</td><td>4.06</td><td>11644</td><td>7874</td><td>111126</td></tr>",
                            "<tr><td>Alice Walker</td><td>Possessing the Secret of Joy</td><td>4.06</td><td>11644</td><td>8080</td><td>60935</td></tr>",
                            "<tr><td>Alice Walker</td><td>The Temple of My Familiar</td><td>4.05</td><td>11644</td><td>8039</td><td>60937</td></tr>",
                            "<tr><td>Tamora Pierce</td><td>Cold Fire (The Circle Opens, #3)</td><td>4.05</td><td>11644</td><td>7981</td><td>153792</td></tr>",
                            "<tr><td>Katherine Addison</td><td>The Goblin Emperor</td><td>4.05</td><td>11644</td><td>7900</td><td>17910048</td></tr>",
                            "<tr><td>Mary Doria Russell</td><td>Children of God (The Sparrow, #2)</td><td>4.05</td><td>11644</td><td>8128</td><td>16948</td></tr>",
                            "<tr><td>Roxane Gay</td><td>An Untamed State</td><td>4.05</td><td>11644</td><td>8409</td><td>18467818</td></tr>",
                            "<tr><td>Barbara Kingsolver</td><td>Animal Dreams</td><td>4.05</td><td>11644</td><td>1752</td><td>77262</td></tr>",
                            "<tr><td>Shirley Jackson, Jonathan Lethem</td><td>We Have Always Lived in the Castle</td><td>4.05</td><td>11644</td><td>2637</td><td>89724</td></tr>",
                            "<tr><td>Lisa See</td><td>Snow Flower and the Secret Fan</td><td>4.05</td><td>11644</td><td>273</td><td>1103</td></tr>",
                            "<tr><td>Mary Roach</td><td>Stiff: The Curious Lives of Human Cadavers</td><td>4.05</td><td>11644</td><td>758</td><td>32145</td></tr>",
                            "<tr><td>Anne Rice</td><td>The Vampire Lestat (The Vampire Chronicles, #2)</td><td>4.05</td><td>11644</td><td>696</td><td>43814</td></tr>",
                            "<tr><td>Ursula K. Le Guin, Lech Jęczmyk</td><td>The Left Hand of Darkness</td><td>4.05</td><td>11644</td><td>1574</td><td>18423</td></tr>",
                            "<tr><td>Margaret Atwood</td><td>The Year of the Flood  (MaddAddam, #2)</td><td>4.05</td><td>11644</td><td>1405</td><td>6080337</td></tr>",
                            "<tr><td>Tana French</td><td>The Likeness (Dublin Murder Squad, #2)</td><td>4.05</td><td>11644</td><td>1325</td><td>1914973</td></tr>",
                            "<tr><td>Robin Hobb</td><td>City of Dragons (Rain Wild Chronicles, #3)</td><td>4.05</td><td>11644</td><td>6830</td><td>11801463</td></tr>",
                            "<tr><td>Chelsea Cain</td><td>Sweetheart (Archie Sheridan &amp; Gretchen Lowell, #2)</td><td>4.05</td><td>11644</td><td>7601</td><td>2983654</td></tr>",
                            "<tr><td>Shonda Rhimes</td><td>Year of Yes: How to Dance It Out, Stand In the Sun and Be Your Own Person</td><td>4.05</td><td>11644</td><td>4601</td><td>25690958</td></tr>",
                            "<tr><td>L.M. Montgomery</td><td>Anne of Ingleside (Anne of Green Gables, #6)</td><td>4.05</td><td>11644</td><td>3904</td><td>77391</td></tr>",
                            "<tr><td>Caitlin Doughty</td><td>Smoke Gets in Your Eyes: And Other Lessons from the Crematory</td><td>4.04</td><td>11644</td><td>4824</td><td>20663702</td></tr>",
                            "<tr><td>Caroline Knapp</td><td>Drinking: A Love Story</td><td>4.04</td><td>11644</td><td>7615</td><td>73965</td></tr>",
                            "<tr><td>Cate Tiernan</td><td>Book of Shadows (Sweep, #1)</td><td>4.04</td><td>11644</td><td>7387</td><td>675614</td></tr>",
                            "<tr><td>Hope Jahren</td><td>Lab Girl</td><td>4.04</td><td>11644</td><td>7049</td><td>25733983</td></tr>",
                            "<tr><td>Martha Stewart, Victor Schrager</td><td>Martha Stewart&#39;s Cookies: The Very Best Treats to Bake and to Share</td><td>4.04</td><td>11644</td><td>6626</td><td>2176873</td></tr>",
                            "<tr><td>Betty Mahmoody</td><td>Not Without My Daughter</td><td>4.04</td><td>11644</td><td>5798</td><td>43255</td></tr>",
                            "<tr><td>Jen Sincero</td><td>You Are a Badass: How to Stop Doubting Your Greatness and Start Living an Awesome Life</td><td>4.04</td><td>11644</td><td>6071</td><td>15843166</td></tr>",
                            "<tr><td>Louisa May Alcott</td><td>Little Women (Little Women, #1)</td><td>4.04</td><td>11644</td><td>42</td><td>1934</td></tr>",
                            "<tr><td>L.M. Montgomery</td><td>Anne of Windy Poplars (Anne of Green Gables, #4)</td><td>4.04</td><td>11644</td><td>3138</td><td>65840</td></tr>",
                            "<tr><td>Laurie R. King</td><td>A Monstrous Regiment of Women (Mary Russell, #2)</td><td>4.04</td><td>11644</td><td>8412</td><td>104737</td></tr>",
                            "<tr><td>N.K. Jemisin</td><td>The Broken Kingdoms (Inheritance, #2)</td><td>4.04</td><td>11644</td><td>9668</td><td>7904453</td></tr>",
                            "<tr><td>Geraldine Brooks</td><td>Nine Parts of Desire: The Hidden World of Islamic Women</td><td>4.04</td><td>11644</td><td>9650</td><td>337615</td></tr>",
                            "<tr><td>Chelsea Cain</td><td>Evil at Heart (Archie Sheridan &amp; Gretchen Lowell, #3)</td><td>4.03</td><td>11644</td><td>8884</td><td>6193923</td></tr>",
                            "<tr><td>Marion Zimmer Bradley, Diana L. Paxson</td><td>Priestess of Avalon (Avalon, #4)</td><td>4.03</td><td>11644</td><td>7961</td><td>84552</td></tr>",
                            "<tr><td>Kay Redfield Jamison</td><td>An Unquiet Mind: A Memoir of Moods and Madness</td><td>4.03</td><td>11644</td><td>2255</td><td>361459</td></tr>",
                            "<tr><td>Emma Donoghue</td><td>Room</td><td>4.03</td><td>11644</td><td>124</td><td>7937843</td></tr>",
                            "<tr><td>Agatha Christie</td><td>Murder at the Vicarage (Miss Marple, #1)</td><td>4.03</td><td>11644</td><td>1058</td><td>16331</td></tr>",
                            "<tr><td>Truddi Chase, Robert A. Phillips Jr.</td><td>When Rabbit Howls</td><td>4.03</td><td>11644</td><td>6670</td><td>760941</td></tr>",
                            "<tr><td>Ann Leckie</td><td>Ancillary Sword (Imperial Radch, #2)</td><td>4.03</td><td>11644</td><td>4621</td><td>20706284</td></tr>",
                            "<tr><td>Pat Barker</td><td>Regeneration (Regeneration, #1)</td><td>4.03</td><td>11644</td><td>5392</td><td>5872</td></tr>",
                            "<tr><td>Angela Carter</td><td>The Bloody Chamber and Other Stories</td><td>4.02</td><td>11644</td><td>5273</td><td>49011</td></tr>",
                            "<tr><td>Louise Erdrich</td><td>The Master Butchers Singing Club</td><td>4.02</td><td>11644</td><td>5734</td><td>142900</td></tr>",
                            "<tr><td>Barbara Kingsolver</td><td>The Poisonwood Bible</td><td>4.02</td><td>11644</td><td>100</td><td>7244</td></tr>",
                            "<tr><td>Emily St. John Mandel</td><td>Station Eleven</td><td>4.02</td><td>11644</td><td>458</td><td>20170404</td></tr>",
                            "<tr><td>Sarah Waters</td><td>Fingersmith</td><td>4.02</td><td>11644</td><td>2062</td><td>45162</td></tr>",
                            "<tr><td>Charlotte Perkins Gilman</td><td>The Yellow Wallpaper and Other Stories</td><td>4.02</td><td>11644</td><td>1785</td><td>99300</td></tr>",
                            "<tr><td>Siri Hustvedt</td><td>What I Loved</td><td>4.02</td><td>11644</td><td>8479</td><td>125502</td></tr>",
                            "<tr><td>Fannie Flagg</td><td>Standing in the Rainbow (Elmwood Springs, #2)</td><td>4.02</td><td>11644</td><td>8811</td><td>31493</td></tr>",
                            "<tr><td>Cecelia Ahern</td><td>How to Fall in Love</td><td>4.02</td><td>11644</td><td>9131</td><td>18161265</td></tr>",
                            "<tr><td>Toni Morrison</td><td>Song of Solomon</td><td>4.01</td><td>11644</td><td>1642</td><td>11334</td></tr>",
                            "<tr><td>Hannah Kent</td><td>Burial Rites</td><td>4.01</td><td>11644</td><td>2061</td><td>17333319</td></tr>",
                            "<tr><td>Sue Monk Kidd</td><td>The Secret Life of Bees</td><td>4.01</td><td>11644</td><td>57</td><td>37435</td></tr>",
                            "<tr><td>Louise Rennison</td><td>Dancing in My Nuddy-Pants (Confessions of Georgia Nicolson, #4)</td><td>4.01</td><td>11644</td><td>6122</td><td>402015</td></tr>",
                            "<tr><td>V.C. Andrews</td><td>Heaven (Casteel, #1)</td><td>4.01</td><td>11644</td><td>6182</td><td>787660</td></tr>",
                            "<tr><td>Rosalind Miles</td><td>I, Elizabeth</td><td>4.01</td><td>11644</td><td>7541</td><td>56353</td></tr>",
                            "<tr><td>Tess Gerritsen</td><td>The Mephisto Club (Rizzoli &amp; Isles, #6)</td><td>4.01</td><td>11644</td><td>4481</td><td>32254</td></tr>",
                            "<tr><td>Isabel Allende, Margaret Sayers Peden</td><td>Island Beneath the Sea</td><td>4.01</td><td>11644</td><td>4502</td><td>7005479</td></tr>",
                            "<tr><td>L.M. Montgomery</td><td>Rainbow Valley (Anne of Green Gables, #7)</td><td>4</td><td>11644</td><td>5567</td><td>77395</td></tr>",
                            "<tr><td>Deborah Blum</td><td>The Poisoner&#39;s Handbook: Murder and the Birth of Forensic Medicine in Jazz Age New York</td><td>4</td><td>11644</td><td>5634</td><td>7054123</td></tr>",
                            "<tr><td>Margaret Atwood</td><td>Oryx and Crake (MaddAddam, #1)</td><td>4</td><td>11644</td><td>572</td><td>46756</td></tr>",
                            "<tr><td>Dodie Smith</td><td>I Capture the Castle</td><td>4</td><td>11644</td><td>1957</td><td>31122</td></tr>",
                            "<tr><td>Sarah Waters</td><td>Tipping the Velvet</td><td>4</td><td>11644</td><td>2145</td><td>56373</td></tr>",
                            "<tr><td>Twyla Tharp</td><td>The Creative Habit: Learn It and Use It for Life</td><td>4</td><td>11644</td><td>8747</td><td>254799</td></tr>",
                            "<tr><td>Ursula K. Le Guin</td><td>Tales from Earthsea (Earthsea Cycle, #5)</td><td>4</td><td>11644</td><td>9424</td><td>13659</td></tr>",
                            "<tr><td>Enid Blyton</td><td>Five Go Adventuring Again (Famous Five, #2)</td><td>3.99</td><td>11644</td><td>9686</td><td>17487</td></tr>",
                            "<tr><td>Giulia Enders, Jill Enders</td><td>Gut: The Inside Story of Our Body’s Most Underrated Organ</td><td>3.99</td><td>11644</td><td>9969</td><td>23013953</td></tr>",
                            "<tr><td>Maggie Nelson</td><td>The Argonauts</td><td>3.99</td><td>11644</td><td>8580</td><td>22929741</td></tr>",
                            "<tr><td>Annie Proulx</td><td>Close Range</td><td>3.99</td><td>11644</td><td>7970</td><td>27999</td></tr>",
                            "<tr><td>Ursula K. Le Guin</td><td>A Wizard of Earthsea (Earthsea Cycle, #1)</td><td>3.99</td><td>11644</td><td>593</td><td>13642</td></tr>",
                            "<tr><td>Toni Morrison</td><td>The Bluest Eye</td><td>3.99</td><td>11644</td><td>763</td><td>11337</td></tr>",
                            "<tr><td>Jane Austen, Fiona Stafford</td><td>Emma</td><td>3.99</td><td>11644</td><td>171</td><td>6969</td></tr>",
                            "<tr><td>Emily M. Danforth</td><td>The Miseducation of Cameron Post</td><td>3.99</td><td>11644</td><td>7421</td><td>11595276</td></tr>",
                            "<tr><td>Tamora Pierce</td><td>Sandry&#39;s Book (Circle of Magic, #1)</td><td>3.99</td><td>11644</td><td>4712</td><td>58889</td></tr>",
                            "<tr><td>Julie Anne Peters</td><td>Keeping You a Secret</td><td>3.98</td><td>11644</td><td>3721</td><td>272315</td></tr>",
                            "<tr><td>Margaret Peterson Haddix</td><td>Running Out of Time</td><td>3.98</td><td>11644</td><td>6938</td><td>227658</td></tr>",
                            "<tr><td>Sara Nović</td><td>Girl at War</td><td>3.98</td><td>11644</td><td>6799</td><td>23209971</td></tr>",
                            "<tr><td>Alice Munro</td><td>Runaway</td><td>3.98</td><td>11644</td><td>6125</td><td>14280</td></tr>",
                            "<tr><td>Louise Erdrich</td><td>Love Medicine</td><td>3.98</td><td>11644</td><td>6242</td><td>91440</td></tr>",
                            "<tr><td>Agatha Christie, Ροζίτα Σώκου</td><td>The Mysterious Affair at Styles (Hercule Poirot, #1)</td><td>3.98</td><td>11644</td><td>671</td><td>16343</td></tr>",
                            "<tr><td>Barbara Kingsolver</td><td>Prodigal Summer</td><td>3.98</td><td>11644</td><td>1144</td><td>14249</td></tr>",
                            "<tr><td>Amy Tan</td><td>The Bonesetter&#39;s Daughter</td><td>3.98</td><td>11644</td><td>848</td><td>12555</td></tr>",
                            "<tr><td>Katherine Dunn</td><td>Geek Love</td><td>3.98</td><td>11644</td><td>2051</td><td>13872</td></tr>",
                            "<tr><td>Ruth Ozeki</td><td>A Tale for the Time Being</td><td>3.98</td><td>11644</td><td>1700</td><td>15811545</td></tr>",
                            "<tr><td>Amy Tan</td><td>The Kitchen God&#39;s Wife</td><td>3.98</td><td>11644</td><td>1714</td><td>12557</td></tr>",
                            "<tr><td>Thrity Umrigar</td><td>The Space Between Us</td><td>3.98</td><td>11644</td><td>3021</td><td>218357</td></tr>",
                            "<tr><td>Amy Tan</td><td>The Hundred Secret Senses</td><td>3.98</td><td>11644</td><td>3311</td><td>690866</td></tr>",
                            "<tr><td>Margaret Atwood</td><td>MaddAddam (MaddAddam, #3)</td><td>3.98</td><td>11644</td><td>2570</td><td>17262203</td></tr>",
                            "<tr><td>Sarah Vowell</td><td>Assassination Vacation</td><td>3.98</td><td>11644</td><td>2897</td><td>3110</td></tr>",
                            "<tr><td>Tamora Pierce</td><td>Magic Steps (The Circle Opens, #1)</td><td>3.98</td><td>11644</td><td>8085</td><td>153781</td></tr>",
                            "<tr><td>A.N. Roquelaure, Anne Rice</td><td>Sleeping Beauty Box Set</td><td>3.98</td><td>11644</td><td>8096</td><td>26581</td></tr>",
                            "<tr><td>Nancy Garden</td><td>Annie on My Mind</td><td>3.97</td><td>11644</td><td>3415</td><td>595375</td></tr>",
                            "<tr><td>Tana French</td><td>Faithful Place (Dublin Murder Squad, #3)</td><td>3.97</td><td>11644</td><td>1911</td><td>7093952</td></tr>",
                            "<tr><td>Margaret Atwood, Brigitte Walitzek</td><td>Alias Grace</td><td>3.97</td><td>11644</td><td>1845</td><td>58027</td></tr>",
                            "<tr><td>Ann Leckie</td><td>Ancillary Justice (Imperial Radch #1)</td><td>3.97</td><td>11644</td><td>2218</td><td>17333324</td></tr>",
                            "<tr><td>Katherine Boo</td><td>Behind the Beautiful Forevers: Life, Death, and Hope in a Mumbai Undercity</td><td>3.97</td><td>11644</td><td>1252</td><td>11869272</td></tr>",
                            "<tr><td>Carson McCullers</td><td>The Heart is a Lonely Hunter</td><td>3.97</td><td>11644</td><td>1365</td><td>37380</td></tr>",
                            "<tr><td>Johanna Spyri, Angelo  Rinaldi, Beverly Cleary</td><td>Heidi</td><td>3.97</td><td>11644</td><td>639</td><td>93</td></tr>",
                            "<tr><td>Pearl S. Buck</td><td>The Good Earth (House of Earth, #1)</td><td>3.97</td><td>11644</td><td>461</td><td>1078</td></tr>",
                            "<tr><td>Anne Rice</td><td>Interview with the Vampire (The Vampire Chronicles, #1)</td><td>3.97</td><td>11644</td><td>205</td><td>43763</td></tr>",
                            "<tr><td>Amanda Palmer</td><td>The Art of Asking; or, How I Learned to Stop Worrying and Let People Help</td><td>3.97</td><td>11644</td><td>4225</td><td>20980987</td></tr>",
                            "<tr><td>Catherynne M. Valente, Ana Juan</td><td>The Girl Who Circumnavigated Fairyland in a Ship of Her Own Making (Fairyland, #1)</td><td>3.97</td><td>11644</td><td>4624</td><td>9591398</td></tr>",
                            "<tr><td>Louise Rennison</td><td>Knocked Out by My Nunga-Nungas (Confessions of Georgia Nicolson, #3)</td><td>3.97</td><td>11644</td><td>5029</td><td>112675</td></tr>",
                            "<tr><td>Agatha Christie</td><td>A Murder Is Announced (Miss Marple, #5)</td><td>3.96</td><td>11644</td><td>4728</td><td>16298</td></tr>",
                            "<tr><td>Nigella Lawson</td><td>Nigella Express: Good Food, Fast</td><td>3.96</td><td>11644</td><td>4735</td><td>468070</td></tr>",
                            "<tr><td>Liz Moore</td><td>Heft</td><td>3.96</td><td>11644</td><td>7382</td><td>11381910</td></tr>",
                            "<tr><td>V.C. Andrews</td><td>Dark Angel (Casteel, #2)</td><td>3.96</td><td>11644</td><td>7410</td><td>397466</td></tr>",
                            "<tr><td>Jhumpa Lahiri</td><td>The Namesake</td><td>3.96</td><td>11644</td><td>378</td><td>33917</td></tr>",
                            "<tr><td>Alexandra Fuller</td><td>Don&#39;t Let&#39;s Go to the Dogs Tonight</td><td>3.96</td><td>11644</td><td>2288</td><td>24687</td></tr>",
                            "<tr><td>Sarah Ban Breathnach</td><td>Simple Abundance:  A Daybook of Comfort and Joy</td><td>3.96</td><td>11644</td><td>2566</td><td>748862</td></tr>",
                            "<tr><td>Louise Fitzhugh</td><td>Harriet the Spy (Harriet the Spy #1)</td><td>3.96</td><td>11644</td><td>1707</td><td>232576</td></tr>",
                            "<tr><td>Jean Kwok</td><td>Girl in Translation</td><td>3.96</td><td>11644</td><td>3038</td><td>7362158</td></tr>",
                            "<tr><td>Louise Rennison</td><td>On the Bright Side, I&#39;m Now the Girlfriend of a Sex God (Confessions of Georgia Nicolson, #2)</td><td>3.96</td><td>11644</td><td>2812</td><td>402014</td></tr>",
                            "<tr><td>Sarah Hepola</td><td>Blackout: Remembering the Things I Drank to Forget</td><td>3.96</td><td>11644</td><td>8105</td><td>23341862</td></tr>",
                            "<tr><td>Isabel Allende</td><td>The Stories of Eva Luna</td><td>3.96</td><td>11644</td><td>8295</td><td>3291</td></tr>",
                            "<tr><td>Rene Denfeld</td><td>The Enchanted</td><td>3.96</td><td>11644</td><td>8326</td><td>18090147</td></tr>",
                            "<tr><td>Anne Michaels</td><td>Fugitive Pieces</td><td>3.95</td><td>11644</td><td>9215</td><td>15836</td></tr>",
                            "<tr><td>Mollie Katzen</td><td>The Moosewood Cookbook: Recipes from Moosewood Restaurant, Ithaca, New York</td><td>3.95</td><td>11644</td><td>3046</td><td>603422</td></tr>",
                            "<tr><td>Pamela Druckerman, Abby Craden</td><td>Bringing Up Bébé: One American Mother Discovers the Wisdom of French Parenting</td><td>3.95</td><td>11644</td><td>3442</td><td>13152287</td></tr>",
                            "<tr><td>Ann-Marie MacDonald</td><td>Fall on Your Knees</td><td>3.95</td><td>11644</td><td>1806</td><td>5174</td></tr>",
                            "<tr><td>Audrey Niffenegger</td><td>The Time Traveler&#39;s Wife</td><td>3.95</td><td>11644</td><td>38</td><td>14050</td></tr>",
                            "<tr><td>Newt Scamander, J.K. Rowling, Albus Dumbledore</td><td>Fantastic Beasts and Where to Find Them</td><td>3.95</td><td>11644</td><td>469</td><td>41899</td></tr>",
                            "<tr><td>Joanne Harris</td><td>Chocolat (Chocolat, #1)</td><td>3.95</td><td>11644</td><td>1131</td><td>47401</td></tr>",
                            "<tr><td>Eowyn Ivey</td><td>The Snow Child</td><td>3.95</td><td>11644</td><td>1164</td><td>11250053</td></tr>",
                            "<tr><td>Margaret Atwood</td><td>The Blind Assassin</td><td>3.95</td><td>11644</td><td>883</td><td>78433</td></tr>",
                            "<tr><td>Heather O&#39;Neill</td><td>Lullabies for Little Criminals</td><td>3.95</td><td>11644</td><td>6770</td><td>22207</td></tr>",
                            "<tr><td>Isabel Allende, Margaret Sayers Peden</td><td>Eva Luna</td><td>3.95</td><td>11644</td><td>3511</td><td>149196</td></tr>",
                            "<tr><td>Agatha Christie</td><td>Evil Under the Sun (Hercule Poirot, #23)</td><td>3.94</td><td>11644</td><td>4240</td><td>16305</td></tr>",
                            "<tr><td>Alison Weir</td><td>Innocent Traitor</td><td>3.94</td><td>11644</td><td>4129</td><td>111218</td></tr>",
                            "<tr><td>Judy Blume</td><td>Otherwise Known as Sheila the Great (Fudge #2)</td><td>3.94</td><td>11644</td><td>3871</td><td>80670</td></tr>",
                            "<tr><td>Jeanette Winterson</td><td>Why Be Happy When You Could Be Normal?</td><td>3.94</td><td>11644</td><td>4704</td><td>11395597</td></tr>",
                            "<tr><td>P.D. James</td><td>Cover Her Face (Adam Dalgliesh #1)</td><td>3.94</td><td>11644</td><td>4586</td><td>3832</td></tr>",
                            "<tr><td>Rachel Carson, Linda Lear, Edward O. Wilson</td><td>Silent Spring</td><td>3.94</td><td>11644</td><td>4487</td><td>27333</td></tr>",
                            "<tr><td>Noelle Stevenson, Grace Ellis, Shannon Waters, Shannon Watters, Brooke A. Allen, Faith Hicks, Kat Leyh, Brooke Allen, Carolyn Nowak, Various, Carey Pietsch</td><td>Lumberjanes, Vol. 1: Beware the Kitten Holy</td><td>3.94</td><td>11644</td><td>5333</td><td>22554204</td></tr>",
                            "<tr><td>Ann M. Martin</td><td>Kristy&#39;s Great Idea (The Baby-Sitters Club, #1)</td><td>3.94</td><td>11644</td><td>5621</td><td>233722</td></tr>",
                            "<tr><td>Gail Tsukiyama</td><td>Women of the Silk</td><td>3.94</td><td>11644</td><td>7458</td><td>51114</td></tr>",
                            "<tr><td>Patti Smith</td><td>M Train</td><td>3.94</td><td>11644</td><td>6241</td><td>24728470</td></tr>",
                            "<tr><td>Yōko Ogawa, Stephen Snyder</td><td>The Housekeeper and the Professor</td><td>3.94</td><td>11644</td><td>5933</td><td>3181564</td></tr>",
                            "<tr><td>Barbara Kingsolver</td><td>The Bean Trees (Greer Family, #1)</td><td>3.94</td><td>11644</td><td>860</td><td>30868</td></tr>",
                            "<tr><td>Edith Wharton, Nina Bawden</td><td>The House of Mirth</td><td>3.94</td><td>11644</td><td>1509</td><td>17728</td></tr>",
                            "<tr><td>Anna Sewell</td><td>Black Beauty</td><td>3.94</td><td>11644</td><td>497</td><td>3685</td></tr>",
                            "<tr><td>Tina Fey</td><td>Bossypants</td><td>3.94</td><td>11644</td><td>106</td><td>9418327</td></tr>",
                            "<tr><td>Laura Esquivel, Thomas  Christensen, Carol Christensen</td><td>Like Water for Chocolate</td><td>3.94</td><td>11644</td><td>272</td><td>6952</td></tr>",
                            "<tr><td>Terry McMillan</td><td>Waiting to Exhale (Waiting To Exhale #1)</td><td>3.94</td><td>11644</td><td>8779</td><td>122212</td></tr>",
                            "<tr><td>Melanie Rawn</td><td>Dragon Prince (Dragon Prince, #1)</td><td>3.94</td><td>11644</td><td>8729</td><td>185289</td></tr>",
                            "<tr><td>Jill Murphy</td><td>The Worst Witch (Worst Witch, #1)</td><td>3.94</td><td>11644</td><td>8477</td><td>351023</td></tr>",
                            "<tr><td>Ruth Ozeki</td><td>My Year of Meats</td><td>3.93</td><td>11644</td><td>8516</td><td>12349</td></tr>",
                            "<tr><td>Sara Douglass</td><td>The Wayfarer Redemption (Wayfarer Redemption, #1)</td><td>3.93</td><td>11644</td><td>7788</td><td>231989</td></tr>",
                            "<tr><td>Phyllis T. Smith</td><td>I Am Livia</td><td>3.93</td><td>11644</td><td>9226</td><td>20874139</td></tr>",
                            "<tr><td>Janet Fitch</td><td>White Oleander</td><td>3.93</td><td>11644</td><td>326</td><td>32234</td></tr>",
                            "<tr><td>Edith Wharton, Maureen Howard</td><td>The Age of Innocence</td><td>3.93</td><td>11644</td><td>899</td><td>53835</td></tr>",
                            "<tr><td>George Eliot, Michel Faber</td><td>Middlemarch</td><td>3.93</td><td>11644</td><td>961</td><td>19089</td></tr>",
                            "<tr><td>Jenny  Lawson</td><td>Furiously Happy: A Funny Book About Horrible Things</td><td>3.93</td><td>11644</td><td>1810</td><td>23848559</td></tr>",
                            "<tr><td>Marian Keyes</td><td>Rachel&#39;s Holiday (Walsh Family, #2)</td><td>3.93</td><td>11644</td><td>1913</td><td>9301</td></tr>",
                            "<tr><td>Patricia Highsmith</td><td>The Talented Mr. Ripley (Ripley, #1)</td><td>3.93</td><td>11644</td><td>3262</td><td>2247142</td></tr>",
                            "<tr><td>Mary Roach</td><td>Packing for Mars: The Curious Science of Life in the Void</td><td>3.93</td><td>11644</td><td>2841</td><td>7237456</td></tr>",
                            "<tr><td>Annie Proulx</td><td>Brokeback Mountain</td><td>3.93</td><td>11644</td><td>6066</td><td>1627</td></tr>",
                            "<tr><td>Rebecca Solnit</td><td>Men Explain Things to Me</td><td>3.93</td><td>11644</td><td>5820</td><td>18528190</td></tr>",
                            "<tr><td>Margaret Atwood</td><td>Stone Mattress: Nine Tales</td><td>3.93</td><td>11644</td><td>7640</td><td>22642472</td></tr>",
                            "<tr><td>Natsuo Kirino, Stephen Snyder</td><td>Out</td><td>3.93</td><td>11644</td><td>6594</td><td>25365</td></tr>",
                            "<tr><td>Isabel Allende, Margaret Sayers Peden</td><td>Portrait in Sepia</td><td>3.93</td><td>11644</td><td>4108</td><td>85987</td></tr>",
                            "<tr><td>Patricia Highsmith</td><td>The Price of Salt</td><td>3.93</td><td>11644</td><td>4338</td><td>52258</td></tr>",
                            "<tr><td>Stella Gibbons, Lynne Truss, Roz Chast</td><td>Cold Comfort Farm</td><td>3.92</td><td>11644</td><td>3878</td><td>92780</td></tr>",
                            "<tr><td>Mary Roach</td><td>Gulp: Adventures on the Alimentary Canal</td><td>3.92</td><td>11644</td><td>3545</td><td>13615414</td></tr>",
                            "<tr><td>Chelsea Cain</td><td>Heartsick (Archie Sheridan &amp; Gretchen Lowell, #1)</td><td>3.92</td><td>11644</td><td>3745</td><td>657034</td></tr>",
                            "<tr><td>Agatha Christie</td><td>4:50 from Paddington (Miss Marple, #8)</td><td>3.92</td><td>11644</td><td>5041</td><td>140278</td></tr>",
                            "<tr><td>Daphne du Maurier</td><td>My Cousin Rachel</td><td>3.92</td><td>11644</td><td>6916</td><td>18869970</td></tr>",
                            "<tr><td>Mineko Iwasaki, Rande Brown</td><td>Geisha, a Life</td><td>3.92</td><td>11644</td><td>6885</td><td>522534</td></tr>",
                            "<tr><td>Cynthia Voigt</td><td>Homecoming (Tillerman Cycle, #1)</td><td>3.92</td><td>11644</td><td>7345</td><td>12125</td></tr>",
                            "<tr><td>Julie Maroh</td><td>Le bleu est une couleur chaude</td><td>3.92</td><td>11644</td><td>6449</td><td>7963189</td></tr>",
                            "<tr><td>Kate Atkinson</td><td>A God in Ruins</td><td>3.92</td><td>11644</td><td>2848</td><td>3722183</td></tr>",
                            "<tr><td>Emily Carroll</td><td>Through the Woods</td><td>3.92</td><td>11644</td><td>3368</td><td>18659623</td></tr>",
                            "<tr><td>Mary Karr</td><td>The Liars&#39; Club</td><td>3.92</td><td>11644</td><td>1978</td><td>14241</td></tr>",
                            "<tr><td>Margaret Atwood</td><td>Cat&#39;s Eye</td><td>3.92</td><td>11644</td><td>2561</td><td>51019</td></tr>",
                            "<tr><td>Ann Patchett</td><td>Bel Canto</td><td>3.92</td><td>11644</td><td>407</td><td>5826</td></tr>",
                            "<tr><td>Gillian Flynn</td><td>Sharp Objects</td><td>3.92</td><td>11644</td><td>244</td><td>66559</td></tr>",
                            "<tr><td>Louisa May Alcott</td><td>Good Wives (Little Women, #1.5)</td><td>3.92</td><td>11644</td><td>8740</td><td>78960</td></tr>",
                            "<tr><td>Elizabeth Berg</td><td>What We Keep </td><td>3.91</td><td>11644</td><td>8094</td><td>226858</td></tr>",
                            "<tr><td>Arundhati Roy</td><td>The God of Small Things</td><td>3.91</td><td>11644</td><td>436</td><td>9777</td></tr>",
                            "<tr><td>Nicole Krauss</td><td>The History of Love</td><td>3.91</td><td>11644</td><td>867</td><td>3867</td></tr>",
                            "<tr><td>Jodi Picoult</td><td>Change of Heart</td><td>3.91</td><td>11644</td><td>1101</td><td>1609451</td></tr>",
                            "<tr><td>Louise Erdrich</td><td>The Round House</td><td>3.91</td><td>11644</td><td>1195</td><td>13602426</td></tr>",
                            "<tr><td>Anne Brontë, Stevie Davies</td><td>The Tenant of Wildfell Hall</td><td>3.91</td><td>11644</td><td>1771</td><td>337113</td></tr>",
                            "<tr><td>Roxane Gay</td><td>Bad Feminist</td><td>3.91</td><td>11644</td><td>2739</td><td>18813642</td></tr>",
                            "<tr><td>Danielle Steel</td><td>The Gift</td><td>3.91</td><td>11644</td><td>7684</td><td>59836</td></tr>",
                            "<tr><td>Toni Morrison</td><td>Tar Baby</td><td>3.91</td><td>11644</td><td>6934</td><td>11359</td></tr>",
                            "<tr><td>Dorothy L. Sayers</td><td>Whose Body?  (Lord Peter Wimsey, #1)</td><td>3.91</td><td>11644</td><td>4290</td><td>192893</td></tr>",
                            "<tr><td>Sarah Vowell, Katherine Streeter</td><td>The Partly Cloudy Patriot</td><td>3.9</td><td>11644</td><td>4418</td><td>12358</td></tr>",
                            "<tr><td>Judith Guest</td><td>Ordinary People</td><td>3.9</td><td>11644</td><td>6729</td><td>160251</td></tr>",
                            "<tr><td>Isabel Allende, Margaret Sayers Peden</td><td>Inés of My Soul</td><td>3.9</td><td>11644</td><td>5774</td><td>3300</td></tr>",
                            "<tr><td>Agatha Christie</td><td>Hercule Poirot&#39;s Christmas (Hercule Poirot, #20)</td><td>3.9</td><td>11644</td><td>6087</td><td>16349</td></tr>",
                            "<tr><td>Susanna Kaysen</td><td>Girl, Interrupted</td><td>3.9</td><td>11644</td><td>604</td><td>68783</td></tr>",
                            "<tr><td>Amy Tan</td><td>The Joy Luck Club</td><td>3.9</td><td>11644</td><td>118</td><td>7763</td></tr>",
                            "<tr><td>Octavia E. Butler</td><td>Fledgling</td><td>3.9</td><td>11644</td><td>8517</td><td>60925</td></tr>",
                            "<tr><td>Iris Murdoch, Mary Kinzie</td><td>The Sea, the Sea</td><td>3.9</td><td>11644</td><td>8508</td><td>11229</td></tr>",
                            "<tr><td>Naomi Wolf</td><td>The Beauty Myth</td><td>3.89</td><td>11644</td><td>7946</td><td>39926</td></tr>",
                            "<tr><td>Liz Kessler, Sarah Gibb</td><td>The Tail of Emily Windsnap (Emily Windsnap, #1)</td><td>3.89</td><td>11644</td><td>8104</td><td>161656</td></tr>",
                            "<tr><td>Louise Erdrich</td><td>The Beet Queen</td><td>3.89</td><td>11644</td><td>9542</td><td>91439</td></tr>",
                            "<tr><td>Judy Blume</td><td>Are You There God? It&#39;s Me, Margaret</td><td>3.89</td><td>11644</td><td>621</td><td>37732</td></tr>",
                            "<tr><td>Isabel Allende, Margaret Sayers Peden</td><td>Daughter of Fortune</td><td>3.89</td><td>11644</td><td>925</td><td>16527</td></tr>",
                            "<tr><td>Mindy Kaling</td><td>Why Not Me?</td><td>3.89</td><td>11644</td><td>1044</td><td>22716447</td></tr>",
                            "<tr><td>Shirley Jackson, Laura   Miller</td><td>The Haunting of Hill House</td><td>3.89</td><td>11644</td><td>1954</td><td>89717</td></tr>",
                            "<tr><td>Ursula K. Le Guin</td><td>Tehanu (Earthsea Cycle, #4)</td><td>3.89</td><td>11644</td><td>5661</td><td>13661</td></tr>",
                            "<tr><td>Agatha Christie</td><td>The Mirror Crack&#39;d from Side to Side (Miss Marple, #9)</td><td>3.89</td><td>11644</td><td>6512</td><td>16372</td></tr>",
                            "<tr><td>Agatha Christie</td><td>Peril at End House (Hercule Poirot, #8)</td><td>3.89</td><td>11644</td><td>6212</td><td>16424</td></tr>",
                            "<tr><td>Lucy Knisley</td><td>Relish: My Life in the Kitchen</td><td>3.89</td><td>11644</td><td>7189</td><td>15786110</td></tr>",
                            "<tr><td>S.E. Hinton</td><td>That Was Then, This Is Now</td><td>3.89</td><td>11644</td><td>4965</td><td>33569</td></tr>",
                            "<tr><td>Willa Cather</td><td>Death Comes for the Archbishop</td><td>3.88</td><td>11644</td><td>4996</td><td>545951</td></tr>",
                            "<tr><td>Rita Mae Brown</td><td>Rubyfruit Jungle</td><td>3.88</td><td>11644</td><td>4455</td><td>165395</td></tr>",
                            "<tr><td>Flannery O&#39;Connor</td><td>Wise Blood</td><td>3.88</td><td>11644</td><td>4942</td><td>48467</td></tr>",
                            "<tr><td>Frida Kahlo, Carlos Fuentes, Sarah M. Lowe</td><td>The Diary of Frida Kahlo: An Intimate Self-Portrait</td><td>3.88</td><td>11644</td><td>3734</td><td>91760</td></tr>",
                            "<tr><td>Carrie Brownstein</td><td>Hunger Makes Me a Modern Girl</td><td>3.88</td><td>11644</td><td>5663</td><td>25065629</td></tr>",
                            "<tr><td>A.S. Byatt</td><td>Possession</td><td>3.88</td><td>11644</td><td>1970</td><td>41219</td></tr>",
                            "<tr><td>Jean M. Auel</td><td>The Mammoth Hunters (Earth&#39;s Children, #3)</td><td>3.88</td><td>11644</td><td>2406</td><td>49824</td></tr>",
                            "<tr><td>Vera Brosgol</td><td>Anya&#39;s Ghost</td><td>3.88</td><td>11644</td><td>2805</td><td>9615347</td></tr>",
                            "<tr><td>Elena Ferrante, Ann Goldstein</td><td>My Brilliant Friend (The Neapolitan Novels #1)</td><td>3.88</td><td>11644</td><td>1187</td><td>13586707</td></tr>",
                            "<tr><td>Inga Muscio, Betty Dodson</td><td>Cunt: A Declaration of Independence</td><td>3.88</td><td>11644</td><td>9962</td><td>52588</td></tr>",
                            "<tr><td>Georgia Byng</td><td>Molly Moon&#39;s Incredible Book of Hypnotism (Molly Moon, #1)</td><td>3.87</td><td>11644</td><td>9081</td><td>807968</td></tr>",
                            "<tr><td>Jacqueline Woodson</td><td>Another Brooklyn</td><td>3.87</td><td>11644</td><td>8065</td><td>27213163</td></tr>",
                            "<tr><td>V.C. Andrews</td><td>Dawn (Cutler, #1)</td><td>3.87</td><td>11644</td><td>7785</td><td>397456</td></tr>",
                            "<tr><td>Zora Neale Hurston</td><td>Their Eyes Were Watching God</td><td>3.87</td><td>11644</td><td>468</td><td>37415</td></tr>",
                            "<tr><td>Donna Tartt</td><td>The Goldfinch</td><td>3.87</td><td>11644</td><td>146</td><td>17333223</td></tr>",
                            "<tr><td>Anchee Min</td><td>Empress Orchid (Empress Orchid, #1)</td><td>3.87</td><td>11644</td><td>5297</td><td>139254</td></tr>",
                            "<tr><td>Sheri  Fink</td><td>Five Days at Memorial: Life and Death in a Storm-Ravaged Hospital</td><td>3.87</td><td>11644</td><td>5623</td><td>17704902</td></tr>",
                            "<tr><td>Joan Didion, David Thomson</td><td>Play It as It Lays</td><td>3.86</td><td>11644</td><td>5315</td><td>428</td></tr>",
                            "<tr><td>Naomi Klein</td><td>No Logo</td><td>3.86</td><td>11644</td><td>5120</td><td>647</td></tr>",
                            "<tr><td>Edwidge Danticat</td><td>Breath, Eyes, Memory</td><td>3.86</td><td>11644</td><td>4671</td><td>5186</td></tr>",
                            "<tr><td>Jill Bolte Taylor</td><td>My Stroke of Insight: A Brain Scientist&#39;s Personal Journey</td><td>3.86</td><td>11644</td><td>5772</td><td>142292</td></tr>",
                            "<tr><td>Eve Ensler, Gloria Steinem</td><td>The Vagina Monologues</td><td>3.86</td><td>11644</td><td>5906</td><td>104734</td></tr>",
                            "<tr><td>Susan Vreeland</td><td>The Passion of Artemisia</td><td>3.86</td><td>11644</td><td>7418</td><td>98048</td></tr>",
                            "<tr><td>Joan Didion</td><td>The Year of Magical Thinking</td><td>3.86</td><td>11644</td><td>895</td><td>7815</td></tr>",
                            "<tr><td>Anne Rice</td><td>The Queen of the Damned (The Vampire Chronicles, #3)</td><td>3.86</td><td>11644</td><td>898</td><td>43758</td></tr>",
                            "<tr><td>Virginia Woolf</td><td>Orlando</td><td>3.86</td><td>11644</td><td>3210</td><td>18839</td></tr>",
                            "<tr><td>Toni Morrison</td><td>Sula</td><td>3.86</td><td>11644</td><td>2508</td><td>11346</td></tr>",
                            "<tr><td>Sarah Vowell</td><td>Take the Cannoli</td><td>3.86</td><td>11644</td><td>8045</td><td>12357</td></tr>",
                            "<tr><td>Madeleine L&#39;Engle</td><td>An Acceptable Time (A Wrinkle in Time Quintet, #5)</td><td>3.86</td><td>11644</td><td>9198</td><td>24761</td></tr>",
                            "<tr><td>Louise Erdrich</td><td>LaRose</td><td>3.86</td><td>11644</td><td>8722</td><td>26116430</td></tr>",
                            "<tr><td>Mary Higgins Clark</td><td>Pretend You Don&#39;t See Her</td><td>3.86</td><td>11644</td><td>9000</td><td>43357</td></tr>",
                            "<tr><td>Susanna Clarke, Charles Vess</td><td>The Ladies of Grace Adieu and Other Stories</td><td>3.85</td><td>11644</td><td>8931</td><td>15161</td></tr>",
                            "<tr><td>Agatha Christie</td><td>The Body in the Library (Miss Marple, #3)</td><td>3.85</td><td>11644</td><td>3229</td><td>16319</td></tr>",
                            "<tr><td>Hilary Mantel</td><td>Wolf Hall (Thomas Cromwell, #1)</td><td>3.85</td><td>11644</td><td>816</td><td>6101138</td></tr>",
                            "<tr><td>Tracy Chevalier</td><td>Girl with a Pearl Earring</td><td>3.85</td><td>11644</td><td>148</td><td>2865</td></tr>",
                            "<tr><td>Ayn Rand, Leonard Peikoff</td><td>The Fountainhead</td><td>3.85</td><td>11644</td><td>287</td><td>2122</td></tr>",
                            "<tr><td>Melina Marchetta</td><td>Looking for Alibrandi</td><td>3.85</td><td>11644</td><td>7433</td><td>82436</td></tr>",
                            "<tr><td>Betty Friedan, Anna Quindlen</td><td>The Feminine Mystique</td><td>3.85</td><td>11644</td><td>6998</td><td>38723</td></tr>",
                            "<tr><td>Daphne du Maurier</td><td>Jamaica Inn</td><td>3.85</td><td>11644</td><td>6278</td><td>18869967</td></tr>",
                            "<tr><td>Hannah  Green, Joanne Greenberg</td><td>I Never Promised You a Rose Garden</td><td>3.85</td><td>11644</td><td>4598</td><td>45220</td></tr>",
                            "<tr><td>Susan Cooper</td><td>Over Sea, Under Stone (The Dark Is Rising, #1)</td><td>3.85</td><td>11644</td><td>3826</td><td>11312</td></tr>",
                            "<tr><td>Elizabeth Gaskell</td><td>Cranford</td><td>3.85</td><td>11644</td><td>4219</td><td>182381</td></tr>",
                            "<tr><td>Cristina Henriquez</td><td>The Book of Unknown Americans</td><td>3.85</td><td>11644</td><td>3955</td><td>18465852</td></tr>",
                            "<tr><td>Carol Shields</td><td>The Stone Diaries</td><td>3.84</td><td>11644</td><td>3889</td><td>77554</td></tr>",
                            "<tr><td>Susan Sontag</td><td>On Photography</td><td>3.84</td><td>11644</td><td>3785</td><td>52372</td></tr>",
                            "<tr><td>Willa Cather</td><td>O Pioneers!</td><td>3.84</td><td>11644</td><td>3585</td><td>140963</td></tr>",
                            "<tr><td>Lilian Jackson Braun</td><td>The Cat Who Could Read Backwards (Cat Who..., #1)</td><td>3.84</td><td>11644</td><td>4447</td><td>508903</td></tr>",
                            "<tr><td>Fannie Flagg</td><td>Welcome to the World, Baby Girl! (Elmwood Springs, #1)</td><td>3.84</td><td>11644</td><td>5615</td><td>84022</td></tr>",
                            "<tr><td>Mindy Kaling</td><td>Is Everyone Hanging Out Without Me? (And Other Concerns)</td><td>3.84</td><td>11644</td><td>290</td><td>10335308</td></tr>",
                            "<tr><td>Jane Austen, Kathryn Sutherland, Tony Tanner, Claire Lamont</td><td>Mansfield Park</td><td>3.84</td><td>11644</td><td>471</td><td>45032</td></tr>",
                            "<tr><td>Ann Patchett</td><td>Commonwealth</td><td>3.84</td><td>11644</td><td>2037</td><td>28214365</td></tr>",
                            "<tr><td>Lily King</td><td>Euphoria</td><td>3.84</td><td>11644</td><td>1912</td><td>18467802</td></tr>",
                            "<tr><td>Marilynne Robinson</td><td>Gilead (Gilead, #1)</td><td>3.84</td><td>11644</td><td>1796</td><td>68210</td></tr>",
                            "<tr><td>Agatha Christie</td><td>Nemesis (Miss Marple, #12)</td><td>3.84</td><td>11644</td><td>7748</td><td>31304</td></tr>",
                            "<tr><td>Rita Golden Gelman</td><td>Tales of a Female Nomad: Living at Large in the World</td><td>3.84</td><td>11644</td><td>7770</td><td>85622</td></tr>",
                            "<tr><td>G. Willow Wilson</td><td>Alif the Unseen</td><td>3.84</td><td>11644</td><td>8271</td><td>13239822</td></tr>",
                            "<tr><td>Agatha Christie</td><td>The Moving Finger (Miss Marple, #4)</td><td>3.84</td><td>11644</td><td>8215</td><td>16341</td></tr>",
                            "<tr><td>Agatha Christie</td><td>After the Funeral (Hercule Poirot, #29)</td><td>3.84</td><td>11644</td><td>8156</td><td>527744</td></tr>",
                            "<tr><td>Jeanette Winterson</td><td>Sexing the Cherry</td><td>3.83</td><td>11644</td><td>8692</td><td>15050</td></tr>",
                            "<tr><td>Jessi Klein</td><td>You&#39;ll Grow Out of It</td><td>3.83</td><td>11644</td><td>9651</td><td>27170141</td></tr>",
                            "<tr><td>Portia de Rossi</td><td>Unbearable Lightness: A Story of Loss and Gain</td><td>3.83</td><td>11644</td><td>2948</td><td>9219901</td></tr>",
                            "<tr><td>Mary Roach</td><td>Bonk: The Curious Coupling of Science and Sex</td><td>3.83</td><td>11644</td><td>2661</td><td>2082136</td></tr>",
                            "<tr><td>Patricia Schultz</td><td>1,000 Places to See Before You Die</td><td>3.83</td><td>11644</td><td>2618</td><td>11525</td></tr>",
                            "<tr><td>Harriet Beecher Stowe</td><td>Uncle Tom&#39;s Cabin</td><td>3.83</td><td>11644</td><td>650</td><td>46787</td></tr>",
                            "<tr><td>Annie Proulx</td><td>The Shipping News</td><td>3.83</td><td>11644</td><td>919</td><td>7354</td></tr>",
                            "<tr><td>Joanne Harris</td><td>Five Quarters of the Orange</td><td>3.83</td><td>11644</td><td>4508</td><td>15096</td></tr>",
                            "<tr><td>Banana Yoshimoto, Megan Backus</td><td>Kitchen</td><td>3.83</td><td>11644</td><td>3708</td><td>50144</td></tr>",
                            "<tr><td>Margaret Atwood</td><td>The Robber Bride</td><td>3.82</td><td>11644</td><td>3837</td><td>17650</td></tr>",
                            "<tr><td>Marilynne Robinson</td><td>Housekeeping</td><td>3.82</td><td>11644</td><td>3638</td><td>11741</td></tr>",
                            "<tr><td>Camille Pagán</td><td>Life and Other Near-Death Experiences</td><td>3.82</td><td>11644</td><td>4787</td><td>26583370</td></tr>",
                            "<tr><td>Anne Tyler</td><td>Dinner at the Homesick Restaurant</td><td>3.82</td><td>11644</td><td>6181</td><td>77699</td></tr>",
                            "<tr><td>George Eliot, Edmund White</td><td>Daniel Deronda</td><td>3.82</td><td>11644</td><td>5915</td><td>304</td></tr>",
                            "<tr><td>Agatha Christie</td><td>Cat Among the Pigeons (Hercule Poirot, #32)</td><td>3.82</td><td>11644</td><td>7208</td><td>16342</td></tr>",
                            "<tr><td>Alice Munro</td><td>Too Much Happiness</td><td>3.82</td><td>11644</td><td>7366</td><td>6464937</td></tr>",
                            "<tr><td>Jhumpa Lahiri</td><td>The Lowland</td><td>3.82</td><td>11644</td><td>1242</td><td>17262100</td></tr>",
                            "<tr><td>Emily Brontë, Richard J. Dunn</td><td>Wuthering Heights</td><td>3.82</td><td>11644</td><td>63</td><td>6185</td></tr>",
                            "<tr><td>Therese Anne Fowler</td><td>Z: A Novel of Zelda Fitzgerald</td><td>3.82</td><td>11644</td><td>2769</td><td>15994634</td></tr>",
                            "<tr><td>Marina Keegan</td><td>The Opposite of Loneliness: Essays and Stories</td><td>3.82</td><td>11644</td><td>3432</td><td>18143905</td></tr>",
                            "<tr><td>Irène Némirovsky, Sandra Smith</td><td>Suite Française</td><td>3.82</td><td>11644</td><td>2107</td><td>43944</td></tr>",
                            "<tr><td>Marie Kondō</td><td>Spark Joy: An Illustrated Master Class on the Art of Organizing and Tidying Up</td><td>3.82</td><td>11644</td><td>9809</td><td>25614984</td></tr>",
                            "<tr><td>Patricia Highsmith</td><td>Strangers on a Train</td><td>3.82</td><td>11644</td><td>9793</td><td>15677</td></tr>",
                            "<tr><td>Marjane Satrapi, Anjali Singh</td><td>Embroideries</td><td>3.82</td><td>11644</td><td>8367</td><td>9526</td></tr>",
                            "<tr><td>Donna Leon</td><td>Death at La Fenice (Commissario Brunetti, #1)</td><td>3.81</td><td>11644</td><td>9451</td><td>68099</td></tr>",
                            "<tr><td>Miranda July</td><td>No One Belongs Here More Than You</td><td>3.81</td><td>11644</td><td>3187</td><td>113429</td></tr>",
                            "<tr><td>Amy Poehler</td><td>Yes Please</td><td>3.81</td><td>11644</td><td>352</td><td>20910157</td></tr>",
                            "<tr><td>Elizabeth Gilbert</td><td>The Signature of All Things</td><td>3.81</td><td>11644</td><td>1271</td><td>17465453</td></tr>",
                            "<tr><td>Tracy Chevalier</td><td>Remarkable Creatures </td><td>3.81</td><td>11644</td><td>3686</td><td>6457081</td></tr>",
                            "<tr><td>V.C. Andrews</td><td>Seeds of Yesterday (Dollanganger, #4)</td><td>3.81</td><td>11644</td><td>4052</td><td>659612</td></tr>",
                            "<tr><td>N.K. Jemisin</td><td>The Hundred Thousand Kingdoms (Inheritance Trilogy, #1)</td><td>3.8</td><td>11644</td><td>4200</td><td>6437061</td></tr>",
                            "<tr><td>Miranda Hart</td><td>Is It Just Me?</td><td>3.8</td><td>11644</td><td>7709</td><td>15733346</td></tr>",
                            "<tr><td>Agatha Christie</td><td>The Murder on the Links (Hercule Poirot, #2)</td><td>3.8</td><td>11644</td><td>6314</td><td>639787</td></tr>",
                            "<tr><td>Susanna Clarke</td><td>Jonathan Strange &amp; Mr Norrell</td><td>3.8</td><td>11644</td><td>682</td><td>14201</td></tr>",
                            "<tr><td>Jane Austen, Alfred MacAdam</td><td>Northanger Abbey</td><td>3.8</td><td>11644</td><td>451</td><td>50398</td></tr>",
                            "<tr><td>Sheri Reynolds</td><td>The Rapture of Canaan</td><td>3.8</td><td>11644</td><td>3468</td><td>5180</td></tr>",
                            "<tr><td>Isabel Allende, Nick Caistor, Amanda Hopkinson</td><td>The Japanese Lover</td><td>3.8</td><td>11644</td><td>2999</td><td>25152052</td></tr>",
                            "<tr><td>Jodi Picoult</td><td>Salem Falls</td><td>3.8</td><td>11644</td><td>1685</td><td>10915</td></tr>",
                            "<tr><td>Nella Larsen, Ntozake Shange, Thadious M. Davis</td><td>Passing</td><td>3.8</td><td>11644</td><td>8840</td><td>349929</td></tr>",
                            "<tr><td>Scarlett Thomas</td><td>The End of Mr. Y</td><td>3.79</td><td>11644</td><td>8653</td><td>93436</td></tr>",
                            "<tr><td>Robin McKinley</td><td>Spindle&#39;s End</td><td>3.79</td><td>11644</td><td>7934</td><td>77368</td></tr>",
                            "<tr><td>Marian Keyes</td><td>Watermelon (Walsh Family, #1)</td><td>3.79</td><td>11644</td><td>1713</td><td>9300</td></tr>",
                            "<tr><td>Sarah Dunant</td><td>The Birth of Venus</td><td>3.79</td><td>11644</td><td>1171</td><td>28078</td></tr>",
                            "<tr><td>Elif Shafak</td><td>The Bastard of Istanbul</td><td>3.79</td><td>11644</td><td>4769</td><td>98920</td></tr>",
                            "<tr><td>Kate Atkinson</td><td>One Good Turn (Jackson Brodie, #2)</td><td>3.79</td><td>11644</td><td>5468</td><td>501124</td></tr>",
                            "<tr><td>Judy Blume</td><td>Blubber</td><td>3.78</td><td>11644</td><td>4815</td><td>37739</td></tr>",
                            "<tr><td>Toni Morrison</td><td>Jazz</td><td>3.78</td><td>11644</td><td>6389</td><td>37398</td></tr>",
                            "<tr><td>Agatha Christie</td><td>Death in the Clouds (Hercule Poirot, #12)</td><td>3.78</td><td>11644</td><td>6684</td><td>16326</td></tr>",
                            "<tr><td>Virginia Woolf, Maureen Howard</td><td>Mrs. Dalloway</td><td>3.78</td><td>11644</td><td>701</td><td>14942</td></tr>",
                            "<tr><td>Celeste Ng</td><td>Everything I Never Told You</td><td>3.78</td><td>11644</td><td>668</td><td>18693763</td></tr>",
                            "<tr><td>Jane Hamilton, Frank  Muller, C.J. Critt</td><td>A Map of the World</td><td>3.78</td><td>11644</td><td>1567</td><td>5205</td></tr>",
                            "<tr><td>Marian Keyes</td><td>Last Chance Saloon</td><td>3.78</td><td>11644</td><td>3016</td><td>9298</td></tr>",
                            "<tr><td>Lauren Oliver</td><td>Annabel (Delirium, #0.5)</td><td>3.78</td><td>11644</td><td>9634</td><td>15820492</td></tr>",
                            "<tr><td>S.E. Hinton</td><td>Rumble Fish</td><td>3.77</td><td>11644</td><td>7840</td><td>759960</td></tr>",
                            "<tr><td>George Eliot, A.S. Byatt</td><td>The Mill on the Floss</td><td>3.77</td><td>11644</td><td>2952</td><td>20564</td></tr>",
                            "<tr><td>Marian Keyes</td><td>The Other Side of the Story</td><td>3.77</td><td>11644</td><td>2938</td><td>9302</td></tr>",
                            "<tr><td>Elizabeth  Smart, Chris Stewart</td><td>My Story</td><td>3.77</td><td>11644</td><td>3315</td><td>17287028</td></tr>",
                            "<tr><td>Beatrice Sparks, Anonymous</td><td>Go Ask Alice</td><td>3.77</td><td>11644</td><td>425</td><td>46799</td></tr>",
                            "<tr><td>Toni Morrison</td><td>Beloved</td><td>3.77</td><td>11644</td><td>354</td><td>6149</td></tr>",
                            "<tr><td>Alice Sebold</td><td>The Lovely Bones</td><td>3.77</td><td>11644</td><td>22</td><td>12232938</td></tr>",
                            "<tr><td>Alice Sebold</td><td>Lucky</td><td>3.77</td><td>11644</td><td>1083</td><td>82970</td></tr>",
                            "<tr><td>Marie Kondō, Cathy Hirano</td><td>The Life-Changing Magic of Tidying Up: The Japanese Art of Decluttering and Organizing</td><td>3.77</td><td>11644</td><td>920</td><td>22318578</td></tr>",
                            "<tr><td>Agatha Christie</td><td>The Mystery of the Blue Train (Hercule Poirot, #6)</td><td>3.77</td><td>11644</td><td>7006</td><td>16335</td></tr>",
                            "<tr><td>George Eliot, Joanna Trollope, Hugh Osborne</td><td>Adam Bede</td><td>3.77</td><td>11644</td><td>5931</td><td>20563</td></tr>",
                            "<tr><td>Toni Morrison</td><td>Paradise</td><td>3.77</td><td>11644</td><td>5629</td><td>5198</td></tr>",
                            "<tr><td>Marguerite Duras, Barbara Bray, Maxine Hong Kingston</td><td>The Lover</td><td>3.76</td><td>11644</td><td>4602</td><td>275</td></tr>",
                            "<tr><td>Muriel Spark</td><td>The Prime of Miss Jean Brodie</td><td>3.76</td><td>11644</td><td>4091</td><td>517188</td></tr>",
                            "<tr><td>Kyung-Sook Shin, 신경숙, Chi-Young Kim</td><td>Please Look After Mom</td><td>3.76</td><td>11644</td><td>6329</td><td>8574333</td></tr>",
                            "<tr><td>Virginia Woolf</td><td>To the Lighthouse</td><td>3.76</td><td>11644</td><td>1084</td><td>59716</td></tr>",
                            "<tr><td>Willa Cather</td><td>My Ántonia</td><td>3.76</td><td>11644</td><td>1094</td><td>17150</td></tr>",
                            "<tr><td>Iris Murdoch</td><td>Under the Net</td><td>3.76</td><td>11644</td><td>9323</td><td>11324</td></tr>",
                            "<tr><td>Zadie Smith</td><td>White Teeth</td><td>3.75</td><td>11644</td><td>1005</td><td>3711</td></tr>",
                            "<tr><td>Mary Wollstonecraft Shelley, Percy Bysshe Shelley, Maurice Hindle</td><td>Frankenstein</td><td>3.75</td><td>11644</td><td>71</td><td>18490</td></tr>",
                            "<tr><td>Helen Fielding</td><td>Bridget Jones&#39;s Diary (Bridget Jones, #1)</td><td>3.75</td><td>11644</td><td>75</td><td>227443</td></tr>",
                            "<tr><td>Ann Brashares</td><td>The Sisterhood of the Traveling Pants (Sisterhood, #1)</td><td>3.75</td><td>11644</td><td>120</td><td>452306</td></tr>",
                            "<tr><td>Jeanette Winterson</td><td>Oranges Are Not the Only Fruit</td><td>3.75</td><td>11644</td><td>2747</td><td>15055</td></tr>",
                            "<tr><td>Charlotte Brontë, A.S. Byatt, Μαρία Λαϊνά, Ignes Sodre</td><td>Villette</td><td>3.75</td><td>11644</td><td>2499</td><td>31173</td></tr>",
                            "<tr><td>Isabel Allende, Margaret Sayers Peden</td><td>Zorro</td><td>3.75</td><td>11644</td><td>6604</td><td>24796</td></tr>",
                            "<tr><td>Joan Didion</td><td>Blue Nights</td><td>3.75</td><td>11644</td><td>6168</td><td>10252302</td></tr>",
                            "<tr><td>Doris Lessing</td><td>The Golden Notebook</td><td>3.75</td><td>11644</td><td>7496</td><td>24100</td></tr>",
                            "<tr><td>Linda Lafferty</td><td>The Bloodletter&#39;s Daughter: A Novel of Old Bohemia</td><td>3.75</td><td>11644</td><td>7077</td><td>15096257</td></tr>",
                            "<tr><td>Hillary Rodham Clinton</td><td>Living History</td><td>3.75</td><td>11644</td><td>3896</td><td>56073</td></tr>",
                            "<tr><td>Marian Keyes</td><td>This Charming Man</td><td>3.75</td><td>11644</td><td>3516</td><td>2334751</td></tr>",
                            "<tr><td>Alice Munro</td><td>Dear Life: Stories</td><td>3.75</td><td>11644</td><td>4438</td><td>13530981</td></tr>",
                            "<tr><td>Chelsea Handler, Johnny Kansas, Stephanie Stehling, Heather McDonald, Roy Handler, Brad Wollack, Amber Mazzola, Josh Wolf, Shoshanna Handler, Eva Magdalenski, Amy Meyer, Glen Handler, Dave Mallow, Sarah Colonna</td><td>Lies That Chelsea Handler Told Me</td><td>3.74</td><td>11644</td><td>2206</td><td>9902804</td></tr>",
                            "<tr><td>Helen Macdonald</td><td>H is for Hawk</td><td>3.74</td><td>11644</td><td>2652</td><td>18803640</td></tr>",
                            "<tr><td>Tana French</td><td>In the Woods (Dublin Murder Squad, #1)</td><td>3.74</td><td>11644</td><td>473</td><td>237209</td></tr>",
                            "<tr><td>Agatha Christie</td><td>They Do It with Mirrors (Miss Marple, #6)</td><td>3.74</td><td>11644</td><td>9494</td><td>68930</td></tr>",
                            "<tr><td>Agatha Christie, Hugh Fraser</td><td>One, Two, Buckle My Shoe (Hercule Poirot, #22)</td><td>3.74</td><td>11644</td><td>9469</td><td>16312</td></tr>",
                            "<tr><td>Jacqueline Wilson, Nick Sharratt</td><td>The Illustrated Mum</td><td>3.74</td><td>11644</td><td>9881</td><td>511684</td></tr>",
                            "<tr><td>Leslie Marmon Silko</td><td>Ceremony</td><td>3.73</td><td>11644</td><td>8018</td><td>588234</td></tr>",
                            "<tr><td>Caitlin Moran</td><td>How to Be a Woman</td><td>3.73</td><td>11644</td><td>1307</td><td>10600242</td></tr>",
                            "<tr><td>Rachel Cohn, David Levithan</td><td>Nick &amp; Norah&#39;s Infinite Playlist</td><td>3.73</td><td>11644</td><td>1583</td><td>25373</td></tr>",
                            "<tr><td>Anne Rice</td><td>Memnoch the Devil (The Vampire Chronicles, #5)</td><td>3.73</td><td>11644</td><td>1633</td><td>31338</td></tr>",
                            "<tr><td>Marian Keyes</td><td> Angels (Walsh Family, #3)</td><td>3.73</td><td>11644</td><td>3998</td><td>82747</td></tr>",
                            "<tr><td>Mary Elizabeth Braddon</td><td>Lady Audley&#39;s Secret</td><td>3.73</td><td>11644</td><td>7650</td><td>588747</td></tr>",
                            "<tr><td>Sarah Waters</td><td>Affinity</td><td>3.73</td><td>11644</td><td>6587</td><td>72929</td></tr>",
                            "<tr><td>Maxine Hong Kingston</td><td>The Woman Warrior</td><td>3.72</td><td>11644</td><td>5863</td><td>30852</td></tr>",
                            "<tr><td>Julie Gregory</td><td>Sickened: The Memoir of a Munchausen by Proxy Childhood</td><td>3.72</td><td>11644</td><td>7453</td><td>4507</td></tr>",
                            "<tr><td>Jenny Offill</td><td>Dept. of Speculation</td><td>3.72</td><td>11644</td><td>3961</td><td>17402288</td></tr>",
                            "<tr><td>Ellen DeGeneres</td><td>Seriously... I&#39;m Kidding</td><td>3.72</td><td>11644</td><td>1162</td><td>11230081</td></tr>",
                            "<tr><td>Lorraine Hansberry</td><td>A Raisin in the Sun</td><td>3.72</td><td>11644</td><td>2240</td><td>5517</td></tr>",
                            "<tr><td>Amélie Nothomb</td><td>Stupeur et tremblements</td><td>3.72</td><td>11644</td><td>8538</td><td>71458</td></tr>",
                            "<tr><td>Toni Morrison</td><td>Home</td><td>3.71</td><td>11644</td><td>8019</td><td>13152998</td></tr>",
                            "<tr><td>Agatha Christie, Robin Bailey</td><td>The Clocks (Hercule Poirot, #34)</td><td>3.71</td><td>11644</td><td>9476</td><td>388018</td></tr>",
                            "<tr><td>Karen Joy Fowler</td><td>We Are All Completely Beside Ourselves</td><td>3.71</td><td>11644</td><td>1212</td><td>16176440</td></tr>",
                            "<tr><td>Carrie Fisher</td><td>Wishful Drinking</td><td>3.71</td><td>11644</td><td>3618</td><td>4961048</td></tr>",
                            "<tr><td>Charlotte Brontë, Lucasta Miller, collaborative, Jessica Cox</td><td>Shirley</td><td>3.71</td><td>11644</td><td>4870</td><td>31168</td></tr>",
                            "<tr><td>NoViolet Bulawayo</td><td>We Need New Names</td><td>3.71</td><td>11644</td><td>7329</td><td>15852479</td></tr>",
                            "<tr><td>Sonali Deraniyagala</td><td>Wave</td><td>3.7</td><td>11644</td><td>7273</td><td>15771862</td></tr>",
                            "<tr><td>Pearl Cleage</td><td>What Looks Like Crazy on an Ordinary Day (Idlewild, #1)</td><td>3.7</td><td>11644</td><td>5667</td><td>5175</td></tr>",
                            "<tr><td>Toni Morrison</td><td>God Help the Child</td><td>3.7</td><td>11644</td><td>6460</td><td>23602473</td></tr>",
                            "<tr><td>Anne Rice</td><td>The Tale of the Body Thief (The Vampire Chronicles, #4)</td><td>3.7</td><td>11644</td><td>1533</td><td>31336</td></tr>",
                            "<tr><td>Joyce Carol Oates</td><td>We Were the Mulvaneys</td><td>3.7</td><td>11644</td><td>1145</td><td>5204</td></tr>",
                            "<tr><td>Piper Kerman</td><td>Orange Is the New Black</td><td>3.7</td><td>11644</td><td>617</td><td>6314763</td></tr>",
                            "<tr><td>Eleanor Catton</td><td>The Luminaries</td><td>3.7</td><td>11644</td><td>1920</td><td>17333230</td></tr>",
                            "<tr><td>Marisha Pessl</td><td>Special Topics in Calamity Physics</td><td>3.7</td><td>11644</td><td>2914</td><td>3483</td></tr>",
                            "<tr><td>Emma Healey</td><td>Elizabeth Is Missing</td><td>3.7</td><td>11644</td><td>2829</td><td>18635113</td></tr>",
                            "<tr><td>Jacqueline Susann</td><td>Valley of the Dolls</td><td>3.7</td><td>11644</td><td>3090</td><td>50833</td></tr>",
                            "<tr><td>Julie Otsuka</td><td>When the Emperor Was Divine</td><td>3.7</td><td>11644</td><td>9386</td><td>764073</td></tr>",
                            "<tr><td>Agatha Christie</td><td>At Bertram&#39;s Hotel (Miss Marple, #11)</td><td>3.7</td><td>11644</td><td>8868</td><td>16333</td></tr>",
                            "<tr><td>Elizabeth Gaskell, Shirley Foster</td><td>Mary Barton</td><td>3.7</td><td>11644</td><td>8564</td><td>54620</td></tr>",
                            "<tr><td>Anaïs Nin</td><td>Delta of Venus</td><td>3.69</td><td>11644</td><td>7812</td><td>11041</td></tr>",
                            "<tr><td>Jacqueline Wilson, Nick Sharratt, Sue Heap</td><td>Double Act</td><td>3.69</td><td>11644</td><td>7879</td><td>511527</td></tr>",
                            "<tr><td>Emma Donoghue</td><td>Slammerkin</td><td>3.69</td><td>11644</td><td>9158</td><td>44543</td></tr>",
                            "<tr><td>Cecelia Ahern</td><td>Thanks for the Memories</td><td>3.69</td><td>11644</td><td>3211</td><td>2410506</td></tr>",
                            "<tr><td>Marian Keyes</td><td>Sushi for Beginners</td><td>3.69</td><td>11644</td><td>1711</td><td>82748</td></tr>",
                            "<tr><td>Jacqueline Wilson, Nick Sharratt</td><td>The Story of Tracy Beaker</td><td>3.69</td><td>11644</td><td>7045</td><td>462684</td></tr>",
                            "<tr><td>Zoë Heller</td><td>What Was She Thinking? [Notes on a Scandal]</td><td>3.69</td><td>11644</td><td>7311</td><td>13258</td></tr>",
                            "<tr><td>Caitlin Moran</td><td>How to Build a Girl</td><td>3.69</td><td>11644</td><td>4834</td><td>20525628</td></tr>",
                            "<tr><td>P.D. James</td><td>The Children of Men</td><td>3.69</td><td>11644</td><td>3551</td><td>41913</td></tr>",
                            "<tr><td>Susan Hill, John Lawrence</td><td>The Woman in Black</td><td>3.68</td><td>11644</td><td>3773</td><td>37034</td></tr>",
                            "<tr><td>Rachael Ray</td><td>Rachael Ray 365: No Repeats: A Year of Deliciously Different Dinners</td><td>3.68</td><td>11644</td><td>4136</td><td>3882</td></tr>",
                            "<tr><td>Zadie Smith</td><td>On Beauty</td><td>3.68</td><td>11644</td><td>1928</td><td>3679</td></tr>",
                            "<tr><td>Elizabeth Berg</td><td>Open House</td><td>3.68</td><td>11644</td><td>2087</td><td>5190</td></tr>",
                            "<tr><td>Gwyn Hyman Rubio</td><td>Icy Sparks</td><td>3.68</td><td>11644</td><td>2820</td><td>3476</td></tr>",
                            "<tr><td>Amanda Brown</td><td>Legally Blonde</td><td>3.68</td><td>11644</td><td>8380</td><td>386142</td></tr>",
                            "<tr><td>Jennifer McMahon</td><td>The Night Sister</td><td>3.67</td><td>11644</td><td>9422</td><td>24040551</td></tr>",
                            "<tr><td>Tracy Chevalier</td><td>The Lady and the Unicorn</td><td>3.67</td><td>11644</td><td>3322</td><td>89788</td></tr>",
                            "<tr><td>Sarah Winman</td><td>When God Was a Rabbit</td><td>3.67</td><td>11644</td><td>3446</td><td>8874743</td></tr>",
                            "<tr><td>Mariko Tamaki, Jillian Tamaki</td><td>This One Summer</td><td>3.67</td><td>11644</td><td>4097</td><td>18465566</td></tr>",
                            "<tr><td>Laline Paull</td><td>The Bees</td><td>3.67</td><td>11644</td><td>5230</td><td>18652002</td></tr>",
                            "<tr><td>Margaret Atwood</td><td>The Edible Woman</td><td>3.67</td><td>11644</td><td>5257</td><td>133445</td></tr>",
                            "<tr><td>Karen Russell</td><td>Vampires in the Lemon Grove</td><td>3.67</td><td>11644</td><td>6827</td><td>13531832</td></tr>",
                            "<tr><td>Melinda Haynes</td><td>Mother of Pearl</td><td>3.67</td><td>11644</td><td>5737</td><td>5179</td></tr>",
                            "<tr><td>Alison Bechdel</td><td>Are You My Mother?</td><td>3.66</td><td>11644</td><td>5787</td><td>11566956</td></tr>",
                            "<tr><td>Carrie Fisher</td><td>The Princess Diarist</td><td>3.66</td><td>11644</td><td>6245</td><td>26025989</td></tr>",
                            "<tr><td>Margaret Atwood</td><td>The Penelopiad</td><td>3.66</td><td>11644</td><td>5395</td><td>17645</td></tr>",
                            "<tr><td>Cecelia Ahern</td><td>The Book of Tomorrow</td><td>3.66</td><td>11644</td><td>4141</td><td>6631792</td></tr>",
                            "<tr><td>Cecelia Ahern</td><td>A Place Called Here</td><td>3.66</td><td>11644</td><td>4249</td><td>588369</td></tr>",
                            "<tr><td>Agatha Christie</td><td>Hallowe&#39;en Party (Hercule Poirot, #36)</td><td>3.66</td><td>11644</td><td>7991</td><td>16307</td></tr>",
                            "<tr><td>Pattie Boyd, Penny Junor</td><td>Wonderful Tonight</td><td>3.65</td><td>11644</td><td>9436</td><td>764063</td></tr>",
                            "<tr><td>Peggy Orenstein</td><td>Cinderella Ate My Daughter: Dispatches from the Frontlines of the New Girlie-Girl Culture</td><td>3.65</td><td>11644</td><td>9999</td><td>8565083</td></tr>",
                            "<tr><td>Emma Donoghue</td><td>The Wonder</td><td>3.65</td><td>11644</td><td>4128</td><td>28449257</td></tr>",
                            "<tr><td>Nora Ephron</td><td>I Feel Bad about My Neck: And Other Thoughts on Being a Woman</td><td>3.65</td><td>11644</td><td>3579</td><td>8765</td></tr>",
                            "<tr><td>Tracy Chevalier</td><td>The Virgin Blue</td><td>3.65</td><td>11644</td><td>4842</td><td>2873</td></tr>",
                            "<tr><td>Toni Morrison</td><td>A Mercy</td><td>3.65</td><td>11644</td><td>7002</td><td>3009435</td></tr>",
                            "<tr><td>Anne Brontë, Angeline Goreau</td><td>Agnes Grey</td><td>3.65</td><td>11644</td><td>3212</td><td>298230</td></tr>",
                            "<tr><td>Jennifer Egan</td><td>A Visit from the Goon Squad</td><td>3.64</td><td>11644</td><td>638</td><td>7331435</td></tr>",
                            "<tr><td>Kim Edwards</td><td>The Memory Keeper&#39;s Daughter</td><td>3.64</td><td>11644</td><td>111</td><td>10441</td></tr>",
                            "<tr><td>Karen Thompson Walker</td><td>The Age of Miracles</td><td>3.64</td><td>11644</td><td>1439</td><td>12401556</td></tr>",
                            "<tr><td>Miriam Toews</td><td>A Complicated Kindness</td><td>3.64</td><td>11644</td><td>6791</td><td>13374</td></tr>",
                            "<tr><td>Angela Flournoy</td><td>The Turner House</td><td>3.64</td><td>11644</td><td>9823</td><td>22749750</td></tr>",
                            "<tr><td>Esi Edugyan</td><td>Half Blood Blues</td><td>3.63</td><td>11644</td><td>9205</td><td>11076123</td></tr>",
                            "<tr><td>Chelsea Handler</td><td>Uganda Be Kidding Me</td><td>3.63</td><td>11644</td><td>6748</td><td>18127101</td></tr>",
                            "<tr><td>Deborah Rodriguez</td><td>Kabul Beauty School: An American Woman Goes Behind the Veil</td><td>3.63</td><td>11644</td><td>5703</td><td>316558</td></tr>",
                            "<tr><td>Kate Chopin</td><td>The Awakening</td><td>3.63</td><td>11644</td><td>782</td><td>58345</td></tr>",
                            "<tr><td>Ayn Rand</td><td>Anthem</td><td>3.62</td><td>11644</td><td>903</td><td>667</td></tr>",
                            "<tr><td>Françoise Sagan</td><td>Bonjour tristesse</td><td>3.62</td><td>11644</td><td>7032</td><td>61672</td></tr>",
                            "<tr><td>Agatha Christie</td><td>Elephants Can Remember (Hercule Poirot, #37)</td><td>3.62</td><td>11644</td><td>7681</td><td>148584</td></tr>",
                            "<tr><td>Julia Alvarez</td><td>How the García Girls Lost Their Accents </td><td>3.62</td><td>11644</td><td>5456</td><td>11208</td></tr>",
                            "<tr><td>Anita Shreve</td><td>The Weight of Water</td><td>3.62</td><td>11644</td><td>5095</td><td>228534</td></tr>",
                            "<tr><td>Jane Green</td><td>The Beach House</td><td>3.62</td><td>11644</td><td>3912</td><td>2071575</td></tr>",
                            "<tr><td>Leslie Jamison</td><td>The Empathy Exams: Essays</td><td>3.62</td><td>11644</td><td>9726</td><td>17934655</td></tr>",
                            "<tr><td>Ali Smith</td><td>How to Be Both</td><td>3.61</td><td>11644</td><td>8224</td><td>20439328</td></tr>",
                            "<tr><td>Amy Chua</td><td>Battle Hymn of the Tiger Mother</td><td>3.61</td><td>11644</td><td>2742</td><td>9160695</td></tr>",
                            "<tr><td>George Eliot</td><td>Silas Marner</td><td>3.6</td><td>11644</td><td>2355</td><td>54539</td></tr>",
                            "<tr><td>Barbara Ehrenreich</td><td>Nickel and Dimed: On (Not) Getting By in America</td><td>3.6</td><td>11644</td><td>508</td><td>1869</td></tr>",
                            "<tr><td>Zadie Smith</td><td>Swing Time</td><td>3.6</td><td>11644</td><td>7359</td><td>28390369</td></tr>",
                            "<tr><td>Agatha Christie</td><td>The Big Four (Hercule Poirot, #5)</td><td>3.6</td><td>11644</td><td>6211</td><td>16316</td></tr>",
                            "<tr><td>Sarah Vowell</td><td>Unfamiliar Fishes</td><td>3.6</td><td>11644</td><td>9514</td><td>8857310</td></tr>",
                            "<tr><td>Lauren Beukes</td><td>Broken Monsters</td><td>3.59</td><td>11644</td><td>7591</td><td>20706269</td></tr>",
                            "<tr><td>Han Kang, Deborah     Smith</td><td>The Vegetarian</td><td>3.59</td><td>11644</td><td>3481</td><td>25489025</td></tr>",
                            "<tr><td>Julie Otsuka</td><td>The Buddha in the Attic</td><td>3.59</td><td>11644</td><td>3427</td><td>10464963</td></tr>",
                            "<tr><td>Jessie Burton</td><td>The Miniaturist</td><td>3.58</td><td>11644</td><td>1395</td><td>18498569</td></tr>",
                            "<tr><td>Kim Gordon</td><td>Girl in a Band</td><td>3.58</td><td>11644</td><td>5280</td><td>22693211</td></tr>",
                            "<tr><td>Miranda July</td><td>The First Bad Man</td><td>3.58</td><td>11644</td><td>5553</td><td>21412400</td></tr>",
                            "<tr><td>Lauren Groff</td><td>The Monsters of Templeton</td><td>3.58</td><td>11644</td><td>7285</td><td>1474628</td></tr>",
                            "<tr><td>Rachel Dratch</td><td>Girl Walks into a Bar . . .: Comedy Calamities, Dating Disasters, and a Midlife Miracle</td><td>3.57</td><td>11644</td><td>5698</td><td>12867423</td></tr>",
                            "<tr><td>Mary Roach</td><td>Spook: Science Tackles the Afterlife</td><td>3.57</td><td>11644</td><td>3933</td><td>14990</td></tr>",
                            "<tr><td>Sandra Cisneros</td><td>The House on Mango Street</td><td>3.57</td><td>11644</td><td>1255</td><td>139253</td></tr>",
                            "<tr><td>Azar Nafisi</td><td>Reading Lolita in Tehran</td><td>3.57</td><td>11644</td><td>916</td><td>7603</td></tr>",
                            "<tr><td>Elizabeth Wurtzel</td><td>Prozac Nation</td><td>3.57</td><td>11644</td><td>2229</td><td>227603</td></tr>",
                            "<tr><td>Laura  Barnett</td><td>The Versions of Us</td><td>3.57</td><td>11644</td><td>9872</td><td>24480276</td></tr>",
                            "<tr><td>Hillary Rodham Clinton</td><td>Hard Choices</td><td>3.57</td><td>11644</td><td>9202</td><td>17727276</td></tr>",
                            "<tr><td>Nora Ephron</td><td>Heartburn</td><td>3.57</td><td>11644</td><td>8384</td><td>225343</td></tr>",
                            "<tr><td>Charlotte Brontë</td><td>The Professor</td><td>3.56</td><td>11644</td><td>8207</td><td>31175</td></tr>",
                            "<tr><td>Jean Rhys</td><td>Wide Sargasso Sea</td><td>3.56</td><td>11644</td><td>2809</td><td>44597</td></tr>",
                            "<tr><td>Lauren Groff</td><td>Fates and Furies</td><td>3.56</td><td>11644</td><td>1220</td><td>24612118</td></tr>",
                            "<tr><td>Jane Austen, Robert William Chapman</td><td>Lady Susan</td><td>3.56</td><td>11644</td><td>6302</td><td>91582</td></tr>",
                            "<tr><td>Tracy Chevalier</td><td>Falling Angels</td><td>3.55</td><td>11644</td><td>6299</td><td>2872</td></tr>",
                            "<tr><td>Suzanne Rindell</td><td>The Other Typist</td><td>3.55</td><td>11644</td><td>7096</td><td>17329041</td></tr>",
                            "<tr><td>Meg Wolitzer</td><td>The Interestings</td><td>3.54</td><td>11644</td><td>1009</td><td>15815333</td></tr>",
                            "<tr><td>Gillian Flynn</td><td>The Grownup</td><td>3.54</td><td>11644</td><td>2169</td><td>26025580</td></tr>",
                            "<tr><td>Diablo Cody</td><td>Candy Girl: A Year in the Life of an Unlikely Stripper</td><td>3.54</td><td>11644</td><td>9038</td><td>29486</td></tr>",
                            "<tr><td>Jacqueline Wilson</td><td>Girls in Love (Girls, #1)</td><td>3.53</td><td>11644</td><td>8745</td><td>266765</td></tr>",
                            "<tr><td>Kate Hamer</td><td>The Girl in the Red Coat</td><td>3.53</td><td>11644</td><td>9641</td><td>23289469</td></tr>",
                            "<tr><td>Helen Fielding</td><td>Bridget Jones: The Edge of Reason (Bridget Jones, #2)</td><td>3.53</td><td>11644</td><td>1457</td><td>363752</td></tr>",
                            "<tr><td>Lionel Shriver</td><td>The Post-Birthday World</td><td>3.52</td><td>11644</td><td>9188</td><td>393060</td></tr>",
                            "<tr><td>Sarah Macdonald</td><td>Holy Cow: An Indian Adventure</td><td>3.51</td><td>11644</td><td>6351</td><td>3858</td></tr>",
                            "<tr><td>Emma Cline</td><td>The Girls</td><td>3.49</td><td>11644</td><td>1174</td><td>26893819</td></tr>",
                            "<tr><td>Lauren Beukes</td><td>The Shining Girls</td><td>3.49</td><td>11644</td><td>3267</td><td>16131077</td></tr>",
                            "<tr><td>Anita Shreve</td><td>The Last Time They Met</td><td>3.48</td><td>11644</td><td>7454</td><td>96082</td></tr>",
                            "<tr><td>Gretchen Rubin, Käthe Mazur</td><td>Happier at Home: Kiss More, Jump More, Abandon a Project, Read Samuel Johnson, and My Other Experiments in the Practice of Everyday Life</td><td>3.48</td><td>11644</td><td>9718</td><td>13414599</td></tr>",
                            "<tr><td>Janet Fitch</td><td>Paint it Black</td><td>3.47</td><td>11644</td><td>9300</td><td>33144</td></tr>",
                            "<tr><td>Alisa Valdes, Alisa Valdes-Rodriguez</td><td>The Dirty Girls Social Club (Dirty Girls, #1)</td><td>3.46</td><td>11644</td><td>7796</td><td>491735</td></tr>",
                            "<tr><td>Rachel Kushner</td><td>The Flamethrowers</td><td>3.46</td><td>11644</td><td>5709</td><td>15803141</td></tr>",
                            "<tr><td>Margaret Atwood</td><td>Surfacing</td><td>3.45</td><td>11644</td><td>6675</td><td>46755</td></tr>",
                            "<tr><td>Nicole Krauss</td><td>Great House</td><td>3.45</td><td>11644</td><td>7486</td><td>7907782</td></tr>",
                            "<tr><td>Sloane Crosley</td><td>I Was Told There&#39;d Be Cake</td><td>3.45</td><td>11644</td><td>3555</td><td>2195289</td></tr>",
                            "<tr><td>Alexandra Ripley</td><td>Scarlett</td><td>3.44</td><td>11644</td><td>2302</td><td>73062</td></tr>",
                            "<tr><td>Erica Jong</td><td>Fear of Flying</td><td>3.44</td><td>11644</td><td>8189</td><td>9654</td></tr>",
                            "<tr><td>Kate Summerscale</td><td>The Suspicions of Mr. Whicher: A Shocking Murder and the Undoing of a Great Victorian Detective</td><td>3.43</td><td>11644</td><td>7735</td><td>1747896</td></tr>",
                            "<tr><td>Jennifer Egan</td><td>The Keep</td><td>3.43</td><td>11644</td><td>9588</td><td>86655</td></tr>",
                            "<tr><td>Donna Tartt</td><td>The Little Friend</td><td>3.43</td><td>11644</td><td>3219</td><td>775346</td></tr>",
                            "<tr><td>Anne Tyler</td><td>Vinegar Girl</td><td>3.42</td><td>11644</td><td>6737</td><td>27070127</td></tr>",
                            "<tr><td>Amy Tan</td><td>Saving Fish from Drowning</td><td>3.41</td><td>11644</td><td>4057</td><td>9503</td></tr>",
                            "<tr><td>Zadie Smith</td><td>NW</td><td>3.41</td><td>11644</td><td>4354</td><td>13537891</td></tr>",
                            "<tr><td>Kiran Desai</td><td>The Inheritance of Loss</td><td>3.41</td><td>11644</td><td>2284</td><td>95186</td></tr>",
                            "<tr><td>Kate Jacobs</td><td>The Friday Night Knitting Club (Friday Night Knitting Club, #1)</td><td>3.41</td><td>11644</td><td>1655</td><td>17204</td></tr>",
                            "<tr><td>Holly Madison</td><td>Down the Rabbit Hole: Curious Adventures and Cautionary Tales of a Former Playboy Bunny</td><td>3.4</td><td>11644</td><td>4489</td><td>23215469</td></tr>",
                            "<tr><td>Lionel Shriver</td><td>Big Brother</td><td>3.4</td><td>11644</td><td>9930</td><td>16128105</td></tr>",
                            "<tr><td>Sarah Waters</td><td>The Paying Guests</td><td>3.39</td><td>11644</td><td>1708</td><td>20821087</td></tr>",
                            "<tr><td>Monica Ali</td><td>Brick Lane</td><td>3.38</td><td>11644</td><td>4473</td><td>18723</td></tr>",
                            "<tr><td>Ottessa Moshfegh</td><td>Eileen</td><td>3.38</td><td>11644</td><td>8255</td><td>23453099</td></tr>",
                            "<tr><td>Courtney Maum</td><td>I Am Having So Much Fun Here Without You</td><td>3.37</td><td>11644</td><td>7545</td><td>18775284</td></tr>",
                            "<tr><td>Candace Bushnell</td><td>Sex and the City</td><td>3.37</td><td>11644</td><td>2340</td><td>7455</td></tr>",
                            "<tr><td>Margaret Atwood</td><td>The Heart Goes Last</td><td>3.37</td><td>11644</td><td>3329</td><td>24388326</td></tr>",
                            "<tr><td>Téa Obreht</td><td>The Tiger&#39;s Wife</td><td>3.37</td><td>11644</td><td>1334</td><td>8366402</td></tr>",
                            "<tr><td>Curtis Sittenfeld</td><td>Prep</td><td>3.36</td><td>11644</td><td>1843</td><td>9844</td></tr>",
                            "<tr><td>J. Courtney Sullivan</td><td>Commencement </td><td>3.36</td><td>11644</td><td>8525</td><td>6080420</td></tr>",
                            "<tr><td>Edith Wharton</td><td>Ethan Frome</td><td>3.35</td><td>11644</td><td>1566</td><td>5246</td></tr>",
                            "<tr><td>Helen Oyeyemi</td><td>Boy, Snow, Bird</td><td>3.34</td><td>11644</td><td>5416</td><td>18079683</td></tr>",
                            "<tr><td>Pauline Réage, Sabine d&#39;Estree</td><td>Story of O (Story of O #1)</td><td>3.34</td><td>11644</td><td>8141</td><td>40483</td></tr>",
                            "<tr><td>Alissa Nutting</td><td>Tampa</td><td>3.34</td><td>11644</td><td>8919</td><td>17225311</td></tr>",
                            "<tr><td>Lena Dunham, Joana Avillez</td><td>Not That Kind of Girl: A Young Woman Tells You What She&#39;s &quot;Learned&quot;</td><td>3.33</td><td>11644</td><td>931</td><td>20588698</td></tr>",
                            "<tr><td>Sarah Blake, Orlagh Cassidy</td><td>The Postmistress</td><td>3.3</td><td>11644</td><td>3724</td><td>6578507</td></tr>",
                            "<tr><td>Adelle Waldman</td><td>The Love Affairs of Nathaniel P.</td><td>3.3</td><td>11644</td><td>6114</td><td>16045140</td></tr>",
                            "<tr><td>Stephanie Danler</td><td>Sweetbitter</td><td>3.28</td><td>11644</td><td>4610</td><td>26192646</td></tr>",
                            "<tr><td>Isabel Allende, Oliver Brock, Frank Wynne</td><td>Ripper</td><td>3.24</td><td>11644</td><td>8335</td><td>18090150</td></tr>",
                            "<tr><td>Jill Alexander Essbaum</td><td>Hausfrau</td><td>3.24</td><td>11644</td><td>8379</td><td>22725443</td></tr>",
                            "<tr><td>Edan Lepucki</td><td>California</td><td>3.22</td><td>11644</td><td>6082</td><td>18774020</td></tr>",
                            "<tr><td>Karen Russell</td><td>Swamplandia!</td><td>3.21</td><td>11644</td><td>2496</td><td>8584686</td></tr>",
                            "<tr><td>Charlotte Rogan</td><td>The Lifeboat</td><td>3.2</td><td>11644</td><td>5595</td><td>12888599</td></tr>",
                            "<tr><td>Jodi Picoult</td><td>Songs of the Humpback Whale</td><td>3.19</td><td>11644</td><td>4427</td><td>10914</td></tr>",
                            "<tr><td>Maria Semple</td><td>Today Will Be Different</td><td>3.19</td><td>11644</td><td>4178</td><td>28449270</td></tr>",
                            "<tr><td>Aimee Bender</td><td>The Particular Sadness of Lemon Cake</td><td>3.19</td><td>11644</td><td>2736</td><td>7048800</td></tr>",
                            "<tr><td>Anita Shreve</td><td>All He Ever Wanted</td><td>3.18</td><td>11644</td><td>9267</td><td>443540</td></tr>",
                            "<tr><td>Zadie Smith</td><td>The Autograph Man</td><td>3.14</td><td>11644</td><td>9579</td><td>3710</td></tr>",
                            "<tr><td>Lorrie Moore</td><td>A Gate at the Stairs</td><td>3.14</td><td>11644</td><td>7066</td><td>6076387</td></tr>",
                            "<tr><td>Emma Donoghue</td><td>Frog Music</td><td>3.13</td><td>11644</td><td>5776</td><td>18295858</td></tr>",
                            "<tr><td>Claire Messud</td><td>The Emperor&#39;s Children</td><td>2.93</td><td>11644</td><td>4614</td><td>3648</td></tr>",
                            "<tr><td>Candace Bushnell</td><td>Four Blondes</td><td>2.8</td><td>11644</td><td>4009</td><td>6613</td></tr>",
                            "<tr><td>Alice Sebold</td><td>The Almost Moon</td><td>2.67</td><td>11644</td><td>3550</td><td>783291</td></tr>",
                            "</table>"
                        ]
                    }
                }
            ],
            "execution_count": 36
        },
        {
            "cell_type": "code",
            "source": [
                "SELECT TOP(100) bt.tag_id, count, tag_name\n",
                "FROM BooksDB.dbo.book_tags AS bt FULL JOIN BooksDB.dbo.tags AS b\n",
                "ON b.tag_id = bt.tag_id\n",
                "GROUP BY count, tag_name, bt.tag_id\n",
                "HAVING tag_name LIKE '%Seuss%'\n",
                "ORDER BY count DESC"
            ],
            "metadata": {
                "azdata_cell_guid": "d4f761e8-5af7-4e9a-950b-59dac9be7e08",
                "language": "sql",
                "tags": []
            },
            "outputs": [
                {
                    "output_type": "display_data",
                    "data": {
                        "text/html": "(57 rows affected)"
                    },
                    "metadata": {}
                },
                {
                    "output_type": "display_data",
                    "data": {
                        "text/html": "Total execution time: 00:00:00.217"
                    },
                    "metadata": {}
                },
                {
                    "output_type": "execute_result",
                    "metadata": {},
                    "execution_count": 33,
                    "data": {
                        "application/vnd.dataresource+json": {
                            "schema": {
                                "fields": [
                                    {
                                        "name": "tag_id"
                                    },
                                    {
                                        "name": "count"
                                    },
                                    {
                                        "name": "tag_name"
                                    }
                                ]
                            },
                            "data": [
                                {
                                    "tag_id": "9841",
                                    "count": "485",
                                    "tag_name": "dr-seuss"
                                },
                                {
                                    "tag_id": "9841",
                                    "count": "405",
                                    "tag_name": "dr-seuss"
                                },
                                {
                                    "tag_id": "9841",
                                    "count": "373",
                                    "tag_name": "dr-seuss"
                                },
                                {
                                    "tag_id": "9841",
                                    "count": "331",
                                    "tag_name": "dr-seuss"
                                },
                                {
                                    "tag_id": "9841",
                                    "count": "328",
                                    "tag_name": "dr-seuss"
                                },
                                {
                                    "tag_id": "9841",
                                    "count": "260",
                                    "tag_name": "dr-seuss"
                                },
                                {
                                    "tag_id": "9841",
                                    "count": "252",
                                    "tag_name": "dr-seuss"
                                },
                                {
                                    "tag_id": "9841",
                                    "count": "244",
                                    "tag_name": "dr-seuss"
                                },
                                {
                                    "tag_id": "9841",
                                    "count": "209",
                                    "tag_name": "dr-seuss"
                                },
                                {
                                    "tag_id": "9841",
                                    "count": "181",
                                    "tag_name": "dr-seuss"
                                },
                                {
                                    "tag_id": "9841",
                                    "count": "151",
                                    "tag_name": "dr-seuss"
                                },
                                {
                                    "tag_id": "9841",
                                    "count": "142",
                                    "tag_name": "dr-seuss"
                                },
                                {
                                    "tag_id": "9841",
                                    "count": "89",
                                    "tag_name": "dr-seuss"
                                },
                                {
                                    "tag_id": "9841",
                                    "count": "88",
                                    "tag_name": "dr-seuss"
                                },
                                {
                                    "tag_id": "9841",
                                    "count": "84",
                                    "tag_name": "dr-seuss"
                                },
                                {
                                    "tag_id": "9841",
                                    "count": "81",
                                    "tag_name": "dr-seuss"
                                },
                                {
                                    "tag_id": "9841",
                                    "count": "79",
                                    "tag_name": "dr-seuss"
                                },
                                {
                                    "tag_id": "9841",
                                    "count": "62",
                                    "tag_name": "dr-seuss"
                                },
                                {
                                    "tag_id": "9841",
                                    "count": "61",
                                    "tag_name": "dr-seuss"
                                },
                                {
                                    "tag_id": "27360",
                                    "count": "56",
                                    "tag_name": "seuss"
                                },
                                {
                                    "tag_id": "9841",
                                    "count": "50",
                                    "tag_name": "dr-seuss"
                                },
                                {
                                    "tag_id": "9841",
                                    "count": "47",
                                    "tag_name": "dr-seuss"
                                },
                                {
                                    "tag_id": "27360",
                                    "count": "46",
                                    "tag_name": "seuss"
                                },
                                {
                                    "tag_id": "27360",
                                    "count": "45",
                                    "tag_name": "seuss"
                                },
                                {
                                    "tag_id": "27360",
                                    "count": "41",
                                    "tag_name": "seuss"
                                },
                                {
                                    "tag_id": "9834",
                                    "count": "39",
                                    "tag_name": "dr--seuss"
                                },
                                {
                                    "tag_id": "27360",
                                    "count": "37",
                                    "tag_name": "seuss"
                                },
                                {
                                    "tag_id": "27360",
                                    "count": "35",
                                    "tag_name": "seuss"
                                },
                                {
                                    "tag_id": "9834",
                                    "count": "31",
                                    "tag_name": "dr--seuss"
                                },
                                {
                                    "tag_id": "27360",
                                    "count": "29",
                                    "tag_name": "seuss"
                                },
                                {
                                    "tag_id": "9841",
                                    "count": "26",
                                    "tag_name": "dr-seuss"
                                },
                                {
                                    "tag_id": "9834",
                                    "count": "26",
                                    "tag_name": "dr--seuss"
                                },
                                {
                                    "tag_id": "27360",
                                    "count": "25",
                                    "tag_name": "seuss"
                                },
                                {
                                    "tag_id": "27360",
                                    "count": "24",
                                    "tag_name": "seuss"
                                },
                                {
                                    "tag_id": "27360",
                                    "count": "23",
                                    "tag_name": "seuss"
                                },
                                {
                                    "tag_id": "9834",
                                    "count": "22",
                                    "tag_name": "dr--seuss"
                                },
                                {
                                    "tag_id": "9841",
                                    "count": "21",
                                    "tag_name": "dr-seuss"
                                },
                                {
                                    "tag_id": "27360",
                                    "count": "21",
                                    "tag_name": "seuss"
                                },
                                {
                                    "tag_id": "27360",
                                    "count": "19",
                                    "tag_name": "seuss"
                                },
                                {
                                    "tag_id": "9834",
                                    "count": "18",
                                    "tag_name": "dr--seuss"
                                },
                                {
                                    "tag_id": "27360",
                                    "count": "18",
                                    "tag_name": "seuss"
                                },
                                {
                                    "tag_id": "9841",
                                    "count": "17",
                                    "tag_name": "dr-seuss"
                                },
                                {
                                    "tag_id": "9841",
                                    "count": "14",
                                    "tag_name": "dr-seuss"
                                },
                                {
                                    "tag_id": "27360",
                                    "count": "13",
                                    "tag_name": "seuss"
                                },
                                {
                                    "tag_id": "27360",
                                    "count": "12",
                                    "tag_name": "seuss"
                                },
                                {
                                    "tag_id": "27360",
                                    "count": "10",
                                    "tag_name": "seuss"
                                },
                                {
                                    "tag_id": "9841",
                                    "count": "9",
                                    "tag_name": "dr-seuss"
                                },
                                {
                                    "tag_id": "9834",
                                    "count": "9",
                                    "tag_name": "dr--seuss"
                                },
                                {
                                    "tag_id": "27360",
                                    "count": "9",
                                    "tag_name": "seuss"
                                },
                                {
                                    "tag_id": "9841",
                                    "count": "8",
                                    "tag_name": "dr-seuss"
                                },
                                {
                                    "tag_id": "27360",
                                    "count": "8",
                                    "tag_name": "seuss"
                                },
                                {
                                    "tag_id": "9841",
                                    "count": "7",
                                    "tag_name": "dr-seuss"
                                },
                                {
                                    "tag_id": "27360",
                                    "count": "6",
                                    "tag_name": "seuss"
                                },
                                {
                                    "tag_id": "9842",
                                    "count": "5",
                                    "tag_name": "dr-seuss-books"
                                },
                                {
                                    "tag_id": "27360",
                                    "count": "5",
                                    "tag_name": "seuss"
                                },
                                {
                                    "tag_id": "9843",
                                    "count": "1",
                                    "tag_name": "dr-seuss-s-books"
                                },
                                {
                                    "tag_id": "27361",
                                    "count": "1",
                                    "tag_name": "seuss-and-friends"
                                }
                            ]
                        },
                        "text/html": [
                            "<table>",
                            "<tr><th>tag_id</th><th>count</th><th>tag_name</th></tr>",
                            "<tr><td>9841</td><td>485</td><td>dr-seuss</td></tr>",
                            "<tr><td>9841</td><td>405</td><td>dr-seuss</td></tr>",
                            "<tr><td>9841</td><td>373</td><td>dr-seuss</td></tr>",
                            "<tr><td>9841</td><td>331</td><td>dr-seuss</td></tr>",
                            "<tr><td>9841</td><td>328</td><td>dr-seuss</td></tr>",
                            "<tr><td>9841</td><td>260</td><td>dr-seuss</td></tr>",
                            "<tr><td>9841</td><td>252</td><td>dr-seuss</td></tr>",
                            "<tr><td>9841</td><td>244</td><td>dr-seuss</td></tr>",
                            "<tr><td>9841</td><td>209</td><td>dr-seuss</td></tr>",
                            "<tr><td>9841</td><td>181</td><td>dr-seuss</td></tr>",
                            "<tr><td>9841</td><td>151</td><td>dr-seuss</td></tr>",
                            "<tr><td>9841</td><td>142</td><td>dr-seuss</td></tr>",
                            "<tr><td>9841</td><td>89</td><td>dr-seuss</td></tr>",
                            "<tr><td>9841</td><td>88</td><td>dr-seuss</td></tr>",
                            "<tr><td>9841</td><td>84</td><td>dr-seuss</td></tr>",
                            "<tr><td>9841</td><td>81</td><td>dr-seuss</td></tr>",
                            "<tr><td>9841</td><td>79</td><td>dr-seuss</td></tr>",
                            "<tr><td>9841</td><td>62</td><td>dr-seuss</td></tr>",
                            "<tr><td>9841</td><td>61</td><td>dr-seuss</td></tr>",
                            "<tr><td>27360</td><td>56</td><td>seuss</td></tr>",
                            "<tr><td>9841</td><td>50</td><td>dr-seuss</td></tr>",
                            "<tr><td>9841</td><td>47</td><td>dr-seuss</td></tr>",
                            "<tr><td>27360</td><td>46</td><td>seuss</td></tr>",
                            "<tr><td>27360</td><td>45</td><td>seuss</td></tr>",
                            "<tr><td>27360</td><td>41</td><td>seuss</td></tr>",
                            "<tr><td>9834</td><td>39</td><td>dr--seuss</td></tr>",
                            "<tr><td>27360</td><td>37</td><td>seuss</td></tr>",
                            "<tr><td>27360</td><td>35</td><td>seuss</td></tr>",
                            "<tr><td>9834</td><td>31</td><td>dr--seuss</td></tr>",
                            "<tr><td>27360</td><td>29</td><td>seuss</td></tr>",
                            "<tr><td>9841</td><td>26</td><td>dr-seuss</td></tr>",
                            "<tr><td>9834</td><td>26</td><td>dr--seuss</td></tr>",
                            "<tr><td>27360</td><td>25</td><td>seuss</td></tr>",
                            "<tr><td>27360</td><td>24</td><td>seuss</td></tr>",
                            "<tr><td>27360</td><td>23</td><td>seuss</td></tr>",
                            "<tr><td>9834</td><td>22</td><td>dr--seuss</td></tr>",
                            "<tr><td>9841</td><td>21</td><td>dr-seuss</td></tr>",
                            "<tr><td>27360</td><td>21</td><td>seuss</td></tr>",
                            "<tr><td>27360</td><td>19</td><td>seuss</td></tr>",
                            "<tr><td>9834</td><td>18</td><td>dr--seuss</td></tr>",
                            "<tr><td>27360</td><td>18</td><td>seuss</td></tr>",
                            "<tr><td>9841</td><td>17</td><td>dr-seuss</td></tr>",
                            "<tr><td>9841</td><td>14</td><td>dr-seuss</td></tr>",
                            "<tr><td>27360</td><td>13</td><td>seuss</td></tr>",
                            "<tr><td>27360</td><td>12</td><td>seuss</td></tr>",
                            "<tr><td>27360</td><td>10</td><td>seuss</td></tr>",
                            "<tr><td>9841</td><td>9</td><td>dr-seuss</td></tr>",
                            "<tr><td>9834</td><td>9</td><td>dr--seuss</td></tr>",
                            "<tr><td>27360</td><td>9</td><td>seuss</td></tr>",
                            "<tr><td>9841</td><td>8</td><td>dr-seuss</td></tr>",
                            "<tr><td>27360</td><td>8</td><td>seuss</td></tr>",
                            "<tr><td>9841</td><td>7</td><td>dr-seuss</td></tr>",
                            "<tr><td>27360</td><td>6</td><td>seuss</td></tr>",
                            "<tr><td>9842</td><td>5</td><td>dr-seuss-books</td></tr>",
                            "<tr><td>27360</td><td>5</td><td>seuss</td></tr>",
                            "<tr><td>9843</td><td>1</td><td>dr-seuss-s-books</td></tr>",
                            "<tr><td>27361</td><td>1</td><td>seuss-and-friends</td></tr>",
                            "</table>"
                        ]
                    }
                }
            ],
            "execution_count": 33
        },
        {
            "cell_type": "code",
            "source": [
                "SELECT authors, title, average_rating, tag_id, id, goodreads_book_id\n",
                "FROM BooksDB.dbo.books AS b FULL JOIN BooksDB.dbo.book_tags AS bt \n",
                "ON b.book_id = bt.goodreads_book_id\n",
                "WHERE tag_id = 9841\n",
                "ORDER BY average_rating DESC"
            ],
            "metadata": {
                "azdata_cell_guid": "5b9927d8-6e52-4bf2-a048-08f25dcdb2d7",
                "language": "sql"
            },
            "outputs": [
                {
                    "output_type": "display_data",
                    "data": {
                        "text/html": "(29 rows affected)"
                    },
                    "metadata": {}
                },
                {
                    "output_type": "display_data",
                    "data": {
                        "text/html": "Total execution time: 00:00:00.124"
                    },
                    "metadata": {}
                },
                {
                    "output_type": "execute_result",
                    "metadata": {},
                    "execution_count": 35,
                    "data": {
                        "application/vnd.dataresource+json": {
                            "schema": {
                                "fields": [
                                    {
                                        "name": "authors"
                                    },
                                    {
                                        "name": "title"
                                    },
                                    {
                                        "name": "average_rating"
                                    },
                                    {
                                        "name": "tag_id"
                                    },
                                    {
                                        "name": "id"
                                    },
                                    {
                                        "name": "goodreads_book_id"
                                    }
                                ]
                            },
                            "data": [
                                {
                                    "authors": "Robert Kapilow, Dr. Seuss",
                                    "title": "Dr. Seuss's Green Eggs and Ham: For Soprano, Boy Soprano, and Orchestra",
                                    "average_rating": "4.44",
                                    "tag_id": "9841",
                                    "id": "976",
                                    "goodreads_book_id": "90072"
                                },
                                {
                                    "authors": "Dr. Seuss, Various",
                                    "title": "The Cat in the Hat and Other Dr. Seuss Favorites",
                                    "average_rating": "4.41",
                                    "tag_id": "9841",
                                    "id": "2176",
                                    "goodreads_book_id": "7788"
                                },
                                {
                                    "authors": "Dr. Seuss",
                                    "title": "How the Grinch Stole Christmas!",
                                    "average_rating": "4.36",
                                    "tag_id": "9841",
                                    "id": "364",
                                    "goodreads_book_id": "113946"
                                },
                                {
                                    "authors": "Dr. Seuss",
                                    "title": "The Lorax",
                                    "average_rating": "4.35",
                                    "tag_id": "9841",
                                    "id": "391",
                                    "goodreads_book_id": "7784"
                                },
                                {
                                    "authors": "Dr. Seuss",
                                    "title": "Oh, The Places You'll Go!",
                                    "average_rating": "4.34",
                                    "tag_id": "9841",
                                    "id": "358",
                                    "goodreads_book_id": "191139"
                                },
                                {
                                    "authors": "Dr. Seuss",
                                    "title": "The Sneetches and Other Stories",
                                    "average_rating": "4.31",
                                    "tag_id": "9841",
                                    "id": "2095",
                                    "goodreads_book_id": "105549"
                                },
                                {
                                    "authors": "Al Perkins, Eric Gurney",
                                    "title": "Hand, Hand, Fingers, Thumb",
                                    "average_rating": "4.22",
                                    "tag_id": "9841",
                                    "id": "3900",
                                    "goodreads_book_id": "857501"
                                },
                                {
                                    "authors": "Helen Marion Palmer, P.D. Eastman",
                                    "title": "A Fish Out of Water",
                                    "average_rating": "4.21",
                                    "tag_id": "9841",
                                    "id": "6708",
                                    "goodreads_book_id": "899608"
                                },
                                {
                                    "authors": "P.D. Eastman",
                                    "title": "The Best Nest",
                                    "average_rating": "4.19",
                                    "tag_id": "9841",
                                    "id": "9210",
                                    "goodreads_book_id": "160988"
                                },
                                {
                                    "authors": "Dr. Seuss",
                                    "title": "I Can Read With My Eyes Shut!",
                                    "average_rating": "4.17",
                                    "tag_id": "9841",
                                    "id": "9698",
                                    "goodreads_book_id": "7785"
                                },
                                {
                                    "authors": "Dr. Seuss",
                                    "title": "Horton Hears a Who!",
                                    "average_rating": "4.16",
                                    "tag_id": "9841",
                                    "id": "1348",
                                    "goodreads_book_id": "7779"
                                },
                                {
                                    "authors": "P.D. Eastman",
                                    "title": "Are You My Mother?",
                                    "average_rating": "4.16",
                                    "tag_id": "9841",
                                    "id": "579",
                                    "goodreads_book_id": "197084"
                                },
                                {
                                    "authors": "Dr. Seuss",
                                    "title": "The Cat in the Hat",
                                    "average_rating": "4.15",
                                    "tag_id": "9841",
                                    "id": "251",
                                    "goodreads_book_id": "233093"
                                },
                                {
                                    "authors": "Dr. Seuss",
                                    "title": "Horton Hatches the Egg",
                                    "average_rating": "4.14",
                                    "tag_id": "9841",
                                    "id": "4877",
                                    "goodreads_book_id": "11301"
                                },
                                {
                                    "authors": "Dr. Seuss, Theo LeSieg, Roy McKie",
                                    "title": "In a People House",
                                    "average_rating": "4.13",
                                    "tag_id": "9841",
                                    "id": "9746",
                                    "goodreads_book_id": "934700"
                                },
                                {
                                    "authors": "Stan Berenstain, Jan Berenstain",
                                    "title": "Inside, Outside, Upside Down (Berenstain Bears Bright and Early Board Book)",
                                    "average_rating": "4.13",
                                    "tag_id": "9841",
                                    "id": "7016",
                                    "goodreads_book_id": "773480"
                                },
                                {
                                    "authors": "Dr. Seuss",
                                    "title": "Yertle the Turtle and Other Stories",
                                    "average_rating": "4.13",
                                    "tag_id": "9841",
                                    "id": "5446",
                                    "goodreads_book_id": "420404"
                                },
                                {
                                    "authors": "Dr. Seuss",
                                    "title": "One Fish, Two Fish, Red Fish, Blue Fish",
                                    "average_rating": "4.12",
                                    "tag_id": "9841",
                                    "id": "798",
                                    "goodreads_book_id": "7770"
                                },
                                {
                                    "authors": "Dr. Seuss",
                                    "title": "Mr. Brown Can Moo! Can You?",
                                    "average_rating": "4.11",
                                    "tag_id": "9841",
                                    "id": "2512",
                                    "goodreads_book_id": "105552"
                                },
                                {
                                    "authors": "Theo LeSieg, Roy McKie",
                                    "title": "Ten Apples Up On Top!",
                                    "average_rating": "4.11",
                                    "tag_id": "9841",
                                    "id": "3762",
                                    "goodreads_book_id": "7797"
                                },
                                {
                                    "authors": "P.D. Eastman",
                                    "title": "Go, Dog. Go!",
                                    "average_rating": "4.08",
                                    "tag_id": "9841",
                                    "id": "1488",
                                    "goodreads_book_id": "460548"
                                },
                                {
                                    "authors": "Dr. Seuss",
                                    "title": "Dr. Seuss's ABC: An Amazing Alphabet Book! (Bright and Early Board Books)",
                                    "average_rating": "4.07",
                                    "tag_id": "9841",
                                    "id": "3363",
                                    "goodreads_book_id": "7769"
                                },
                                {
                                    "authors": "Dr. Seuss, Maurice Sendak, Audrey Geisel",
                                    "title": "The Secret Art of Dr. Seuss",
                                    "average_rating": "4.05",
                                    "tag_id": "9841",
                                    "id": "9502",
                                    "goodreads_book_id": "7780"
                                },
                                {
                                    "authors": "Dr. Seuss",
                                    "title": "Fox in Socks",
                                    "average_rating": "4.04",
                                    "tag_id": "9841",
                                    "id": "3047",
                                    "goodreads_book_id": "105551"
                                },
                                {
                                    "authors": "Dr. Seuss",
                                    "title": "There's a Wocket in My Pocket!",
                                    "average_rating": "4.02",
                                    "tag_id": "9841",
                                    "id": "5303",
                                    "goodreads_book_id": "310272"
                                },
                                {
                                    "authors": "Dr. Seuss",
                                    "title": "And to Think That I Saw it on Mulberry Street",
                                    "average_rating": "3.99",
                                    "tag_id": "9841",
                                    "id": "7611",
                                    "goodreads_book_id": "28351"
                                },
                                {
                                    "authors": "Dr. Seuss",
                                    "title": "The Foot Book: Dr. Seuss's Wacky Book of Opposites (Bright and Early Board Books)",
                                    "average_rating": "3.99",
                                    "tag_id": "9841",
                                    "id": "5265",
                                    "goodreads_book_id": "105548"
                                },
                                {
                                    "authors": "Dr. Seuss",
                                    "title": "Hop On Pop",
                                    "average_rating": "3.95",
                                    "tag_id": "9841",
                                    "id": "3274",
                                    "goodreads_book_id": "206962"
                                },
                                {
                                    "authors": "Dr. Seuss",
                                    "title": "The Cat in the Hat Comes Back",
                                    "average_rating": "3.83",
                                    "tag_id": "9841",
                                    "id": "6334",
                                    "goodreads_book_id": "667234"
                                }
                            ]
                        },
                        "text/html": [
                            "<table>",
                            "<tr><th>authors</th><th>title</th><th>average_rating</th><th>tag_id</th><th>id</th><th>goodreads_book_id</th></tr>",
                            "<tr><td>Robert Kapilow, Dr. Seuss</td><td>Dr. Seuss&#39;s Green Eggs and Ham: For Soprano, Boy Soprano, and Orchestra</td><td>4.44</td><td>9841</td><td>976</td><td>90072</td></tr>",
                            "<tr><td>Dr. Seuss, Various</td><td>The Cat in the Hat and Other Dr. Seuss Favorites</td><td>4.41</td><td>9841</td><td>2176</td><td>7788</td></tr>",
                            "<tr><td>Dr. Seuss</td><td>How the Grinch Stole Christmas!</td><td>4.36</td><td>9841</td><td>364</td><td>113946</td></tr>",
                            "<tr><td>Dr. Seuss</td><td>The Lorax</td><td>4.35</td><td>9841</td><td>391</td><td>7784</td></tr>",
                            "<tr><td>Dr. Seuss</td><td>Oh, The Places You&#39;ll Go!</td><td>4.34</td><td>9841</td><td>358</td><td>191139</td></tr>",
                            "<tr><td>Dr. Seuss</td><td>The Sneetches and Other Stories</td><td>4.31</td><td>9841</td><td>2095</td><td>105549</td></tr>",
                            "<tr><td>Al Perkins, Eric Gurney</td><td>Hand, Hand, Fingers, Thumb</td><td>4.22</td><td>9841</td><td>3900</td><td>857501</td></tr>",
                            "<tr><td>Helen Marion Palmer, P.D. Eastman</td><td>A Fish Out of Water</td><td>4.21</td><td>9841</td><td>6708</td><td>899608</td></tr>",
                            "<tr><td>P.D. Eastman</td><td>The Best Nest</td><td>4.19</td><td>9841</td><td>9210</td><td>160988</td></tr>",
                            "<tr><td>Dr. Seuss</td><td>I Can Read With My Eyes Shut!</td><td>4.17</td><td>9841</td><td>9698</td><td>7785</td></tr>",
                            "<tr><td>Dr. Seuss</td><td>Horton Hears a Who!</td><td>4.16</td><td>9841</td><td>1348</td><td>7779</td></tr>",
                            "<tr><td>P.D. Eastman</td><td>Are You My Mother?</td><td>4.16</td><td>9841</td><td>579</td><td>197084</td></tr>",
                            "<tr><td>Dr. Seuss</td><td>The Cat in the Hat</td><td>4.15</td><td>9841</td><td>251</td><td>233093</td></tr>",
                            "<tr><td>Dr. Seuss</td><td>Horton Hatches the Egg</td><td>4.14</td><td>9841</td><td>4877</td><td>11301</td></tr>",
                            "<tr><td>Dr. Seuss, Theo LeSieg, Roy McKie</td><td>In a People House</td><td>4.13</td><td>9841</td><td>9746</td><td>934700</td></tr>",
                            "<tr><td>Stan Berenstain, Jan Berenstain</td><td>Inside, Outside, Upside Down (Berenstain Bears Bright and Early Board Book)</td><td>4.13</td><td>9841</td><td>7016</td><td>773480</td></tr>",
                            "<tr><td>Dr. Seuss</td><td>Yertle the Turtle and Other Stories</td><td>4.13</td><td>9841</td><td>5446</td><td>420404</td></tr>",
                            "<tr><td>Dr. Seuss</td><td>One Fish, Two Fish, Red Fish, Blue Fish</td><td>4.12</td><td>9841</td><td>798</td><td>7770</td></tr>",
                            "<tr><td>Dr. Seuss</td><td>Mr. Brown Can Moo! Can You?</td><td>4.11</td><td>9841</td><td>2512</td><td>105552</td></tr>",
                            "<tr><td>Theo LeSieg, Roy McKie</td><td>Ten Apples Up On Top!</td><td>4.11</td><td>9841</td><td>3762</td><td>7797</td></tr>",
                            "<tr><td>P.D. Eastman</td><td>Go, Dog. Go!</td><td>4.08</td><td>9841</td><td>1488</td><td>460548</td></tr>",
                            "<tr><td>Dr. Seuss</td><td>Dr. Seuss&#39;s ABC: An Amazing Alphabet Book! (Bright and Early Board Books)</td><td>4.07</td><td>9841</td><td>3363</td><td>7769</td></tr>",
                            "<tr><td>Dr. Seuss, Maurice Sendak, Audrey Geisel</td><td>The Secret Art of Dr. Seuss</td><td>4.05</td><td>9841</td><td>9502</td><td>7780</td></tr>",
                            "<tr><td>Dr. Seuss</td><td>Fox in Socks</td><td>4.04</td><td>9841</td><td>3047</td><td>105551</td></tr>",
                            "<tr><td>Dr. Seuss</td><td>There&#39;s a Wocket in My Pocket!</td><td>4.02</td><td>9841</td><td>5303</td><td>310272</td></tr>",
                            "<tr><td>Dr. Seuss</td><td>And to Think That I Saw it on Mulberry Street</td><td>3.99</td><td>9841</td><td>7611</td><td>28351</td></tr>",
                            "<tr><td>Dr. Seuss</td><td>The Foot Book: Dr. Seuss&#39;s Wacky Book of Opposites (Bright and Early Board Books)</td><td>3.99</td><td>9841</td><td>5265</td><td>105548</td></tr>",
                            "<tr><td>Dr. Seuss</td><td>Hop On Pop</td><td>3.95</td><td>9841</td><td>3274</td><td>206962</td></tr>",
                            "<tr><td>Dr. Seuss</td><td>The Cat in the Hat Comes Back</td><td>3.83</td><td>9841</td><td>6334</td><td>667234</td></tr>",
                            "</table>"
                        ]
                    }
                }
            ],
            "execution_count": 35
        },
        {
            "cell_type": "code",
            "source": [
                "SELECT TOP(100) bt.tag_id, count, tag_name\n",
                "FROM BooksDB.dbo.book_tags AS bt FULL JOIN BooksDB.dbo.tags AS b\n",
                "ON b.tag_id = bt.tag_id\n",
                "GROUP BY count, tag_name, bt.tag_id\n",
                "HAVING tag_name LIKE '%dog%'\n",
                "ORDER BY count DESC"
            ],
            "metadata": {
                "azdata_cell_guid": "b28b8926-1c88-471a-878f-e6c626438f42",
                "language": "sql"
            },
            "outputs": [
                {
                    "output_type": "display_data",
                    "data": {
                        "text/html": "(100 rows affected)"
                    },
                    "metadata": {}
                },
                {
                    "output_type": "display_data",
                    "data": {
                        "text/html": "Total execution time: 00:00:00.317"
                    },
                    "metadata": {}
                },
                {
                    "output_type": "execute_result",
                    "metadata": {},
                    "execution_count": 49,
                    "data": {
                        "application/vnd.dataresource+json": {
                            "schema": {
                                "fields": [
                                    {
                                        "name": "tag_id"
                                    },
                                    {
                                        "name": "count"
                                    },
                                    {
                                        "name": "tag_name"
                                    }
                                ]
                            },
                            "data": [
                                {
                                    "tag_id": "9684",
                                    "count": "594",
                                    "tag_name": "dogs"
                                },
                                {
                                    "tag_id": "9684",
                                    "count": "515",
                                    "tag_name": "dogs"
                                },
                                {
                                    "tag_id": "9684",
                                    "count": "333",
                                    "tag_name": "dogs"
                                },
                                {
                                    "tag_id": "9684",
                                    "count": "260",
                                    "tag_name": "dogs"
                                },
                                {
                                    "tag_id": "9684",
                                    "count": "209",
                                    "tag_name": "dogs"
                                },
                                {
                                    "tag_id": "9684",
                                    "count": "203",
                                    "tag_name": "dogs"
                                },
                                {
                                    "tag_id": "9684",
                                    "count": "183",
                                    "tag_name": "dogs"
                                },
                                {
                                    "tag_id": "9684",
                                    "count": "179",
                                    "tag_name": "dogs"
                                },
                                {
                                    "tag_id": "9684",
                                    "count": "145",
                                    "tag_name": "dogs"
                                },
                                {
                                    "tag_id": "9684",
                                    "count": "134",
                                    "tag_name": "dogs"
                                },
                                {
                                    "tag_id": "9684",
                                    "count": "118",
                                    "tag_name": "dogs"
                                },
                                {
                                    "tag_id": "9684",
                                    "count": "110",
                                    "tag_name": "dogs"
                                },
                                {
                                    "tag_id": "9684",
                                    "count": "106",
                                    "tag_name": "dogs"
                                },
                                {
                                    "tag_id": "9684",
                                    "count": "102",
                                    "tag_name": "dogs"
                                },
                                {
                                    "tag_id": "9684",
                                    "count": "97",
                                    "tag_name": "dogs"
                                },
                                {
                                    "tag_id": "9684",
                                    "count": "93",
                                    "tag_name": "dogs"
                                },
                                {
                                    "tag_id": "9684",
                                    "count": "90",
                                    "tag_name": "dogs"
                                },
                                {
                                    "tag_id": "9684",
                                    "count": "83",
                                    "tag_name": "dogs"
                                },
                                {
                                    "tag_id": "9673",
                                    "count": "82",
                                    "tag_name": "dog-books"
                                },
                                {
                                    "tag_id": "9684",
                                    "count": "80",
                                    "tag_name": "dogs"
                                },
                                {
                                    "tag_id": "9684",
                                    "count": "75",
                                    "tag_name": "dogs"
                                },
                                {
                                    "tag_id": "9673",
                                    "count": "74",
                                    "tag_name": "dog-books"
                                },
                                {
                                    "tag_id": "9684",
                                    "count": "74",
                                    "tag_name": "dogs"
                                },
                                {
                                    "tag_id": "9684",
                                    "count": "72",
                                    "tag_name": "dogs"
                                },
                                {
                                    "tag_id": "9684",
                                    "count": "70",
                                    "tag_name": "dogs"
                                },
                                {
                                    "tag_id": "9673",
                                    "count": "69",
                                    "tag_name": "dog-books"
                                },
                                {
                                    "tag_id": "9684",
                                    "count": "69",
                                    "tag_name": "dogs"
                                },
                                {
                                    "tag_id": "9684",
                                    "count": "68",
                                    "tag_name": "dogs"
                                },
                                {
                                    "tag_id": "9684",
                                    "count": "64",
                                    "tag_name": "dogs"
                                },
                                {
                                    "tag_id": "9672",
                                    "count": "63",
                                    "tag_name": "dog"
                                },
                                {
                                    "tag_id": "9672",
                                    "count": "60",
                                    "tag_name": "dog"
                                },
                                {
                                    "tag_id": "9684",
                                    "count": "59",
                                    "tag_name": "dogs"
                                },
                                {
                                    "tag_id": "9684",
                                    "count": "57",
                                    "tag_name": "dogs"
                                },
                                {
                                    "tag_id": "9684",
                                    "count": "56",
                                    "tag_name": "dogs"
                                },
                                {
                                    "tag_id": "9684",
                                    "count": "55",
                                    "tag_name": "dogs"
                                },
                                {
                                    "tag_id": "9684",
                                    "count": "52",
                                    "tag_name": "dogs"
                                },
                                {
                                    "tag_id": "9684",
                                    "count": "50",
                                    "tag_name": "dogs"
                                },
                                {
                                    "tag_id": "9684",
                                    "count": "48",
                                    "tag_name": "dogs"
                                },
                                {
                                    "tag_id": "9674",
                                    "count": "47",
                                    "tag_name": "dog-days"
                                },
                                {
                                    "tag_id": "9684",
                                    "count": "46",
                                    "tag_name": "dogs"
                                },
                                {
                                    "tag_id": "9673",
                                    "count": "45",
                                    "tag_name": "dog-books"
                                },
                                {
                                    "tag_id": "9684",
                                    "count": "44",
                                    "tag_name": "dogs"
                                },
                                {
                                    "tag_id": "9684",
                                    "count": "43",
                                    "tag_name": "dogs"
                                },
                                {
                                    "tag_id": "9684",
                                    "count": "42",
                                    "tag_name": "dogs"
                                },
                                {
                                    "tag_id": "9684",
                                    "count": "41",
                                    "tag_name": "dogs"
                                },
                                {
                                    "tag_id": "9684",
                                    "count": "39",
                                    "tag_name": "dogs"
                                },
                                {
                                    "tag_id": "9673",
                                    "count": "38",
                                    "tag_name": "dog-books"
                                },
                                {
                                    "tag_id": "9684",
                                    "count": "38",
                                    "tag_name": "dogs"
                                },
                                {
                                    "tag_id": "9672",
                                    "count": "34",
                                    "tag_name": "dog"
                                },
                                {
                                    "tag_id": "9684",
                                    "count": "34",
                                    "tag_name": "dogs"
                                },
                                {
                                    "tag_id": "9684",
                                    "count": "33",
                                    "tag_name": "dogs"
                                },
                                {
                                    "tag_id": "9684",
                                    "count": "31",
                                    "tag_name": "dogs"
                                },
                                {
                                    "tag_id": "9684",
                                    "count": "29",
                                    "tag_name": "dogs"
                                },
                                {
                                    "tag_id": "9673",
                                    "count": "28",
                                    "tag_name": "dog-books"
                                },
                                {
                                    "tag_id": "9672",
                                    "count": "27",
                                    "tag_name": "dog"
                                },
                                {
                                    "tag_id": "9684",
                                    "count": "27",
                                    "tag_name": "dogs"
                                },
                                {
                                    "tag_id": "9684",
                                    "count": "26",
                                    "tag_name": "dogs"
                                },
                                {
                                    "tag_id": "9673",
                                    "count": "25",
                                    "tag_name": "dog-books"
                                },
                                {
                                    "tag_id": "9672",
                                    "count": "24",
                                    "tag_name": "dog"
                                },
                                {
                                    "tag_id": "9673",
                                    "count": "24",
                                    "tag_name": "dog-books"
                                },
                                {
                                    "tag_id": "9684",
                                    "count": "23",
                                    "tag_name": "dogs"
                                },
                                {
                                    "tag_id": "9673",
                                    "count": "22",
                                    "tag_name": "dog-books"
                                },
                                {
                                    "tag_id": "9673",
                                    "count": "20",
                                    "tag_name": "dog-books"
                                },
                                {
                                    "tag_id": "9681",
                                    "count": "20",
                                    "tag_name": "dog-training"
                                },
                                {
                                    "tag_id": "9673",
                                    "count": "19",
                                    "tag_name": "dog-books"
                                },
                                {
                                    "tag_id": "9684",
                                    "count": "19",
                                    "tag_name": "dogs"
                                },
                                {
                                    "tag_id": "9672",
                                    "count": "18",
                                    "tag_name": "dog"
                                },
                                {
                                    "tag_id": "9684",
                                    "count": "18",
                                    "tag_name": "dogs"
                                },
                                {
                                    "tag_id": "9672",
                                    "count": "17",
                                    "tag_name": "dog"
                                },
                                {
                                    "tag_id": "9673",
                                    "count": "17",
                                    "tag_name": "dog-books"
                                },
                                {
                                    "tag_id": "27001",
                                    "count": "17",
                                    "tag_name": "search-and-rescue-dogs"
                                },
                                {
                                    "tag_id": "9450",
                                    "count": "16",
                                    "tag_name": "diary-of-a-wimpy-kid-dog-days"
                                },
                                {
                                    "tag_id": "9672",
                                    "count": "16",
                                    "tag_name": "dog"
                                },
                                {
                                    "tag_id": "9673",
                                    "count": "16",
                                    "tag_name": "dog-books"
                                },
                                {
                                    "tag_id": "9672",
                                    "count": "15",
                                    "tag_name": "dog"
                                },
                                {
                                    "tag_id": "9684",
                                    "count": "15",
                                    "tag_name": "dogs"
                                },
                                {
                                    "tag_id": "9681",
                                    "count": "15",
                                    "tag_name": "dog-training"
                                },
                                {
                                    "tag_id": "32673",
                                    "count": "15",
                                    "tag_name": "wolfdogs"
                                },
                                {
                                    "tag_id": "9673",
                                    "count": "14",
                                    "tag_name": "dog-books"
                                },
                                {
                                    "tag_id": "9684",
                                    "count": "14",
                                    "tag_name": "dogs"
                                },
                                {
                                    "tag_id": "9679",
                                    "count": "14",
                                    "tag_name": "dog-stories"
                                },
                                {
                                    "tag_id": "9672",
                                    "count": "13",
                                    "tag_name": "dog"
                                },
                                {
                                    "tag_id": "9673",
                                    "count": "13",
                                    "tag_name": "dog-books"
                                },
                                {
                                    "tag_id": "9684",
                                    "count": "13",
                                    "tag_name": "dogs"
                                },
                                {
                                    "tag_id": "9672",
                                    "count": "12",
                                    "tag_name": "dog"
                                },
                                {
                                    "tag_id": "9684",
                                    "count": "12",
                                    "tag_name": "dogs"
                                },
                                {
                                    "tag_id": "9679",
                                    "count": "12",
                                    "tag_name": "dog-stories"
                                },
                                {
                                    "tag_id": "18666",
                                    "count": "12",
                                    "tag_name": "love-that-dog"
                                },
                                {
                                    "tag_id": "9672",
                                    "count": "11",
                                    "tag_name": "dog"
                                },
                                {
                                    "tag_id": "9673",
                                    "count": "11",
                                    "tag_name": "dog-books"
                                },
                                {
                                    "tag_id": "9684",
                                    "count": "11",
                                    "tag_name": "dogs"
                                },
                                {
                                    "tag_id": "9679",
                                    "count": "11",
                                    "tag_name": "dog-stories"
                                },
                                {
                                    "tag_id": "9672",
                                    "count": "10",
                                    "tag_name": "dog"
                                },
                                {
                                    "tag_id": "9673",
                                    "count": "10",
                                    "tag_name": "dog-books"
                                },
                                {
                                    "tag_id": "9684",
                                    "count": "10",
                                    "tag_name": "dogs"
                                },
                                {
                                    "tag_id": "1312",
                                    "count": "9",
                                    "tag_name": "a-dogs-life"
                                },
                                {
                                    "tag_id": "9672",
                                    "count": "9",
                                    "tag_name": "dog"
                                },
                                {
                                    "tag_id": "9673",
                                    "count": "9",
                                    "tag_name": "dog-books"
                                },
                                {
                                    "tag_id": "9684",
                                    "count": "9",
                                    "tag_name": "dogs"
                                },
                                {
                                    "tag_id": "9679",
                                    "count": "9",
                                    "tag_name": "dog-stories"
                                }
                            ]
                        },
                        "text/html": [
                            "<table>",
                            "<tr><th>tag_id</th><th>count</th><th>tag_name</th></tr>",
                            "<tr><td>9684</td><td>594</td><td>dogs</td></tr>",
                            "<tr><td>9684</td><td>515</td><td>dogs</td></tr>",
                            "<tr><td>9684</td><td>333</td><td>dogs</td></tr>",
                            "<tr><td>9684</td><td>260</td><td>dogs</td></tr>",
                            "<tr><td>9684</td><td>209</td><td>dogs</td></tr>",
                            "<tr><td>9684</td><td>203</td><td>dogs</td></tr>",
                            "<tr><td>9684</td><td>183</td><td>dogs</td></tr>",
                            "<tr><td>9684</td><td>179</td><td>dogs</td></tr>",
                            "<tr><td>9684</td><td>145</td><td>dogs</td></tr>",
                            "<tr><td>9684</td><td>134</td><td>dogs</td></tr>",
                            "<tr><td>9684</td><td>118</td><td>dogs</td></tr>",
                            "<tr><td>9684</td><td>110</td><td>dogs</td></tr>",
                            "<tr><td>9684</td><td>106</td><td>dogs</td></tr>",
                            "<tr><td>9684</td><td>102</td><td>dogs</td></tr>",
                            "<tr><td>9684</td><td>97</td><td>dogs</td></tr>",
                            "<tr><td>9684</td><td>93</td><td>dogs</td></tr>",
                            "<tr><td>9684</td><td>90</td><td>dogs</td></tr>",
                            "<tr><td>9684</td><td>83</td><td>dogs</td></tr>",
                            "<tr><td>9673</td><td>82</td><td>dog-books</td></tr>",
                            "<tr><td>9684</td><td>80</td><td>dogs</td></tr>",
                            "<tr><td>9684</td><td>75</td><td>dogs</td></tr>",
                            "<tr><td>9673</td><td>74</td><td>dog-books</td></tr>",
                            "<tr><td>9684</td><td>74</td><td>dogs</td></tr>",
                            "<tr><td>9684</td><td>72</td><td>dogs</td></tr>",
                            "<tr><td>9684</td><td>70</td><td>dogs</td></tr>",
                            "<tr><td>9673</td><td>69</td><td>dog-books</td></tr>",
                            "<tr><td>9684</td><td>69</td><td>dogs</td></tr>",
                            "<tr><td>9684</td><td>68</td><td>dogs</td></tr>",
                            "<tr><td>9684</td><td>64</td><td>dogs</td></tr>",
                            "<tr><td>9672</td><td>63</td><td>dog</td></tr>",
                            "<tr><td>9672</td><td>60</td><td>dog</td></tr>",
                            "<tr><td>9684</td><td>59</td><td>dogs</td></tr>",
                            "<tr><td>9684</td><td>57</td><td>dogs</td></tr>",
                            "<tr><td>9684</td><td>56</td><td>dogs</td></tr>",
                            "<tr><td>9684</td><td>55</td><td>dogs</td></tr>",
                            "<tr><td>9684</td><td>52</td><td>dogs</td></tr>",
                            "<tr><td>9684</td><td>50</td><td>dogs</td></tr>",
                            "<tr><td>9684</td><td>48</td><td>dogs</td></tr>",
                            "<tr><td>9674</td><td>47</td><td>dog-days</td></tr>",
                            "<tr><td>9684</td><td>46</td><td>dogs</td></tr>",
                            "<tr><td>9673</td><td>45</td><td>dog-books</td></tr>",
                            "<tr><td>9684</td><td>44</td><td>dogs</td></tr>",
                            "<tr><td>9684</td><td>43</td><td>dogs</td></tr>",
                            "<tr><td>9684</td><td>42</td><td>dogs</td></tr>",
                            "<tr><td>9684</td><td>41</td><td>dogs</td></tr>",
                            "<tr><td>9684</td><td>39</td><td>dogs</td></tr>",
                            "<tr><td>9673</td><td>38</td><td>dog-books</td></tr>",
                            "<tr><td>9684</td><td>38</td><td>dogs</td></tr>",
                            "<tr><td>9672</td><td>34</td><td>dog</td></tr>",
                            "<tr><td>9684</td><td>34</td><td>dogs</td></tr>",
                            "<tr><td>9684</td><td>33</td><td>dogs</td></tr>",
                            "<tr><td>9684</td><td>31</td><td>dogs</td></tr>",
                            "<tr><td>9684</td><td>29</td><td>dogs</td></tr>",
                            "<tr><td>9673</td><td>28</td><td>dog-books</td></tr>",
                            "<tr><td>9672</td><td>27</td><td>dog</td></tr>",
                            "<tr><td>9684</td><td>27</td><td>dogs</td></tr>",
                            "<tr><td>9684</td><td>26</td><td>dogs</td></tr>",
                            "<tr><td>9673</td><td>25</td><td>dog-books</td></tr>",
                            "<tr><td>9672</td><td>24</td><td>dog</td></tr>",
                            "<tr><td>9673</td><td>24</td><td>dog-books</td></tr>",
                            "<tr><td>9684</td><td>23</td><td>dogs</td></tr>",
                            "<tr><td>9673</td><td>22</td><td>dog-books</td></tr>",
                            "<tr><td>9673</td><td>20</td><td>dog-books</td></tr>",
                            "<tr><td>9681</td><td>20</td><td>dog-training</td></tr>",
                            "<tr><td>9673</td><td>19</td><td>dog-books</td></tr>",
                            "<tr><td>9684</td><td>19</td><td>dogs</td></tr>",
                            "<tr><td>9672</td><td>18</td><td>dog</td></tr>",
                            "<tr><td>9684</td><td>18</td><td>dogs</td></tr>",
                            "<tr><td>9672</td><td>17</td><td>dog</td></tr>",
                            "<tr><td>9673</td><td>17</td><td>dog-books</td></tr>",
                            "<tr><td>27001</td><td>17</td><td>search-and-rescue-dogs</td></tr>",
                            "<tr><td>9450</td><td>16</td><td>diary-of-a-wimpy-kid-dog-days</td></tr>",
                            "<tr><td>9672</td><td>16</td><td>dog</td></tr>",
                            "<tr><td>9673</td><td>16</td><td>dog-books</td></tr>",
                            "<tr><td>9672</td><td>15</td><td>dog</td></tr>",
                            "<tr><td>9684</td><td>15</td><td>dogs</td></tr>",
                            "<tr><td>9681</td><td>15</td><td>dog-training</td></tr>",
                            "<tr><td>32673</td><td>15</td><td>wolfdogs</td></tr>",
                            "<tr><td>9673</td><td>14</td><td>dog-books</td></tr>",
                            "<tr><td>9684</td><td>14</td><td>dogs</td></tr>",
                            "<tr><td>9679</td><td>14</td><td>dog-stories</td></tr>",
                            "<tr><td>9672</td><td>13</td><td>dog</td></tr>",
                            "<tr><td>9673</td><td>13</td><td>dog-books</td></tr>",
                            "<tr><td>9684</td><td>13</td><td>dogs</td></tr>",
                            "<tr><td>9672</td><td>12</td><td>dog</td></tr>",
                            "<tr><td>9684</td><td>12</td><td>dogs</td></tr>",
                            "<tr><td>9679</td><td>12</td><td>dog-stories</td></tr>",
                            "<tr><td>18666</td><td>12</td><td>love-that-dog</td></tr>",
                            "<tr><td>9672</td><td>11</td><td>dog</td></tr>",
                            "<tr><td>9673</td><td>11</td><td>dog-books</td></tr>",
                            "<tr><td>9684</td><td>11</td><td>dogs</td></tr>",
                            "<tr><td>9679</td><td>11</td><td>dog-stories</td></tr>",
                            "<tr><td>9672</td><td>10</td><td>dog</td></tr>",
                            "<tr><td>9673</td><td>10</td><td>dog-books</td></tr>",
                            "<tr><td>9684</td><td>10</td><td>dogs</td></tr>",
                            "<tr><td>1312</td><td>9</td><td>a-dogs-life</td></tr>",
                            "<tr><td>9672</td><td>9</td><td>dog</td></tr>",
                            "<tr><td>9673</td><td>9</td><td>dog-books</td></tr>",
                            "<tr><td>9684</td><td>9</td><td>dogs</td></tr>",
                            "<tr><td>9679</td><td>9</td><td>dog-stories</td></tr>",
                            "</table>"
                        ]
                    }
                }
            ],
            "execution_count": 49
        },
        {
            "cell_type": "code",
            "source": [
                "SELECT authors, title, average_rating, tag_id, id, goodreads_book_id\n",
                "FROM BooksDB.dbo.books AS b FULL JOIN BooksDB.dbo.book_tags AS bt \n",
                "ON b.book_id = bt.goodreads_book_id\n",
                "WHERE tag_id = 9684\n",
                "ORDER BY average_rating DESC"
            ],
            "metadata": {
                "azdata_cell_guid": "32751cfb-5aa0-4bba-beff-22e40026e7d6",
                "language": "sql"
            },
            "outputs": [
                {
                    "output_type": "display_data",
                    "data": {
                        "text/html": "(80 rows affected)"
                    },
                    "metadata": {}
                },
                {
                    "output_type": "display_data",
                    "data": {
                        "text/html": "Total execution time: 00:00:00.191"
                    },
                    "metadata": {}
                },
                {
                    "output_type": "execute_result",
                    "metadata": {},
                    "execution_count": 50,
                    "data": {
                        "application/vnd.dataresource+json": {
                            "schema": {
                                "fields": [
                                    {
                                        "name": "authors"
                                    },
                                    {
                                        "name": "title"
                                    },
                                    {
                                        "name": "average_rating"
                                    },
                                    {
                                        "name": "tag_id"
                                    },
                                    {
                                        "name": "id"
                                    },
                                    {
                                        "name": "goodreads_book_id"
                                    }
                                ]
                            },
                            "data": [
                                {
                                    "authors": "W. Bruce Cameron",
                                    "title": "A Dog's Journey (A Dog's Purpose, #2)",
                                    "average_rating": "4.41",
                                    "tag_id": "9684",
                                    "id": "7403",
                                    "goodreads_book_id": "13167796"
                                },
                                {
                                    "authors": "James Herriot",
                                    "title": "All Things Wise and Wonderful",
                                    "average_rating": "4.39",
                                    "tag_id": "9684",
                                    "id": "5658",
                                    "goodreads_book_id": "42909"
                                },
                                {
                                    "authors": "James Herriot",
                                    "title": "The Lord God Made Them All",
                                    "average_rating": "4.39",
                                    "tag_id": "9684",
                                    "id": "8053",
                                    "goodreads_book_id": "38739"
                                },
                                {
                                    "authors": "Mo Willems",
                                    "title": "The Pigeon Wants a Puppy!",
                                    "average_rating": "4.37",
                                    "tag_id": "9684",
                                    "id": "7753",
                                    "goodreads_book_id": "1908511"
                                },
                                {
                                    "authors": "Teddy Slater, Bill Langley, Ron Dias, Walt Disney Company",
                                    "title": "Lady and the Tramp",
                                    "average_rating": "4.36",
                                    "tag_id": "9684",
                                    "id": "3662",
                                    "goodreads_book_id": "765281"
                                },
                                {
                                    "authors": "W. Bruce Cameron",
                                    "title": "A Dog's Purpose (A Dog's Purpose, #1)",
                                    "average_rating": "4.35",
                                    "tag_id": "9684",
                                    "id": "1471",
                                    "goodreads_book_id": "7723542"
                                },
                                {
                                    "authors": "James Herriot",
                                    "title": "All Creatures Great and Small (All Creatures Great and Small, #1-2)",
                                    "average_rating": "4.31",
                                    "tag_id": "9684",
                                    "id": "994",
                                    "goodreads_book_id": "32085"
                                },
                                {
                                    "authors": "James Herriot",
                                    "title": "All Things Bright and Beautiful (All Creatures Great and Small)",
                                    "average_rating": "4.3",
                                    "tag_id": "9684",
                                    "id": "1656",
                                    "goodreads_book_id": "38743"
                                },
                                {
                                    "authors": "Lynley Dodd",
                                    "title": "Hairy Maclary from Donaldson's Dairy",
                                    "average_rating": "4.28",
                                    "tag_id": "9684",
                                    "id": "9435",
                                    "goodreads_book_id": "1153709"
                                },
                                {
                                    "authors": "Audrey Wood, Don    Wood",
                                    "title": "The Napping House",
                                    "average_rating": "4.27",
                                    "tag_id": "9684",
                                    "id": "2689",
                                    "goodreads_book_id": "815234"
                                },
                                {
                                    "authors": "Judy Schachner",
                                    "title": "Skippyjon Jones",
                                    "average_rating": "4.25",
                                    "tag_id": "9684",
                                    "id": "4258",
                                    "goodreads_book_id": "803171"
                                },
                                {
                                    "authors": "Judy Schachner",
                                    "title": "Skippyjon Jones in Mummy Trouble (Skippyjon Jones, #3)",
                                    "average_rating": "4.25",
                                    "tag_id": "9684",
                                    "id": "9417",
                                    "goodreads_book_id": "244115"
                                },
                                {
                                    "authors": "Ludwig Bemelmans",
                                    "title": "Madeline's Rescue",
                                    "average_rating": "4.24",
                                    "tag_id": "9684",
                                    "id": "4886",
                                    "goodreads_book_id": "773606"
                                },
                                {
                                    "authors": "Ann M. Martin",
                                    "title": "Rain Reign",
                                    "average_rating": "4.21",
                                    "tag_id": "9684",
                                    "id": "9381",
                                    "goodreads_book_id": "20575434"
                                },
                                {
                                    "authors": "Farley Mowat",
                                    "title": "Never Cry Wolf",
                                    "average_rating": "4.19",
                                    "tag_id": "9684",
                                    "id": "5833",
                                    "goodreads_book_id": "72659"
                                },
                                {
                                    "authors": "Garth Stein",
                                    "title": "The Art of Racing in the Rain",
                                    "average_rating": "4.19",
                                    "tag_id": "9684",
                                    "id": "216",
                                    "goodreads_book_id": "3153910"
                                },
                                {
                                    "authors": "Ted Kerasote",
                                    "title": "Merle's Door: Lessons from a Freethinking Dog",
                                    "average_rating": "4.18",
                                    "tag_id": "9684",
                                    "id": "5454",
                                    "goodreads_book_id": "430968"
                                },
                                {
                                    "authors": "Ann M. Martin",
                                    "title": "A Dog's Life: The Autobiography of a Stray",
                                    "average_rating": "4.18",
                                    "tag_id": "9684",
                                    "id": "8331",
                                    "goodreads_book_id": "343718"
                                },
                                {
                                    "authors": "Allie Brosh",
                                    "title": "Hyperbole and a Half: Unfortunate Situations, Flawed Coping Mechanisms, Mayhem, and Other Things That Happened",
                                    "average_rating": "4.17",
                                    "tag_id": "9684",
                                    "id": "721",
                                    "goodreads_book_id": "17571564"
                                },
                                {
                                    "authors": "Gene Zion, Margaret Bloy Graham",
                                    "title": "Harry the Dirty Dog",
                                    "average_rating": "4.17",
                                    "tag_id": "9684",
                                    "id": "2582",
                                    "goodreads_book_id": "857448"
                                },
                                {
                                    "authors": "Sheila Burnford",
                                    "title": "The Incredible Journey",
                                    "average_rating": "4.16",
                                    "tag_id": "9684",
                                    "id": "2523",
                                    "goodreads_book_id": "231821"
                                },
                                {
                                    "authors": "Peggy Rathmann",
                                    "title": "Officer Buckle & Gloria",
                                    "average_rating": "4.16",
                                    "tag_id": "9684",
                                    "id": "4201",
                                    "goodreads_book_id": "857445"
                                },
                                {
                                    "authors": "Dean Koontz",
                                    "title": "Watchers",
                                    "average_rating": "4.16",
                                    "tag_id": "9684",
                                    "id": "799",
                                    "goodreads_book_id": "32423"
                                },
                                {
                                    "authors": "Eric Knight, Marguerite Kirmse",
                                    "title": "Lassie Come-Home",
                                    "average_rating": "4.16",
                                    "tag_id": "9684",
                                    "id": "5069",
                                    "goodreads_book_id": "895886"
                                },
                                {
                                    "authors": "Robert Crais",
                                    "title": "Suspect (Scott James & Maggie, #1)",
                                    "average_rating": "4.14",
                                    "tag_id": "9684",
                                    "id": "6933",
                                    "goodreads_book_id": "15755201"
                                },
                                {
                                    "authors": "Iris Johansen",
                                    "title": "The Search (Eve Duncan, #3)",
                                    "average_rating": "4.14",
                                    "tag_id": "9684",
                                    "id": "9047",
                                    "goodreads_book_id": "94299"
                                },
                                {
                                    "authors": "Norman Bridwell",
                                    "title": "Clifford's Halloween",
                                    "average_rating": "4.14",
                                    "tag_id": "9684",
                                    "id": "9151",
                                    "goodreads_book_id": "615233"
                                },
                                {
                                    "authors": "John Grogan",
                                    "title": "Marley and Me: Life and Love With the World's Worst Dog",
                                    "average_rating": "4.12",
                                    "tag_id": "9684",
                                    "id": "199",
                                    "goodreads_book_id": "12691"
                                },
                                {
                                    "authors": "Dodie Smith, Michael Dooling",
                                    "title": "The 101 Dalmatians (The Hundred and One Dalmatians, #1)",
                                    "average_rating": "4.11",
                                    "tag_id": "9684",
                                    "id": "3639",
                                    "goodreads_book_id": "511614"
                                },
                                {
                                    "authors": "Nora Roberts",
                                    "title": "The Search",
                                    "average_rating": "4.11",
                                    "tag_id": "9684",
                                    "id": "3097",
                                    "goodreads_book_id": "7076706"
                                },
                                {
                                    "authors": "Jim Kjelgaard, Carl Pfeuffer",
                                    "title": "Big Red (Big Red, #1)",
                                    "average_rating": "4.11",
                                    "tag_id": "9684",
                                    "id": "6495",
                                    "goodreads_book_id": "123170"
                                },
                                {
                                    "authors": "Norman Bridwell",
                                    "title": "Clifford the Big Red Dog",
                                    "average_rating": "4.09",
                                    "tag_id": "9684",
                                    "id": "1765",
                                    "goodreads_book_id": "858719"
                                },
                                {
                                    "authors": "Janette Sebring Lowrey, Gustaf Tenggren",
                                    "title": "The Poky Little Puppy (A Little Golden Book)",
                                    "average_rating": "4.08",
                                    "tag_id": "9684",
                                    "id": "1648",
                                    "goodreads_book_id": "505304"
                                },
                                {
                                    "authors": "Jack London",
                                    "title": "The Call of the Wild/White Fang",
                                    "average_rating": "4.08",
                                    "tag_id": "9684",
                                    "id": "1650",
                                    "goodreads_book_id": "37677"
                                },
                                {
                                    "authors": "P.D. Eastman",
                                    "title": "Go, Dog. Go!",
                                    "average_rating": "4.08",
                                    "tag_id": "9684",
                                    "id": "1488",
                                    "goodreads_book_id": "460548"
                                },
                                {
                                    "authors": "John Steinbeck",
                                    "title": "Travels with Charley: In Search of America",
                                    "average_rating": "4.07",
                                    "tag_id": "9684",
                                    "id": "2004",
                                    "goodreads_book_id": "5306"
                                },
                                {
                                    "authors": "Susan  Wilson",
                                    "title": "One Good Dog",
                                    "average_rating": "4.07",
                                    "tag_id": "9684",
                                    "id": "8691",
                                    "goodreads_book_id": "6928893"
                                },
                                {
                                    "authors": "Fred Gipson",
                                    "title": "Old Yeller (Old Yeller, #1)",
                                    "average_rating": "4.06",
                                    "tag_id": "9684",
                                    "id": "1493",
                                    "goodreads_book_id": "130580"
                                },
                                {
                                    "authors": "Eric Hill",
                                    "title": "Where's Spot?",
                                    "average_rating": "4.05",
                                    "tag_id": "9684",
                                    "id": "8774",
                                    "goodreads_book_id": "132609"
                                },
                                {
                                    "authors": "Dick King-Smith, Maggie Kneen",
                                    "title": "Babe: The Gallant Pig",
                                    "average_rating": "4.05",
                                    "tag_id": "9684",
                                    "id": "9372",
                                    "goodreads_book_id": "646195"
                                },
                                {
                                    "authors": "Larry Levin",
                                    "title": "Oogy: The Dog Only a Family Could Love",
                                    "average_rating": "4.04",
                                    "tag_id": "9684",
                                    "id": "8528",
                                    "goodreads_book_id": "8105569"
                                },
                                {
                                    "authors": "Wilson Rawls",
                                    "title": "Where the Red Fern Grows",
                                    "average_rating": "4.04",
                                    "tag_id": "9684",
                                    "id": "321",
                                    "goodreads_book_id": "10365"
                                },
                                {
                                    "authors": "Ann Patchett",
                                    "title": "This is the Story of a Happy Marriage",
                                    "average_rating": "4.03",
                                    "tag_id": "9684",
                                    "id": "6990",
                                    "goodreads_book_id": "17349222"
                                },
                                {
                                    "authors": "Alice Hoffman",
                                    "title": "Faithful",
                                    "average_rating": "4.02",
                                    "tag_id": "9684",
                                    "id": "8282",
                                    "goodreads_book_id": "29430788"
                                },
                                {
                                    "authors": "Sharon Creech",
                                    "title": "Love That Dog (Jack, #1)",
                                    "average_rating": "4.01",
                                    "tag_id": "9684",
                                    "id": "3830",
                                    "goodreads_book_id": "53498"
                                },
                                {
                                    "authors": "Kate DiCamillo, Chris Sheban",
                                    "title": "Because of Winn-Dixie",
                                    "average_rating": "4",
                                    "tag_id": "9684",
                                    "id": "594",
                                    "goodreads_book_id": "357664"
                                },
                                {
                                    "authors": "Dean Koontz",
                                    "title": "Fear Nothing (Moonlight Bay, #1)",
                                    "average_rating": "3.99",
                                    "tag_id": "9684",
                                    "id": "3513",
                                    "goodreads_book_id": "32432"
                                },
                                {
                                    "authors": "Jack London",
                                    "title": "The Call of the Wild, White Fang and Other Stories",
                                    "average_rating": "3.97",
                                    "tag_id": "9684",
                                    "id": "6063",
                                    "goodreads_book_id": "43037"
                                },
                                {
                                    "authors": "Beverly Cleary, Tracy Dockray",
                                    "title": "Henry Huggins (Henry Huggins, #1)",
                                    "average_rating": "3.97",
                                    "tag_id": "9684",
                                    "id": "5491",
                                    "goodreads_book_id": "568476"
                                },
                                {
                                    "authors": "William H. Armstrong, James Barkley",
                                    "title": "Sounder",
                                    "average_rating": "3.96",
                                    "tag_id": "9684",
                                    "id": "4476",
                                    "goodreads_book_id": "598117"
                                },
                                {
                                    "authors": "Dean Koontz",
                                    "title": "One Door Away from Heaven",
                                    "average_rating": "3.95",
                                    "tag_id": "9684",
                                    "id": "6539",
                                    "goodreads_book_id": "15746"
                                },
                                {
                                    "authors": "Grant Morrison, Frank Quitely",
                                    "title": "We3",
                                    "average_rating": "3.95",
                                    "tag_id": "9684",
                                    "id": "5401",
                                    "goodreads_book_id": "22358"
                                },
                                {
                                    "authors": "Gordon Korman",
                                    "title": "Swindle (Swindle, #1)",
                                    "average_rating": "3.94",
                                    "tag_id": "9684",
                                    "id": "7188",
                                    "goodreads_book_id": "1653655"
                                },
                                {
                                    "authors": "Kathy Reichs, Brendan Reichs",
                                    "title": "Virals (Virals, #1)",
                                    "average_rating": "3.94",
                                    "tag_id": "9684",
                                    "id": "4036",
                                    "goodreads_book_id": "7800188"
                                },
                                {
                                    "authors": "Jack London",
                                    "title": "White Fang",
                                    "average_rating": "3.94",
                                    "tag_id": "9684",
                                    "id": "935",
                                    "goodreads_book_id": "43035"
                                },
                                {
                                    "authors": "Jack London",
                                    "title": "To Build a Fire",
                                    "average_rating": "3.92",
                                    "tag_id": "9684",
                                    "id": "8733",
                                    "goodreads_book_id": "194808"
                                },
                                {
                                    "authors": "Phyllis Reynolds Naylor",
                                    "title": "Shiloh (Shiloh, #1)",
                                    "average_rating": "3.91",
                                    "tag_id": "9684",
                                    "id": "1742",
                                    "goodreads_book_id": "207153"
                                },
                                {
                                    "authors": "Gabrielle Zevin",
                                    "title": "Elsewhere",
                                    "average_rating": "3.91",
                                    "tag_id": "9684",
                                    "id": "3160",
                                    "goodreads_book_id": "359410"
                                },
                                {
                                    "authors": "Peter Heller",
                                    "title": "The Dog Stars",
                                    "average_rating": "3.9",
                                    "tag_id": "9684",
                                    "id": "2516",
                                    "goodreads_book_id": "13330761"
                                },
                                {
                                    "authors": "Anne Tyler, Jennifer Bassett",
                                    "title": "The Accidental Tourist",
                                    "average_rating": "3.9",
                                    "tag_id": "9684",
                                    "id": "1202",
                                    "goodreads_book_id": "60792"
                                },
                                {
                                    "authors": "Kate Atkinson",
                                    "title": "Started Early, Took My Dog (Jackson Brodie, #4)",
                                    "average_rating": "3.89",
                                    "tag_id": "9684",
                                    "id": "4854",
                                    "goodreads_book_id": "7307795"
                                },
                                {
                                    "authors": "Robin McKinley",
                                    "title": "Deerskin",
                                    "average_rating": "3.88",
                                    "tag_id": "9684",
                                    "id": "8995",
                                    "goodreads_book_id": "8087"
                                },
                                {
                                    "authors": "Rory Stewart",
                                    "title": "The Places in Between",
                                    "average_rating": "3.88",
                                    "tag_id": "9684",
                                    "id": "7205",
                                    "goodreads_book_id": "95643"
                                },
                                {
                                    "authors": "Mary Kay Andrews",
                                    "title": "The Fixer Upper",
                                    "average_rating": "3.88",
                                    "tag_id": "9684",
                                    "id": "7566",
                                    "goodreads_book_id": "5941079"
                                },
                                {
                                    "authors": "Mary Kay Andrews",
                                    "title": "Save the Date",
                                    "average_rating": "3.87",
                                    "tag_id": "9684",
                                    "id": "8304",
                                    "goodreads_book_id": "18404093"
                                },
                                {
                                    "authors": "Spencer Quinn",
                                    "title": "Dog on It (A Chet and Bernie Mystery #1)",
                                    "average_rating": "3.85",
                                    "tag_id": "9684",
                                    "id": "7609",
                                    "goodreads_book_id": "5600151"
                                },
                                {
                                    "authors": "James Howe, Deborah Howe, Alan Daniel",
                                    "title": "Bunnicula (Bunnicula, #1)",
                                    "average_rating": "3.83",
                                    "tag_id": "9684",
                                    "id": "2415",
                                    "goodreads_book_id": "281235"
                                },
                                {
                                    "authors": "Jack London",
                                    "title": "The Call of the Wild",
                                    "average_rating": "3.83",
                                    "tag_id": "9684",
                                    "id": "375",
                                    "goodreads_book_id": "1852"
                                },
                                {
                                    "authors": "Jesmyn Ward",
                                    "title": "Salvage the Bones",
                                    "average_rating": "3.81",
                                    "tag_id": "9684",
                                    "id": "5177",
                                    "goodreads_book_id": "10846336"
                                },
                                {
                                    "authors": "Jennifer Crusie",
                                    "title": "Anyone But You",
                                    "average_rating": "3.8",
                                    "tag_id": "9684",
                                    "id": "7890",
                                    "goodreads_book_id": "33732"
                                },
                                {
                                    "authors": "Jennifer Crusie",
                                    "title": "Crazy For You",
                                    "average_rating": "3.78",
                                    "tag_id": "9684",
                                    "id": "9186",
                                    "goodreads_book_id": "33726"
                                },
                                {
                                    "authors": "Steven  Rowley",
                                    "title": "Lily and the Octopus",
                                    "average_rating": "3.74",
                                    "tag_id": "9684",
                                    "id": "7154",
                                    "goodreads_book_id": "27276262"
                                },
                                {
                                    "authors": "Jacqueline Sheehan",
                                    "title": "Lost & Found (Rocky Pelligrino, #1)",
                                    "average_rating": "3.71",
                                    "tag_id": "9684",
                                    "id": "9193",
                                    "goodreads_book_id": "697210"
                                },
                                {
                                    "authors": "Dean Koontz",
                                    "title": "The Darkest Evening of the Year",
                                    "average_rating": "3.71",
                                    "tag_id": "9684",
                                    "id": "4789",
                                    "goodreads_book_id": "379316"
                                },
                                {
                                    "authors": "Dean Koontz",
                                    "title": "Tick Tock",
                                    "average_rating": "3.71",
                                    "tag_id": "9684",
                                    "id": "3924",
                                    "goodreads_book_id": "281433"
                                },
                                {
                                    "authors": "Paul Auster",
                                    "title": "Timbuktu",
                                    "average_rating": "3.66",
                                    "tag_id": "9684",
                                    "id": "9905",
                                    "goodreads_book_id": "449"
                                },
                                {
                                    "authors": "Stephen King",
                                    "title": "Cujo",
                                    "average_rating": "3.65",
                                    "tag_id": "9684",
                                    "id": "556",
                                    "goodreads_book_id": "10603"
                                },
                                {
                                    "authors": "David Wroblewski",
                                    "title": "The Story of Edgar Sawtelle",
                                    "average_rating": "3.6",
                                    "tag_id": "9684",
                                    "id": "1316",
                                    "goodreads_book_id": "2731276"
                                },
                                {
                                    "authors": "Carolyn  Parkhurst",
                                    "title": "The Dogs of Babel",
                                    "average_rating": "3.56",
                                    "tag_id": "9684",
                                    "id": "6777",
                                    "goodreads_book_id": "89691"
                                },
                                {
                                    "authors": "Alexandra Horowitz",
                                    "title": "Inside of a Dog: What Dogs See, Smell, and Know",
                                    "average_rating": "3.55",
                                    "tag_id": "9684",
                                    "id": "9957",
                                    "goodreads_book_id": "6332526"
                                }
                            ]
                        },
                        "text/html": [
                            "<table>",
                            "<tr><th>authors</th><th>title</th><th>average_rating</th><th>tag_id</th><th>id</th><th>goodreads_book_id</th></tr>",
                            "<tr><td>W. Bruce Cameron</td><td>A Dog&#39;s Journey (A Dog&#39;s Purpose, #2)</td><td>4.41</td><td>9684</td><td>7403</td><td>13167796</td></tr>",
                            "<tr><td>James Herriot</td><td>All Things Wise and Wonderful</td><td>4.39</td><td>9684</td><td>5658</td><td>42909</td></tr>",
                            "<tr><td>James Herriot</td><td>The Lord God Made Them All</td><td>4.39</td><td>9684</td><td>8053</td><td>38739</td></tr>",
                            "<tr><td>Mo Willems</td><td>The Pigeon Wants a Puppy!</td><td>4.37</td><td>9684</td><td>7753</td><td>1908511</td></tr>",
                            "<tr><td>Teddy Slater, Bill Langley, Ron Dias, Walt Disney Company</td><td>Lady and the Tramp</td><td>4.36</td><td>9684</td><td>3662</td><td>765281</td></tr>",
                            "<tr><td>W. Bruce Cameron</td><td>A Dog&#39;s Purpose (A Dog&#39;s Purpose, #1)</td><td>4.35</td><td>9684</td><td>1471</td><td>7723542</td></tr>",
                            "<tr><td>James Herriot</td><td>All Creatures Great and Small (All Creatures Great and Small, #1-2)</td><td>4.31</td><td>9684</td><td>994</td><td>32085</td></tr>",
                            "<tr><td>James Herriot</td><td>All Things Bright and Beautiful (All Creatures Great and Small)</td><td>4.3</td><td>9684</td><td>1656</td><td>38743</td></tr>",
                            "<tr><td>Lynley Dodd</td><td>Hairy Maclary from Donaldson&#39;s Dairy</td><td>4.28</td><td>9684</td><td>9435</td><td>1153709</td></tr>",
                            "<tr><td>Audrey Wood, Don    Wood</td><td>The Napping House</td><td>4.27</td><td>9684</td><td>2689</td><td>815234</td></tr>",
                            "<tr><td>Judy Schachner</td><td>Skippyjon Jones</td><td>4.25</td><td>9684</td><td>4258</td><td>803171</td></tr>",
                            "<tr><td>Judy Schachner</td><td>Skippyjon Jones in Mummy Trouble (Skippyjon Jones, #3)</td><td>4.25</td><td>9684</td><td>9417</td><td>244115</td></tr>",
                            "<tr><td>Ludwig Bemelmans</td><td>Madeline&#39;s Rescue</td><td>4.24</td><td>9684</td><td>4886</td><td>773606</td></tr>",
                            "<tr><td>Ann M. Martin</td><td>Rain Reign</td><td>4.21</td><td>9684</td><td>9381</td><td>20575434</td></tr>",
                            "<tr><td>Farley Mowat</td><td>Never Cry Wolf</td><td>4.19</td><td>9684</td><td>5833</td><td>72659</td></tr>",
                            "<tr><td>Garth Stein</td><td>The Art of Racing in the Rain</td><td>4.19</td><td>9684</td><td>216</td><td>3153910</td></tr>",
                            "<tr><td>Ted Kerasote</td><td>Merle&#39;s Door: Lessons from a Freethinking Dog</td><td>4.18</td><td>9684</td><td>5454</td><td>430968</td></tr>",
                            "<tr><td>Ann M. Martin</td><td>A Dog&#39;s Life: The Autobiography of a Stray</td><td>4.18</td><td>9684</td><td>8331</td><td>343718</td></tr>",
                            "<tr><td>Allie Brosh</td><td>Hyperbole and a Half: Unfortunate Situations, Flawed Coping Mechanisms, Mayhem, and Other Things That Happened</td><td>4.17</td><td>9684</td><td>721</td><td>17571564</td></tr>",
                            "<tr><td>Gene Zion, Margaret Bloy Graham</td><td>Harry the Dirty Dog</td><td>4.17</td><td>9684</td><td>2582</td><td>857448</td></tr>",
                            "<tr><td>Sheila Burnford</td><td>The Incredible Journey</td><td>4.16</td><td>9684</td><td>2523</td><td>231821</td></tr>",
                            "<tr><td>Peggy Rathmann</td><td>Officer Buckle &amp; Gloria</td><td>4.16</td><td>9684</td><td>4201</td><td>857445</td></tr>",
                            "<tr><td>Dean Koontz</td><td>Watchers</td><td>4.16</td><td>9684</td><td>799</td><td>32423</td></tr>",
                            "<tr><td>Eric Knight, Marguerite Kirmse</td><td>Lassie Come-Home</td><td>4.16</td><td>9684</td><td>5069</td><td>895886</td></tr>",
                            "<tr><td>Robert Crais</td><td>Suspect (Scott James &amp; Maggie, #1)</td><td>4.14</td><td>9684</td><td>6933</td><td>15755201</td></tr>",
                            "<tr><td>Iris Johansen</td><td>The Search (Eve Duncan, #3)</td><td>4.14</td><td>9684</td><td>9047</td><td>94299</td></tr>",
                            "<tr><td>Norman Bridwell</td><td>Clifford&#39;s Halloween</td><td>4.14</td><td>9684</td><td>9151</td><td>615233</td></tr>",
                            "<tr><td>John Grogan</td><td>Marley and Me: Life and Love With the World&#39;s Worst Dog</td><td>4.12</td><td>9684</td><td>199</td><td>12691</td></tr>",
                            "<tr><td>Dodie Smith, Michael Dooling</td><td>The 101 Dalmatians (The Hundred and One Dalmatians, #1)</td><td>4.11</td><td>9684</td><td>3639</td><td>511614</td></tr>",
                            "<tr><td>Nora Roberts</td><td>The Search</td><td>4.11</td><td>9684</td><td>3097</td><td>7076706</td></tr>",
                            "<tr><td>Jim Kjelgaard, Carl Pfeuffer</td><td>Big Red (Big Red, #1)</td><td>4.11</td><td>9684</td><td>6495</td><td>123170</td></tr>",
                            "<tr><td>Norman Bridwell</td><td>Clifford the Big Red Dog</td><td>4.09</td><td>9684</td><td>1765</td><td>858719</td></tr>",
                            "<tr><td>Janette Sebring Lowrey, Gustaf Tenggren</td><td>The Poky Little Puppy (A Little Golden Book)</td><td>4.08</td><td>9684</td><td>1648</td><td>505304</td></tr>",
                            "<tr><td>Jack London</td><td>The Call of the Wild/White Fang</td><td>4.08</td><td>9684</td><td>1650</td><td>37677</td></tr>",
                            "<tr><td>P.D. Eastman</td><td>Go, Dog. Go!</td><td>4.08</td><td>9684</td><td>1488</td><td>460548</td></tr>",
                            "<tr><td>John Steinbeck</td><td>Travels with Charley: In Search of America</td><td>4.07</td><td>9684</td><td>2004</td><td>5306</td></tr>",
                            "<tr><td>Susan  Wilson</td><td>One Good Dog</td><td>4.07</td><td>9684</td><td>8691</td><td>6928893</td></tr>",
                            "<tr><td>Fred Gipson</td><td>Old Yeller (Old Yeller, #1)</td><td>4.06</td><td>9684</td><td>1493</td><td>130580</td></tr>",
                            "<tr><td>Eric Hill</td><td>Where&#39;s Spot?</td><td>4.05</td><td>9684</td><td>8774</td><td>132609</td></tr>",
                            "<tr><td>Dick King-Smith, Maggie Kneen</td><td>Babe: The Gallant Pig</td><td>4.05</td><td>9684</td><td>9372</td><td>646195</td></tr>",
                            "<tr><td>Larry Levin</td><td>Oogy: The Dog Only a Family Could Love</td><td>4.04</td><td>9684</td><td>8528</td><td>8105569</td></tr>",
                            "<tr><td>Wilson Rawls</td><td>Where the Red Fern Grows</td><td>4.04</td><td>9684</td><td>321</td><td>10365</td></tr>",
                            "<tr><td>Ann Patchett</td><td>This is the Story of a Happy Marriage</td><td>4.03</td><td>9684</td><td>6990</td><td>17349222</td></tr>",
                            "<tr><td>Alice Hoffman</td><td>Faithful</td><td>4.02</td><td>9684</td><td>8282</td><td>29430788</td></tr>",
                            "<tr><td>Sharon Creech</td><td>Love That Dog (Jack, #1)</td><td>4.01</td><td>9684</td><td>3830</td><td>53498</td></tr>",
                            "<tr><td>Kate DiCamillo, Chris Sheban</td><td>Because of Winn-Dixie</td><td>4</td><td>9684</td><td>594</td><td>357664</td></tr>",
                            "<tr><td>Dean Koontz</td><td>Fear Nothing (Moonlight Bay, #1)</td><td>3.99</td><td>9684</td><td>3513</td><td>32432</td></tr>",
                            "<tr><td>Jack London</td><td>The Call of the Wild, White Fang and Other Stories</td><td>3.97</td><td>9684</td><td>6063</td><td>43037</td></tr>",
                            "<tr><td>Beverly Cleary, Tracy Dockray</td><td>Henry Huggins (Henry Huggins, #1)</td><td>3.97</td><td>9684</td><td>5491</td><td>568476</td></tr>",
                            "<tr><td>William H. Armstrong, James Barkley</td><td>Sounder</td><td>3.96</td><td>9684</td><td>4476</td><td>598117</td></tr>",
                            "<tr><td>Dean Koontz</td><td>One Door Away from Heaven</td><td>3.95</td><td>9684</td><td>6539</td><td>15746</td></tr>",
                            "<tr><td>Grant Morrison, Frank Quitely</td><td>We3</td><td>3.95</td><td>9684</td><td>5401</td><td>22358</td></tr>",
                            "<tr><td>Gordon Korman</td><td>Swindle (Swindle, #1)</td><td>3.94</td><td>9684</td><td>7188</td><td>1653655</td></tr>",
                            "<tr><td>Kathy Reichs, Brendan Reichs</td><td>Virals (Virals, #1)</td><td>3.94</td><td>9684</td><td>4036</td><td>7800188</td></tr>",
                            "<tr><td>Jack London</td><td>White Fang</td><td>3.94</td><td>9684</td><td>935</td><td>43035</td></tr>",
                            "<tr><td>Jack London</td><td>To Build a Fire</td><td>3.92</td><td>9684</td><td>8733</td><td>194808</td></tr>",
                            "<tr><td>Phyllis Reynolds Naylor</td><td>Shiloh (Shiloh, #1)</td><td>3.91</td><td>9684</td><td>1742</td><td>207153</td></tr>",
                            "<tr><td>Gabrielle Zevin</td><td>Elsewhere</td><td>3.91</td><td>9684</td><td>3160</td><td>359410</td></tr>",
                            "<tr><td>Peter Heller</td><td>The Dog Stars</td><td>3.9</td><td>9684</td><td>2516</td><td>13330761</td></tr>",
                            "<tr><td>Anne Tyler, Jennifer Bassett</td><td>The Accidental Tourist</td><td>3.9</td><td>9684</td><td>1202</td><td>60792</td></tr>",
                            "<tr><td>Kate Atkinson</td><td>Started Early, Took My Dog (Jackson Brodie, #4)</td><td>3.89</td><td>9684</td><td>4854</td><td>7307795</td></tr>",
                            "<tr><td>Robin McKinley</td><td>Deerskin</td><td>3.88</td><td>9684</td><td>8995</td><td>8087</td></tr>",
                            "<tr><td>Rory Stewart</td><td>The Places in Between</td><td>3.88</td><td>9684</td><td>7205</td><td>95643</td></tr>",
                            "<tr><td>Mary Kay Andrews</td><td>The Fixer Upper</td><td>3.88</td><td>9684</td><td>7566</td><td>5941079</td></tr>",
                            "<tr><td>Mary Kay Andrews</td><td>Save the Date</td><td>3.87</td><td>9684</td><td>8304</td><td>18404093</td></tr>",
                            "<tr><td>Spencer Quinn</td><td>Dog on It (A Chet and Bernie Mystery #1)</td><td>3.85</td><td>9684</td><td>7609</td><td>5600151</td></tr>",
                            "<tr><td>James Howe, Deborah Howe, Alan Daniel</td><td>Bunnicula (Bunnicula, #1)</td><td>3.83</td><td>9684</td><td>2415</td><td>281235</td></tr>",
                            "<tr><td>Jack London</td><td>The Call of the Wild</td><td>3.83</td><td>9684</td><td>375</td><td>1852</td></tr>",
                            "<tr><td>Jesmyn Ward</td><td>Salvage the Bones</td><td>3.81</td><td>9684</td><td>5177</td><td>10846336</td></tr>",
                            "<tr><td>Jennifer Crusie</td><td>Anyone But You</td><td>3.8</td><td>9684</td><td>7890</td><td>33732</td></tr>",
                            "<tr><td>Jennifer Crusie</td><td>Crazy For You</td><td>3.78</td><td>9684</td><td>9186</td><td>33726</td></tr>",
                            "<tr><td>Steven  Rowley</td><td>Lily and the Octopus</td><td>3.74</td><td>9684</td><td>7154</td><td>27276262</td></tr>",
                            "<tr><td>Jacqueline Sheehan</td><td>Lost &amp; Found (Rocky Pelligrino, #1)</td><td>3.71</td><td>9684</td><td>9193</td><td>697210</td></tr>",
                            "<tr><td>Dean Koontz</td><td>The Darkest Evening of the Year</td><td>3.71</td><td>9684</td><td>4789</td><td>379316</td></tr>",
                            "<tr><td>Dean Koontz</td><td>Tick Tock</td><td>3.71</td><td>9684</td><td>3924</td><td>281433</td></tr>",
                            "<tr><td>Paul Auster</td><td>Timbuktu</td><td>3.66</td><td>9684</td><td>9905</td><td>449</td></tr>",
                            "<tr><td>Stephen King</td><td>Cujo</td><td>3.65</td><td>9684</td><td>556</td><td>10603</td></tr>",
                            "<tr><td>David Wroblewski</td><td>The Story of Edgar Sawtelle</td><td>3.6</td><td>9684</td><td>1316</td><td>2731276</td></tr>",
                            "<tr><td>Carolyn  Parkhurst</td><td>The Dogs of Babel</td><td>3.56</td><td>9684</td><td>6777</td><td>89691</td></tr>",
                            "<tr><td>Alexandra Horowitz</td><td>Inside of a Dog: What Dogs See, Smell, and Know</td><td>3.55</td><td>9684</td><td>9957</td><td>6332526</td></tr>",
                            "</table>"
                        ]
                    }
                }
            ],
            "execution_count": 50
        },
        {
            "cell_type": "markdown",
            "source": [
                "### **Record your thoughts about why you wrote the query the way you did.**\n",
                "\n",
                "**I chose to search by the highest returned tag\\_id containing female authors to search the books table for books by female authors.**"
            ],
            "metadata": {
                "azdata_cell_guid": "1e19a72c-1bca-446b-a0c7-a8efbc35dcf1"
            },
            "attachments": {}
        },
        {
            "cell_type": "markdown",
            "source": [
                "# Part 2: Choose Another Month\n",
                "\n",
                "Choose another month and plan at least 2 events / promotions and answer the following questions.\n",
                "\n",
                "Which month did you choose?  \n",
                "\n",
                "What 2 events / promotions are you highlighting?\n",
                "\n",
                "> 1. Dr. Seuss Week\n",
                "\n",
                "> 2. National Dog Day"
            ],
            "metadata": {
                "azdata_cell_guid": "3eaf376d-9de3-4553-a9d0-9caf74ee3d6a"
            },
            "attachments": {}
        },
        {
            "cell_type": "markdown",
            "source": [
                "# Part 3: Summarize your Work\n",
                "\n",
                "For each event write at least one query that joins any two tables in the BooksDB to support your choice and record you thoughts as to why you used the paticlular query. At least one of your queries needs to include a HAVING clause."
            ],
            "metadata": {
                "azdata_cell_guid": "1ba1363a-4f02-4962-a95a-93b80c5926b1"
            },
            "attachments": {}
        },
        {
            "cell_type": "code",
            "source": [
                "-- Event 1 Query"
            ],
            "metadata": {
                "azdata_cell_guid": "f50d32ce-4cb2-4af2-acb1-607777a76cf8",
                "language": "sql"
            },
            "outputs": [],
            "execution_count": null
        },
        {
            "cell_type": "code",
            "source": [
                ""
            ],
            "metadata": {
                "azdata_cell_guid": "5606f7f2-c46b-42d3-ac64-7ae21c3394f8",
                "language": "sql"
            },
            "outputs": [],
            "execution_count": null
        },
        {
            "cell_type": "markdown",
            "source": [
                "### **Summary of event 1:**\n",
                "\n",
                "Double Click to edit."
            ],
            "metadata": {
                "azdata_cell_guid": "3bc72d4c-077b-42d3-9528-9aff8e7b6cf3"
            },
            "attachments": {}
        },
        {
            "cell_type": "code",
            "source": [
                "-- Event 2 Query"
            ],
            "metadata": {
                "azdata_cell_guid": "dca0a98f-065f-4b0e-9d93-fcb01cad668c",
                "language": "sql"
            },
            "outputs": [],
            "execution_count": null
        },
        {
            "cell_type": "code",
            "source": [
                ""
            ],
            "metadata": {
                "azdata_cell_guid": "3aaae3a8-eff7-4b37-8970-2d913a67239b",
                "language": "sql"
            },
            "outputs": [],
            "execution_count": null
        },
        {
            "cell_type": "markdown",
            "source": [
                "### **Summary of event 2:**\n",
                "\n",
                "Double Click to edit."
            ],
            "metadata": {
                "azdata_cell_guid": "99d518dc-cd8b-42d6-9a9d-708771c9aa99"
            },
            "attachments": {}
        }
    ]
}